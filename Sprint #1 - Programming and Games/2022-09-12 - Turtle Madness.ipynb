{
 "cells": [
  {
   "cell_type": "code",
   "execution_count": 1,
   "id": "76e60238-b285-4d2b-bc9c-e5167c1e0ca7",
   "metadata": {},
   "outputs": [],
   "source": [
    "%matplotlib inline"
   ]
  },
  {
   "cell_type": "code",
   "execution_count": 2,
   "id": "8dd5dd49-c384-4025-bc91-4b0d49088a34",
   "metadata": {},
   "outputs": [],
   "source": [
    "from mplturtle import *"
   ]
  },
  {
   "cell_type": "code",
   "execution_count": 3,
   "id": "598a6675-198f-4c5a-a20e-c39daa64de05",
   "metadata": {},
   "outputs": [
    {
     "data": {
      "image/png": "[encoded data removed]",
      "text/plain": [
       "<Figure size 216x216 with 1 Axes>"
      ]
     },
     "metadata": {
      "needs_background": "light"
     },
     "output_type": "display_data"
    }
   ],
   "source": [
    "reset()\n",
    "forward(50)\n",
    "right(90)\n",
    "forward(50)"
   ]
  },
  {
   "cell_type": "code",
   "execution_count": 5,
   "id": "9ec393bd-5ddb-4206-8bf8-49830b122a1e",
   "metadata": {},
   "outputs": [
    {
     "data": {
      "image/png": "[encoded data removed]",
      "text/plain": [
       "<Figure size 216x216 with 1 Axes>"
      ]
     },
     "metadata": {
      "needs_background": "light"
     },
     "output_type": "display_data"
    }
   ],
   "source": [
    "animate()"
   ]
  },
  {
   "cell_type": "markdown",
   "id": "125616f1-4f9e-4b1e-ae64-8a97ff5f503e",
   "metadata": {},
   "source": [
    "## Drawing a square"
   ]
  },
  {
   "cell_type": "code",
   "execution_count": null,
   "id": "66706310-82d9-427b-88b9-62ac20a7fc02",
   "metadata": {},
   "outputs": [],
   "source": [
    "reset()\n",
    "forward(50)\n",
    "right(90)\n",
    "forward(50)\n",
    "right(90)\n",
    "forward(50)\n",
    "right(90)\n",
    "forward(50)\n",
    "right(90)\n"
   ]
  },
  {
   "cell_type": "code",
   "execution_count": 7,
   "id": "e4d8fdb4-1915-4e13-97b1-f8da27384483",
   "metadata": {},
   "outputs": [
    {
     "data": {
      "image/png": "[encoded data removed]",
      "text/plain": [
       "<Figure size 216x216 with 1 Axes>"
      ]
     },
     "metadata": {
      "needs_background": "light"
     },
     "output_type": "display_data"
    }
   ],
   "source": [
    "reset()\n",
    "for i in range(4):\n",
    "    forward(50)\n",
    "    right(90)"
   ]
  },
  {
   "cell_type": "markdown",
   "id": "bedce569-3a8f-4463-882f-c28eb97c779e",
   "metadata": {},
   "source": [
    "## square 100x100"
   ]
  },
  {
   "cell_type": "code",
   "execution_count": 9,
   "id": "27822fa4-aae7-4f24-968d-6123a9f65054",
   "metadata": {},
   "outputs": [
    {
     "data": {
      "image/png": "[encoded data removed]",
      "text/plain": [
       "<Figure size 216x216 with 1 Axes>"
      ]
     },
     "metadata": {
      "needs_background": "light"
     },
     "output_type": "display_data"
    }
   ],
   "source": [
    "reset()\n",
    "forward(110)\n",
    "right(90)\n",
    "forward(110)\n",
    "right(90)\n",
    "forward(110)\n",
    "right(110)\n",
    "forward(50)\n",
    "right(90)\n"
   ]
  },
  {
   "cell_type": "code",
   "execution_count": 11,
   "id": "00d3b281-9fb6-4158-afc0-d1e8d68d2650",
   "metadata": {},
   "outputs": [
    {
     "data": {
      "image/png": "[encoded data removed]",
      "text/plain": [
       "<Figure size 216x216 with 1 Axes>"
      ]
     },
     "metadata": {
      "needs_background": "light"
     },
     "output_type": "display_data"
    }
   ],
   "source": [
    "size=10\n",
    "\n",
    "reset()\n",
    "forward(size)\n",
    "right(90)\n",
    "forward(size)\n",
    "right(90)\n",
    "forward(size)\n",
    "right(90)\n",
    "forward(size)\n",
    "right(90)\n"
   ]
  },
  {
   "cell_type": "code",
   "execution_count": 14,
   "id": "93ef75b3-d6eb-4fad-bdeb-06e754ef06b6",
   "metadata": {},
   "outputs": [],
   "source": [
    "def square(size):\n",
    "    forward(size)\n",
    "    right(90)\n",
    "    forward(size)\n",
    "    right(90)\n",
    "    forward(size)\n",
    "    right(90)\n",
    "    forward(size)\n",
    "    right(90)    "
   ]
  },
  {
   "cell_type": "code",
   "execution_count": 25,
   "id": "07a9b784-a603-4819-99c7-15a24c0a16a9",
   "metadata": {},
   "outputs": [],
   "source": [
    "def square(size):\n",
    "    for i in range(4):\n",
    "        forward(size)\n",
    "        right(90)\n"
   ]
  },
  {
   "cell_type": "code",
   "execution_count": 15,
   "id": "fda69935-080e-4491-b280-2d4ba1f88ca4",
   "metadata": {},
   "outputs": [
    {
     "data": {
      "image/png": "[encoded data removed]",
      "text/plain": [
       "<Figure size 216x216 with 1 Axes>"
      ]
     },
     "metadata": {
      "needs_background": "light"
     },
     "output_type": "display_data"
    }
   ],
   "source": [
    "reset()\n",
    "square(40)"
   ]
  },
  {
   "cell_type": "code",
   "execution_count": 16,
   "id": "4d8d6958-dc3e-49a0-8904-d9c5f7539475",
   "metadata": {},
   "outputs": [],
   "source": [
    "def triangle():\n",
    "    left(56)\n",
    "    forward(50)\n",
    "    right(124)\n",
    "    forward(50)"
   ]
  },
  {
   "cell_type": "code",
   "execution_count": 17,
   "id": "2501370d-69d4-459a-a6fa-51e7146d1ed9",
   "metadata": {},
   "outputs": [
    {
     "data": {
      "image/png": "[encoded data removed]",
      "text/plain": [
       "<Figure size 216x216 with 1 Axes>"
      ]
     },
     "metadata": {
      "needs_background": "light"
     },
     "output_type": "display_data"
    }
   ],
   "source": [
    "reset()\n",
    "square(40)\n",
    "triangle()"
   ]
  },
  {
   "cell_type": "code",
   "execution_count": 18,
   "id": "37db506c-2ddb-47b4-a6c7-bb98c8391b1b",
   "metadata": {},
   "outputs": [],
   "source": [
    "def house():\n",
    "    square(40)\n",
    "    triangle()    "
   ]
  },
  {
   "cell_type": "code",
   "execution_count": 20,
   "id": "1284305e-71f0-458a-815d-b5e6f1c38b19",
   "metadata": {},
   "outputs": [
    {
     "data": {
      "image/png": "[encoded data removed]",
      "text/plain": [
       "<Figure size 216x216 with 1 Axes>"
      ]
     },
     "metadata": {
      "needs_background": "light"
     },
     "output_type": "display_data"
    }
   ],
   "source": [
    "reset()\n",
    "house()"
   ]
  },
  {
   "cell_type": "code",
   "execution_count": 21,
   "id": "a01fd6b3-9eac-482d-9bf7-46fac70f7d40",
   "metadata": {},
   "outputs": [
    {
     "data": {
      "image/png": "[encoded data removed]",
      "text/plain": [
       "<Figure size 216x216 with 1 Axes>"
      ]
     },
     "metadata": {
      "needs_background": "light"
     },
     "output_type": "display_data"
    }
   ],
   "source": [
    "animate()"
   ]
  },
  {
   "cell_type": "code",
   "execution_count": 22,
   "id": "3ba39a52-db80-4a39-bbca-c6ec0dd0b152",
   "metadata": {},
   "outputs": [
    {
     "data": {
      "image/png": "[encoded data removed]",
      "text/plain": [
       "<Figure size 216x216 with 1 Axes>"
      ]
     },
     "metadata": {
      "needs_background": "light"
     },
     "output_type": "display_data"
    }
   ],
   "source": [
    "reset()\n",
    "house()\n",
    "\n",
    "forward(50)\n",
    "\n",
    "house()"
   ]
  },
  {
   "cell_type": "code",
   "execution_count": 24,
   "id": "df7fd04b-a4d3-4050-af28-016efdcad34d",
   "metadata": {},
   "outputs": [
    {
     "data": {
      "image/png": "[encoded data removed]",
      "text/plain": [
       "<Figure size 216x216 with 1 Axes>"
      ]
     },
     "metadata": {
      "needs_background": "light"
     },
     "output_type": "display_data"
    }
   ],
   "source": [
    "reset()\n",
    "house()\n",
    "\n",
    "penup()\n",
    "forward(50)\n",
    "pendown()\n",
    "\n",
    "pencolor(\"red\")\n",
    "house()"
   ]
  },
  {
   "cell_type": "markdown",
   "id": "42961f46-5d43-4b63-8581-caf84a277e81",
   "metadata": {},
   "source": [
    "## Functions!"
   ]
  },
  {
   "cell_type": "code",
   "execution_count": 35,
   "id": "c102a13b-965f-4dda-be43-c0086b97f6cb",
   "metadata": {},
   "outputs": [],
   "source": [
    "def square():\n",
    "    for i in range(4):\n",
    "        forward(50)\n",
    "        right(90)"
   ]
  },
  {
   "cell_type": "code",
   "execution_count": 36,
   "id": "b19c6fe9-78f4-481e-928b-83f3b4cf301e",
   "metadata": {},
   "outputs": [
    {
     "data": {
      "image/png": "[encoded data removed]",
      "text/plain": [
       "<Figure size 216x216 with 1 Axes>"
      ]
     },
     "metadata": {
      "needs_background": "light"
     },
     "output_type": "display_data"
    }
   ],
   "source": [
    "reset()\n",
    "square()"
   ]
  },
  {
   "cell_type": "code",
   "execution_count": 37,
   "id": "01aba162-8112-438e-9e94-afc5b8923feb",
   "metadata": {},
   "outputs": [],
   "source": [
    "def square_with_size(size):\n",
    "    print(size)\n",
    "    for i in range(4):\n",
    "        forward(size)\n",
    "        right(90)"
   ]
  },
  {
   "cell_type": "code",
   "execution_count": 38,
   "id": "68ef8ef2-0ef0-48f9-8d3e-4910db3ead82",
   "metadata": {},
   "outputs": [
    {
     "ename": "TypeError",
     "evalue": "square_with_size() missing 1 required positional argument: 'size'",
     "output_type": "error",
     "traceback": [
      "\u001b[0;31m---------------------------------------------------------------------------\u001b[0m",
      "\u001b[0;31mTypeError\u001b[0m                                 Traceback (most recent call last)",
      "Input \u001b[0;32mIn [38]\u001b[0m, in \u001b[0;36m<cell line: 2>\u001b[0;34m()\u001b[0m\n\u001b[1;32m      1\u001b[0m reset()\n\u001b[0;32m----> 2\u001b[0m \u001b[43msquare_with_size\u001b[49m\u001b[43m(\u001b[49m\u001b[43m)\u001b[49m\n",
      "\u001b[0;31mTypeError\u001b[0m: square_with_size() missing 1 required positional argument: 'size'"
     ]
    }
   ],
   "source": [
    "reset()\n",
    "square_with_size()"
   ]
  },
  {
   "cell_type": "code",
   "execution_count": 39,
   "id": "fa7cffef-0afe-4c25-88a5-7b268eb78e08",
   "metadata": {},
   "outputs": [
    {
     "name": "stdout",
     "output_type": "stream",
     "text": [
      "40\n"
     ]
    },
    {
     "data": {
      "image/png": "[encoded data removed]",
      "text/plain": [
       "<Figure size 216x216 with 1 Axes>"
      ]
     },
     "metadata": {
      "needs_background": "light"
     },
     "output_type": "display_data"
    }
   ],
   "source": [
    "reset()\n",
    "square_with_size(40)"
   ]
  },
  {
   "cell_type": "code",
   "execution_count": 45,
   "id": "3ba85c39-2872-449e-ac39-c7d89e347999",
   "metadata": {},
   "outputs": [],
   "source": [
    "def square_with_color(size,color):\n",
    "\n",
    "    if color==\"red\":\n",
    "        pencolor(\"red\")\n",
    "    elif color==\"green\":\n",
    "        pencolor(\"blue\")\n",
    "    else:\n",
    "        pencolor(\"black\")\n",
    "    \n",
    "    for i in range(4):\n",
    "        forward(size)\n",
    "        right(90)"
   ]
  },
  {
   "cell_type": "code",
   "execution_count": 46,
   "id": "e311365c-1949-4898-9376-100e75c66bf4",
   "metadata": {},
   "outputs": [
    {
     "data": {
      "image/png": "[encoded data removed]",
      "text/plain": [
       "<Figure size 216x216 with 1 Axes>"
      ]
     },
     "metadata": {
      "needs_background": "light"
     },
     "output_type": "display_data"
    }
   ],
   "source": [
    "reset()\n",
    "square_with_color(40,\"green\")"
   ]
  },
  {
   "cell_type": "code",
   "execution_count": 47,
   "id": "d36876a8-bdac-4f42-bfc2-bb986d6d4335",
   "metadata": {},
   "outputs": [],
   "source": [
    "def square_with_color(size=40,color=\"black\"):\n",
    "\n",
    "    if color==\"red\":\n",
    "        pencolor(\"red\")\n",
    "    elif color==\"green\":\n",
    "        pencolor(\"blue\")\n",
    "    else:\n",
    "        pencolor(\"black\")\n",
    "    \n",
    "    for i in range(4):\n",
    "        forward(size)\n",
    "        right(90)"
   ]
  },
  {
   "cell_type": "code",
   "execution_count": 48,
   "id": "10631821-717c-4b47-8b93-8b63f708c26e",
   "metadata": {},
   "outputs": [
    {
     "data": {
      "image/png": "[encoded data removed]",
      "text/plain": [
       "<Figure size 216x216 with 1 Axes>"
      ]
     },
     "metadata": {
      "needs_background": "light"
     },
     "output_type": "display_data"
    }
   ],
   "source": [
    "reset()\n",
    "square_with_color(80,\"green\")"
   ]
  },
  {
   "cell_type": "code",
   "execution_count": 49,
   "id": "f11bf334-e320-4533-9337-da0631b1fb08",
   "metadata": {},
   "outputs": [
    {
     "data": {
      "image/png": "[encoded data removed]",
      "text/plain": [
       "<Figure size 216x216 with 1 Axes>"
      ]
     },
     "metadata": {
      "needs_background": "light"
     },
     "output_type": "display_data"
    }
   ],
   "source": [
    "reset()\n",
    "square_with_color()"
   ]
  },
  {
   "cell_type": "code",
   "execution_count": null,
   "id": "6e00ca14-5af5-408d-a9f6-2ec4ccde9198",
   "metadata": {},
   "outputs": [],
   "source": []
  }
 ],
 "metadata": {
  "kernelspec": {
   "display_name": "Python 3 (ipykernel)",
   "language": "python",
   "name": "python3"
  },
  "language_info": {
   "codemirror_mode": {
    "name": "ipython",
    "version": 3
   },
   "file_extension": ".py",
   "mimetype": "text/x-python",
   "name": "python",
   "nbconvert_exporter": "python",
   "pygments_lexer": "ipython3",
   "version": "3.9.12"
  }
 },
 "nbformat": 4,
 "nbformat_minor": 5
}
