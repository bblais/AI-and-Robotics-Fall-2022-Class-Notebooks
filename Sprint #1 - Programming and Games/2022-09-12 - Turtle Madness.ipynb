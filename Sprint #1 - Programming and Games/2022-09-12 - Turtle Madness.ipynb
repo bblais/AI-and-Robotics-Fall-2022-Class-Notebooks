{
 "cells": [
  {
   "cell_type": "code",
   "execution_count": 1,
   "id": "76e60238-b285-4d2b-bc9c-e5167c1e0ca7",
   "metadata": {},
   "outputs": [],
   "source": [
    "%matplotlib inline"
   ]
  },
  {
   "cell_type": "code",
   "execution_count": 2,
   "id": "8dd5dd49-c384-4025-bc91-4b0d49088a34",
   "metadata": {},
   "outputs": [],
   "source": [
    "from mplturtle import *"
   ]
  },
  {
   "cell_type": "code",
   "execution_count": 3,
   "id": "598a6675-198f-4c5a-a20e-c39daa64de05",
   "metadata": {},
   "outputs": [
    {
     "data": {
      "image/png": "[encoded data removed]",
      "text/plain": [
       "<Figure size 216x216 with 1 Axes>"
      ]
     },
     "metadata": {
      "needs_background": "light"
     },
     "output_type": "display_data"
    }
   ],
   "source": [
    "reset()\n",
    "forward(50)\n",
    "right(90)\n",
    "forward(50)"
   ]
  },
  {
   "cell_type": "code",
   "execution_count": 5,
   "id": "9ec393bd-5ddb-4206-8bf8-49830b122a1e",
   "metadata": {},
   "outputs": [
    {
     "data": {
      "image/png": "[encoded data removed]",
      "text/plain": [
       "<Figure size 216x216 with 1 Axes>"
      ]
     },
     "metadata": {
      "needs_background": "light"
     },
     "output_type": "display_data"
    }
   ],
   "source": [
    "animate()"
   ]
  },
  {
   "cell_type": "markdown",
   "id": "125616f1-4f9e-4b1e-ae64-8a97ff5f503e",
   "metadata": {},
   "source": [
    "## Drawing a square"
   ]
  },
  {
   "cell_type": "code",
   "execution_count": null,
   "id": "66706310-82d9-427b-88b9-62ac20a7fc02",
   "metadata": {},
   "outputs": [],
   "source": [
    "reset()\n",
    "forward(50)\n",
    "right(90)\n",
    "forward(50)\n",
    "right(90)\n",
    "forward(50)\n",
    "right(90)\n",
    "forward(50)\n",
    "right(90)\n"
   ]
  },
  {
   "cell_type": "code",
   "execution_count": 7,
   "id": "e4d8fdb4-1915-4e13-97b1-f8da27384483",
   "metadata": {},
   "outputs": [
    {
     "data": {
      "image/png": "[encoded data removed]",
      "text/plain": [
       "<Figure size 216x216 with 1 Axes>"
      ]
     },
     "metadata": {
      "needs_background": "light"
     },
     "output_type": "display_data"
    }
   ],
   "source": [
    "reset()\n",
    "for i in range(4):\n",
    "    forward(50)\n",
    "    right(90)"
   ]
  },
  {
   "cell_type": "markdown",
   "id": "bedce569-3a8f-4463-882f-c28eb97c779e",
   "metadata": {},
   "source": [
    "## square 100x100"
   ]
  },
  {
   "cell_type": "code",
   "execution_count": 9,
   "id": "27822fa4-aae7-4f24-968d-6123a9f65054",
   "metadata": {},
   "outputs": [
    {
     "data": {
      "image/png": "[encoded data removed]",
      "text/plain": [
       "<Figure size 216x216 with 1 Axes>"
      ]
     },
     "metadata": {
      "needs_background": "light"
     },
     "output_type": "display_data"
    }
   ],
   "source": [
    "reset()\n",
    "forward(110)\n",
    "right(90)\n",
    "forward(110)\n",
    "right(90)\n",
    "forward(110)\n",
    "right(110)\n",
    "forward(50)\n",
    "right(90)\n"
   ]
  },
  {
   "cell_type": "code",
   "execution_count": 11,
   "id": "00d3b281-9fb6-4158-afc0-d1e8d68d2650",
   "metadata": {},
   "outputs": [
    {
     "data": {
      "image/png": "[encoded data removed]",
      "text/plain": [
       "<Figure size 216x216 with 1 Axes>"
      ]
     },
     "metadata": {
      "needs_background": "light"
     },
     "output_type": "display_data"
    }
   ],
   "source": [
    "size=10\n",
    "\n",
    "reset()\n",
    "forward(size)\n",
    "right(90)\n",
    "forward(size)\n",
    "right(90)\n",
    "forward(size)\n",
    "right(90)\n",
    "forward(size)\n",
    "right(90)\n"
   ]
  },
  {
   "cell_type": "code",
   "execution_count": 12,
   "id": "93ef75b3-d6eb-4fad-bdeb-06e754ef06b6",
   "metadata": {},
   "outputs": [],
   "source": [
    "def square(size):\n",
    "    forward(size)\n",
    "    right(90)\n",
    "    forward(size)\n",
    "    right(90)\n",
    "    forward(size)\n",
    "    right(90)\n",
    "    forward(size)\n",
    "    right(90)    "
   ]
  },
  {
   "cell_type": "code",
   "execution_count": 13,
   "id": "fda69935-080e-4491-b280-2d4ba1f88ca4",
   "metadata": {},
   "outputs": [
    {
     "data": {
      "image/png": "[encoded data removed]",
      "text/plain": [
       "<Figure size 216x216 with 1 Axes>"
      ]
     },
     "metadata": {
      "needs_background": "light"
     },
     "output_type": "display_data"
    }
   ],
   "source": [
    "reset()\n",
    "square(40)"
   ]
  },
  {
   "cell_type": "code",
   "execution_count": null,
   "id": "4d8d6958-dc3e-49a0-8904-d9c5f7539475",
   "metadata": {},
   "outputs": [],
   "source": []
  }
 ],
 "metadata": {
  "kernelspec": {
   "display_name": "Python 3 (ipykernel)",
   "language": "python",
   "name": "python3"
  },
  "language_info": {
   "codemirror_mode": {
    "name": "ipython",
    "version": 3
   },
   "file_extension": ".py",
   "mimetype": "text/x-python",
   "name": "python",
   "nbconvert_exporter": "python",
   "pygments_lexer": "ipython3",
   "version": "3.9.12"
  }
 },
 "nbformat": 4,
 "nbformat_minor": 5
}
