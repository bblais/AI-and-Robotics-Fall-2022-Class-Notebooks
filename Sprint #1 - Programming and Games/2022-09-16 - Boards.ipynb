{
 "cells": [
  {
   "cell_type": "code",
   "execution_count": 1,
   "id": "2887451c-213c-4205-829e-0cb47ffee85a",
   "metadata": {},
   "outputs": [
    {
     "name": "stdout",
     "output_type": "stream",
     "text": [
      "Version:  0.2.35\n"
     ]
    }
   ],
   "source": [
    "from Game import *"
   ]
  },
  {
   "cell_type": "code",
   "execution_count": 2,
   "id": "fd81e500-8fe7-4538-857e-bfefb49fc631",
   "metadata": {},
   "outputs": [],
   "source": [
    "state=Board(3,3)"
   ]
  },
  {
   "cell_type": "code",
   "execution_count": 3,
   "id": "8995f2e5-c879-4a40-a25a-a388e5c7cad8",
   "metadata": {},
   "outputs": [
    {
     "data": {
      "text/plain": [
       " 0  0  0 \n",
       " 0  0  0 \n",
       " 0  0  0 "
      ]
     },
     "execution_count": 3,
     "metadata": {},
     "output_type": "execute_result"
    }
   ],
   "source": [
    "state"
   ]
  },
  {
   "cell_type": "code",
   "execution_count": 4,
   "id": "67cf46ef-8217-48d9-b4bd-799715f376b7",
   "metadata": {},
   "outputs": [],
   "source": [
    "state[1]=2"
   ]
  },
  {
   "cell_type": "code",
   "execution_count": 5,
   "id": "e94f4f0d-5e76-4b45-8c33-527055705d0b",
   "metadata": {},
   "outputs": [
    {
     "data": {
      "text/plain": [
       " 0  2  0 \n",
       " 0  0  0 \n",
       " 0  0  0 "
      ]
     },
     "execution_count": 5,
     "metadata": {},
     "output_type": "execute_result"
    }
   ],
   "source": [
    "state"
   ]
  },
  {
   "cell_type": "code",
   "execution_count": 6,
   "id": "ec9995e4-3ddc-4cf6-9cf0-6628aaea445f",
   "metadata": {},
   "outputs": [],
   "source": [
    "state[7]=1"
   ]
  },
  {
   "cell_type": "code",
   "execution_count": 7,
   "id": "b642a276-4394-4034-b25f-515bd2401a59",
   "metadata": {},
   "outputs": [
    {
     "data": {
      "text/plain": [
       " 0  2  0 \n",
       " 0  0  0 \n",
       " 0  1  0 "
      ]
     },
     "execution_count": 7,
     "metadata": {},
     "output_type": "execute_result"
    }
   ],
   "source": [
    "state"
   ]
  },
  {
   "cell_type": "code",
   "execution_count": 8,
   "id": "8662f180-24aa-4ede-abc1-0ff06d5f5b7e",
   "metadata": {},
   "outputs": [
    {
     "data": {
      "text/plain": [
       "2"
      ]
     },
     "execution_count": 8,
     "metadata": {},
     "output_type": "execute_result"
    }
   ],
   "source": [
    "state[1]"
   ]
  },
  {
   "cell_type": "code",
   "execution_count": 9,
   "id": "771b530e-bc3f-46a9-bf0c-b2f402acaa46",
   "metadata": {},
   "outputs": [],
   "source": [
    "state[1,1]=5"
   ]
  },
  {
   "cell_type": "code",
   "execution_count": 10,
   "id": "cd67ac46-1579-49d2-8bab-b95f000c0b2f",
   "metadata": {},
   "outputs": [
    {
     "data": {
      "text/plain": [
       " 0  2  0 \n",
       " 0  5  0 \n",
       " 0  1  0 "
      ]
     },
     "execution_count": 10,
     "metadata": {},
     "output_type": "execute_result"
    }
   ],
   "source": [
    "state"
   ]
  },
  {
   "cell_type": "code",
   "execution_count": 11,
   "id": "f159894f-7642-4919-b226-71d4f1acf488",
   "metadata": {},
   "outputs": [],
   "source": [
    "state[0,2]=6"
   ]
  },
  {
   "cell_type": "code",
   "execution_count": 12,
   "id": "ba767790-a00d-4477-9658-e43034aaf3e5",
   "metadata": {},
   "outputs": [
    {
     "data": {
      "text/plain": [
       " 0  2  6 \n",
       " 0  5  0 \n",
       " 0  1  0 "
      ]
     },
     "execution_count": 12,
     "metadata": {},
     "output_type": "execute_result"
    }
   ],
   "source": [
    "state"
   ]
  },
  {
   "cell_type": "code",
   "execution_count": 13,
   "id": "d99ee212-b749-4d99-b368-0d6d6bf5ec04",
   "metadata": {},
   "outputs": [],
   "source": [
    "L=[1,2,3]"
   ]
  },
  {
   "cell_type": "code",
   "execution_count": 14,
   "id": "0f8e8938-db13-4760-9e66-dbee19613187",
   "metadata": {},
   "outputs": [
    {
     "data": {
      "text/plain": [
       "[1, 2, 3]"
      ]
     },
     "execution_count": 14,
     "metadata": {},
     "output_type": "execute_result"
    }
   ],
   "source": [
    "L"
   ]
  },
  {
   "cell_type": "code",
   "execution_count": 15,
   "id": "ba8fd5bd-4e96-48f6-9fea-3cd58de9b21d",
   "metadata": {},
   "outputs": [],
   "source": [
    "L.append(67)"
   ]
  },
  {
   "cell_type": "code",
   "execution_count": 16,
   "id": "25b99a00-eea3-4d08-adfb-e990f8df1375",
   "metadata": {},
   "outputs": [
    {
     "data": {
      "text/plain": [
       "[1, 2, 3, 67]"
      ]
     },
     "execution_count": 16,
     "metadata": {},
     "output_type": "execute_result"
    }
   ],
   "source": [
    "L"
   ]
  },
  {
   "cell_type": "code",
   "execution_count": 17,
   "id": "671d2417-b03c-4f1f-aed1-de9b07d31859",
   "metadata": {},
   "outputs": [],
   "source": [
    "L.append(44)"
   ]
  },
  {
   "cell_type": "code",
   "execution_count": 18,
   "id": "4ca41786-6686-4278-aea6-3da787f32c9d",
   "metadata": {},
   "outputs": [
    {
     "data": {
      "text/plain": [
       "[1, 2, 3, 67, 44]"
      ]
     },
     "execution_count": 18,
     "metadata": {},
     "output_type": "execute_result"
    }
   ],
   "source": [
    "L"
   ]
  },
  {
   "cell_type": "code",
   "execution_count": null,
   "id": "12df3aac-526b-42c4-adbe-0c29ca42b3b9",
   "metadata": {},
   "outputs": [],
   "source": []
  }
 ],
 "metadata": {
  "kernelspec": {
   "display_name": "Python 3 (ipykernel)",
   "language": "python",
   "name": "python3"
  },
  "language_info": {
   "codemirror_mode": {
    "name": "ipython",
    "version": 3
   },
   "file_extension": ".py",
   "mimetype": "text/x-python",
   "name": "python",
   "nbconvert_exporter": "python",
   "pygments_lexer": "ipython3",
   "version": "3.9.12"
  }
 },
 "nbformat": 4,
 "nbformat_minor": 5
}
