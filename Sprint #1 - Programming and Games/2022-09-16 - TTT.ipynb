{
 "cells": [
  {
   "cell_type": "code",
   "execution_count": 1,
   "id": "c5f42dec-9a08-4e12-ad9b-77c1c39ff842",
   "metadata": {},
   "outputs": [
    {
     "name": "stdout",
     "output_type": "stream",
     "text": [
      "Version:  0.2.35\n"
     ]
    }
   ],
   "source": [
    "from Game import *"
   ]
  },
  {
   "cell_type": "code",
   "execution_count": 3,
   "id": "caa361ee-78cc-4e9c-904b-53963304fe10",
   "metadata": {},
   "outputs": [],
   "source": [
    "def initial_state():\n",
    "    state=Board(3,3)\n",
    "    \n",
    "    # state[0]=1 in cases where we need to have starting pieces\n",
    "    return state"
   ]
  },
  {
   "cell_type": "code",
   "execution_count": 4,
   "id": "0b88abb4-cb1d-4b5d-89a1-5d25831ba53d",
   "metadata": {},
   "outputs": [],
   "source": [
    "def valid_moves(state,player):\n",
    "    \n",
    "    # nope -- return [0,1,2,3,4,5,6,7,8]\n",
    "    \n",
    "    moves=[]\n",
    "    \n",
    "    if state[0]==0:\n",
    "        moves.append(0)\n",
    "    if state[1]==0:\n",
    "        moves.append(1)        \n",
    "    if state[2]==0:\n",
    "        moves.append(2)\n",
    "        \n",
    "    #....\n",
    "    \n",
    "    moves=[]\n",
    "    for location in range(9):\n",
    "        if state[location]==0:\n",
    "            moves.append(location)\n",
    "    \n",
    "    \n",
    "    return moves"
   ]
  },
  {
   "cell_type": "code",
   "execution_count": 5,
   "id": "327e103d-58c0-4715-baf4-a31793ea0275",
   "metadata": {},
   "outputs": [
    {
     "name": "stdout",
     "output_type": "stream",
     "text": [
      " 0  0  1 \n",
      " 0  0  0 \n",
      " 0  0  0 \n",
      "\n"
     ]
    },
    {
     "data": {
      "text/plain": [
       "[0, 1, 3, 4, 5, 6, 7, 8]"
      ]
     },
     "execution_count": 5,
     "metadata": {},
     "output_type": "execute_result"
    }
   ],
   "source": [
    "state=Board(3,3)\n",
    "state[2]=1\n",
    "print(state)\n",
    "valid_moves(state,1)"
   ]
  },
  {
   "cell_type": "code",
   "execution_count": 6,
   "id": "29afef16-76c3-4230-9960-82508ff679cf",
   "metadata": {},
   "outputs": [],
   "source": [
    "def update_state(state,player,move):\n",
    "    \n",
    "    new_state=state\n",
    "    \n",
    "    new_state[move]=player\n",
    "    \n",
    "    return new_state"
   ]
  },
  {
   "cell_type": "code",
   "execution_count": 7,
   "id": "06f0c72d-c08f-4773-9104-3d3a288311e7",
   "metadata": {},
   "outputs": [],
   "source": [
    "def three_in_a_row(a,b,c,player):\n",
    "    \n",
    "    if a==player and b==player and c==player:\n",
    "        return True\n",
    "    else:\n",
    "        return False\n",
    "    \n",
    "    \n",
    "    \n",
    "def win_status(state,player):\n",
    "    \n",
    "    # 0 1 2\n",
    "    # 3 4 5\n",
    "    # 6 7 8\n",
    "    \n",
    "    if player==1:\n",
    "        other_player=2\n",
    "    else:\n",
    "        other_player=1\n",
    "    \n",
    "    if three_in_a_row(state[0],state[1],state[2],player):\n",
    "        return 'win'\n",
    "    if three_in_a_row(state[3],state[4],state[5],player):\n",
    "        return 'win'\n",
    "    if three_in_a_row(state[6],state[7],state[8],player):\n",
    "        return 'win'\n",
    "    if three_in_a_row(state[0],state[3],state[6],player):\n",
    "        return 'win'\n",
    "    if three_in_a_row(state[1],state[4],state[7],player):\n",
    "        return 'win'\n",
    "    if three_in_a_row(state[2],state[5],state[8],player):\n",
    "        return 'win'\n",
    "    if three_in_a_row(state[0],state[4],state[8],player):\n",
    "        return 'win'\n",
    "    if three_in_a_row(state[2],state[4],state[6],player):\n",
    "        return 'win'\n",
    "    \n",
    "    if not valid_moves(state,other_player):\n",
    "        return 'stalemate'\n",
    "    \n",
    "    \n",
    "def show_state(state):\n",
    "    print(state)"
   ]
  },
  {
   "cell_type": "code",
   "execution_count": 8,
   "id": "f4aad795-4a20-48b3-a173-09a3ae9af9e0",
   "metadata": {},
   "outputs": [],
   "source": [
    "def random_move(state,player):    \n",
    "    moves=valid_moves(state,player)\n",
    "    return random.choice(moves)\n",
    " \n",
    "random_agent=Agent(random_move)    "
   ]
  },
  {
   "cell_type": "code",
   "execution_count": 9,
   "id": "ff32ab92-355e-4b1d-ae55-0a6849579a93",
   "metadata": {},
   "outputs": [],
   "source": [
    "def human_move(state,player):    \n",
    "    print(\"\"\"\n",
    "    0 1 2\n",
    "    3 4 5\n",
    "    6 7 8\n",
    "    \"\"\")\n",
    "    move=int(input(\"What location do you want to move?\"))\n",
    "    return move\n",
    " \n",
    "human_agent=Agent(human_move)    "
   ]
  },
  {
   "cell_type": "code",
   "execution_count": 10,
   "id": "ff4531bf-8a83-486e-954a-45f184853a12",
   "metadata": {},
   "outputs": [
    {
     "name": "stdout",
     "output_type": "stream",
     "text": [
      "====\n",
      "Game  1\n",
      " 0  0  0 \n",
      " 0  0  0 \n",
      " 0  0  0 \n",
      "\n",
      "\n",
      "    0 1 2\n",
      "    3 4 5\n",
      "    6 7 8\n",
      "    \n"
     ]
    },
    {
     "name": "stdin",
     "output_type": "stream",
     "text": [
      "What location do you want to move? 4\n"
     ]
    },
    {
     "name": "stdout",
     "output_type": "stream",
     "text": [
      "Player 1 moves 4\n",
      " 0  0  0 \n",
      " 0  1  0 \n",
      " 0  0  0 \n",
      "\n",
      "Player 2 moves 3\n",
      " 0  0  0 \n",
      " 2  1  0 \n",
      " 0  0  0 \n",
      "\n",
      "\n",
      "    0 1 2\n",
      "    3 4 5\n",
      "    6 7 8\n",
      "    \n"
     ]
    },
    {
     "name": "stdin",
     "output_type": "stream",
     "text": [
      "What location do you want to move? 1\n"
     ]
    },
    {
     "name": "stdout",
     "output_type": "stream",
     "text": [
      "Player 1 moves 1\n",
      " 0  1  0 \n",
      " 2  1  0 \n",
      " 0  0  0 \n",
      "\n",
      "Player 2 moves 2\n",
      " 0  1  2 \n",
      " 2  1  0 \n",
      " 0  0  0 \n",
      "\n",
      "\n",
      "    0 1 2\n",
      "    3 4 5\n",
      "    6 7 8\n",
      "    \n"
     ]
    },
    {
     "name": "stdin",
     "output_type": "stream",
     "text": [
      "What location do you want to move? 8\n"
     ]
    },
    {
     "name": "stdout",
     "output_type": "stream",
     "text": [
      "Player 1 moves 8\n",
      " 0  1  2 \n",
      " 2  1  0 \n",
      " 0  0  1 \n",
      "\n",
      "Player 2 moves 5\n",
      " 0  1  2 \n",
      " 2  1  2 \n",
      " 0  0  1 \n",
      "\n",
      "\n",
      "    0 1 2\n",
      "    3 4 5\n",
      "    6 7 8\n",
      "    \n"
     ]
    },
    {
     "name": "stdin",
     "output_type": "stream",
     "text": [
      "What location do you want to move? 7\n"
     ]
    },
    {
     "name": "stdout",
     "output_type": "stream",
     "text": [
      "Player 1 moves 7\n",
      " 0  1  2 \n",
      " 2  1  2 \n",
      " 0  1  1 \n",
      "\n",
      "Player  1 won.\n"
     ]
    },
    {
     "data": {
      "text/plain": [
       "[1]"
      ]
     },
     "execution_count": 10,
     "metadata": {},
     "output_type": "execute_result"
    }
   ],
   "source": [
    "g=Game()\n",
    "g.run(human_agent,random_agent)"
   ]
  },
  {
   "cell_type": "code",
   "execution_count": 11,
   "id": "9ba81abd-0952-4c5f-9ae0-5b85c12b87fa",
   "metadata": {},
   "outputs": [
    {
     "name": "stdout",
     "output_type": "stream",
     "text": [
      "====\n",
      "Game  1\n",
      " 0  0  0 \n",
      " 0  0  0 \n",
      " 0  0  0 \n",
      "\n",
      "Player 1 moves 7\n",
      " 0  0  0 \n",
      " 0  0  0 \n",
      " 0  1  0 \n",
      "\n",
      "Player 2 moves 6\n",
      " 0  0  0 \n",
      " 0  0  0 \n",
      " 2  1  0 \n",
      "\n",
      "Player 1 moves 0\n",
      " 1  0  0 \n",
      " 0  0  0 \n",
      " 2  1  0 \n",
      "\n",
      "Player 2 moves 4\n",
      " 1  0  0 \n",
      " 0  2  0 \n",
      " 2  1  0 \n",
      "\n",
      "Player 1 moves 8\n",
      " 1  0  0 \n",
      " 0  2  0 \n",
      " 2  1  1 \n",
      "\n",
      "Player 2 moves 1\n",
      " 1  2  0 \n",
      " 0  2  0 \n",
      " 2  1  1 \n",
      "\n",
      "Player 1 moves 5\n",
      " 1  2  0 \n",
      " 0  2  1 \n",
      " 2  1  1 \n",
      "\n",
      "Player 2 moves 3\n",
      " 1  2  0 \n",
      " 2  2  1 \n",
      " 2  1  1 \n",
      "\n",
      "Player 1 moves 2\n",
      " 1  2  1 \n",
      " 2  2  1 \n",
      " 2  1  1 \n",
      "\n",
      "Player  1 won.\n"
     ]
    },
    {
     "data": {
      "text/plain": [
       "[1]"
      ]
     },
     "execution_count": 11,
     "metadata": {},
     "output_type": "execute_result"
    }
   ],
   "source": [
    "g=Game()\n",
    "g.run(random_agent,random_agent)"
   ]
  },
  {
   "cell_type": "code",
   "execution_count": null,
   "id": "b8b9dde9-a58d-471d-8947-5eb11990f50e",
   "metadata": {},
   "outputs": [],
   "source": []
  }
 ],
 "metadata": {
  "kernelspec": {
   "display_name": "Python 3 (ipykernel)",
   "language": "python",
   "name": "python3"
  },
  "language_info": {
   "codemirror_mode": {
    "name": "ipython",
    "version": 3
   },
   "file_extension": ".py",
   "mimetype": "text/x-python",
   "name": "python",
   "nbconvert_exporter": "python",
   "pygments_lexer": "ipython3",
   "version": "3.9.12"
  }
 },
 "nbformat": 4,
 "nbformat_minor": 5
}
