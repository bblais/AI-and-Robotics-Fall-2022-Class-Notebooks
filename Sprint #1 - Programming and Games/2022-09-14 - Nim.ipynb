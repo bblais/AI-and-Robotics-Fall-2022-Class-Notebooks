{
 "cells": [
  {
   "cell_type": "raw",
   "id": "c9f249b6-be79-4952-84fa-432ad300326c",
   "metadata": {},
   "source": [
    "These functions need to be named exactly this:\n",
    "\n",
    "initial_state - \n",
    "    takes in - Nothing\n",
    "    returns  - The initial state of the game\n",
    "    \n",
    "win_status - \n",
    "    takes in - the state and the player\n",
    "    returns  - 'win'  if the state is a winning state for the player, \n",
    "               'lose' if the state is a losing state for the player,\n",
    "               'stalemate' for a stalemate\n",
    "               None otherwise\n",
    "               \n",
    "valid_moves\n",
    "    takes in - the state and the player\n",
    "    returns  - a list of the valid moves for the state and player\n",
    "    \n",
    "    \n",
    "update_state - \n",
    "    takes in - the state, the player, and the move\n",
    "    returns  - the new state after the move for the player\n",
    "\n",
    "show_state - \n",
    "    takes in - the state\n",
    "    returns nothing, but prints out the current state (i.e. draws the board)\n",
    "\n",
    "\n",
    "This function is optional:\n",
    "\n",
    "repeat_move - \n",
    "    takes in - the state, the player, and the move\n",
    "    returns  - True, if the current player gets another move right \n",
    "               after this one.  returns False otherwise.\n",
    "\n",
    "This function can be named something else:\n",
    "\n",
    "my_agent_move - \n",
    "    takes in - the state and the player (optionally the agent info)\n",
    "    returns - a valid move\n",
    "   \n",
    "Example agent:\n",
    "\n",
    "def random_move(state,player):    \n",
    "    moves=valid_moves(state,player)\n",
    "    return random.choice(moves)\n",
    "    \n",
    "    \n",
    "random_agent=Agent(random_move)\n",
    "\n",
    "Usage - \n",
    "\n",
    "my_agent=Agent(my_agent_move)\n",
    "    \n",
    "g=Game(number_of_games=1000)\n",
    "g.run(my_agent,random_agent)\n",
    "g.report()  # writes out percentage of wins, etc...\n",
    "\n"
   ]
  },
  {
   "cell_type": "code",
   "execution_count": 1,
   "id": "3e4286e7-01cc-4bd9-9d2c-6313b1a8fb8e",
   "metadata": {},
   "outputs": [
    {
     "name": "stdout",
     "output_type": "stream",
     "text": [
      "Version:  0.2.35\n"
     ]
    }
   ],
   "source": [
    "from Game import *"
   ]
  },
  {
   "cell_type": "code",
   "execution_count": 2,
   "id": "dce7d2f3-16f4-40a7-bf01-6d5d1d21c0be",
   "metadata": {},
   "outputs": [],
   "source": [
    "def initial_state():\n",
    "    return 21"
   ]
  },
  {
   "cell_type": "code",
   "execution_count": 6,
   "id": "77b0be7c-b77d-4da8-9735-2b5f48fe8c8b",
   "metadata": {},
   "outputs": [],
   "source": [
    "def valid_moves(state,player):\n",
    "    if state==1:\n",
    "        return [1]\n",
    "    elif state==2:\n",
    "        return [1,2]\n",
    "    else:\n",
    "        return [1,2,3]\n",
    "    "
   ]
  },
  {
   "cell_type": "code",
   "execution_count": 7,
   "id": "07115091-34af-4e45-b6aa-4ec47872ad89",
   "metadata": {},
   "outputs": [
    {
     "data": {
      "text/plain": [
       "[1, 2, 3]"
      ]
     },
     "execution_count": 7,
     "metadata": {},
     "output_type": "execute_result"
    }
   ],
   "source": [
    "valid_moves(21,1)"
   ]
  },
  {
   "cell_type": "code",
   "execution_count": 8,
   "id": "7695acc5-ec90-42e7-b860-f82a9842a96d",
   "metadata": {},
   "outputs": [
    {
     "data": {
      "text/plain": [
       "[1, 2]"
      ]
     },
     "execution_count": 8,
     "metadata": {},
     "output_type": "execute_result"
    }
   ],
   "source": [
    "valid_moves(2,1)"
   ]
  },
  {
   "cell_type": "code",
   "execution_count": 9,
   "id": "10903fd0-ec0c-487b-95c3-d9b11c8378f6",
   "metadata": {},
   "outputs": [],
   "source": [
    "def update_state(state,player,move):\n",
    "    \n",
    "    new_state=state-move\n",
    "    \n",
    "    \n",
    "    return new_state"
   ]
  },
  {
   "cell_type": "code",
   "execution_count": 10,
   "id": "9f1c74b6-0e9d-4215-b7a0-a1e08b25d29d",
   "metadata": {},
   "outputs": [
    {
     "data": {
      "text/plain": [
       "11"
      ]
     },
     "execution_count": 10,
     "metadata": {},
     "output_type": "execute_result"
    }
   ],
   "source": [
    "update_state(13,1,2)"
   ]
  },
  {
   "cell_type": "code",
   "execution_count": 11,
   "id": "4becc820-c091-4be5-adcf-f77849225be6",
   "metadata": {},
   "outputs": [
    {
     "data": {
      "text/plain": [
       "-7"
      ]
     },
     "execution_count": 11,
     "metadata": {},
     "output_type": "execute_result"
    }
   ],
   "source": [
    "update_state(13,1,20)"
   ]
  },
  {
   "cell_type": "code",
   "execution_count": null,
   "id": "e558ada2-f559-4b83-895c-25b19cb5402a",
   "metadata": {},
   "outputs": [],
   "source": []
  }
 ],
 "metadata": {
  "kernelspec": {
   "display_name": "Python 3 (ipykernel)",
   "language": "python",
   "name": "python3"
  },
  "language_info": {
   "codemirror_mode": {
    "name": "ipython",
    "version": 3
   },
   "file_extension": ".py",
   "mimetype": "text/x-python",
   "name": "python",
   "nbconvert_exporter": "python",
   "pygments_lexer": "ipython3",
   "version": "3.9.12"
  }
 },
 "nbformat": 4,
 "nbformat_minor": 5
}
