{
 "cells": [
  {
   "cell_type": "raw",
   "id": "c9f249b6-be79-4952-84fa-432ad300326c",
   "metadata": {},
   "source": [
    "These functions need to be named exactly this:\n",
    "\n",
    "initial_state - \n",
    "    takes in - Nothing\n",
    "    returns  - The initial state of the game\n",
    "    \n",
    "win_status - \n",
    "    takes in - the state and the player\n",
    "    returns  - 'win'  if the state is a winning state for the player, \n",
    "               'lose' if the state is a losing state for the player,\n",
    "               'stalemate' for a stalemate\n",
    "               None otherwise\n",
    "               \n",
    "valid_moves\n",
    "    takes in - the state and the player\n",
    "    returns  - a list of the valid moves for the state and player\n",
    "    \n",
    "    \n",
    "update_state - \n",
    "    takes in - the state, the player, and the move\n",
    "    returns  - the new state after the move for the player\n",
    "\n",
    "show_state - \n",
    "    takes in - the state\n",
    "    returns nothing, but prints out the current state (i.e. draws the board)\n",
    "\n",
    "\n",
    "This function is optional:\n",
    "\n",
    "repeat_move - \n",
    "    takes in - the state, the player, and the move\n",
    "    returns  - True, if the current player gets another move right \n",
    "               after this one.  returns False otherwise.\n",
    "\n",
    "This function can be named something else:\n",
    "\n",
    "my_agent_move - \n",
    "    takes in - the state and the player (optionally the agent info)\n",
    "    returns - a valid move\n",
    "   \n",
    "Example agent:\n",
    "\n",
    "def random_move(state,player):    \n",
    "    moves=valid_moves(state,player)\n",
    "    return random.choice(moves)\n",
    "    \n",
    "    \n",
    "random_agent=Agent(random_move)\n",
    "\n",
    "Usage - \n",
    "\n",
    "my_agent=Agent(my_agent_move)\n",
    "    \n",
    "g=Game(number_of_games=1000)\n",
    "g.run(my_agent,random_agent)\n",
    "g.report()  # writes out percentage of wins, etc...\n",
    "\n"
   ]
  },
  {
   "cell_type": "code",
   "execution_count": 1,
   "id": "3e4286e7-01cc-4bd9-9d2c-6313b1a8fb8e",
   "metadata": {},
   "outputs": [
    {
     "name": "stdout",
     "output_type": "stream",
     "text": [
      "Version:  0.2.35\n"
     ]
    }
   ],
   "source": [
    "from Game import *"
   ]
  },
  {
   "cell_type": "code",
   "execution_count": null,
   "id": "dce7d2f3-16f4-40a7-bf01-6d5d1d21c0be",
   "metadata": {},
   "outputs": [],
   "source": []
  }
 ],
 "metadata": {
  "kernelspec": {
   "display_name": "Python 3 (ipykernel)",
   "language": "python",
   "name": "python3"
  },
  "language_info": {
   "codemirror_mode": {
    "name": "ipython",
    "version": 3
   },
   "file_extension": ".py",
   "mimetype": "text/x-python",
   "name": "python",
   "nbconvert_exporter": "python",
   "pygments_lexer": "ipython3",
   "version": "3.9.12"
  }
 },
 "nbformat": 4,
 "nbformat_minor": 5
}
