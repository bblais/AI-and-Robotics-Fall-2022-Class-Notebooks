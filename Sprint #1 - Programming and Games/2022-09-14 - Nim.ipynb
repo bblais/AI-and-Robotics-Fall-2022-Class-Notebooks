{
 "cells": [
  {
   "cell_type": "raw",
   "id": "c9f249b6-be79-4952-84fa-432ad300326c",
   "metadata": {},
   "source": [
    "These functions need to be named exactly this:\n",
    "\n",
    "initial_state - \n",
    "    takes in - Nothing\n",
    "    returns  - The initial state of the game\n",
    "    \n",
    "win_status - \n",
    "    takes in - the state and the player\n",
    "    returns  - 'win'  if the state is a winning state for the player, \n",
    "               'lose' if the state is a losing state for the player,\n",
    "               'stalemate' for a stalemate\n",
    "               None otherwise\n",
    "               \n",
    "valid_moves\n",
    "    takes in - the state and the player\n",
    "    returns  - a list of the valid moves for the state and player\n",
    "    \n",
    "    \n",
    "update_state - \n",
    "    takes in - the state, the player, and the move\n",
    "    returns  - the new state after the move for the player\n",
    "\n",
    "show_state - \n",
    "    takes in - the state\n",
    "    returns nothing, but prints out the current state (i.e. draws the board)\n",
    "\n",
    "\n",
    "This function is optional:\n",
    "\n",
    "repeat_move - \n",
    "    takes in - the state, the player, and the move\n",
    "    returns  - True, if the current player gets another move right \n",
    "               after this one.  returns False otherwise.\n",
    "\n",
    "This function can be named something else:\n",
    "\n",
    "my_agent_move - \n",
    "    takes in - the state and the player (optionally the agent info)\n",
    "    returns - a valid move\n",
    "   \n",
    "Example agent:\n",
    "\n",
    "def random_move(state,player):    \n",
    "    moves=valid_moves(state,player)\n",
    "    return random.choice(moves)\n",
    "    \n",
    "    \n",
    "random_agent=Agent(random_move)\n",
    "\n",
    "Usage - \n",
    "\n",
    "my_agent=Agent(my_agent_move)\n",
    "    \n",
    "g=Game(number_of_games=1000)\n",
    "g.run(my_agent,random_agent)\n",
    "g.report()  # writes out percentage of wins, etc...\n",
    "\n"
   ]
  },
  {
   "cell_type": "code",
   "execution_count": 1,
   "id": "3e4286e7-01cc-4bd9-9d2c-6313b1a8fb8e",
   "metadata": {},
   "outputs": [
    {
     "name": "stdout",
     "output_type": "stream",
     "text": [
      "Version:  0.2.35\n"
     ]
    }
   ],
   "source": [
    "from Game import *"
   ]
  },
  {
   "cell_type": "code",
   "execution_count": 2,
   "id": "dce7d2f3-16f4-40a7-bf01-6d5d1d21c0be",
   "metadata": {},
   "outputs": [],
   "source": [
    "def initial_state():\n",
    "    return 21"
   ]
  },
  {
   "cell_type": "code",
   "execution_count": 3,
   "id": "77b0be7c-b77d-4da8-9735-2b5f48fe8c8b",
   "metadata": {},
   "outputs": [],
   "source": [
    "def valid_moves(state,player):\n",
    "    if state==1:\n",
    "        return [1]\n",
    "    elif state==2:\n",
    "        return [1,2]\n",
    "    else:\n",
    "        return [1,2,3]\n",
    "    "
   ]
  },
  {
   "cell_type": "code",
   "execution_count": 4,
   "id": "07115091-34af-4e45-b6aa-4ec47872ad89",
   "metadata": {},
   "outputs": [
    {
     "data": {
      "text/plain": [
       "[1, 2, 3]"
      ]
     },
     "execution_count": 4,
     "metadata": {},
     "output_type": "execute_result"
    }
   ],
   "source": [
    "valid_moves(21,1)"
   ]
  },
  {
   "cell_type": "code",
   "execution_count": 5,
   "id": "7695acc5-ec90-42e7-b860-f82a9842a96d",
   "metadata": {},
   "outputs": [
    {
     "data": {
      "text/plain": [
       "[1, 2]"
      ]
     },
     "execution_count": 5,
     "metadata": {},
     "output_type": "execute_result"
    }
   ],
   "source": [
    "valid_moves(2,1)"
   ]
  },
  {
   "cell_type": "code",
   "execution_count": 6,
   "id": "10903fd0-ec0c-487b-95c3-d9b11c8378f6",
   "metadata": {},
   "outputs": [],
   "source": [
    "def update_state(state,player,move):\n",
    "    \n",
    "    new_state=state-move\n",
    "    \n",
    "    return new_state"
   ]
  },
  {
   "cell_type": "code",
   "execution_count": 7,
   "id": "9f1c74b6-0e9d-4215-b7a0-a1e08b25d29d",
   "metadata": {},
   "outputs": [
    {
     "data": {
      "text/plain": [
       "11"
      ]
     },
     "execution_count": 7,
     "metadata": {},
     "output_type": "execute_result"
    }
   ],
   "source": [
    "update_state(13,1,2)"
   ]
  },
  {
   "cell_type": "code",
   "execution_count": 8,
   "id": "4becc820-c091-4be5-adcf-f77849225be6",
   "metadata": {},
   "outputs": [
    {
     "data": {
      "text/plain": [
       "-7"
      ]
     },
     "execution_count": 8,
     "metadata": {},
     "output_type": "execute_result"
    }
   ],
   "source": [
    "update_state(13,1,20)"
   ]
  },
  {
   "cell_type": "code",
   "execution_count": 27,
   "id": "e558ada2-f559-4b83-895c-25b19cb5402a",
   "metadata": {},
   "outputs": [],
   "source": [
    "def show_state(state):\n",
    "    number_of_sticks=state\n",
    "    print(\"The number of sticks is \",number_of_sticks)"
   ]
  },
  {
   "cell_type": "code",
   "execution_count": 28,
   "id": "a22d4548-6564-4147-9541-0d3e89cabaac",
   "metadata": {},
   "outputs": [
    {
     "name": "stdout",
     "output_type": "stream",
     "text": [
      "The number of sticks is  12\n"
     ]
    }
   ],
   "source": [
    "show_state(12)"
   ]
  },
  {
   "cell_type": "code",
   "execution_count": 29,
   "id": "ed6b80b4-ffe7-4e40-ae9c-277448f6fe43",
   "metadata": {},
   "outputs": [],
   "source": [
    "def win_status(state,player):\n",
    "\n",
    "    # the state here is the state after the player made the move\n",
    "    \n",
    "    # returns  - 'win'  if the state is a winning state for the player, \n",
    "    #            'lose' if the state is a losing state for the player,\n",
    "    #            'stalemate' for a stalemate\n",
    "    #            None otherwise    \n",
    "    \n",
    "    \n",
    "    if state==1:\n",
    "        return \"win\"\n",
    "    \n",
    "    if state==0:\n",
    "        return \"lose\"\n",
    "    \n",
    "    "
   ]
  },
  {
   "cell_type": "code",
   "execution_count": 30,
   "id": "f6ddd4b8-a281-46db-a482-3fce9f58fed0",
   "metadata": {},
   "outputs": [],
   "source": [
    "def random_move(state,player):    \n",
    "    moves=valid_moves(state,player)\n",
    "    return random.choice(moves)\n",
    " \n",
    "random_agent=Agent(random_move)    "
   ]
  },
  {
   "cell_type": "code",
   "execution_count": 31,
   "id": "c3b6cd08-1aca-4b81-aa00-0463c61c9a43",
   "metadata": {},
   "outputs": [],
   "source": [
    "def human_move(state,player):    \n",
    "    move=int(input(\"How many sticks to take?\"))\n",
    "    return move\n",
    " \n",
    "human_agent=Agent(human_move)    "
   ]
  },
  {
   "cell_type": "code",
   "execution_count": 32,
   "id": "6cbffa40-936f-46eb-ab2c-788d28d8a642",
   "metadata": {},
   "outputs": [
    {
     "name": "stdout",
     "output_type": "stream",
     "text": [
      "====\n",
      "Game  1\n",
      "The number of sticks is  21\n"
     ]
    },
    {
     "name": "stdin",
     "output_type": "stream",
     "text": [
      "How many sticks to take? 2\n"
     ]
    },
    {
     "name": "stdout",
     "output_type": "stream",
     "text": [
      "Player 1 moves 2\n",
      "The number of sticks is  19\n",
      "Player 2 moves 2\n",
      "The number of sticks is  17\n"
     ]
    },
    {
     "name": "stdin",
     "output_type": "stream",
     "text": [
      "How many sticks to take? 3\n"
     ]
    },
    {
     "name": "stdout",
     "output_type": "stream",
     "text": [
      "Player 1 moves 3\n",
      "The number of sticks is  14\n",
      "Player 2 moves 2\n",
      "The number of sticks is  12\n"
     ]
    },
    {
     "name": "stdin",
     "output_type": "stream",
     "text": [
      "How many sticks to take? 2\n"
     ]
    },
    {
     "name": "stdout",
     "output_type": "stream",
     "text": [
      "Player 1 moves 2\n",
      "The number of sticks is  10\n",
      "Player 2 moves 3\n",
      "The number of sticks is  7\n"
     ]
    },
    {
     "name": "stdin",
     "output_type": "stream",
     "text": [
      "How many sticks to take? 2\n"
     ]
    },
    {
     "name": "stdout",
     "output_type": "stream",
     "text": [
      "Player 1 moves 2\n",
      "The number of sticks is  5\n",
      "Player 2 moves 3\n",
      "The number of sticks is  2\n"
     ]
    },
    {
     "name": "stdin",
     "output_type": "stream",
     "text": [
      "How many sticks to take? 1\n"
     ]
    },
    {
     "name": "stdout",
     "output_type": "stream",
     "text": [
      "Player 1 moves 1\n",
      "The number of sticks is  1\n",
      "Player  1 won.\n"
     ]
    },
    {
     "data": {
      "text/plain": [
       "[1]"
      ]
     },
     "execution_count": 32,
     "metadata": {},
     "output_type": "execute_result"
    }
   ],
   "source": [
    "g=Game()\n",
    "g.run(human_agent,random_agent)"
   ]
  },
  {
   "cell_type": "code",
   "execution_count": null,
   "id": "7603dd34-aee9-4e19-ab3a-d56ee545f318",
   "metadata": {},
   "outputs": [],
   "source": []
  }
 ],
 "metadata": {
  "kernelspec": {
   "display_name": "Python 3 (ipykernel)",
   "language": "python",
   "name": "python3"
  },
  "language_info": {
   "codemirror_mode": {
    "name": "ipython",
    "version": 3
   },
   "file_extension": ".py",
   "mimetype": "text/x-python",
   "name": "python",
   "nbconvert_exporter": "python",
   "pygments_lexer": "ipython3",
   "version": "3.9.12"
  }
 },
 "nbformat": 4,
 "nbformat_minor": 5
}
