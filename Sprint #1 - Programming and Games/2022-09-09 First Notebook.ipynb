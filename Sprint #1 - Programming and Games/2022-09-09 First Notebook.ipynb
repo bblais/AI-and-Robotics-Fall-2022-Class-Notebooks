{
 "cells": [
  {
   "cell_type": "code",
   "execution_count": 1,
   "id": "fbb42554-c89e-481d-b98e-6aa0f6943558",
   "metadata": {},
   "outputs": [
    {
     "name": "stdout",
     "output_type": "stream",
     "text": [
      "hello world\n"
     ]
    }
   ],
   "source": [
    "print(\"hello world\")"
   ]
  },
  {
   "cell_type": "code",
   "execution_count": 2,
   "id": "4160cc7b-242f-461a-8cea-28cd9a4c7459",
   "metadata": {},
   "outputs": [
    {
     "data": {
      "text/plain": [
       "10240000000000"
      ]
     },
     "execution_count": 2,
     "metadata": {},
     "output_type": "execute_result"
    }
   ],
   "source": [
    "20**10"
   ]
  },
  {
   "cell_type": "code",
   "execution_count": 5,
   "id": "b8c0248e-7dd1-4ebc-8b7e-819d6babae80",
   "metadata": {},
   "outputs": [],
   "source": [
    "rate=100    # operations per second\n",
    "number_of_operations=20**10"
   ]
  },
  {
   "cell_type": "code",
   "execution_count": 7,
   "id": "9f4f1589-9c38-4f0b-991e-46b6085ac1a9",
   "metadata": {},
   "outputs": [
    {
     "data": {
      "text/plain": [
       "3247.082699137494"
      ]
     },
     "execution_count": 7,
     "metadata": {},
     "output_type": "execute_result"
    }
   ],
   "source": [
    "number_of_operations/rate /60/60/24/365"
   ]
  },
  {
   "cell_type": "markdown",
   "id": "8015ad6f-e74f-451b-accd-7ab45b351eab",
   "metadata": {},
   "source": [
    "# Headings\n",
    "\n",
    "## subheadings\n",
    "\n",
    "- bulletted\n",
    "- text\n",
    "- here\n",
    "\n",
    "and some *italic* and **bold**\n",
    "\n",
    "google Markdown syntax for a whole lot more"
   ]
  },
  {
   "cell_type": "code",
   "execution_count": 8,
   "id": "310f3c5c-b53c-4efd-bea6-0f9912cba853",
   "metadata": {},
   "outputs": [
    {
     "data": {
      "text/plain": [
       "25"
      ]
     },
     "execution_count": 8,
     "metadata": {},
     "output_type": "execute_result"
    }
   ],
   "source": [
    "a=5\n",
    "5*a"
   ]
  },
  {
   "cell_type": "code",
   "execution_count": 9,
   "id": "6dc700fc-4345-48fc-87ca-70d8153bce98",
   "metadata": {},
   "outputs": [],
   "source": [
    "bob=25"
   ]
  },
  {
   "cell_type": "code",
   "execution_count": 10,
   "id": "b6fd266b-3bbb-4467-8ff9-ab10998b33ce",
   "metadata": {},
   "outputs": [
    {
     "ename": "NameError",
     "evalue": "name 'Bob' is not defined",
     "output_type": "error",
     "traceback": [
      "\u001b[0;31m---------------------------------------------------------------------------\u001b[0m",
      "\u001b[0;31mNameError\u001b[0m                                 Traceback (most recent call last)",
      "Input \u001b[0;32mIn [10]\u001b[0m, in \u001b[0;36m<cell line: 1>\u001b[0;34m()\u001b[0m\n\u001b[0;32m----> 1\u001b[0m a\u001b[38;5;241m*\u001b[39m\u001b[43mBob\u001b[49m\n",
      "\u001b[0;31mNameError\u001b[0m: name 'Bob' is not defined"
     ]
    }
   ],
   "source": [
    "a*Bob"
   ]
  },
  {
   "cell_type": "code",
   "execution_count": 11,
   "id": "b3485909-9182-4d13-9cba-bc2822263982",
   "metadata": {},
   "outputs": [
    {
     "data": {
      "text/plain": [
       "125"
      ]
     },
     "execution_count": 11,
     "metadata": {},
     "output_type": "execute_result"
    }
   ],
   "source": [
    "a*bob"
   ]
  },
  {
   "cell_type": "code",
   "execution_count": 12,
   "id": "d37d6d49-afb7-4662-8e18-f3f9c800e6c3",
   "metadata": {},
   "outputs": [
    {
     "data": {
      "text/plain": [
       "5"
      ]
     },
     "execution_count": 12,
     "metadata": {},
     "output_type": "execute_result"
    }
   ],
   "source": [
    "a"
   ]
  },
  {
   "cell_type": "code",
   "execution_count": 13,
   "id": "5ad90ea0-a19b-4fb9-abff-367ff418cd41",
   "metadata": {},
   "outputs": [],
   "source": [
    "a=a+2"
   ]
  },
  {
   "cell_type": "code",
   "execution_count": 14,
   "id": "b01dba86-60cb-4c04-bec3-15f204022eeb",
   "metadata": {},
   "outputs": [
    {
     "data": {
      "text/plain": [
       "7"
      ]
     },
     "execution_count": 14,
     "metadata": {},
     "output_type": "execute_result"
    }
   ],
   "source": [
    "a"
   ]
  },
  {
   "cell_type": "code",
   "execution_count": 16,
   "id": "36982ad2-8438-4845-a02d-c2d109a6fb5e",
   "metadata": {},
   "outputs": [
    {
     "name": "stdout",
     "output_type": "stream",
     "text": [
      "here\n",
      "there\n",
      "0\n",
      "there\n",
      "1\n",
      "there\n",
      "2\n",
      "there\n",
      "3\n",
      "there\n",
      "4\n",
      "somewhere\n"
     ]
    }
   ],
   "source": [
    "print(\"here\")\n",
    "for i in range(5):\n",
    "    print(\"there\")\n",
    "    print(i)\n",
    "    \n",
    "print(\"somewhere\")"
   ]
  },
  {
   "cell_type": "code",
   "execution_count": 21,
   "id": "d3ba5134-50d9-4db5-961b-3afa288f1ab5",
   "metadata": {},
   "outputs": [
    {
     "name": "stdout",
     "output_type": "stream",
     "text": [
      "here\n",
      "there\n",
      "0\n",
      "there\n",
      "1\n",
      "there\n",
      "2\n",
      "there\n",
      "3\n",
      "there\n",
      "4\n",
      "hello\n",
      "somewhere\n"
     ]
    }
   ],
   "source": [
    "print(\"here\")\n",
    "for bob in range(5):\n",
    "    print(\"there\")\n",
    "    print(bob)\n",
    "\n",
    "print(\"hello\")\n",
    "print(\"somewhere\")"
   ]
  },
  {
   "cell_type": "code",
   "execution_count": 22,
   "id": "b73420bb-0fb4-4eb8-81e4-2ffadf01fc4f",
   "metadata": {},
   "outputs": [
    {
     "name": "stdout",
     "output_type": "stream",
     "text": [
      "here\n",
      "another\n",
      "0\n",
      "another\n",
      "1\n",
      "another\n",
      "2\n",
      "there\n",
      "3\n",
      "there\n",
      "4\n",
      "hello\n",
      "somewhere\n"
     ]
    }
   ],
   "source": [
    "print(\"here\")\n",
    "for bob in range(5):\n",
    "    if bob>2:\n",
    "        print(\"there\")\n",
    "    else:\n",
    "        print(\"another\")\n",
    "        \n",
    "    print(bob)\n",
    "\n",
    "print(\"hello\")\n",
    "print(\"somewhere\")"
   ]
  },
  {
   "cell_type": "code",
   "execution_count": 23,
   "id": "ead9f438-7858-43ed-a659-5c610556760f",
   "metadata": {},
   "outputs": [],
   "source": [
    "def do_something():\n",
    "    print(\"here\")\n",
    "    for bob in range(5):\n",
    "        if bob>2:\n",
    "            print(\"there\")\n",
    "        else:\n",
    "            print(\"another\")\n",
    "\n",
    "        print(bob)\n",
    "\n",
    "    print(\"hello\")\n",
    "    print(\"somewhere\")    "
   ]
  },
  {
   "cell_type": "code",
   "execution_count": 24,
   "id": "6c28edce-e55e-4d0a-a9af-d454a892bc97",
   "metadata": {},
   "outputs": [
    {
     "name": "stdout",
     "output_type": "stream",
     "text": [
      "here\n",
      "another\n",
      "0\n",
      "another\n",
      "1\n",
      "another\n",
      "2\n",
      "there\n",
      "3\n",
      "there\n",
      "4\n",
      "hello\n",
      "somewhere\n"
     ]
    }
   ],
   "source": [
    "do_something()"
   ]
  },
  {
   "cell_type": "code",
   "execution_count": null,
   "id": "6bfdf993-8f0b-4e35-ab62-f7dc1f031e33",
   "metadata": {},
   "outputs": [],
   "source": []
  }
 ],
 "metadata": {
  "kernelspec": {
   "display_name": "Python 3 (ipykernel)",
   "language": "python",
   "name": "python3"
  },
  "language_info": {
   "codemirror_mode": {
    "name": "ipython",
    "version": 3
   },
   "file_extension": ".py",
   "mimetype": "text/x-python",
   "name": "python",
   "nbconvert_exporter": "python",
   "pygments_lexer": "ipython3",
   "version": "3.9.12"
  }
 },
 "nbformat": 4,
 "nbformat_minor": 5
}
