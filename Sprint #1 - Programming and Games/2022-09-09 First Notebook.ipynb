{
 "cells": [
  {
   "cell_type": "code",
   "execution_count": 1,
   "id": "fbb42554-c89e-481d-b98e-6aa0f6943558",
   "metadata": {},
   "outputs": [
    {
     "name": "stdout",
     "output_type": "stream",
     "text": [
      "hello world\n"
     ]
    }
   ],
   "source": [
    "print(\"hello world\")"
   ]
  },
  {
   "cell_type": "code",
   "execution_count": 2,
   "id": "4160cc7b-242f-461a-8cea-28cd9a4c7459",
   "metadata": {},
   "outputs": [
    {
     "data": {
      "text/plain": [
       "10240000000000"
      ]
     },
     "execution_count": 2,
     "metadata": {},
     "output_type": "execute_result"
    }
   ],
   "source": [
    "20**10"
   ]
  },
  {
   "cell_type": "code",
   "execution_count": 5,
   "id": "b8c0248e-7dd1-4ebc-8b7e-819d6babae80",
   "metadata": {},
   "outputs": [],
   "source": [
    "rate=100    # operations per second\n",
    "number_of_operations=20**10"
   ]
  },
  {
   "cell_type": "code",
   "execution_count": 7,
   "id": "9f4f1589-9c38-4f0b-991e-46b6085ac1a9",
   "metadata": {},
   "outputs": [
    {
     "data": {
      "text/plain": [
       "3247.082699137494"
      ]
     },
     "execution_count": 7,
     "metadata": {},
     "output_type": "execute_result"
    }
   ],
   "source": [
    "number_of_operations/rate /60/60/24/365"
   ]
  },
  {
   "cell_type": "markdown",
   "id": "8015ad6f-e74f-451b-accd-7ab45b351eab",
   "metadata": {},
   "source": [
    "# Headings\n",
    "\n",
    "## subheadings\n",
    "\n",
    "- bulletted\n",
    "- text\n",
    "- here\n",
    "\n",
    "and some *italic* and **bold**\n",
    "\n",
    "google Markdown syntax for a whole lot more"
   ]
  },
  {
   "cell_type": "code",
   "execution_count": null,
   "id": "310f3c5c-b53c-4efd-bea6-0f9912cba853",
   "metadata": {},
   "outputs": [],
   "source": []
  },
  {
   "cell_type": "code",
   "execution_count": null,
   "id": "6dc700fc-4345-48fc-87ca-70d8153bce98",
   "metadata": {},
   "outputs": [],
   "source": []
  },
  {
   "cell_type": "code",
   "execution_count": null,
   "id": "b6fd266b-3bbb-4467-8ff9-ab10998b33ce",
   "metadata": {},
   "outputs": [],
   "source": []
  }
 ],
 "metadata": {
  "kernelspec": {
   "display_name": "Python 3 (ipykernel)",
   "language": "python",
   "name": "python3"
  },
  "language_info": {
   "codemirror_mode": {
    "name": "ipython",
    "version": 3
   },
   "file_extension": ".py",
   "mimetype": "text/x-python",
   "name": "python",
   "nbconvert_exporter": "python",
   "pygments_lexer": "ipython3",
   "version": "3.9.12"
  }
 },
 "nbformat": 4,
 "nbformat_minor": 5
}
