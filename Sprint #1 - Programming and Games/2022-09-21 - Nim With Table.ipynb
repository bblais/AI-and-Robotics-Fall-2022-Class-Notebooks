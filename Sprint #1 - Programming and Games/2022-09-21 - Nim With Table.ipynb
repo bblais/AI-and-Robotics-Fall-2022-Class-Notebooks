{
 "cells": [
  {
   "cell_type": "code",
   "execution_count": 1,
   "id": "3e4286e7-01cc-4bd9-9d2c-6313b1a8fb8e",
   "metadata": {},
   "outputs": [
    {
     "name": "stdout",
     "output_type": "stream",
     "text": [
      "Version:  0.2.35\n"
     ]
    }
   ],
   "source": [
    "from Game import *"
   ]
  },
  {
   "cell_type": "code",
   "execution_count": 2,
   "id": "dce7d2f3-16f4-40a7-bf01-6d5d1d21c0be",
   "metadata": {},
   "outputs": [],
   "source": [
    "def initial_state():\n",
    "    return 21"
   ]
  },
  {
   "cell_type": "code",
   "execution_count": 3,
   "id": "77b0be7c-b77d-4da8-9735-2b5f48fe8c8b",
   "metadata": {},
   "outputs": [],
   "source": [
    "def valid_moves(state,player):\n",
    "    if state==1:\n",
    "        return [1]\n",
    "    elif state==2:\n",
    "        return [1,2]\n",
    "    else:\n",
    "        return [1,2,3]\n",
    "    "
   ]
  },
  {
   "cell_type": "code",
   "execution_count": 4,
   "id": "10903fd0-ec0c-487b-95c3-d9b11c8378f6",
   "metadata": {},
   "outputs": [],
   "source": [
    "def update_state(state,player,move):\n",
    "    \n",
    "    new_state=state-move\n",
    "    \n",
    "    return new_state"
   ]
  },
  {
   "cell_type": "code",
   "execution_count": 5,
   "id": "e558ada2-f559-4b83-895c-25b19cb5402a",
   "metadata": {},
   "outputs": [],
   "source": [
    "def show_state(state):\n",
    "    number_of_sticks=state\n",
    "    print(\"The number of sticks is \",number_of_sticks)"
   ]
  },
  {
   "cell_type": "code",
   "execution_count": 6,
   "id": "ed6b80b4-ffe7-4e40-ae9c-277448f6fe43",
   "metadata": {},
   "outputs": [],
   "source": [
    "def win_status(state,player):\n",
    "\n",
    "    # the state here is the state after the player made the move\n",
    "    \n",
    "    # returns  - 'win'  if the state is a winning state for the player, \n",
    "    #            'lose' if the state is a losing state for the player,\n",
    "    #            'stalemate' for a stalemate\n",
    "    #            None otherwise    \n",
    "    \n",
    "    \n",
    "    if state==1:\n",
    "        return \"win\"\n",
    "    \n",
    "    if state==0:\n",
    "        return \"lose\"\n",
    "    \n",
    "    "
   ]
  },
  {
   "cell_type": "code",
   "execution_count": 30,
   "id": "f6ddd4b8-a281-46db-a482-3fce9f58fed0",
   "metadata": {},
   "outputs": [],
   "source": [
    "def random_move(state,player):    \n",
    "    moves=valid_moves(state,player)\n",
    "    return random.choice(moves)\n",
    " \n",
    "random_agent=Agent(random_move)    "
   ]
  },
  {
   "cell_type": "code",
   "execution_count": 31,
   "id": "c3b6cd08-1aca-4b81-aa00-0463c61c9a43",
   "metadata": {},
   "outputs": [],
   "source": [
    "def human_move(state,player):\n",
    "    \n",
    "    for i range(5):\n",
    "        move=int(input(\"How many sticks to take?\"))\n",
    "\n",
    "        if move in valid_moves(state,player):\n",
    "            return move\n",
    "        else:\n",
    "            print(\"Illegal move.\")\n",
    "\n",
    "    return None\n",
    "        \n",
    "human_agent=Agent(human_move)    "
   ]
  },
  {
   "cell_type": "code",
   "execution_count": null,
   "id": "fe80b270-7fba-4e56-9ff8-e0bdc9e37a0f",
   "metadata": {},
   "outputs": [],
   "source": []
  },
  {
   "cell_type": "code",
   "execution_count": null,
   "id": "d03bc8bf-001c-4bad-8831-0db83c9e3ec2",
   "metadata": {},
   "outputs": [],
   "source": []
  },
  {
   "cell_type": "code",
   "execution_count": null,
   "id": "0bbc4a74-daae-4a89-84e8-5931767eef24",
   "metadata": {},
   "outputs": [],
   "source": []
  },
  {
   "cell_type": "code",
   "execution_count": null,
   "id": "785e66ff-8e66-4b2b-8448-31d5840532c6",
   "metadata": {},
   "outputs": [],
   "source": []
  },
  {
   "cell_type": "code",
   "execution_count": null,
   "id": "da1e2a57-f226-4e0d-a392-de093aac87ec",
   "metadata": {},
   "outputs": [],
   "source": []
  },
  {
   "cell_type": "code",
   "execution_count": null,
   "id": "400138b8-fc77-40b0-9299-d111017be90c",
   "metadata": {},
   "outputs": [],
   "source": []
  },
  {
   "cell_type": "code",
   "execution_count": null,
   "id": "89231d8f-0eb5-41ca-ac81-0a2bb2c7b3e6",
   "metadata": {},
   "outputs": [],
   "source": []
  },
  {
   "cell_type": "code",
   "execution_count": null,
   "id": "44c0a0cf-1e3e-4a69-829c-89ca405359b1",
   "metadata": {},
   "outputs": [],
   "source": []
  },
  {
   "cell_type": "code",
   "execution_count": null,
   "id": "d3f22dad-b941-419f-9ff3-165c4514a3c2",
   "metadata": {},
   "outputs": [],
   "source": []
  },
  {
   "cell_type": "code",
   "execution_count": null,
   "id": "fdb0a042-0829-4628-aa37-efa7f6074ba1",
   "metadata": {},
   "outputs": [],
   "source": []
  },
  {
   "cell_type": "code",
   "execution_count": null,
   "id": "17d07afd-8277-4d6e-af8c-7db0c1c3082b",
   "metadata": {},
   "outputs": [],
   "source": []
  },
  {
   "cell_type": "code",
   "execution_count": null,
   "id": "cbef2598-060c-450b-a1d7-76f34aa403d4",
   "metadata": {},
   "outputs": [],
   "source": []
  },
  {
   "cell_type": "code",
   "execution_count": null,
   "id": "706981b6-b19a-4d8e-b437-a1e1377cab07",
   "metadata": {},
   "outputs": [],
   "source": []
  },
  {
   "cell_type": "code",
   "execution_count": null,
   "id": "1c66addb-7f74-4932-95d7-1888a8fd2933",
   "metadata": {},
   "outputs": [],
   "source": []
  },
  {
   "cell_type": "code",
   "execution_count": null,
   "id": "cabe291b-c204-4b38-b090-7b93d94df040",
   "metadata": {},
   "outputs": [],
   "source": []
  },
  {
   "cell_type": "code",
   "execution_count": null,
   "id": "b28a0477-20cb-4393-b188-86f5b48236aa",
   "metadata": {},
   "outputs": [],
   "source": [
    "def make_nim_table():\n",
    "    T=Table()\n",
    "\n",
    "    state=3\n",
    "    T[state]=Table()\n",
    "    \n",
    "    \n",
    "    return T"
   ]
  },
  {
   "cell_type": "code",
   "execution_count": null,
   "id": "7613b77f-4474-4caf-8d20-4ea712bc9655",
   "metadata": {},
   "outputs": [],
   "source": [
    "def table_move(state,player):\n",
    "    T=make_nim_table()\n",
    "    move=top_choice(T[state])\n",
    "    return move\n",
    "\n",
    "table_agent=Agent(table_move)\n",
    "\n"
   ]
  },
  {
   "cell_type": "code",
   "execution_count": null,
   "id": "7fd3091d-0863-451b-bc85-9ce463feda62",
   "metadata": {},
   "outputs": [],
   "source": []
  },
  {
   "cell_type": "code",
   "execution_count": 32,
   "id": "6cbffa40-936f-46eb-ab2c-788d28d8a642",
   "metadata": {},
   "outputs": [
    {
     "name": "stdout",
     "output_type": "stream",
     "text": [
      "====\n",
      "Game  1\n",
      "The number of sticks is  21\n"
     ]
    },
    {
     "name": "stdin",
     "output_type": "stream",
     "text": [
      "How many sticks to take? 2\n"
     ]
    },
    {
     "name": "stdout",
     "output_type": "stream",
     "text": [
      "Player 1 moves 2\n",
      "The number of sticks is  19\n",
      "Player 2 moves 2\n",
      "The number of sticks is  17\n"
     ]
    },
    {
     "name": "stdin",
     "output_type": "stream",
     "text": [
      "How many sticks to take? 3\n"
     ]
    },
    {
     "name": "stdout",
     "output_type": "stream",
     "text": [
      "Player 1 moves 3\n",
      "The number of sticks is  14\n",
      "Player 2 moves 2\n",
      "The number of sticks is  12\n"
     ]
    },
    {
     "name": "stdin",
     "output_type": "stream",
     "text": [
      "How many sticks to take? 2\n"
     ]
    },
    {
     "name": "stdout",
     "output_type": "stream",
     "text": [
      "Player 1 moves 2\n",
      "The number of sticks is  10\n",
      "Player 2 moves 3\n",
      "The number of sticks is  7\n"
     ]
    },
    {
     "name": "stdin",
     "output_type": "stream",
     "text": [
      "How many sticks to take? 2\n"
     ]
    },
    {
     "name": "stdout",
     "output_type": "stream",
     "text": [
      "Player 1 moves 2\n",
      "The number of sticks is  5\n",
      "Player 2 moves 3\n",
      "The number of sticks is  2\n"
     ]
    },
    {
     "name": "stdin",
     "output_type": "stream",
     "text": [
      "How many sticks to take? 1\n"
     ]
    },
    {
     "name": "stdout",
     "output_type": "stream",
     "text": [
      "Player 1 moves 1\n",
      "The number of sticks is  1\n",
      "Player  1 won.\n"
     ]
    },
    {
     "data": {
      "text/plain": [
       "[1]"
      ]
     },
     "execution_count": 32,
     "metadata": {},
     "output_type": "execute_result"
    }
   ],
   "source": [
    "g=Game()\n",
    "g.run(human_agent,random_agent)"
   ]
  },
  {
   "cell_type": "code",
   "execution_count": null,
   "id": "7603dd34-aee9-4e19-ab3a-d56ee545f318",
   "metadata": {},
   "outputs": [],
   "source": []
  }
 ],
 "metadata": {
  "kernelspec": {
   "display_name": "Python 3 (ipykernel)",
   "language": "python",
   "name": "python3"
  },
  "language_info": {
   "codemirror_mode": {
    "name": "ipython",
    "version": 3
   },
   "file_extension": ".py",
   "mimetype": "text/x-python",
   "name": "python",
   "nbconvert_exporter": "python",
   "pygments_lexer": "ipython3",
   "version": "3.9.12"
  }
 },
 "nbformat": 4,
 "nbformat_minor": 5
}
