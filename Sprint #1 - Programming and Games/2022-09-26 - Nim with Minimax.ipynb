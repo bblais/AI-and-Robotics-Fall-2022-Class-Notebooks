{
 "cells": [
  {
   "cell_type": "code",
   "execution_count": 1,
   "id": "3e4286e7-01cc-4bd9-9d2c-6313b1a8fb8e",
   "metadata": {},
   "outputs": [
    {
     "name": "stdout",
     "output_type": "stream",
     "text": [
      "Version:  0.2.35\n"
     ]
    }
   ],
   "source": [
    "from Game import *"
   ]
  },
  {
   "cell_type": "code",
   "execution_count": 2,
   "id": "dce7d2f3-16f4-40a7-bf01-6d5d1d21c0be",
   "metadata": {},
   "outputs": [],
   "source": [
    "def initial_state():\n",
    "    return 21"
   ]
  },
  {
   "cell_type": "code",
   "execution_count": 3,
   "id": "77b0be7c-b77d-4da8-9735-2b5f48fe8c8b",
   "metadata": {},
   "outputs": [],
   "source": [
    "def valid_moves(state,player):\n",
    "    if state==1:\n",
    "        return [1]\n",
    "    elif state==2:\n",
    "        return [1,2]\n",
    "    else:\n",
    "        return [1,2,3]\n",
    "    "
   ]
  },
  {
   "cell_type": "code",
   "execution_count": 4,
   "id": "10903fd0-ec0c-487b-95c3-d9b11c8378f6",
   "metadata": {},
   "outputs": [],
   "source": [
    "def update_state(state,player,move):\n",
    "    \n",
    "    new_state=state-move\n",
    "    \n",
    "    return new_state"
   ]
  },
  {
   "cell_type": "code",
   "execution_count": 5,
   "id": "e558ada2-f559-4b83-895c-25b19cb5402a",
   "metadata": {},
   "outputs": [],
   "source": [
    "def show_state(state):\n",
    "    number_of_sticks=state\n",
    "    print(\"The number of sticks is \",number_of_sticks)"
   ]
  },
  {
   "cell_type": "code",
   "execution_count": 6,
   "id": "ed6b80b4-ffe7-4e40-ae9c-277448f6fe43",
   "metadata": {},
   "outputs": [],
   "source": [
    "def win_status(state,player):\n",
    "\n",
    "    # the state here is the state after the player made the move\n",
    "    \n",
    "    # returns  - 'win'  if the state is a winning state for the player, \n",
    "    #            'lose' if the state is a losing state for the player,\n",
    "    #            'stalemate' for a stalemate\n",
    "    #            None otherwise    \n",
    "    \n",
    "    \n",
    "    if state==1:\n",
    "        return \"win\"\n",
    "    \n",
    "    if state==0:\n",
    "        return \"lose\"\n",
    "    \n",
    "    "
   ]
  },
  {
   "cell_type": "code",
   "execution_count": 7,
   "id": "f6ddd4b8-a281-46db-a482-3fce9f58fed0",
   "metadata": {},
   "outputs": [],
   "source": [
    "def random_move(state,player):    \n",
    "    moves=valid_moves(state,player)\n",
    "    return random.choice(moves)\n",
    " \n",
    "random_agent=Agent(random_move)    "
   ]
  },
  {
   "cell_type": "code",
   "execution_count": 8,
   "id": "c3b6cd08-1aca-4b81-aa00-0463c61c9a43",
   "metadata": {},
   "outputs": [],
   "source": [
    "def human_move(state,player):    \n",
    "    move=int(input(\"How many sticks to take?\"))\n",
    "    return move\n",
    " \n",
    "human_agent=Agent(human_move)    "
   ]
  },
  {
   "cell_type": "code",
   "execution_count": 9,
   "id": "f23f69ee-0068-464f-85e3-c0570f3f3617",
   "metadata": {},
   "outputs": [],
   "source": [
    "from Game.minimax import *\n",
    "def minimax_move(state,player):\n",
    "    values,moves=minimax_values(state,player,display=True)\n",
    "    return top_choice(moves,values)\n",
    "    \n",
    "    \n",
    "    \n",
    "minimax_agent=Agent(minimax_move)"
   ]
  },
  {
   "cell_type": "code",
   "execution_count": 10,
   "id": "c12773a6-a0a5-43dc-b295-2af11e24265d",
   "metadata": {},
   "outputs": [
    {
     "name": "stdout",
     "output_type": "stream",
     "text": [
      "  Choice Time: 0.00014495849609375 seconds \n"
     ]
    },
    {
     "data": {
      "text/plain": [
       "([1, -1, -1], [1, 3, 2])"
      ]
     },
     "execution_count": 10,
     "metadata": {},
     "output_type": "execute_result"
    }
   ],
   "source": [
    "values,moves=minimax_values(6,1,display=True)\n",
    "values,moves"
   ]
  },
  {
   "cell_type": "code",
   "execution_count": 11,
   "id": "3a6bdfd3-a033-4091-b330-2329dffc8413",
   "metadata": {},
   "outputs": [
    {
     "name": "stdout",
     "output_type": "stream",
     "text": [
      "  Choice Time: 0.004038095474243164 seconds \n"
     ]
    },
    {
     "data": {
      "text/plain": [
       "([-1, -1, -1], [3, 2, 1])"
      ]
     },
     "execution_count": 11,
     "metadata": {},
     "output_type": "execute_result"
    }
   ],
   "source": [
    "values,moves=minimax_values(21,1,display=True)\n",
    "values,moves"
   ]
  },
  {
   "cell_type": "code",
   "execution_count": 16,
   "id": "06b57707-ae7a-4c2a-94f0-697196b30a33",
   "metadata": {},
   "outputs": [
    {
     "name": "stdout",
     "output_type": "stream",
     "text": [
      "  Choice Time: 4.061277151107788 seconds \n"
     ]
    },
    {
     "data": {
      "text/plain": [
       "([1, -1, -1], [3, 2, 1])"
      ]
     },
     "execution_count": 16,
     "metadata": {},
     "output_type": "execute_result"
    }
   ],
   "source": [
    "values,moves=minimax_values(1100,1,display=True)\n",
    "values,moves"
   ]
  },
  {
   "cell_type": "code",
   "execution_count": 17,
   "id": "9acc3d99-76c3-4d90-b279-17bd4f5e5db9",
   "metadata": {},
   "outputs": [
    {
     "ename": "RecursionError",
     "evalue": "maximum recursion depth exceeded while calling a Python object",
     "output_type": "error",
     "traceback": [
      "\u001b[0;31m---------------------------------------------------------------------------\u001b[0m",
      "\u001b[0;31mRecursionError\u001b[0m                            Traceback (most recent call last)",
      "Input \u001b[0;32mIn [17]\u001b[0m, in \u001b[0;36m<cell line: 1>\u001b[0;34m()\u001b[0m\n\u001b[0;32m----> 1\u001b[0m values,moves\u001b[38;5;241m=\u001b[39m\u001b[43mminimax_values\u001b[49m\u001b[43m(\u001b[49m\u001b[38;5;241;43m100000\u001b[39;49m\u001b[43m,\u001b[49m\u001b[38;5;241;43m1\u001b[39;49m\u001b[43m,\u001b[49m\u001b[43mdisplay\u001b[49m\u001b[38;5;241;43m=\u001b[39;49m\u001b[38;5;28;43;01mTrue\u001b[39;49;00m\u001b[43m)\u001b[49m\n\u001b[1;32m      2\u001b[0m values,moves\n",
      "File \u001b[0;32m~/opt/anaconda3/lib/python3.9/site-packages/Game/minimax.py:596\u001b[0m, in \u001b[0;36mminimax_values\u001b[0;34m(current_state, player, maxdepth, adjust_values_by_depth, display, verbose)\u001b[0m\n\u001b[1;32m    594\u001b[0m             value\u001b[38;5;241m=\u001b[39mmaxvalue_ab(state,player,maxdepth\u001b[38;5;241m=\u001b[39mmaxdepth)\n\u001b[1;32m    595\u001b[0m         \u001b[38;5;28;01melse\u001b[39;00m:\n\u001b[0;32m--> 596\u001b[0m             value\u001b[38;5;241m=\u001b[39m\u001b[43mminvalue_ab\u001b[49m\u001b[43m(\u001b[49m\u001b[43mstate\u001b[49m\u001b[43m,\u001b[49m\u001b[43mother_player\u001b[49m\u001b[43m,\u001b[49m\u001b[43mmaxdepth\u001b[49m\u001b[38;5;241;43m=\u001b[39;49m\u001b[43mmaxdepth\u001b[49m\u001b[43m,\u001b[49m\u001b[43mverbose\u001b[49m\u001b[38;5;241;43m=\u001b[39;49m\u001b[43mverbose\u001b[49m\u001b[43m)\u001b[49m\n\u001b[1;32m    597\u001b[0m         values\u001b[38;5;241m.\u001b[39mappend(value)\n\u001b[1;32m    599\u001b[0m \u001b[38;5;66;03m# sort by value\u001b[39;00m\n",
      "File \u001b[0;32m~/opt/anaconda3/lib/python3.9/site-packages/Game/minimax.py:191\u001b[0m, in \u001b[0;36mminvalue_ab\u001b[0;34m(current_state, player, depth, a, b, maxdepth, verbose)\u001b[0m\n\u001b[1;32m    189\u001b[0m     payoff\u001b[38;5;241m=\u001b[39mminvalue_ab(state,player,depth\u001b[38;5;241m+\u001b[39m\u001b[38;5;241m1\u001b[39m,a,b,maxdepth,verbose\u001b[38;5;241m=\u001b[39mverbose)\n\u001b[1;32m    190\u001b[0m \u001b[38;5;28;01melse\u001b[39;00m:\n\u001b[0;32m--> 191\u001b[0m     payoff\u001b[38;5;241m=\u001b[39m\u001b[43mmaxvalue_ab\u001b[49m\u001b[43m(\u001b[49m\u001b[43mstate\u001b[49m\u001b[43m,\u001b[49m\u001b[43mother_player\u001b[49m\u001b[43m,\u001b[49m\u001b[43mdepth\u001b[49m\u001b[38;5;241;43m+\u001b[39;49m\u001b[38;5;241;43m1\u001b[39;49m\u001b[43m,\u001b[49m\u001b[43ma\u001b[49m\u001b[43m,\u001b[49m\u001b[43mb\u001b[49m\u001b[43m,\u001b[49m\u001b[43mmaxdepth\u001b[49m\u001b[43m,\u001b[49m\u001b[43mverbose\u001b[49m\u001b[38;5;241;43m=\u001b[39;49m\u001b[43mverbose\u001b[49m\u001b[43m)\u001b[49m\n\u001b[1;32m    193\u001b[0m \u001b[38;5;28;01mif\u001b[39;00m payoff\u001b[38;5;241m<\u001b[39mvalue:\n\u001b[1;32m    194\u001b[0m     value\u001b[38;5;241m=\u001b[39mpayoff\n",
      "File \u001b[0;32m~/opt/anaconda3/lib/python3.9/site-packages/Game/minimax.py:259\u001b[0m, in \u001b[0;36mmaxvalue_ab\u001b[0;34m(current_state, player, depth, a, b, maxdepth, verbose)\u001b[0m\n\u001b[1;32m    257\u001b[0m     payoff\u001b[38;5;241m=\u001b[39mmaxvalue_ab(state,player,depth\u001b[38;5;241m+\u001b[39m\u001b[38;5;241m1\u001b[39m,a,b,maxdepth,verbose\u001b[38;5;241m=\u001b[39mverbose)\n\u001b[1;32m    258\u001b[0m \u001b[38;5;28;01melse\u001b[39;00m:\n\u001b[0;32m--> 259\u001b[0m     payoff\u001b[38;5;241m=\u001b[39m\u001b[43mminvalue_ab\u001b[49m\u001b[43m(\u001b[49m\u001b[43mstate\u001b[49m\u001b[43m,\u001b[49m\u001b[43mother_player\u001b[49m\u001b[43m,\u001b[49m\u001b[43mdepth\u001b[49m\u001b[38;5;241;43m+\u001b[39;49m\u001b[38;5;241;43m1\u001b[39;49m\u001b[43m,\u001b[49m\u001b[43ma\u001b[49m\u001b[43m,\u001b[49m\u001b[43mb\u001b[49m\u001b[43m,\u001b[49m\u001b[43mmaxdepth\u001b[49m\u001b[43m,\u001b[49m\u001b[43mverbose\u001b[49m\u001b[38;5;241;43m=\u001b[39;49m\u001b[43mverbose\u001b[49m\u001b[43m)\u001b[49m\n\u001b[1;32m    261\u001b[0m \u001b[38;5;28;01mif\u001b[39;00m payoff\u001b[38;5;241m>\u001b[39mvalue:\n\u001b[1;32m    262\u001b[0m     value\u001b[38;5;241m=\u001b[39mpayoff\n",
      "File \u001b[0;32m~/opt/anaconda3/lib/python3.9/site-packages/Game/minimax.py:191\u001b[0m, in \u001b[0;36mminvalue_ab\u001b[0;34m(current_state, player, depth, a, b, maxdepth, verbose)\u001b[0m\n\u001b[1;32m    189\u001b[0m     payoff\u001b[38;5;241m=\u001b[39mminvalue_ab(state,player,depth\u001b[38;5;241m+\u001b[39m\u001b[38;5;241m1\u001b[39m,a,b,maxdepth,verbose\u001b[38;5;241m=\u001b[39mverbose)\n\u001b[1;32m    190\u001b[0m \u001b[38;5;28;01melse\u001b[39;00m:\n\u001b[0;32m--> 191\u001b[0m     payoff\u001b[38;5;241m=\u001b[39m\u001b[43mmaxvalue_ab\u001b[49m\u001b[43m(\u001b[49m\u001b[43mstate\u001b[49m\u001b[43m,\u001b[49m\u001b[43mother_player\u001b[49m\u001b[43m,\u001b[49m\u001b[43mdepth\u001b[49m\u001b[38;5;241;43m+\u001b[39;49m\u001b[38;5;241;43m1\u001b[39;49m\u001b[43m,\u001b[49m\u001b[43ma\u001b[49m\u001b[43m,\u001b[49m\u001b[43mb\u001b[49m\u001b[43m,\u001b[49m\u001b[43mmaxdepth\u001b[49m\u001b[43m,\u001b[49m\u001b[43mverbose\u001b[49m\u001b[38;5;241;43m=\u001b[39;49m\u001b[43mverbose\u001b[49m\u001b[43m)\u001b[49m\n\u001b[1;32m    193\u001b[0m \u001b[38;5;28;01mif\u001b[39;00m payoff\u001b[38;5;241m<\u001b[39mvalue:\n\u001b[1;32m    194\u001b[0m     value\u001b[38;5;241m=\u001b[39mpayoff\n",
      "File \u001b[0;32m~/opt/anaconda3/lib/python3.9/site-packages/Game/minimax.py:259\u001b[0m, in \u001b[0;36mmaxvalue_ab\u001b[0;34m(current_state, player, depth, a, b, maxdepth, verbose)\u001b[0m\n\u001b[1;32m    257\u001b[0m     payoff\u001b[38;5;241m=\u001b[39mmaxvalue_ab(state,player,depth\u001b[38;5;241m+\u001b[39m\u001b[38;5;241m1\u001b[39m,a,b,maxdepth,verbose\u001b[38;5;241m=\u001b[39mverbose)\n\u001b[1;32m    258\u001b[0m \u001b[38;5;28;01melse\u001b[39;00m:\n\u001b[0;32m--> 259\u001b[0m     payoff\u001b[38;5;241m=\u001b[39m\u001b[43mminvalue_ab\u001b[49m\u001b[43m(\u001b[49m\u001b[43mstate\u001b[49m\u001b[43m,\u001b[49m\u001b[43mother_player\u001b[49m\u001b[43m,\u001b[49m\u001b[43mdepth\u001b[49m\u001b[38;5;241;43m+\u001b[39;49m\u001b[38;5;241;43m1\u001b[39;49m\u001b[43m,\u001b[49m\u001b[43ma\u001b[49m\u001b[43m,\u001b[49m\u001b[43mb\u001b[49m\u001b[43m,\u001b[49m\u001b[43mmaxdepth\u001b[49m\u001b[43m,\u001b[49m\u001b[43mverbose\u001b[49m\u001b[38;5;241;43m=\u001b[39;49m\u001b[43mverbose\u001b[49m\u001b[43m)\u001b[49m\n\u001b[1;32m    261\u001b[0m \u001b[38;5;28;01mif\u001b[39;00m payoff\u001b[38;5;241m>\u001b[39mvalue:\n\u001b[1;32m    262\u001b[0m     value\u001b[38;5;241m=\u001b[39mpayoff\n",
      "    \u001b[0;31m[... skipping similar frames: maxvalue_ab at line 259 (739 times), minvalue_ab at line 191 (739 times)]\u001b[0m\n",
      "File \u001b[0;32m~/opt/anaconda3/lib/python3.9/site-packages/Game/minimax.py:191\u001b[0m, in \u001b[0;36mminvalue_ab\u001b[0;34m(current_state, player, depth, a, b, maxdepth, verbose)\u001b[0m\n\u001b[1;32m    189\u001b[0m     payoff\u001b[38;5;241m=\u001b[39mminvalue_ab(state,player,depth\u001b[38;5;241m+\u001b[39m\u001b[38;5;241m1\u001b[39m,a,b,maxdepth,verbose\u001b[38;5;241m=\u001b[39mverbose)\n\u001b[1;32m    190\u001b[0m \u001b[38;5;28;01melse\u001b[39;00m:\n\u001b[0;32m--> 191\u001b[0m     payoff\u001b[38;5;241m=\u001b[39m\u001b[43mmaxvalue_ab\u001b[49m\u001b[43m(\u001b[49m\u001b[43mstate\u001b[49m\u001b[43m,\u001b[49m\u001b[43mother_player\u001b[49m\u001b[43m,\u001b[49m\u001b[43mdepth\u001b[49m\u001b[38;5;241;43m+\u001b[39;49m\u001b[38;5;241;43m1\u001b[39;49m\u001b[43m,\u001b[49m\u001b[43ma\u001b[49m\u001b[43m,\u001b[49m\u001b[43mb\u001b[49m\u001b[43m,\u001b[49m\u001b[43mmaxdepth\u001b[49m\u001b[43m,\u001b[49m\u001b[43mverbose\u001b[49m\u001b[38;5;241;43m=\u001b[39;49m\u001b[43mverbose\u001b[49m\u001b[43m)\u001b[49m\n\u001b[1;32m    193\u001b[0m \u001b[38;5;28;01mif\u001b[39;00m payoff\u001b[38;5;241m<\u001b[39mvalue:\n\u001b[1;32m    194\u001b[0m     value\u001b[38;5;241m=\u001b[39mpayoff\n",
      "File \u001b[0;32m~/opt/anaconda3/lib/python3.9/site-packages/Game/minimax.py:259\u001b[0m, in \u001b[0;36mmaxvalue_ab\u001b[0;34m(current_state, player, depth, a, b, maxdepth, verbose)\u001b[0m\n\u001b[1;32m    257\u001b[0m     payoff\u001b[38;5;241m=\u001b[39mmaxvalue_ab(state,player,depth\u001b[38;5;241m+\u001b[39m\u001b[38;5;241m1\u001b[39m,a,b,maxdepth,verbose\u001b[38;5;241m=\u001b[39mverbose)\n\u001b[1;32m    258\u001b[0m \u001b[38;5;28;01melse\u001b[39;00m:\n\u001b[0;32m--> 259\u001b[0m     payoff\u001b[38;5;241m=\u001b[39m\u001b[43mminvalue_ab\u001b[49m\u001b[43m(\u001b[49m\u001b[43mstate\u001b[49m\u001b[43m,\u001b[49m\u001b[43mother_player\u001b[49m\u001b[43m,\u001b[49m\u001b[43mdepth\u001b[49m\u001b[38;5;241;43m+\u001b[39;49m\u001b[38;5;241;43m1\u001b[39;49m\u001b[43m,\u001b[49m\u001b[43ma\u001b[49m\u001b[43m,\u001b[49m\u001b[43mb\u001b[49m\u001b[43m,\u001b[49m\u001b[43mmaxdepth\u001b[49m\u001b[43m,\u001b[49m\u001b[43mverbose\u001b[49m\u001b[38;5;241;43m=\u001b[39;49m\u001b[43mverbose\u001b[49m\u001b[43m)\u001b[49m\n\u001b[1;32m    261\u001b[0m \u001b[38;5;28;01mif\u001b[39;00m payoff\u001b[38;5;241m>\u001b[39mvalue:\n\u001b[1;32m    262\u001b[0m     value\u001b[38;5;241m=\u001b[39mpayoff\n",
      "File \u001b[0;32m~/opt/anaconda3/lib/python3.9/site-packages/Game/minimax.py:176\u001b[0m, in \u001b[0;36mminvalue_ab\u001b[0;34m(current_state, player, depth, a, b, maxdepth, verbose)\u001b[0m\n\u001b[1;32m    173\u001b[0m     \u001b[38;5;28;01mreturn\u001b[39;00m \u001b[38;5;241m0\u001b[39m\n\u001b[1;32m    175\u001b[0m moves\u001b[38;5;241m=\u001b[39mvalid_moves(current_state,player)\n\u001b[0;32m--> 176\u001b[0m available_states\u001b[38;5;241m=\u001b[39m[update_state(deepcopy(current_state),player,move)\n\u001b[1;32m    177\u001b[0m                             \u001b[38;5;28;01mfor\u001b[39;00m move \u001b[38;5;129;01min\u001b[39;00m moves]\n\u001b[1;32m    178\u001b[0m repeats\u001b[38;5;241m=\u001b[39m[repeat_move(deepcopy(current_state),player,move) \u001b[38;5;28;01mfor\u001b[39;00m move \u001b[38;5;129;01min\u001b[39;00m moves]\n\u001b[1;32m    180\u001b[0m \u001b[38;5;28;01mif\u001b[39;00m verbose:\n",
      "File \u001b[0;32m~/opt/anaconda3/lib/python3.9/site-packages/Game/minimax.py:176\u001b[0m, in \u001b[0;36m<listcomp>\u001b[0;34m(.0)\u001b[0m\n\u001b[1;32m    173\u001b[0m     \u001b[38;5;28;01mreturn\u001b[39;00m \u001b[38;5;241m0\u001b[39m\n\u001b[1;32m    175\u001b[0m moves\u001b[38;5;241m=\u001b[39mvalid_moves(current_state,player)\n\u001b[0;32m--> 176\u001b[0m available_states\u001b[38;5;241m=\u001b[39m[update_state(\u001b[43mdeepcopy\u001b[49m\u001b[43m(\u001b[49m\u001b[43mcurrent_state\u001b[49m\u001b[43m)\u001b[49m,player,move)\n\u001b[1;32m    177\u001b[0m                             \u001b[38;5;28;01mfor\u001b[39;00m move \u001b[38;5;129;01min\u001b[39;00m moves]\n\u001b[1;32m    178\u001b[0m repeats\u001b[38;5;241m=\u001b[39m[repeat_move(deepcopy(current_state),player,move) \u001b[38;5;28;01mfor\u001b[39;00m move \u001b[38;5;129;01min\u001b[39;00m moves]\n\u001b[1;32m    180\u001b[0m \u001b[38;5;28;01mif\u001b[39;00m verbose:\n",
      "File \u001b[0;32m~/opt/anaconda3/lib/python3.9/copy.py:137\u001b[0m, in \u001b[0;36mdeepcopy\u001b[0;34m(x, memo, _nil)\u001b[0m\n\u001b[1;32m    134\u001b[0m \u001b[38;5;28;01mif\u001b[39;00m memo \u001b[38;5;129;01mis\u001b[39;00m \u001b[38;5;28;01mNone\u001b[39;00m:\n\u001b[1;32m    135\u001b[0m     memo \u001b[38;5;241m=\u001b[39m {}\n\u001b[0;32m--> 137\u001b[0m d \u001b[38;5;241m=\u001b[39m \u001b[38;5;28;43mid\u001b[39;49m\u001b[43m(\u001b[49m\u001b[43mx\u001b[49m\u001b[43m)\u001b[49m\n\u001b[1;32m    138\u001b[0m y \u001b[38;5;241m=\u001b[39m memo\u001b[38;5;241m.\u001b[39mget(d, _nil)\n\u001b[1;32m    139\u001b[0m \u001b[38;5;28;01mif\u001b[39;00m y \u001b[38;5;129;01mis\u001b[39;00m \u001b[38;5;129;01mnot\u001b[39;00m _nil:\n",
      "\u001b[0;31mRecursionError\u001b[0m: maximum recursion depth exceeded while calling a Python object"
     ]
    }
   ],
   "source": [
    "values,moves=minimax_values(100000,1,display=True)  # need a heuristic function to deal with recursion\n",
    "values,moves"
   ]
  },
  {
   "cell_type": "code",
   "execution_count": 18,
   "id": "6cbffa40-936f-46eb-ab2c-788d28d8a642",
   "metadata": {},
   "outputs": [
    {
     "name": "stdout",
     "output_type": "stream",
     "text": [
      "====\n",
      "Game  1\n",
      "The number of sticks is  21\n"
     ]
    },
    {
     "name": "stdin",
     "output_type": "stream",
     "text": [
      "How many sticks to take? 1\n"
     ]
    },
    {
     "name": "stdout",
     "output_type": "stream",
     "text": [
      "Player 1 moves 1\n",
      "The number of sticks is  20\n",
      "  Choice Time: 0.003470897674560547 seconds \n",
      "Player 2 moves 3\n",
      "The number of sticks is  17\n"
     ]
    },
    {
     "name": "stdin",
     "output_type": "stream",
     "text": [
      "How many sticks to take? 2\n"
     ]
    },
    {
     "name": "stdout",
     "output_type": "stream",
     "text": [
      "Player 1 moves 2\n",
      "The number of sticks is  15\n",
      "  Choice Time: 0.0011239051818847656 seconds \n",
      "Player 2 moves 2\n",
      "The number of sticks is  13\n"
     ]
    },
    {
     "name": "stdin",
     "output_type": "stream",
     "text": [
      "How many sticks to take? 3\n"
     ]
    },
    {
     "name": "stdout",
     "output_type": "stream",
     "text": [
      "Player 1 moves 3\n",
      "The number of sticks is  10\n",
      "  Choice Time: 0.0005290508270263672 seconds \n",
      "Player 2 moves 1\n",
      "The number of sticks is  9\n"
     ]
    },
    {
     "name": "stdin",
     "output_type": "stream",
     "text": [
      "How many sticks to take? 2\n"
     ]
    },
    {
     "name": "stdout",
     "output_type": "stream",
     "text": [
      "Player 1 moves 2\n",
      "The number of sticks is  7\n",
      "  Choice Time: 0.00016498565673828125 seconds \n",
      "Player 2 moves 2\n",
      "The number of sticks is  5\n"
     ]
    },
    {
     "name": "stdin",
     "output_type": "stream",
     "text": [
      "How many sticks to take? 2\n"
     ]
    },
    {
     "name": "stdout",
     "output_type": "stream",
     "text": [
      "Player 1 moves 2\n",
      "The number of sticks is  3\n",
      "  Choice Time: 4.887580871582031e-05 seconds \n",
      "Player 2 moves 2\n",
      "The number of sticks is  1\n",
      "Player  2 won.\n"
     ]
    },
    {
     "data": {
      "text/plain": [
       "[2]"
      ]
     },
     "execution_count": 18,
     "metadata": {},
     "output_type": "execute_result"
    }
   ],
   "source": [
    "g=Game()\n",
    "g.run(human_agent,minimax_agent)"
   ]
  },
  {
   "cell_type": "code",
   "execution_count": null,
   "id": "7603dd34-aee9-4e19-ab3a-d56ee545f318",
   "metadata": {},
   "outputs": [],
   "source": []
  }
 ],
 "metadata": {
  "kernelspec": {
   "display_name": "Python 3 (ipykernel)",
   "language": "python",
   "name": "python3"
  },
  "language_info": {
   "codemirror_mode": {
    "name": "ipython",
    "version": 3
   },
   "file_extension": ".py",
   "mimetype": "text/x-python",
   "name": "python",
   "nbconvert_exporter": "python",
   "pygments_lexer": "ipython3",
   "version": "3.9.12"
  }
 },
 "nbformat": 4,
 "nbformat_minor": 5
}
