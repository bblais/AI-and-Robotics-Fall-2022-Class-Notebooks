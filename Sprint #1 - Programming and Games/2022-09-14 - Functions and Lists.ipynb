{
 "cells": [
  {
   "cell_type": "code",
   "execution_count": null,
   "id": "86f5d5ba-94b9-4991-8225-f470cda7c974",
   "metadata": {},
   "outputs": [],
   "source": []
  },
  {
   "cell_type": "code",
   "execution_count": 1,
   "id": "8ebca261-06a7-44e9-b78e-c4c202e29769",
   "metadata": {},
   "outputs": [],
   "source": [
    "def function_name(information_it_needs,more_information_it_needs):\n",
    "    # code block doing all the stuff\n",
    "    \n",
    "    return results"
   ]
  },
  {
   "cell_type": "code",
   "execution_count": 3,
   "id": "8ef465db-7a6a-4525-8d9b-2b45c1192741",
   "metadata": {},
   "outputs": [],
   "source": [
    "# function to calculate the length of the hypotenuse of a right triangle"
   ]
  },
  {
   "cell_type": "raw",
   "id": "94f95e9a-e901-4df0-b9e2-2d83f3830cc8",
   "metadata": {},
   "source": [
    "You need the two sides:  $a$ and $b$.\n",
    "\n",
    "do some math\n",
    "\n",
    "$$\n",
    "c=\\sqrt{a^2+b^2}\n",
    "$$"
   ]
  },
  {
   "cell_type": "markdown",
   "id": "1e59f275-941d-44a2-8470-cc81160fa113",
   "metadata": {},
   "source": [
    "You need the two sides:  $a$ and $b$.\n",
    "\n",
    "do some math\n",
    "\n",
    "$$\n",
    "c=\\sqrt{a^2+b^2}\n",
    "$$"
   ]
  },
  {
   "cell_type": "code",
   "execution_count": 6,
   "id": "915e042a-a3cd-4939-be21-93f4a1650c4d",
   "metadata": {},
   "outputs": [],
   "source": [
    "def hypotenuse(a,b):\n",
    "    from math import sqrt\n",
    "    \n",
    "    c=sqrt(a**2+b**2)\n",
    "    \n",
    "    return c"
   ]
  },
  {
   "cell_type": "code",
   "execution_count": 7,
   "id": "b76be3c6-a100-4ba8-b19a-53e492ffe5c9",
   "metadata": {},
   "outputs": [
    {
     "data": {
      "text/plain": [
       "9.433981132056603"
      ]
     },
     "execution_count": 7,
     "metadata": {},
     "output_type": "execute_result"
    }
   ],
   "source": [
    "hypotenuse(5,8)"
   ]
  },
  {
   "cell_type": "code",
   "execution_count": 8,
   "id": "0ff110ad-7ea4-4efc-a936-2fdd3a5e7317",
   "metadata": {},
   "outputs": [
    {
     "data": {
      "text/plain": [
       "14.433981132056603"
      ]
     },
     "execution_count": 8,
     "metadata": {},
     "output_type": "execute_result"
    }
   ],
   "source": [
    "bob=hypotenuse(5,8)\n",
    "sally=hypotenuse(3,4)\n",
    "bob+sally"
   ]
  },
  {
   "cell_type": "markdown",
   "id": "9681b5fc-128d-484d-8676-9d6e01b52fb9",
   "metadata": {},
   "source": [
    "# Data structure"
   ]
  },
  {
   "cell_type": "code",
   "execution_count": 9,
   "id": "f16c5caf-0e21-4079-8acb-482da540ff06",
   "metadata": {},
   "outputs": [
    {
     "data": {
      "text/plain": [
       "5"
      ]
     },
     "execution_count": 9,
     "metadata": {},
     "output_type": "execute_result"
    }
   ],
   "source": [
    "a=5\n",
    "a"
   ]
  },
  {
   "cell_type": "code",
   "execution_count": 10,
   "id": "9a5e840d-78df-4c79-b6df-67c816a69f25",
   "metadata": {},
   "outputs": [
    {
     "data": {
      "text/plain": [
       "int"
      ]
     },
     "execution_count": 10,
     "metadata": {},
     "output_type": "execute_result"
    }
   ],
   "source": [
    "type(a)"
   ]
  },
  {
   "cell_type": "code",
   "execution_count": 11,
   "id": "81ddb1db-3d89-4d27-8606-4b7ebb4fc694",
   "metadata": {},
   "outputs": [],
   "source": [
    "b=5.5"
   ]
  },
  {
   "cell_type": "code",
   "execution_count": 12,
   "id": "dfcf7fcc-712f-46ed-90eb-cf0d59d8b793",
   "metadata": {},
   "outputs": [
    {
     "data": {
      "text/plain": [
       "float"
      ]
     },
     "execution_count": 12,
     "metadata": {},
     "output_type": "execute_result"
    }
   ],
   "source": [
    "type(b)"
   ]
  },
  {
   "cell_type": "code",
   "execution_count": 13,
   "id": "89f21b07-d5cb-46e2-ba5e-926db9d27317",
   "metadata": {},
   "outputs": [],
   "source": [
    "c='hello'"
   ]
  },
  {
   "cell_type": "code",
   "execution_count": 15,
   "id": "1b3f8306-4108-41dd-9318-e4eeab71b276",
   "metadata": {},
   "outputs": [
    {
     "data": {
      "text/plain": [
       "str"
      ]
     },
     "execution_count": 15,
     "metadata": {},
     "output_type": "execute_result"
    }
   ],
   "source": [
    "type(c)"
   ]
  },
  {
   "cell_type": "code",
   "execution_count": 16,
   "id": "240afc5e-9c95-4a99-8117-76c891cffe66",
   "metadata": {},
   "outputs": [
    {
     "data": {
      "text/plain": [
       "'hellohellohellohellohello'"
      ]
     },
     "execution_count": 16,
     "metadata": {},
     "output_type": "execute_result"
    }
   ],
   "source": [
    "c*5"
   ]
  },
  {
   "cell_type": "code",
   "execution_count": 17,
   "id": "b6168ec3-a0a3-40e2-be3e-5a93af4521d7",
   "metadata": {},
   "outputs": [],
   "source": [
    "c=\"10\""
   ]
  },
  {
   "cell_type": "code",
   "execution_count": 18,
   "id": "3ca0f377-a178-4f0c-95d9-c4985f047b64",
   "metadata": {},
   "outputs": [
    {
     "data": {
      "text/plain": [
       "'1010101010'"
      ]
     },
     "execution_count": 18,
     "metadata": {},
     "output_type": "execute_result"
    }
   ],
   "source": [
    "c*5"
   ]
  },
  {
   "cell_type": "code",
   "execution_count": 20,
   "id": "cf456ec0-c0f5-4cf9-89bf-a263e0fe5154",
   "metadata": {},
   "outputs": [
    {
     "data": {
      "text/plain": [
       "[1, 4, 2, 'bob', 'chickens', 34.2]"
      ]
     },
     "execution_count": 20,
     "metadata": {},
     "output_type": "execute_result"
    }
   ],
   "source": [
    "d=[1,4,2,'bob','chickens',34.2]\n",
    "d"
   ]
  },
  {
   "cell_type": "code",
   "execution_count": 21,
   "id": "55c65f81-15e4-4f0d-89e0-4093f40dfed5",
   "metadata": {},
   "outputs": [
    {
     "data": {
      "text/plain": [
       "list"
      ]
     },
     "execution_count": 21,
     "metadata": {},
     "output_type": "execute_result"
    }
   ],
   "source": [
    "type(d)"
   ]
  },
  {
   "cell_type": "code",
   "execution_count": 22,
   "id": "932072e3-f9f4-472c-9d89-35cd5f023c22",
   "metadata": {},
   "outputs": [
    {
     "data": {
      "text/plain": [
       "1"
      ]
     },
     "execution_count": 22,
     "metadata": {},
     "output_type": "execute_result"
    }
   ],
   "source": [
    "d[0]"
   ]
  },
  {
   "cell_type": "code",
   "execution_count": 23,
   "id": "845551c0-733f-4965-a924-8e013653c39d",
   "metadata": {},
   "outputs": [
    {
     "data": {
      "text/plain": [
       "'bob'"
      ]
     },
     "execution_count": 23,
     "metadata": {},
     "output_type": "execute_result"
    }
   ],
   "source": [
    "d[3]"
   ]
  },
  {
   "cell_type": "code",
   "execution_count": null,
   "id": "b1f79c43-c803-4d94-9624-995bc812915f",
   "metadata": {},
   "outputs": [],
   "source": []
  }
 ],
 "metadata": {
  "kernelspec": {
   "display_name": "Python 3 (ipykernel)",
   "language": "python",
   "name": "python3"
  },
  "language_info": {
   "codemirror_mode": {
    "name": "ipython",
    "version": 3
   },
   "file_extension": ".py",
   "mimetype": "text/x-python",
   "name": "python",
   "nbconvert_exporter": "python",
   "pygments_lexer": "ipython3",
   "version": "3.9.12"
  }
 },
 "nbformat": 4,
 "nbformat_minor": 5
}
