{
 "cells": [
  {
   "cell_type": "code",
   "execution_count": 3,
   "id": "153e46ab-24c0-4eec-bea7-0fe737888c9c",
   "metadata": {},
   "outputs": [
    {
     "name": "stdout",
     "output_type": "stream",
     "text": [
      "Version:  0.2.35\n"
     ]
    }
   ],
   "source": [
    "from Game import *"
   ]
  },
  {
   "cell_type": "code",
   "execution_count": 4,
   "id": "d2f091e2-1609-4312-ab4a-9690850cfc76",
   "metadata": {},
   "outputs": [],
   "source": [
    "state=Board(3,3)"
   ]
  },
  {
   "cell_type": "code",
   "execution_count": 3,
   "id": "c35bc4fc-e827-4a9b-9a2e-cc9454bc9c32",
   "metadata": {},
   "outputs": [
    {
     "data": {
      "text/plain": [
       " 0  0  0 \n",
       " 0  0  0 \n",
       " 0  0  0 "
      ]
     },
     "execution_count": 3,
     "metadata": {},
     "output_type": "execute_result"
    }
   ],
   "source": [
    "state"
   ]
  },
  {
   "cell_type": "code",
   "execution_count": 4,
   "id": "8ab136fa-f4ef-4f46-b23d-6299eafe642a",
   "metadata": {},
   "outputs": [],
   "source": [
    "state[2]=3\n",
    "state[1]=4"
   ]
  },
  {
   "cell_type": "code",
   "execution_count": 5,
   "id": "af636d8f-a8e5-47d9-8c49-39e8a67059eb",
   "metadata": {},
   "outputs": [
    {
     "data": {
      "text/plain": [
       " 0  4  3 \n",
       " 0  0  0 \n",
       " 0  0  0 "
      ]
     },
     "execution_count": 5,
     "metadata": {},
     "output_type": "execute_result"
    }
   ],
   "source": [
    "state"
   ]
  },
  {
   "cell_type": "code",
   "execution_count": 6,
   "id": "de219e9c-9ffd-4fc7-a15d-0548f57e4a42",
   "metadata": {},
   "outputs": [
    {
     "data": {
      "text/plain": [
       "True"
      ]
     },
     "execution_count": 6,
     "metadata": {},
     "output_type": "execute_result"
    }
   ],
   "source": [
    "3 in state"
   ]
  },
  {
   "cell_type": "code",
   "execution_count": 7,
   "id": "4c9bbcc2-05a7-4bbc-a6d7-0e74ad82eca1",
   "metadata": {},
   "outputs": [
    {
     "data": {
      "text/plain": [
       "False"
      ]
     },
     "execution_count": 7,
     "metadata": {},
     "output_type": "execute_result"
    }
   ],
   "source": [
    "1 in state"
   ]
  },
  {
   "cell_type": "code",
   "execution_count": 5,
   "id": "46fbe287-a985-491a-a9bd-7f866b128c09",
   "metadata": {},
   "outputs": [],
   "source": [
    "def valid_moves(state,player):\n",
    "    moves=[]\n",
    "\n",
    "    if player==1:\n",
    "        for value in [1,3,5,7,9]:\n",
    "            if not value in state:\n",
    "                for location in range(9):\n",
    "                    if state[location]==0:\n",
    "                        moves.append( [value,location])    \n",
    "    if player==2:\n",
    "        for value in [2,4,6,8]:\n",
    "            if not value in state:\n",
    "                for location in range(9):\n",
    "                    if state[location]==0:\n",
    "                        moves.append( [value,location])    \n",
    "                        \n",
    "                        \n",
    "    return moves"
   ]
  },
  {
   "cell_type": "code",
   "execution_count": 9,
   "id": "4527733a-7e28-49c2-a897-f50f8213eddd",
   "metadata": {},
   "outputs": [
    {
     "name": "stdout",
     "output_type": "stream",
     "text": [
      " 0  4  3 \n",
      " 0  5  0 \n",
      " 0  0  2 \n",
      "\n"
     ]
    },
    {
     "data": {
      "text/plain": [
       "[[6, 0],\n",
       " [6, 3],\n",
       " [6, 5],\n",
       " [6, 6],\n",
       " [6, 7],\n",
       " [8, 0],\n",
       " [8, 3],\n",
       " [8, 5],\n",
       " [8, 6],\n",
       " [8, 7]]"
      ]
     },
     "execution_count": 9,
     "metadata": {},
     "output_type": "execute_result"
    }
   ],
   "source": [
    "state=Board(3,3)\n",
    "state[2]=3\n",
    "state[1]=4\n",
    "state[4]=5\n",
    "state[8]=2\n",
    "print(state)\n",
    "valid_moves(state,2)\n"
   ]
  },
  {
   "cell_type": "code",
   "execution_count": 10,
   "id": "a7aa9bb3-92b4-48a8-9c6a-10b90434aac4",
   "metadata": {},
   "outputs": [],
   "source": [
    "move=[6,5]"
   ]
  },
  {
   "cell_type": "code",
   "execution_count": 11,
   "id": "456f4963-5e7e-4789-8a02-7d8200eec7bf",
   "metadata": {},
   "outputs": [],
   "source": [
    "value,location=move"
   ]
  },
  {
   "cell_type": "code",
   "execution_count": 12,
   "id": "ea04b0bd-78fe-462b-935c-54dc4e7cc8e1",
   "metadata": {},
   "outputs": [
    {
     "data": {
      "text/plain": [
       "6"
      ]
     },
     "execution_count": 12,
     "metadata": {},
     "output_type": "execute_result"
    }
   ],
   "source": [
    "value"
   ]
  },
  {
   "cell_type": "code",
   "execution_count": 13,
   "id": "a10df336-1935-46a8-9772-0768fb04c82b",
   "metadata": {},
   "outputs": [
    {
     "data": {
      "text/plain": [
       "5"
      ]
     },
     "execution_count": 13,
     "metadata": {},
     "output_type": "execute_result"
    }
   ],
   "source": [
    "location"
   ]
  },
  {
   "cell_type": "code",
   "execution_count": 17,
   "id": "ac370cb1-0b39-47be-8980-0fd2ae526243",
   "metadata": {},
   "outputs": [],
   "source": [
    "state[8]=6"
   ]
  },
  {
   "cell_type": "code",
   "execution_count": 18,
   "id": "09169cbb-0b2f-4661-ad28-0c2d3de3d353",
   "metadata": {},
   "outputs": [
    {
     "data": {
      "text/plain": [
       " 0  4  3 \n",
       " 0  5  0 \n",
       " 0  0  6 "
      ]
     },
     "execution_count": 18,
     "metadata": {},
     "output_type": "execute_result"
    }
   ],
   "source": [
    "state"
   ]
  },
  {
   "cell_type": "code",
   "execution_count": null,
   "id": "daf367c9-55dd-4ec7-bd37-a9547dd8e5f2",
   "metadata": {},
   "outputs": [],
   "source": [
    "def update_state(state,player,move):\n",
    "    value,location=move\n",
    "    new_state=state\n",
    "\n",
    "    new_state[location]=value\n",
    "    return new_state"
   ]
  },
  {
   "cell_type": "code",
   "execution_count": 10,
   "id": "ca306786-8af7-4758-8859-f80bcd46e7d2",
   "metadata": {},
   "outputs": [],
   "source": [
    "player=1\n",
    "moves=[]\n",
    "\n",
    "if player==1:\n",
    "    for value in [1,3,5,7,9]:\n",
    "        if not value in state:\n",
    "            for location in range(9):\n",
    "                if state[location]==0:\n",
    "                    moves.append( [value,location])"
   ]
  },
  {
   "cell_type": "code",
   "execution_count": 11,
   "id": "7c423b1e-75e3-4e17-9fbd-27c65b589bfa",
   "metadata": {},
   "outputs": [
    {
     "data": {
      "text/plain": [
       "[[1, 0],\n",
       " [1, 3],\n",
       " [1, 4],\n",
       " [1, 5],\n",
       " [1, 6],\n",
       " [1, 7],\n",
       " [1, 8],\n",
       " [5, 0],\n",
       " [5, 3],\n",
       " [5, 4],\n",
       " [5, 5],\n",
       " [5, 6],\n",
       " [5, 7],\n",
       " [5, 8],\n",
       " [7, 0],\n",
       " [7, 3],\n",
       " [7, 4],\n",
       " [7, 5],\n",
       " [7, 6],\n",
       " [7, 7],\n",
       " [7, 8],\n",
       " [9, 0],\n",
       " [9, 3],\n",
       " [9, 4],\n",
       " [9, 5],\n",
       " [9, 6],\n",
       " [9, 7],\n",
       " [9, 8]]"
      ]
     },
     "execution_count": 11,
     "metadata": {},
     "output_type": "execute_result"
    }
   ],
   "source": [
    "moves"
   ]
  },
  {
   "cell_type": "code",
   "execution_count": 12,
   "id": "45e46d03-76f2-46c0-8aa8-05fdb2ef991e",
   "metadata": {},
   "outputs": [
    {
     "name": "stdin",
     "output_type": "stream",
     "text": [
      "What value will you play? 4\n",
      "What location to play? 2\n"
     ]
    }
   ],
   "source": [
    "value=int(input(\"What value will you play?\"))\n",
    "location=int(input(\"What location to play?\"))\n",
    "move=[value,location]"
   ]
  },
  {
   "cell_type": "code",
   "execution_count": 13,
   "id": "499bb7ad-bc5f-491f-8df4-0a8dcd53bbcc",
   "metadata": {},
   "outputs": [
    {
     "data": {
      "text/plain": [
       "[4, 2]"
      ]
     },
     "execution_count": 13,
     "metadata": {},
     "output_type": "execute_result"
    }
   ],
   "source": [
    "move"
   ]
  },
  {
   "cell_type": "code",
   "execution_count": 15,
   "id": "8ced34bc-0f0d-4d7e-b022-a33bae74e86e",
   "metadata": {},
   "outputs": [
    {
     "data": {
      "text/plain": [
       " 1  1  1 \n",
       " 0  0  0 \n",
       " 2  2  2 "
      ]
     },
     "execution_count": 15,
     "metadata": {},
     "output_type": "execute_result"
    }
   ],
   "source": [
    "state=Board(3,3)\n",
    "for loc in [0,1,2]:\n",
    "    state[loc]=1\n",
    "for loc in [6,7,8]:\n",
    "    state[loc]=2\n",
    "    \n",
    "state"
   ]
  },
  {
   "cell_type": "code",
   "execution_count": 16,
   "id": "ad5d7790-ebf6-4ab0-8d2d-758487790394",
   "metadata": {},
   "outputs": [
    {
     "name": "stdout",
     "output_type": "stream",
     "text": [
      " 0  1  2 \n",
      " 3  4  5 \n",
      " 6  7  8 \n",
      "\n"
     ]
    }
   ],
   "source": [
    "state.show_locations()"
   ]
  },
  {
   "cell_type": "code",
   "execution_count": 23,
   "id": "4de7f4cc-8287-4203-b697-d00a595af9ee",
   "metadata": {},
   "outputs": [],
   "source": [
    "def valid_moves(state,player):\n",
    "    \n",
    "    moves=[]\n",
    "    if player==1:\n",
    "        \n",
    "        for start in [0,1,2,3,4,5]:\n",
    "            if state[start]==1 and state[start+3]==0:\n",
    "                moves.append( [start,start+3] )\n",
    "            \n",
    "#         if state[1]==1 and state[4]==0:\n",
    "#             moves.append( [1,4] )       \n",
    "            \n",
    "#         if state[2]==1 and state[5]==0:\n",
    "#             moves.append( [2,5] )       \n",
    "            \n",
    "            \n",
    "    return moves"
   ]
  },
  {
   "cell_type": "code",
   "execution_count": 22,
   "id": "63c50c72-b6d7-412f-ba16-102ed0aeaee1",
   "metadata": {},
   "outputs": [
    {
     "data": {
      "text/plain": [
       "[[0, 3], [1, 4], [2, 5]]"
      ]
     },
     "execution_count": 22,
     "metadata": {},
     "output_type": "execute_result"
    }
   ],
   "source": [
    "valid_moves(state,1)"
   ]
  },
  {
   "cell_type": "code",
   "execution_count": null,
   "id": "58006cff-5123-4840-82d7-9a6c36dd1865",
   "metadata": {},
   "outputs": [],
   "source": [
    "def win_status(state,player):\n",
    "    \n",
    "    if (state[0] + state[1])==10:\n",
    "        return \"win\"\n",
    "    \n",
    "    if (state[2] + state[5])==10:\n",
    "        return \"win\"\n",
    "    \n",
    "    \n",
    "    "
   ]
  }
 ],
 "metadata": {
  "kernelspec": {
   "display_name": "Python 3 (ipykernel)",
   "language": "python",
   "name": "python3"
  },
  "language_info": {
   "codemirror_mode": {
    "name": "ipython",
    "version": 3
   },
   "file_extension": ".py",
   "mimetype": "text/x-python",
   "name": "python",
   "nbconvert_exporter": "python",
   "pygments_lexer": "ipython3",
   "version": "3.9.12"
  }
 },
 "nbformat": 4,
 "nbformat_minor": 5
}
