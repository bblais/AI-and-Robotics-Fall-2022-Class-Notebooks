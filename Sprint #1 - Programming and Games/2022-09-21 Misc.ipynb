{
 "cells": [
  {
   "cell_type": "code",
   "execution_count": 1,
   "id": "153e46ab-24c0-4eec-bea7-0fe737888c9c",
   "metadata": {},
   "outputs": [
    {
     "name": "stdout",
     "output_type": "stream",
     "text": [
      "Version:  0.2.35\n"
     ]
    }
   ],
   "source": [
    "from Game import *"
   ]
  },
  {
   "cell_type": "code",
   "execution_count": 2,
   "id": "d2f091e2-1609-4312-ab4a-9690850cfc76",
   "metadata": {},
   "outputs": [],
   "source": [
    "state=Board(3,3)"
   ]
  },
  {
   "cell_type": "code",
   "execution_count": 3,
   "id": "c35bc4fc-e827-4a9b-9a2e-cc9454bc9c32",
   "metadata": {},
   "outputs": [
    {
     "data": {
      "text/plain": [
       " 0  0  0 \n",
       " 0  0  0 \n",
       " 0  0  0 "
      ]
     },
     "execution_count": 3,
     "metadata": {},
     "output_type": "execute_result"
    }
   ],
   "source": [
    "state"
   ]
  },
  {
   "cell_type": "code",
   "execution_count": 4,
   "id": "8ab136fa-f4ef-4f46-b23d-6299eafe642a",
   "metadata": {},
   "outputs": [],
   "source": [
    "state[2]=3\n",
    "state[1]=4"
   ]
  },
  {
   "cell_type": "code",
   "execution_count": 5,
   "id": "af636d8f-a8e5-47d9-8c49-39e8a67059eb",
   "metadata": {},
   "outputs": [
    {
     "data": {
      "text/plain": [
       " 0  4  3 \n",
       " 0  0  0 \n",
       " 0  0  0 "
      ]
     },
     "execution_count": 5,
     "metadata": {},
     "output_type": "execute_result"
    }
   ],
   "source": [
    "state"
   ]
  },
  {
   "cell_type": "code",
   "execution_count": 6,
   "id": "de219e9c-9ffd-4fc7-a15d-0548f57e4a42",
   "metadata": {},
   "outputs": [
    {
     "data": {
      "text/plain": [
       "True"
      ]
     },
     "execution_count": 6,
     "metadata": {},
     "output_type": "execute_result"
    }
   ],
   "source": [
    "3 in state"
   ]
  },
  {
   "cell_type": "code",
   "execution_count": 7,
   "id": "4c9bbcc2-05a7-4bbc-a6d7-0e74ad82eca1",
   "metadata": {},
   "outputs": [
    {
     "data": {
      "text/plain": [
       "False"
      ]
     },
     "execution_count": 7,
     "metadata": {},
     "output_type": "execute_result"
    }
   ],
   "source": [
    "1 in state"
   ]
  },
  {
   "cell_type": "code",
   "execution_count": 10,
   "id": "ca306786-8af7-4758-8859-f80bcd46e7d2",
   "metadata": {},
   "outputs": [],
   "source": [
    "player=1\n",
    "moves=[]\n",
    "\n",
    "if player==1:\n",
    "    for value in [1,3,5,7,9]:\n",
    "        if not value in state:\n",
    "            for location in range(9):\n",
    "                if state[location]==0:\n",
    "                    moves.append( [value,location])"
   ]
  },
  {
   "cell_type": "code",
   "execution_count": 11,
   "id": "7c423b1e-75e3-4e17-9fbd-27c65b589bfa",
   "metadata": {},
   "outputs": [
    {
     "data": {
      "text/plain": [
       "[[1, 0],\n",
       " [1, 3],\n",
       " [1, 4],\n",
       " [1, 5],\n",
       " [1, 6],\n",
       " [1, 7],\n",
       " [1, 8],\n",
       " [5, 0],\n",
       " [5, 3],\n",
       " [5, 4],\n",
       " [5, 5],\n",
       " [5, 6],\n",
       " [5, 7],\n",
       " [5, 8],\n",
       " [7, 0],\n",
       " [7, 3],\n",
       " [7, 4],\n",
       " [7, 5],\n",
       " [7, 6],\n",
       " [7, 7],\n",
       " [7, 8],\n",
       " [9, 0],\n",
       " [9, 3],\n",
       " [9, 4],\n",
       " [9, 5],\n",
       " [9, 6],\n",
       " [9, 7],\n",
       " [9, 8]]"
      ]
     },
     "execution_count": 11,
     "metadata": {},
     "output_type": "execute_result"
    }
   ],
   "source": [
    "moves"
   ]
  },
  {
   "cell_type": "code",
   "execution_count": 12,
   "id": "45e46d03-76f2-46c0-8aa8-05fdb2ef991e",
   "metadata": {},
   "outputs": [
    {
     "name": "stdin",
     "output_type": "stream",
     "text": [
      "What value will you play? 4\n",
      "What location to play? 2\n"
     ]
    }
   ],
   "source": [
    "value=int(input(\"What value will you play?\"))\n",
    "location=int(input(\"What location to play?\"))\n",
    "move=[value,location]"
   ]
  },
  {
   "cell_type": "code",
   "execution_count": 13,
   "id": "499bb7ad-bc5f-491f-8df4-0a8dcd53bbcc",
   "metadata": {},
   "outputs": [
    {
     "data": {
      "text/plain": [
       "[4, 2]"
      ]
     },
     "execution_count": 13,
     "metadata": {},
     "output_type": "execute_result"
    }
   ],
   "source": [
    "move"
   ]
  },
  {
   "cell_type": "code",
   "execution_count": 15,
   "id": "8ced34bc-0f0d-4d7e-b022-a33bae74e86e",
   "metadata": {},
   "outputs": [
    {
     "data": {
      "text/plain": [
       " 1  1  1 \n",
       " 0  0  0 \n",
       " 2  2  2 "
      ]
     },
     "execution_count": 15,
     "metadata": {},
     "output_type": "execute_result"
    }
   ],
   "source": [
    "state=Board(3,3)\n",
    "for loc in [0,1,2]:\n",
    "    state[loc]=1\n",
    "for loc in [6,7,8]:\n",
    "    state[loc]=2\n",
    "    \n",
    "state"
   ]
  },
  {
   "cell_type": "code",
   "execution_count": 16,
   "id": "ad5d7790-ebf6-4ab0-8d2d-758487790394",
   "metadata": {},
   "outputs": [
    {
     "name": "stdout",
     "output_type": "stream",
     "text": [
      " 0  1  2 \n",
      " 3  4  5 \n",
      " 6  7  8 \n",
      "\n"
     ]
    }
   ],
   "source": [
    "state.show_locations()"
   ]
  },
  {
   "cell_type": "code",
   "execution_count": 23,
   "id": "4de7f4cc-8287-4203-b697-d00a595af9ee",
   "metadata": {},
   "outputs": [],
   "source": [
    "def valid_moves(state,player):\n",
    "    \n",
    "    moves=[]\n",
    "    if player==1:\n",
    "        \n",
    "        for start in [0,1,2,3,4,5]:\n",
    "            if state[start]==1 and state[start+3]==0:\n",
    "                moves.append( [start,start+3] )\n",
    "            \n",
    "#         if state[1]==1 and state[4]==0:\n",
    "#             moves.append( [1,4] )       \n",
    "            \n",
    "#         if state[2]==1 and state[5]==0:\n",
    "#             moves.append( [2,5] )       \n",
    "            \n",
    "            \n",
    "    return moves"
   ]
  },
  {
   "cell_type": "code",
   "execution_count": 22,
   "id": "63c50c72-b6d7-412f-ba16-102ed0aeaee1",
   "metadata": {},
   "outputs": [
    {
     "data": {
      "text/plain": [
       "[[0, 3], [1, 4], [2, 5]]"
      ]
     },
     "execution_count": 22,
     "metadata": {},
     "output_type": "execute_result"
    }
   ],
   "source": [
    "valid_moves(state,1)"
   ]
  },
  {
   "cell_type": "code",
   "execution_count": null,
   "id": "58006cff-5123-4840-82d7-9a6c36dd1865",
   "metadata": {},
   "outputs": [],
   "source": []
  }
 ],
 "metadata": {
  "kernelspec": {
   "display_name": "Python 3 (ipykernel)",
   "language": "python",
   "name": "python3"
  },
  "language_info": {
   "codemirror_mode": {
    "name": "ipython",
    "version": 3
   },
   "file_extension": ".py",
   "mimetype": "text/x-python",
   "name": "python",
   "nbconvert_exporter": "python",
   "pygments_lexer": "ipython3",
   "version": "3.9.12"
  }
 },
 "nbformat": 4,
 "nbformat_minor": 5
}
