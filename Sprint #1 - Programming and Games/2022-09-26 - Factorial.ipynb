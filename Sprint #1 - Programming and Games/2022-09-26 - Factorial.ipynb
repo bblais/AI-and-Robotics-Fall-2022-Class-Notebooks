{
 "cells": [
  {
   "cell_type": "code",
   "execution_count": 3,
   "id": "bfd2894c-6a6f-48ea-b299-dd35e7fa6691",
   "metadata": {},
   "outputs": [],
   "source": [
    "def factorial(N):\n",
    "    \n",
    "    value=N*factorial(N-1)\n",
    "    \n",
    "    return value"
   ]
  },
  {
   "cell_type": "markdown",
   "id": "88552222-39d7-4542-be37-0f0bd3109163",
   "metadata": {},
   "source": [
    "Recursive definition of factorial\n",
    "$$\n",
    "N! = N \\cdot (N-1)!\n",
    "$$\n",
    "\n",
    "$$\n",
    "0! = 1\n",
    "$$\n",
    "\n",
    "Need a stop condition or you get an infinite loop."
   ]
  },
  {
   "cell_type": "code",
   "execution_count": 4,
   "id": "62494a4e-ea1f-47a6-9bb9-2f6f6ec1c1be",
   "metadata": {},
   "outputs": [
    {
     "ename": "RecursionError",
     "evalue": "maximum recursion depth exceeded",
     "output_type": "error",
     "traceback": [
      "\u001b[0;31m---------------------------------------------------------------------------\u001b[0m",
      "\u001b[0;31mRecursionError\u001b[0m                            Traceback (most recent call last)",
      "Input \u001b[0;32mIn [4]\u001b[0m, in \u001b[0;36m<cell line: 1>\u001b[0;34m()\u001b[0m\n\u001b[0;32m----> 1\u001b[0m \u001b[43mfactorial\u001b[49m\u001b[43m(\u001b[49m\u001b[38;5;241;43m5\u001b[39;49m\u001b[43m)\u001b[49m\n",
      "Input \u001b[0;32mIn [3]\u001b[0m, in \u001b[0;36mfactorial\u001b[0;34m(N)\u001b[0m\n\u001b[1;32m      1\u001b[0m \u001b[38;5;28;01mdef\u001b[39;00m \u001b[38;5;21mfactorial\u001b[39m(N):\n\u001b[0;32m----> 3\u001b[0m     value\u001b[38;5;241m=\u001b[39mN\u001b[38;5;241m*\u001b[39m\u001b[43mfactorial\u001b[49m\u001b[43m(\u001b[49m\u001b[43mN\u001b[49m\u001b[38;5;241;43m-\u001b[39;49m\u001b[38;5;241;43m1\u001b[39;49m\u001b[43m)\u001b[49m\n\u001b[1;32m      5\u001b[0m     \u001b[38;5;28;01mreturn\u001b[39;00m value\n",
      "Input \u001b[0;32mIn [3]\u001b[0m, in \u001b[0;36mfactorial\u001b[0;34m(N)\u001b[0m\n\u001b[1;32m      1\u001b[0m \u001b[38;5;28;01mdef\u001b[39;00m \u001b[38;5;21mfactorial\u001b[39m(N):\n\u001b[0;32m----> 3\u001b[0m     value\u001b[38;5;241m=\u001b[39mN\u001b[38;5;241m*\u001b[39m\u001b[43mfactorial\u001b[49m\u001b[43m(\u001b[49m\u001b[43mN\u001b[49m\u001b[38;5;241;43m-\u001b[39;49m\u001b[38;5;241;43m1\u001b[39;49m\u001b[43m)\u001b[49m\n\u001b[1;32m      5\u001b[0m     \u001b[38;5;28;01mreturn\u001b[39;00m value\n",
      "    \u001b[0;31m[... skipping similar frames: factorial at line 3 (2970 times)]\u001b[0m\n",
      "Input \u001b[0;32mIn [3]\u001b[0m, in \u001b[0;36mfactorial\u001b[0;34m(N)\u001b[0m\n\u001b[1;32m      1\u001b[0m \u001b[38;5;28;01mdef\u001b[39;00m \u001b[38;5;21mfactorial\u001b[39m(N):\n\u001b[0;32m----> 3\u001b[0m     value\u001b[38;5;241m=\u001b[39mN\u001b[38;5;241m*\u001b[39m\u001b[43mfactorial\u001b[49m\u001b[43m(\u001b[49m\u001b[43mN\u001b[49m\u001b[38;5;241;43m-\u001b[39;49m\u001b[38;5;241;43m1\u001b[39;49m\u001b[43m)\u001b[49m\n\u001b[1;32m      5\u001b[0m     \u001b[38;5;28;01mreturn\u001b[39;00m value\n",
      "\u001b[0;31mRecursionError\u001b[0m: maximum recursion depth exceeded"
     ]
    }
   ],
   "source": [
    "factorial(5)"
   ]
  },
  {
   "cell_type": "code",
   "execution_count": 7,
   "id": "b729de36-2bb7-4730-a8f0-dcbc492afcef",
   "metadata": {},
   "outputs": [],
   "source": [
    "def factorial_fixed(N):\n",
    "    \n",
    "    if N==0:\n",
    "        value=1\n",
    "    else:\n",
    "        value=N*factorial_fixed(N-1)\n",
    "        \n",
    "    return value"
   ]
  },
  {
   "cell_type": "code",
   "execution_count": 8,
   "id": "edf63e05-8317-48a7-9f2c-391943483bc4",
   "metadata": {},
   "outputs": [
    {
     "data": {
      "text/plain": [
       "120"
      ]
     },
     "execution_count": 8,
     "metadata": {},
     "output_type": "execute_result"
    }
   ],
   "source": [
    "factorial_fixed(5)"
   ]
  },
  {
   "cell_type": "code",
   "execution_count": null,
   "id": "ad959035-2c86-4fea-929b-4313c28c69e9",
   "metadata": {},
   "outputs": [],
   "source": []
  }
 ],
 "metadata": {
  "kernelspec": {
   "display_name": "Python 3 (ipykernel)",
   "language": "python",
   "name": "python3"
  },
  "language_info": {
   "codemirror_mode": {
    "name": "ipython",
    "version": 3
   },
   "file_extension": ".py",
   "mimetype": "text/x-python",
   "name": "python",
   "nbconvert_exporter": "python",
   "pygments_lexer": "ipython3",
   "version": "3.9.12"
  }
 },
 "nbformat": 4,
 "nbformat_minor": 5
}
