{
 "cells": [
  {
   "cell_type": "markdown",
   "metadata": {},
   "source": [
    "## Sprint #1"
   ]
  },
  {
   "cell_type": "code",
   "execution_count": 2,
   "metadata": {},
   "outputs": [
    {
     "name": "stdout",
     "output_type": "stream",
     "text": [
      "Collecting git+https://github.com/bblais/Game\n",
      "  Cloning https://github.com/bblais/Game to /Users/bblais/tmp/pip-req-build-36ss_pzx\n",
      "  Running command git clone -q https://github.com/bblais/Game /Users/bblais/tmp/pip-req-build-36ss_pzx\n",
      "Building wheels for collected packages: Game\n",
      "  Building wheel for Game (setup.py) ... \u001b[?25ldone\n",
      "\u001b[?25h  Created wheel for Game: filename=Game-0.2.34-py3-none-any.whl size=16166 sha256=5aab95e4b51a7c80e551034975160c87013fa433bfcd24eb573c60fadfd3dd2e\n",
      "  Stored in directory: /Users/bblais/tmp/pip-ephem-wheel-cache-g0kztpj0/wheels/65/1c/09/d63fe3d05fe485b45d7195ff09f1fd8c6f439aad8268eecf33\n",
      "Successfully built Game\n",
      "Installing collected packages: Game\n",
      "  Attempting uninstall: Game\n",
      "    Found existing installation: Game 0.2.32\n",
      "    Uninstalling Game-0.2.32:\n",
      "      Successfully uninstalled Game-0.2.32\n",
      "Successfully installed Game-0.2.34\n"
     ]
    }
   ],
   "source": [
    "!pip install \"git+https://github.com/bblais/Game\" --upgrade"
   ]
  },
  {
   "cell_type": "code",
   "execution_count": 2,
   "metadata": {},
   "outputs": [
    {
     "name": "stdout",
     "output_type": "stream",
     "text": [
      "Version:  0.2.27\n"
     ]
    }
   ],
   "source": [
    "import Game"
   ]
  },
  {
   "cell_type": "markdown",
   "metadata": {},
   "source": [
    "## Sprint #2"
   ]
  },
  {
   "cell_type": "code",
   "execution_count": 4,
   "metadata": {},
   "outputs": [
    {
     "name": "stdout",
     "output_type": "stream",
     "text": [
      "Requirement already satisfied: box2d in /Users/bblais/opt/anaconda3/envs/py3/lib/python3.7/site-packages (2.3.10)\n"
     ]
    }
   ],
   "source": [
    "!pip install box2d"
   ]
  },
  {
   "cell_type": "code",
   "execution_count": 5,
   "metadata": {},
   "outputs": [
    {
     "name": "stdout",
     "output_type": "stream",
     "text": [
      "Collecting git+git://github.com/bblais/RobotSim373\n",
      "  Cloning git://github.com/bblais/RobotSim373 to /Users/bblais/tmp/pip-req-build-2ukl2h6n\n",
      "Requirement already satisfied, skipping upgrade: box2d in /Users/bblais/opt/anaconda3/envs/py3/lib/python3.7/site-packages (from RobotSim373==0.0.17) (2.3.10)\n",
      "Requirement already satisfied, skipping upgrade: matplotlib in /Users/bblais/opt/anaconda3/envs/py3/lib/python3.7/site-packages (from RobotSim373==0.0.17) (3.3.1)\n",
      "Requirement already satisfied, skipping upgrade: pyglet in /Users/bblais/opt/anaconda3/envs/py3/lib/python3.7/site-packages (from RobotSim373==0.0.17) (1.5.7)\n",
      "Requirement already satisfied, skipping upgrade: numpy>=1.15 in /Users/bblais/opt/anaconda3/envs/py3/lib/python3.7/site-packages (from matplotlib->RobotSim373==0.0.17) (1.19.1)\n",
      "Requirement already satisfied, skipping upgrade: cycler>=0.10 in /Users/bblais/opt/anaconda3/envs/py3/lib/python3.7/site-packages (from matplotlib->RobotSim373==0.0.17) (0.10.0)\n",
      "Requirement already satisfied, skipping upgrade: python-dateutil>=2.1 in /Users/bblais/opt/anaconda3/envs/py3/lib/python3.7/site-packages (from matplotlib->RobotSim373==0.0.17) (2.8.1)\n",
      "Requirement already satisfied, skipping upgrade: pyparsing!=2.0.4,!=2.1.2,!=2.1.6,>=2.0.3 in /Users/bblais/opt/anaconda3/envs/py3/lib/python3.7/site-packages (from matplotlib->RobotSim373==0.0.17) (2.4.7)\n",
      "Requirement already satisfied, skipping upgrade: pillow>=6.2.0 in /Users/bblais/opt/anaconda3/envs/py3/lib/python3.7/site-packages (from matplotlib->RobotSim373==0.0.17) (7.2.0)\n",
      "Requirement already satisfied, skipping upgrade: certifi>=2020.06.20 in /Users/bblais/opt/anaconda3/envs/py3/lib/python3.7/site-packages (from matplotlib->RobotSim373==0.0.17) (2020.6.20)\n",
      "Requirement already satisfied, skipping upgrade: kiwisolver>=1.0.1 in /Users/bblais/opt/anaconda3/envs/py3/lib/python3.7/site-packages (from matplotlib->RobotSim373==0.0.17) (1.2.0)\n",
      "Requirement already satisfied, skipping upgrade: six in /Users/bblais/opt/anaconda3/envs/py3/lib/python3.7/site-packages (from cycler>=0.10->matplotlib->RobotSim373==0.0.17) (1.15.0)\n",
      "Building wheels for collected packages: RobotSim373\n",
      "  Building wheel for RobotSim373 (setup.py) ... \u001b[?25ldone\n",
      "\u001b[?25h  Created wheel for RobotSim373: filename=RobotSim373-0.0.17-py3-none-any.whl size=6807 sha256=4ced603ee756fd74840fd95985e334f78092469f2caa108559b5c411c328754e\n",
      "  Stored in directory: /Users/bblais/tmp/pip-ephem-wheel-cache-20uk1tqk/wheels/1c/1d/7d/43a5af78343b50185cfd2a310afad23387e47c127bc41defb0\n",
      "Successfully built RobotSim373\n",
      "Installing collected packages: RobotSim373\n",
      "  Attempting uninstall: RobotSim373\n",
      "    Found existing installation: RobotSim373 0.0.17\n",
      "    Uninstalling RobotSim373-0.0.17:\n",
      "      Successfully uninstalled RobotSim373-0.0.17\n",
      "Successfully installed RobotSim373-0.0.17\n"
     ]
    }
   ],
   "source": [
    "!pip install \"git+https://github.com/bblais/RobotSim373\" --upgrade"
   ]
  },
  {
   "cell_type": "markdown",
   "metadata": {},
   "source": [
    "## Sprint #3"
   ]
  },
  {
   "cell_type": "code",
   "execution_count": null,
   "metadata": {},
   "outputs": [],
   "source": []
  },
  {
   "cell_type": "markdown",
   "metadata": {},
   "source": [
    "## Sprint #4"
   ]
  },
  {
   "cell_type": "code",
   "execution_count": 1,
   "metadata": {},
   "outputs": [
    {
     "name": "stdout",
     "output_type": "stream",
     "text": [
      "Requirement already satisfied: scikit-learn in /Users/bblais/opt/anaconda3/envs/py3/lib/python3.7/site-packages (0.23.2)\n",
      "Requirement already satisfied: numpy>=1.13.3 in /Users/bblais/opt/anaconda3/envs/py3/lib/python3.7/site-packages (from scikit-learn) (1.19.1)\n",
      "Requirement already satisfied: joblib>=0.11 in /Users/bblais/opt/anaconda3/envs/py3/lib/python3.7/site-packages (from scikit-learn) (0.17.0)\n",
      "Requirement already satisfied: threadpoolctl>=2.0.0 in /Users/bblais/opt/anaconda3/envs/py3/lib/python3.7/site-packages (from scikit-learn) (2.1.0)\n",
      "Requirement already satisfied: scipy>=0.19.1 in /Users/bblais/opt/anaconda3/envs/py3/lib/python3.7/site-packages (from scikit-learn) (1.5.2)\n"
     ]
    }
   ],
   "source": [
    "!pip install scikit-learn"
   ]
  },
  {
   "cell_type": "code",
   "execution_count": 1,
   "metadata": {},
   "outputs": [
    {
     "name": "stdout",
     "output_type": "stream",
     "text": [
      "Collecting git+git://github.com/bblais/classy\n",
      "  Cloning git://github.com/bblais/classy to /Users/bblais/tmp/pip-req-build-5qyjm2e7\n",
      "Building wheels for collected packages: classy\n",
      "  Building wheel for classy (setup.py) ... \u001b[?25ldone\n",
      "\u001b[?25h  Created wheel for classy: filename=classy-0.0.22-py3-none-any.whl size=43710 sha256=b7dee517897ebebd2a5b03351a2f850a317f3f9c013e167fce0526e2d9ba229e\n",
      "  Stored in directory: /Users/bblais/tmp/pip-ephem-wheel-cache-8wd3al6o/wheels/99/fd/d3/5aeb58829f98c3b1843867767d5c74ab2c21bd1f93e973ade9\n",
      "Successfully built classy\n",
      "Installing collected packages: classy\n",
      "  Attempting uninstall: classy\n",
      "    Found existing installation: classy 0.0.22\n",
      "    Uninstalling classy-0.0.22:\n",
      "      Successfully uninstalled classy-0.0.22\n",
      "Successfully installed classy-0.0.22\n"
     ]
    }
   ],
   "source": [
    "!pip install \"git+https://github.com/bblais/classy\" --upgrade"
   ]
  },
  {
   "cell_type": "code",
   "execution_count": 1,
   "metadata": {},
   "outputs": [
    {
     "name": "stdout",
     "output_type": "stream",
     "text": [
      "Collecting git+https://github.com/bblais/NumpyNet\n",
      "  Cloning https://github.com/bblais/NumpyNet to /Users/bblais/tmp/pip-req-build-ub6tf_2p\n",
      "  Running command git clone -q https://github.com/bblais/NumpyNet /Users/bblais/tmp/pip-req-build-ub6tf_2p\n",
      "Collecting opencv-python<=4.1.2.30\n",
      "  Downloading opencv_python-4.1.2.30-cp38-cp38-macosx_10_9_x86_64.whl (45.2 MB)\n",
      "\u001b[K     |████████████████████████████████| 45.2 MB 2.9 MB/s eta 0:00:01\n",
      "\u001b[?25hRequirement already satisfied: numpy>=1.15 in /Users/bblais/opt/anaconda3/lib/python3.8/site-packages (from NumPyNet==1.0.6) (1.20.1)\n",
      "Requirement already satisfied: pillow in /Users/bblais/opt/anaconda3/lib/python3.8/site-packages (from NumPyNet==1.0.6) (8.2.0)\n",
      "Requirement already satisfied: pytest in /Users/bblais/opt/anaconda3/lib/python3.8/site-packages (from NumPyNet==1.0.6) (6.2.3)\n",
      "Collecting enum34\n",
      "  Downloading enum34-1.1.10-py3-none-any.whl (11 kB)\n",
      "Collecting configparser\n",
      "  Downloading configparser-5.1.0-py3-none-any.whl (19 kB)\n",
      "Requirement already satisfied: tqdm in /Users/bblais/opt/anaconda3/lib/python3.8/site-packages (from NumPyNet==1.0.6) (4.59.0)\n",
      "Requirement already satisfied: attrs>=19.2.0 in /Users/bblais/opt/anaconda3/lib/python3.8/site-packages (from pytest->NumPyNet==1.0.6) (20.3.0)\n",
      "Requirement already satisfied: iniconfig in /Users/bblais/opt/anaconda3/lib/python3.8/site-packages (from pytest->NumPyNet==1.0.6) (1.1.1)\n",
      "Requirement already satisfied: packaging in /Users/bblais/opt/anaconda3/lib/python3.8/site-packages (from pytest->NumPyNet==1.0.6) (20.9)\n",
      "Requirement already satisfied: pluggy<1.0.0a1,>=0.12 in /Users/bblais/opt/anaconda3/lib/python3.8/site-packages (from pytest->NumPyNet==1.0.6) (0.13.1)\n",
      "Requirement already satisfied: py>=1.8.2 in /Users/bblais/opt/anaconda3/lib/python3.8/site-packages (from pytest->NumPyNet==1.0.6) (1.10.0)\n",
      "Requirement already satisfied: toml in /Users/bblais/opt/anaconda3/lib/python3.8/site-packages (from pytest->NumPyNet==1.0.6) (0.10.2)\n",
      "Requirement already satisfied: pyparsing>=2.0.2 in /Users/bblais/opt/anaconda3/lib/python3.8/site-packages (from packaging->pytest->NumPyNet==1.0.6) (2.4.7)\n",
      "Building wheels for collected packages: NumPyNet\n",
      "  Building wheel for NumPyNet (setup.py) ... \u001b[?25ldone\n",
      "\u001b[?25h  Created wheel for NumPyNet: filename=NumPyNet-1.0.6-py3-none-any.whl size=95884 sha256=421a84b9f9333490873456ad48b95ffef3057e2ac1041f92f1fa81ae00f8c2d2\n",
      "  Stored in directory: /Users/bblais/tmp/pip-ephem-wheel-cache-ki6dlpdl/wheels/65/35/4f/b2983231593896658f79cbc5028a95d48579d3ee64a16f2ed2\n",
      "Successfully built NumPyNet\n",
      "Installing collected packages: opencv-python, enum34, configparser, NumPyNet\n",
      "Successfully installed NumPyNet-1.0.6 configparser-5.1.0 enum34-1.1.10 opencv-python-4.1.2.30\n"
     ]
    }
   ],
   "source": [
    "!pip install \"git+https://github.com/bblais/NumpyNet\" --upgrade"
   ]
  },
  {
   "cell_type": "code",
   "execution_count": 3,
   "metadata": {},
   "outputs": [
    {
     "name": "stdout",
     "output_type": "stream",
     "text": [
      "Requirement already satisfied: tqdm in /Users/bblais/opt/anaconda3/envs/py3/lib/python3.7/site-packages (4.50.0)\n"
     ]
    }
   ],
   "source": [
    "!pip install tqdm"
   ]
  },
  {
   "cell_type": "code",
   "execution_count": 4,
   "metadata": {},
   "outputs": [
    {
     "name": "stdout",
     "output_type": "stream",
     "text": [
      "Requirement already satisfied: import-ipynb in /Users/bblais/opt/anaconda3/lib/python3.8/site-packages (0.1.3)\n"
     ]
    }
   ],
   "source": [
    "!pip install import-ipynb  # check out https://github.com/axil/import-ipynb"
   ]
  },
  {
   "cell_type": "code",
   "execution_count": null,
   "metadata": {},
   "outputs": [],
   "source": []
  }
 ],
 "metadata": {
  "kernelspec": {
   "display_name": "Python 3",
   "language": "python",
   "name": "python3"
  },
  "language_info": {
   "codemirror_mode": {
    "name": "ipython",
    "version": 3
   },
   "file_extension": ".py",
   "mimetype": "text/x-python",
   "name": "python",
   "nbconvert_exporter": "python",
   "pygments_lexer": "ipython3",
   "version": "3.8.10"
  }
 },
 "nbformat": 4,
 "nbformat_minor": 4
}
