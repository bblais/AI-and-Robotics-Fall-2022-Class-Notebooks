{
 "cells": [
  {
   "cell_type": "code",
   "execution_count": 1,
   "id": "830cbe35-85e9-4e91-a0eb-8e027360d9be",
   "metadata": {},
   "outputs": [],
   "source": [
    "from getpass import getpass\n",
    "import paramiko"
   ]
  },
  {
   "cell_type": "code",
   "execution_count": 4,
   "id": "943cc504-497a-44af-b20e-0164dea9f3d1",
   "metadata": {},
   "outputs": [
    {
     "name": "stdin",
     "output_type": "stream",
     "text": [
      "Password: ····················\n"
     ]
    }
   ],
   "source": [
    "ssh_host='localhost'\n",
    "ssh_user='bblais'\n",
    "ssh_password=getpass('Password:')"
   ]
  },
  {
   "cell_type": "code",
   "execution_count": 5,
   "id": "318cdf2b-e8d1-4e51-b4b0-214a4018f0a1",
   "metadata": {},
   "outputs": [],
   "source": [
    "ssh = paramiko.SSHClient()\n",
    "ssh.load_system_host_keys()\n",
    "ssh.connect(hostname=ssh_host, username=ssh_user, password=ssh_password)\n",
    "\n"
   ]
  },
  {
   "cell_type": "code",
   "execution_count": 6,
   "id": "0ffb496e-9204-4325-aea1-d4aaeb73eaa1",
   "metadata": {},
   "outputs": [],
   "source": [
    "remote_host='localhost'\n",
    "remote_port=4001"
   ]
  },
  {
   "cell_type": "code",
   "execution_count": 10,
   "id": "53c19561-7722-4764-bad3-024cd3f64ea7",
   "metadata": {},
   "outputs": [],
   "source": [
    "transport = ssh.get_transport()\n",
    "dest_addr = (remote_host, remote_port)\n",
    "local_unique_port = 8002 # any unused local port\n",
    "local_host = 'localhost'\n",
    "local_addr = (local_host, local_unique_port)"
   ]
  },
  {
   "cell_type": "code",
   "execution_count": 15,
   "id": "8a2638e3-99a2-48fb-a94b-72254f3300de",
   "metadata": {},
   "outputs": [
    {
     "ename": "TypeError",
     "evalue": "request_port_forward() takes from 3 to 4 positional arguments but 5 were given",
     "output_type": "error",
     "traceback": [
      "\u001b[0;31m---------------------------------------------------------------------------\u001b[0m",
      "\u001b[0;31mTypeError\u001b[0m                                 Traceback (most recent call last)",
      "Input \u001b[0;32mIn [15]\u001b[0m, in \u001b[0;36m<cell line: 1>\u001b[0;34m()\u001b[0m\n\u001b[0;32m----> 1\u001b[0m \u001b[43mtransport\u001b[49m\u001b[38;5;241;43m.\u001b[39;49m\u001b[43mrequest_port_forward\u001b[49m\u001b[43m(\u001b[49m\u001b[38;5;124;43m\"\u001b[39;49m\u001b[38;5;124;43mlocalhost\u001b[39;49m\u001b[38;5;124;43m\"\u001b[39;49m\u001b[43m,\u001b[49m\u001b[43m \u001b[49m\u001b[38;5;241;43m8080\u001b[39;49m\u001b[43m,\u001b[49m\u001b[43m \u001b[49m\u001b[38;5;124;43m\"\u001b[39;49m\u001b[38;5;124;43mhttp://localhost/\u001b[39;49m\u001b[38;5;124;43m\"\u001b[39;49m\u001b[43m,\u001b[49m\u001b[43m \u001b[49m\u001b[38;5;241;43m8000\u001b[39;49m\u001b[43m)\u001b[49m\n\u001b[1;32m      2\u001b[0m transport\u001b[38;5;241m.\u001b[39mrequest_dynamic_port_forward(\u001b[38;5;124m\"\u001b[39m\u001b[38;5;124mlocalhost\u001b[39m\u001b[38;5;124m\"\u001b[39m, \u001b[38;5;241m0\u001b[39m)\n",
      "\u001b[0;31mTypeError\u001b[0m: request_port_forward() takes from 3 to 4 positional arguments but 5 were given"
     ]
    }
   ],
   "source": [
    "transport.request_port_forward(\"localhost\", 8080, \"http://localhost/\", 8000)\n",
    "transport.request_dynamic_port_forward(\"localhost\", 0)"
   ]
  },
  {
   "cell_type": "code",
   "execution_count": 16,
   "id": "4895c1cf-7f6d-42b5-8dbe-2e14b5319320",
   "metadata": {},
   "outputs": [
    {
     "data": {
      "text/plain": [
       "\u001b[0;31mSignature:\u001b[0m \u001b[0mtransport\u001b[0m\u001b[0;34m.\u001b[0m\u001b[0mrequest_port_forward\u001b[0m\u001b[0;34m(\u001b[0m\u001b[0maddress\u001b[0m\u001b[0;34m,\u001b[0m \u001b[0mport\u001b[0m\u001b[0;34m,\u001b[0m \u001b[0mhandler\u001b[0m\u001b[0;34m=\u001b[0m\u001b[0;32mNone\u001b[0m\u001b[0;34m)\u001b[0m\u001b[0;34m\u001b[0m\u001b[0;34m\u001b[0m\u001b[0m\n",
       "\u001b[0;31mDocstring:\u001b[0m\n",
       "Ask the server to forward TCP connections from a listening port on\n",
       "the server, across this SSH session.\n",
       "\n",
       "If a handler is given, that handler is called from a different thread\n",
       "whenever a forwarded connection arrives.  The handler parameters are::\n",
       "\n",
       "    handler(\n",
       "        channel,\n",
       "        (origin_addr, origin_port),\n",
       "        (server_addr, server_port),\n",
       "    )\n",
       "\n",
       "where ``server_addr`` and ``server_port`` are the address and port that\n",
       "the server was listening on.\n",
       "\n",
       "If no handler is set, the default behavior is to send new incoming\n",
       "forwarded connections into the accept queue, to be picked up via\n",
       "`accept`.\n",
       "\n",
       ":param str address: the address to bind when forwarding\n",
       ":param int port:\n",
       "    the port to forward, or 0 to ask the server to allocate any port\n",
       ":param callable handler:\n",
       "    optional handler for incoming forwarded connections, of the form\n",
       "    ``func(Channel, (str, int), (str, int))``.\n",
       "\n",
       ":return: the port number (`int`) allocated by the server\n",
       "\n",
       ":raises:\n",
       "    `.SSHException` -- if the server refused the TCP forward request\n",
       "\u001b[0;31mFile:\u001b[0m      ~/opt/anaconda3/lib/python3.9/site-packages/paramiko/transport.py\n",
       "\u001b[0;31mType:\u001b[0m      method\n"
      ]
     },
     "metadata": {},
     "output_type": "display_data"
    }
   ],
   "source": [
    "transport.request_port_forward?"
   ]
  },
  {
   "cell_type": "code",
   "execution_count": 11,
   "id": "21131a75-bd2e-4092-8564-f077694f8111",
   "metadata": {},
   "outputs": [
    {
     "name": "stderr",
     "output_type": "stream",
     "text": [
      "Secsh channel 1 open FAILED: Connection refused: Connect failed\n"
     ]
    },
    {
     "ename": "ChannelException",
     "evalue": "ChannelException(2, 'Connect failed')",
     "output_type": "error",
     "traceback": [
      "\u001b[0;31m---------------------------------------------------------------------------\u001b[0m",
      "\u001b[0;31mChannelException\u001b[0m                          Traceback (most recent call last)",
      "Input \u001b[0;32mIn [11]\u001b[0m, in \u001b[0;36m<cell line: 1>\u001b[0;34m()\u001b[0m\n\u001b[0;32m----> 1\u001b[0m channel \u001b[38;5;241m=\u001b[39m \u001b[43mtransport\u001b[49m\u001b[38;5;241;43m.\u001b[39;49m\u001b[43mopen_channel\u001b[49m\u001b[43m(\u001b[49m\u001b[38;5;124;43m\"\u001b[39;49m\u001b[38;5;124;43mdirect-tcpip\u001b[39;49m\u001b[38;5;124;43m\"\u001b[39;49m\u001b[43m,\u001b[49m\u001b[43m \u001b[49m\u001b[43mdest_addr\u001b[49m\u001b[43m,\u001b[49m\u001b[43m \u001b[49m\u001b[43mlocal_addr\u001b[49m\u001b[43m)\u001b[49m\n",
      "File \u001b[0;32m~/opt/anaconda3/lib/python3.9/site-packages/paramiko/transport.py:1062\u001b[0m, in \u001b[0;36mTransport.open_channel\u001b[0;34m(self, kind, dest_addr, src_addr, window_size, max_packet_size, timeout)\u001b[0m\n\u001b[1;32m   1060\u001b[0m \u001b[38;5;28;01mif\u001b[39;00m e \u001b[38;5;129;01mis\u001b[39;00m \u001b[38;5;28;01mNone\u001b[39;00m:\n\u001b[1;32m   1061\u001b[0m     e \u001b[38;5;241m=\u001b[39m SSHException(\u001b[38;5;124m\"\u001b[39m\u001b[38;5;124mUnable to open channel.\u001b[39m\u001b[38;5;124m\"\u001b[39m)\n\u001b[0;32m-> 1062\u001b[0m \u001b[38;5;28;01mraise\u001b[39;00m e\n",
      "\u001b[0;31mChannelException\u001b[0m: ChannelException(2, 'Connect failed')"
     ]
    }
   ],
   "source": [
    "channel = transport.open_channel(\"direct-tcpip\", dest_addr, local_addr)"
   ]
  },
  {
   "cell_type": "code",
   "execution_count": 13,
   "id": "e9e53bda-b911-49d3-bef9-4e5b81e16838",
   "metadata": {},
   "outputs": [
    {
     "data": {
      "text/plain": [
       "('localhost', 4001)"
      ]
     },
     "execution_count": 13,
     "metadata": {},
     "output_type": "execute_result"
    }
   ],
   "source": [
    "dest_addr"
   ]
  },
  {
   "cell_type": "code",
   "execution_count": 14,
   "id": "1e7946a4-d438-4016-a6dc-410acca41670",
   "metadata": {},
   "outputs": [
    {
     "data": {
      "text/plain": [
       "('localhost', 8002)"
      ]
     },
     "execution_count": 14,
     "metadata": {},
     "output_type": "execute_result"
    }
   ],
   "source": [
    "local_addr"
   ]
  },
  {
   "cell_type": "code",
   "execution_count": null,
   "id": "dcae596f-838b-482e-9ffd-fe62def9448a",
   "metadata": {},
   "outputs": [],
   "source": []
  },
  {
   "cell_type": "code",
   "execution_count": null,
   "id": "dfb8cc13-9491-4b6d-9a99-905b3c7a9f15",
   "metadata": {},
   "outputs": [],
   "source": []
  },
  {
   "cell_type": "code",
   "execution_count": 6,
   "id": "fb628bf1-ca9f-49c9-8600-f00edc622543",
   "metadata": {},
   "outputs": [],
   "source": [
    "from getpass import getpass\n",
    "import xmlrpc.client\n",
    "from time import sleep\n",
    "\n",
    "def to_string(arr):\n",
    "    import json\n",
    "    s=json.dumps(arr.tolist())\n",
    "    return s\n",
    "\n",
    "def from_string(s):\n",
    "    import json\n",
    "    from numpy import array\n",
    "    arr=array(json.loads(s))\n",
    "    return arr\n",
    "\n",
    "\n",
    "def take_picture():\n",
    "    s=server.take_picture()\n",
    "    arr=from_string(s)\n",
    "    return arr\n"
   ]
  },
  {
   "cell_type": "code",
   "execution_count": 4,
   "id": "5ad7958c-450a-41f7-8a05-3d417bc467db",
   "metadata": {},
   "outputs": [
    {
     "name": "stdin",
     "output_type": "stream",
     "text": [
      "Password: ····················\n"
     ]
    }
   ],
   "source": [
    "remote_host='localhost'\n",
    "remote_user='bblais'\n",
    "remote_password=getpass('Password:')"
   ]
  },
  {
   "cell_type": "code",
   "execution_count": 9,
   "id": "0c468ff1-b9eb-423c-9ccc-614a4361a67b",
   "metadata": {},
   "outputs": [],
   "source": [
    "from sshtunnel import SSHTunnelForwarder #Run pip install sshtunnel"
   ]
  },
  {
   "cell_type": "code",
   "execution_count": 10,
   "id": "3b076af9-bdec-4ddd-be10-4ccd547992d6",
   "metadata": {},
   "outputs": [
    {
     "name": "stdout",
     "output_type": "stream",
     "text": [
      "Server connected via SSH\n",
      "(288, 352, 3)\n"
     ]
    }
   ],
   "source": [
    "with SSHTunnelForwarder(\n",
    "    (remote_host, 22), #Remote server IP and SSH port\n",
    "    ssh_username = remote_user,\n",
    "    ssh_password = remote_password,\n",
    "    remote_bind_address=(remote_host, 4001)) as server: #PostgreSQL server IP and sever port on remote machine\n",
    "        \n",
    "    server.start() #start ssh sever\n",
    "    print ('Server connected via SSH')\n",
    "    \n",
    "    #connect to PostgreSQL\n",
    "    local_port = str(server.local_bind_port)\n",
    "    \n",
    "    server=xmlrpc.client.ServerProxy('http://localhost:%s' % local_port)    \n",
    "\n",
    "    arr=take_picture()\n",
    "    print(arr.shape)\n",
    "    \n"
   ]
  },
  {
   "cell_type": "code",
   "execution_count": null,
   "id": "07d19d18-2b6c-4ecb-9ad9-3f63942d41cf",
   "metadata": {},
   "outputs": [],
   "source": []
  }
 ],
 "metadata": {
  "kernelspec": {
   "display_name": "Python 3 (ipykernel)",
   "language": "python",
   "name": "python3"
  },
  "language_info": {
   "codemirror_mode": {
    "name": "ipython",
    "version": 3
   },
   "file_extension": ".py",
   "mimetype": "text/x-python",
   "name": "python",
   "nbconvert_exporter": "python",
   "pygments_lexer": "ipython3",
   "version": "3.9.12"
  }
 },
 "nbformat": 4,
 "nbformat_minor": 5
}
