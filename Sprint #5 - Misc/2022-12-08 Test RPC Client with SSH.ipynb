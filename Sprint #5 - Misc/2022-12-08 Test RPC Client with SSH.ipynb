{
 "cells": [
  {
   "cell_type": "code",
   "execution_count": 1,
   "id": "d00f05ca-50f0-4a87-a013-3df2eb79aa0a",
   "metadata": {},
   "outputs": [
    {
     "name": "stdout",
     "output_type": "stream",
     "text": [
      "(288, 352, 3)\n"
     ]
    }
   ],
   "source": [
    "import xmlrpc.client\n",
    "import ssl\n",
    "\n",
    "from time import sleep\n",
    "\n",
    "def to_string(arr):\n",
    "    import json\n",
    "    s=json.dumps(arr.tolist())\n",
    "    return s\n",
    "\n",
    "def from_string(s):\n",
    "    import json\n",
    "    from numpy import array\n",
    "    arr=array(json.loads(s))\n",
    "    return arr\n",
    "\n",
    "\n",
    "def take_picture():\n",
    "    s=server.take_picture()\n",
    "    arr=from_string(s)\n",
    "    return arr\n",
    "    \n",
    "\n",
    "server=xmlrpc.client.ServerProxy('http://localhost:4001')    \n",
    "\n",
    "arr=take_picture()\n",
    "print(arr.shape)\n",
    "\n"
   ]
  },
  {
   "cell_type": "code",
   "execution_count": null,
   "id": "d506b86d-8ec0-4e4f-869c-416778dae3fd",
   "metadata": {},
   "outputs": [],
   "source": []
  }
 ],
 "metadata": {
  "kernelspec": {
   "display_name": "Python 3 (ipykernel)",
   "language": "python",
   "name": "python3"
  },
  "language_info": {
   "codemirror_mode": {
    "name": "ipython",
    "version": 3
   },
   "file_extension": ".py",
   "mimetype": "text/x-python",
   "name": "python",
   "nbconvert_exporter": "python",
   "pygments_lexer": "ipython3",
   "version": "3.9.12"
  }
 },
 "nbformat": 4,
 "nbformat_minor": 5
}
