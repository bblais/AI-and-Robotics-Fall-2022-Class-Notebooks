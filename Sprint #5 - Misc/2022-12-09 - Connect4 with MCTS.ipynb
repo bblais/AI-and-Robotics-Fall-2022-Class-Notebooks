{
 "cells": [
  {
   "cell_type": "code",
   "execution_count": 1,
   "id": "e6caf95e-a2cc-4382-bec9-3e8c7d364bfe",
   "metadata": {},
   "outputs": [
    {
     "name": "stdout",
     "output_type": "stream",
     "text": [
      "Version:  0.2.41\n"
     ]
    }
   ],
   "source": [
    "from Connect4 import *"
   ]
  },
  {
   "cell_type": "code",
   "execution_count": 2,
   "id": "e823f53b-21b5-4348-aec0-e74397a8436b",
   "metadata": {},
   "outputs": [],
   "source": [
    "from Game.mcts import *\n",
    "def mcts_move(state,player,info):\n",
    "    T=info.T\n",
    "    values,moves=mcts_values(state,player,T,info.seconds)\n",
    "    return top_choice(moves,values)\n",
    "\n",
    "mcts_agent=Agent(mcts_move)\n",
    "mcts_agent.T=LoadTable(filename='mcts_data_TTT.json')\n",
    "mcts_agent.seconds=1"
   ]
  },
  {
   "cell_type": "code",
   "execution_count": 3,
   "id": "e78c2b46-8879-4c29-b0ee-f2b1ea218dde",
   "metadata": {},
   "outputs": [
    {
     "name": "stdout",
     "output_type": "stream",
     "text": [
      "====\n",
      "Game  1\n",
      "  .    .    .    .    .    .    .  \n",
      "  .    .    .    .    .    .    .  \n",
      "  .    .    .    .    .    .    .  \n",
      "  .    .    .    .    .    .    .  \n",
      "  .    .    .    .    .    .    .  \n",
      "  .    .    .    .    .    .    .  \n",
      "Player 1 moves 3\n",
      "  .    .    .    .    .    .    .  \n",
      "  .    .    .    .    .    .    .  \n",
      "  .    .    .    .    .    .    .  \n",
      "  .    .    .    .    .    .    .  \n",
      "  .    .    .    .    .    .    .  \n",
      "  .    .    .   (r)   .    .    .  \n",
      "Player 2 moves 1\n",
      "  .    .    .    .    .    .    .  \n",
      "  .    .    .    .    .    .    .  \n",
      "  .    .    .    .    .    .    .  \n",
      "  .    .    .    .    .    .    .  \n",
      "  .    .    .    .    .    .    .  \n",
      "  .   (y)   .   (r)   .    .    .  \n",
      "Player 1 moves 4\n",
      "  .    .    .    .    .    .    .  \n",
      "  .    .    .    .    .    .    .  \n",
      "  .    .    .    .    .    .    .  \n",
      "  .    .    .    .    .    .    .  \n",
      "  .    .    .    .    .    .    .  \n",
      "  .   (y)   .   (r)  (r)   .    .  \n",
      "Player 2 moves 1\n",
      "  .    .    .    .    .    .    .  \n",
      "  .    .    .    .    .    .    .  \n",
      "  .    .    .    .    .    .    .  \n",
      "  .    .    .    .    .    .    .  \n",
      "  .   (y)   .    .    .    .    .  \n",
      "  .   (y)   .   (r)  (r)   .    .  \n",
      "Player 1 moves 5\n",
      "  .    .    .    .    .    .    .  \n",
      "  .    .    .    .    .    .    .  \n",
      "  .    .    .    .    .    .    .  \n",
      "  .    .    .    .    .    .    .  \n",
      "  .   (y)   .    .    .    .    .  \n",
      "  .   (y)   .   (r)  (r)  (r)   .  \n",
      "Player 2 moves 0\n",
      "  .    .    .    .    .    .    .  \n",
      "  .    .    .    .    .    .    .  \n",
      "  .    .    .    .    .    .    .  \n",
      "  .    .    .    .    .    .    .  \n",
      "  .   (y)   .    .    .    .    .  \n",
      " (y)  (y)   .   (r)  (r)  (r)   .  \n",
      "Player 1 moves 2\n",
      "  .    .    .    .    .    .    .  \n",
      "  .    .    .    .    .    .    .  \n",
      "  .    .    .    .    .    .    .  \n",
      "  .    .    .    .    .    .    .  \n",
      "  .   (y)   .    .    .    .    .  \n",
      " (y)  (y)  (r)  (r)  (r)  (r)   .  \n",
      "Player  1 won.\n",
      "Total number of games:  1\n",
      "Winning 100.00 percent\n",
      "Losing 0.00 percent\n",
      "Tie 0.00 percent\n"
     ]
    }
   ],
   "source": [
    "g=Game()\n",
    "g.display=True\n",
    "wins=g.run(mcts_agent,random_agent)\n",
    "g.report()\n",
    "\n",
    "SaveTable(mcts_agent.T,filename='mcts_data_TTT.json')"
   ]
  },
  {
   "cell_type": "code",
   "execution_count": 21,
   "id": "7b324e6a-4077-42a4-a369-ebaa7d2dce30",
   "metadata": {},
   "outputs": [],
   "source": [
    "def get_move(state,player):\n",
    "    from copy import deepcopy\n",
    "    \n",
    "    if player==1:\n",
    "        other_player=2\n",
    "    else:\n",
    "        other_player=1\n",
    "    \n",
    "    # check for easy win, which should get rewarded later\n",
    "    winning_move=easy_win(state,player)\n",
    "    if not winning_move is None:\n",
    "        move=winning_move\n",
    "        return move\n",
    "    else:\n",
    "        # for TTT and connect4 the moves are symmetrical between the players\n",
    "        # so you can look to block easy wins for the other player\n",
    "        # this wont work for any other game.\n",
    "        blocking_move=easy_win(state,other_player)\n",
    "        if not blocking_move is None:\n",
    "            move=blocking_move\n",
    "            return move\n",
    "    \n",
    "    \n",
    "    T=LoadTable(\"mcts_data_TTT.json\")\n",
    "    moves=valid_moves(state,player)\n",
    "    available_states=[update_state(deepcopy(state),player,move)\n",
    "                                    for move in moves] \n",
    "    \n",
    "    for S in available_states:\n",
    "        if (S,player) not in T:\n",
    "            T[(S,player)]={'wins':0,'plays':1}\n",
    "\n",
    "    values=[float(T[(S,player)]['wins'])/T[(S,player)]['plays'] for S in available_states]\n",
    "    values,moves=mysort(values,moves,reverse=True)\n",
    "    \n",
    "    return top_choice(moves,values)"
   ]
  },
  {
   "cell_type": "code",
   "execution_count": 22,
   "id": "71ea8999-21ca-42e5-9b0a-b3aacfbd82eb",
   "metadata": {},
   "outputs": [
    {
     "data": {
      "text/plain": [
       "3"
      ]
     },
     "execution_count": 22,
     "metadata": {},
     "output_type": "execute_result"
    }
   ],
   "source": [
    "get_move(initial_state(),1)"
   ]
  },
  {
   "cell_type": "code",
   "execution_count": 11,
   "id": "c499b085-f99d-41f8-8110-65ca2c4bc7c5",
   "metadata": {},
   "outputs": [
    {
     "data": {
      "text/plain": [
       "(6, 7)"
      ]
     },
     "execution_count": 11,
     "metadata": {},
     "output_type": "execute_result"
    }
   ],
   "source": [
    "initial_state().shape"
   ]
  },
  {
   "cell_type": "code",
   "execution_count": 12,
   "id": "8ff0ef10-a18f-4f67-9140-fa2657a3fb9b",
   "metadata": {},
   "outputs": [],
   "source": [
    "state=initial_state()"
   ]
  },
  {
   "cell_type": "code",
   "execution_count": 23,
   "id": "caca4ea8-7ae7-4b6e-9dda-257bdc1f2ea1",
   "metadata": {},
   "outputs": [],
   "source": [
    "state.board=[\n",
    "    0,0,0,0,0,0,0,\n",
    "    0,0,0,0,0,0,0,\n",
    "    1,0,0,0,0,0,0,\n",
    "    1,0,2,2,0,0,0,\n",
    "    2,0,1,1,2,1,0,\n",
    "    1,2,2,2,1,2,1,\n",
    "]"
   ]
  },
  {
   "cell_type": "code",
   "execution_count": 24,
   "id": "2be36392-4bba-4045-97f6-074d39317ed4",
   "metadata": {},
   "outputs": [
    {
     "data": {
      "text/plain": [
       " 0  0  0  0  0  0  0 \n",
       " 0  0  0  0  0  0  0 \n",
       " 1  0  0  0  0  0  0 \n",
       " 1  0  2  2  0  0  0 \n",
       " 2  0  1  1  2  1  0 \n",
       " 1  2  2  2  1  2  1 "
      ]
     },
     "execution_count": 24,
     "metadata": {},
     "output_type": "execute_result"
    }
   ],
   "source": [
    "state"
   ]
  },
  {
   "cell_type": "code",
   "execution_count": 25,
   "id": "fe919879-2dd9-4f49-9be5-ab2cbb66e81b",
   "metadata": {},
   "outputs": [
    {
     "data": {
      "text/plain": [
       "2"
      ]
     },
     "execution_count": 25,
     "metadata": {},
     "output_type": "execute_result"
    }
   ],
   "source": [
    "easy_win(state,2)"
   ]
  },
  {
   "cell_type": "code",
   "execution_count": 26,
   "id": "8959fd00-3f1f-46bd-bac2-ae46d93df60f",
   "metadata": {},
   "outputs": [
    {
     "data": {
      "text/plain": [
       "2"
      ]
     },
     "execution_count": 26,
     "metadata": {},
     "output_type": "execute_result"
    }
   ],
   "source": [
    "get_move(state,1)"
   ]
  },
  {
   "cell_type": "code",
   "execution_count": null,
   "id": "9021ef33-46e7-4500-a713-4c2f230535bd",
   "metadata": {},
   "outputs": [],
   "source": []
  }
 ],
 "metadata": {
  "kernelspec": {
   "display_name": "Python 3 (ipykernel)",
   "language": "python",
   "name": "python3"
  },
  "language_info": {
   "codemirror_mode": {
    "name": "ipython",
    "version": 3
   },
   "file_extension": ".py",
   "mimetype": "text/x-python",
   "name": "python",
   "nbconvert_exporter": "python",
   "pygments_lexer": "ipython3",
   "version": "3.9.12"
  },
  "vscode": {
   "interpreter": {
    "hash": "4caad4c65480177ebe51bb268db552b41575ad57e529d294f0e3c21e0e9fcd39"
   }
  }
 },
 "nbformat": 4,
 "nbformat_minor": 5
}
