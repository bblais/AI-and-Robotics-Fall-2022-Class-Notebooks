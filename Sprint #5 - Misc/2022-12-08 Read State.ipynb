{
 "cells": [
  {
   "cell_type": "code",
   "execution_count": 1,
   "metadata": {},
   "outputs": [
    {
     "name": "stdout",
     "output_type": "stream",
     "text": [
      "Version  1.0.6\n",
      "Version:  0.0.31\n"
     ]
    }
   ],
   "source": [
    "from classy import *\n",
    "from pylab import imread,imsave"
   ]
  },
  {
   "cell_type": "code",
   "execution_count": 2,
   "metadata": {},
   "outputs": [],
   "source": [
    "def read_state_from_file(filename='current_board.txt'):\n",
    "    with open(filename) as fid:\n",
    "        text=fid.read()\n",
    "\n",
    "    text2=text.strip().split('\\n')\n",
    "    number_of_rows=len(text2)\n",
    "    number_of_cols=len(text2[0].split())\n",
    "    \n",
    "    b=Board(number_of_rows,number_of_cols)\n",
    "        \n",
    "    board=[int(v) for v in text.split()]\n",
    "    b.board=board\n",
    "    return b"
   ]
  },
  {
   "cell_type": "code",
   "execution_count": 3,
   "metadata": {},
   "outputs": [],
   "source": [
    "def get_square(arr,index,shape,locations=None):\n",
    "    import json\n",
    "    \n",
    "    if locations is None:\n",
    "        with open('locations.json') as json_file:\n",
    "            locations = json.load(json_file)        \n",
    "    \n",
    "    try:\n",
    "        location=locations[index]\n",
    "    except IndexError:\n",
    "        print(\"locations.json file probably corrupt.\")\n",
    "        raise \n",
    "        \n",
    "    c,r=location\n",
    "    c1=int(c-shape[1]/2)\n",
    "    c2=int(c+shape[1]/2)\n",
    "    r1=int(r-shape[0]/2)\n",
    "    r2=int(r+shape[0]/2)\n",
    "\n",
    "    c2=c2+(shape[1]-(c2-c1))\n",
    "    r2=r2+(shape[0]-(r2-r1))\n",
    "\n",
    "    square=arr[r1:r2,c1:c2,:]\n",
    "    \n",
    "    return square"
   ]
  },
  {
   "cell_type": "code",
   "execution_count": 4,
   "metadata": {},
   "outputs": [],
   "source": [
    "def read_state():\n",
    "    from pylab import imread,imsave\n",
    "    import os\n",
    "    from Game import Board\n",
    "\n",
    "    # train the classifier\n",
    "    images=image.load_images('images/Boards/squares/',delete_alpha=True)  #<=========\n",
    "    shape=images.data[0].shape[:2]\n",
    "    data_train=data=image.images_to_vectors(images,verbose=True)  # train on all of them\n",
    "\n",
    "    #classifier=kNearestNeighbor()\n",
    "    classifier=NaiveBayes()\n",
    "    classifier.fit(data_train.vectors,data_train.targets)\n",
    "\n",
    "\n",
    "    # get the picture\n",
    "    #take_picture('current_board.jpg')\n",
    "    arr=imread('current_board.jpg')\n",
    "\n",
    "\n",
    "    # slice the picture into squares of the right size\n",
    "    shape=data_train.shape[:2]\n",
    "    squares=[get_square(arr,i,shape) for i in range(16)]    #<========= change the size\n",
    "    test_images=image.array_to_image_struct(squares)\n",
    "\n",
    "    # get predictions\n",
    "    test_data=image.images_to_vectors(test_images)\n",
    "    predictions=classifier.predict(test_data.vectors)\n",
    "    names=[data_train.target_names[p] for p in predictions]\n",
    "\n",
    "    if not os.path.exists('images'):\n",
    "        os.mkdir('images')\n",
    "    if not os.path.exists('images/predicted'):\n",
    "        os.mkdir('images/predicted')\n",
    "    for i,(square,prediction) in enumerate(zip(squares,predictions)):\n",
    "        imsave('images/predicted/square %d predicted as %s.jpg' % (i,data_train.target_names[prediction]),square)\n",
    "\n",
    "    \n",
    "    # reconstruct the state from the predictions\n",
    "    state=Board(4,4)                                         #<========= change the size\n",
    "    for i in range(16):                                      #<========= change the size\n",
    "        color=data_train.target_names[predictions[i]]\n",
    "        if color==\"Nothing\":                                   #<========= change the colors and values\n",
    "            state[i]=0                                       #<========= change the colors and values\n",
    "        elif color==\"White\":\n",
    "            state[i]=1\n",
    "        elif color==\"Black\":\n",
    "            state[i]=2\n",
    "        else:\n",
    "            raise ValueError(\"You can't get there from here.\")\n",
    "\n",
    "    print(\"Current state is:\")\n",
    "    print(state)\n",
    "\n",
    "    x=input(\"\"\"\n",
    "    Hit return if this is correct, otherwise type a character \n",
    "    and the state will be read from current_board.txt.\"\"\")\n",
    "\n",
    "    if x:\n",
    "        print(\"Reading from file...\")\n",
    "        state=read_state_from_file()\n",
    "\n",
    "    print(\"Using\")\n",
    "    print(state)\n",
    "\n",
    "    \n",
    "    return state"
   ]
  },
  {
   "cell_type": "code",
   "execution_count": null,
   "metadata": {},
   "outputs": [
    {
     "name": "stdout",
     "output_type": "stream",
     "text": [
      "Version:  0.2.41\n",
      "[Nothing]: 32 files found\n",
      "[White]: 16 files found\n",
      "[Black]: 16 files found\n",
      "64 vectors of length 30000\n",
      "Feature names: 'p0', 'p1', 'p2', 'p3', 'p4'  , ... ,  'p29995', 'p29996', 'p29997', 'p29998', 'p29999'  (30000 features)\n",
      "Target values given.\n",
      "Target names: 'Nothing', 'White', 'Black'\n",
      "Mean:  [ 75.1875    61.09375  110.21875  ...  81.796875  66.90625  119.1875  ]\n",
      "Median:  [ 76.5  63.  112.5 ...  84.   68.  121. ]\n",
      "Stddev:  [13.56105983 11.09295772 18.07317483 ...  7.401815    6.48729227\n",
      "  9.97320629]\n",
      "16 vectors of length 30000\n",
      "Feature names: 'p0', 'p1', 'p2', 'p3', 'p4'  , ... ,  'p29995', 'p29996', 'p29997', 'p29998', 'p29999'  (30000 features)\n",
      "Target values given.\n",
      "Target names: 'None', 'None', 'None', 'None', 'None', 'None', 'None', 'None', 'None', 'None', 'None', 'None', 'None', 'None', 'None', 'None'\n",
      "Mean:  [ 77.625   63.5    116.875  ...  71.625   58.3125 107.625 ]\n",
      "Median:  [ 77.5  62.5 116.5 ...  79.   66.  116. ]\n",
      "Stddev:  [10.42757762  7.76208735 12.31805078 ... 24.7787081  19.5407227\n",
      " 30.80559   ]\n",
      "Current state is:\n",
      " 0  1  2  2 \n",
      " 1  0  0  0 \n",
      " 1  2  1  0 \n",
      " 0  2  0  0 \n",
      "\n"
     ]
    }
   ],
   "source": [
    "state=read_state()"
   ]
  },
  {
   "cell_type": "code",
   "execution_count": null,
   "metadata": {},
   "outputs": [],
   "source": []
  }
 ],
 "metadata": {
  "kernelspec": {
   "display_name": "Python 3 (ipykernel)",
   "language": "python",
   "name": "python3"
  },
  "language_info": {
   "codemirror_mode": {
    "name": "ipython",
    "version": 3
   },
   "file_extension": ".py",
   "mimetype": "text/x-python",
   "name": "python",
   "nbconvert_exporter": "python",
   "pygments_lexer": "ipython3",
   "version": "3.9.12"
  },
  "vscode": {
   "interpreter": {
    "hash": "4caad4c65480177ebe51bb268db552b41575ad57e529d294f0e3c21e0e9fcd39"
   }
  }
 },
 "nbformat": 4,
 "nbformat_minor": 4
}
