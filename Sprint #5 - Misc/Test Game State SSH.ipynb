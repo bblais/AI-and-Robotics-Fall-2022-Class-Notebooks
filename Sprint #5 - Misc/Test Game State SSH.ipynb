{
 "cells": [
  {
   "cell_type": "code",
   "execution_count": 1,
   "id": "e924fff3-1c5e-47a8-af2e-a0bfea500cda",
   "metadata": {},
   "outputs": [
    {
     "name": "stdout",
     "output_type": "stream",
     "text": [
      "Version:  0.2.41\n"
     ]
    }
   ],
   "source": [
    "from Game import *"
   ]
  },
  {
   "cell_type": "code",
   "execution_count": 2,
   "id": "a4b1f62a-6d1e-4c17-adf7-ff6fab74abb5",
   "metadata": {},
   "outputs": [],
   "source": [
    "from getpass import getpass\n",
    "def scp(local,user_hostname,remote):\n",
    "    global passwd_\n",
    "    \n",
    "    import os,shutil\n",
    "    assert os.name=='nt'  # only works on windows\n",
    "    assert shutil.which('pscp')\n",
    "    \n",
    "    assert '@' in user_hostname\n",
    "    cmd='pscp -pw \"%s\" \"%s\" %s:\"%s\"' % (passwd_,local,user_hostname,remote)\n",
    "    cmd_='pscp -pw \"%s\" \"%s\" %s:\"%s\"' % ('*'*len(passwd_),local,user_hostname,remote)\n",
    "    print(cmd_)\n",
    "    os.system(cmd)"
   ]
  },
  {
   "cell_type": "code",
   "execution_count": 3,
   "id": "dce6d71b-4269-4a1b-9aba-b1d117136ef3",
   "metadata": {},
   "outputs": [
    {
     "name": "stdin",
     "output_type": "stream",
     "text": [
      "Enter password: ··········\n"
     ]
    }
   ],
   "source": [
    "passwd_=getpass(\"Enter password:\")  # robot password"
   ]
  },
  {
   "cell_type": "code",
   "execution_count": null,
   "id": "81060c7a-93d8-42e6-a6a5-e0a8bbd44fad",
   "metadata": {},
   "outputs": [],
   "source": []
  }
 ],
 "metadata": {
  "kernelspec": {
   "display_name": "Python 3 (ipykernel)",
   "language": "python",
   "name": "python3"
  },
  "language_info": {
   "codemirror_mode": {
    "name": "ipython",
    "version": 3
   },
   "file_extension": ".py",
   "mimetype": "text/x-python",
   "name": "python",
   "nbconvert_exporter": "python",
   "pygments_lexer": "ipython3",
   "version": "3.9.12"
  }
 },
 "nbformat": 4,
 "nbformat_minor": 5
}
