{
 "cells": [
  {
   "cell_type": "code",
   "execution_count": 1,
   "id": "f3d4c522-d4fc-476b-b170-fdc48d5d6b0c",
   "metadata": {},
   "outputs": [
    {
     "name": "stdout",
     "output_type": "stream",
     "text": [
      "Version:  0.2.41\n"
     ]
    }
   ],
   "source": [
    "from Connect4 import *"
   ]
  },
  {
   "cell_type": "code",
   "execution_count": 2,
   "id": "0eecbb71-7ea9-454f-a30b-72119e96a2ee",
   "metadata": {},
   "outputs": [],
   "source": [
    "from Game.minimax import *\n",
    "def minimax_move(state,player):\n",
    "    values,moves=minimax_values(state,player,maxdepth=5,display=True)\n",
    "    return top_choice(moves,values)\n",
    "    \n",
    "    \n",
    "def heuristic(state,player):\n",
    "    # count up the number of rows, columns, and diagonals \n",
    "    #where you occupy two spaces and the third space is empty. \n",
    "    #Then, subtract the number of rows, columns, and diagonals \n",
    "    #where your opponent occupies two spaces and the third space is empty. \n",
    "    #Finally, divide the result by the total number of rows, \n",
    "    # columns, and diagonals.    \n",
    "\n",
    "    if player==1:\n",
    "        other_player=2\n",
    "    else:\n",
    "        other_player=1\n",
    "        \n",
    "        \n",
    "    total=0\n",
    "    found=0\n",
    "    \n",
    "    for three in [state.diags(3),state.rows(3),state.cols(3)]:\n",
    "        for d in three:\n",
    "            if d.count(player)==2 and d.count(0)==1:\n",
    "                found+=1\n",
    "            if d.count(other_player)==2 and d.count(0)==1:\n",
    "                found-=1\n",
    "            total+=1\n",
    "\n",
    "    return found/(total+1)\n",
    "        \n",
    "\n",
    "minimax_agent=Agent(minimax_move)\n"
   ]
  },
  {
   "cell_type": "code",
   "execution_count": 3,
   "id": "78a9b705-cd15-4c07-a17c-f578d79fdad2",
   "metadata": {},
   "outputs": [
    {
     "name": "stdout",
     "output_type": "stream",
     "text": [
      "  Choice Time: 8.110640048980713 seconds \n",
      "  Choice Time: 11.342184782028198 seconds \n",
      "  Choice Time: 3.7359230518341064 seconds \n",
      "  Choice Time: 2.4778597354888916 seconds \n"
     ]
    },
    {
     "data": {
      "text/plain": [
       "[1]"
      ]
     },
     "execution_count": 3,
     "metadata": {},
     "output_type": "execute_result"
    }
   ],
   "source": [
    "g=Game(number_of_games=1)\n",
    "g.display=False\n",
    "results=g.run(minimax_agent,random_agent)\n",
    "results"
   ]
  },
  {
   "cell_type": "code",
   "execution_count": null,
   "id": "dfdbd37b-65d5-4e10-93cd-c76c370800be",
   "metadata": {},
   "outputs": [],
   "source": []
  }
 ],
 "metadata": {
  "kernelspec": {
   "display_name": "Python 3 (ipykernel)",
   "language": "python",
   "name": "python3"
  },
  "language_info": {
   "codemirror_mode": {
    "name": "ipython",
    "version": 3
   },
   "file_extension": ".py",
   "mimetype": "text/x-python",
   "name": "python",
   "nbconvert_exporter": "python",
   "pygments_lexer": "ipython3",
   "version": "3.9.12"
  }
 },
 "nbformat": 4,
 "nbformat_minor": 5
}
