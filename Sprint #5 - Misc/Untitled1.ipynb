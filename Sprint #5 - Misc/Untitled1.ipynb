{
 "cells": [
  {
   "cell_type": "code",
   "execution_count": 1,
   "id": "e8637271-71a2-4f7f-bc1f-a923de8524ca",
   "metadata": {},
   "outputs": [],
   "source": [
    "import xmlrpc.client\n"
   ]
  },
  {
   "cell_type": "code",
   "execution_count": 6,
   "id": "8402801b-8a22-423f-923e-435ada230c60",
   "metadata": {},
   "outputs": [],
   "source": [
    "server=xmlrpc.client.ServerProxy('http://192.168.2.3:8080')"
   ]
  },
  {
   "cell_type": "code",
   "execution_count": 7,
   "id": "9632c99b-c1dd-427e-8d07-6ec13dec53e4",
   "metadata": {},
   "outputs": [
    {
     "data": {
      "text/plain": [
       "'hello, world!'"
      ]
     },
     "execution_count": 7,
     "metadata": {},
     "output_type": "execute_result"
    }
   ],
   "source": [
    "server.your_method_name()"
   ]
  },
  {
   "cell_type": "code",
   "execution_count": null,
   "id": "bd0a9df6-0e44-45fc-8b2a-feacde4effb8",
   "metadata": {},
   "outputs": [],
   "source": []
  }
 ],
 "metadata": {
  "kernelspec": {
   "display_name": "Python 3 (ipykernel)",
   "language": "python",
   "name": "python3"
  },
  "language_info": {
   "codemirror_mode": {
    "name": "ipython",
    "version": 3
   },
   "file_extension": ".py",
   "mimetype": "text/x-python",
   "name": "python",
   "nbconvert_exporter": "python",
   "pygments_lexer": "ipython3",
   "version": "3.9.12"
  }
 },
 "nbformat": 4,
 "nbformat_minor": 5
}
