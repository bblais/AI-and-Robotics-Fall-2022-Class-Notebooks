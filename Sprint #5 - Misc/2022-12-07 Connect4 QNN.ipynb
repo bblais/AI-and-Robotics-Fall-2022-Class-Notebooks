{
 "cells": [
  {
   "cell_type": "code",
   "execution_count": 1,
   "metadata": {},
   "outputs": [],
   "source": [
    "%matplotlib inline\n",
    "from matplotlib.pylab import figure,plot,legend,xlabel,ylabel,imshow,cm,axis\n",
    "import matplotlib.pylab as plt"
   ]
  },
  {
   "cell_type": "code",
   "execution_count": 2,
   "metadata": {},
   "outputs": [
    {
     "name": "stdout",
     "output_type": "stream",
     "text": [
      "Version:  0.2.41\n"
     ]
    }
   ],
   "source": [
    "from Connect4 import *\n",
    "from tqdm.notebook import tqdm"
   ]
  },
  {
   "cell_type": "code",
   "execution_count": 3,
   "metadata": {},
   "outputs": [],
   "source": [
    "import numpy as np"
   ]
  },
  {
   "cell_type": "code",
   "execution_count": 4,
   "metadata": {},
   "outputs": [
    {
     "name": "stdout",
     "output_type": "stream",
     "text": [
      "Version  1.0.6\n",
      "nn 0 0 2\n"
     ]
    }
   ],
   "source": [
    "from nn import NumpyNetTable"
   ]
  },
  {
   "cell_type": "code",
   "execution_count": 5,
   "metadata": {},
   "outputs": [],
   "source": [
    "def all_possible_moves():\n",
    "    all_moves=[]\n",
    "    for move in range(7):\n",
    "        all_moves.append(move)\n",
    "            \n",
    "    return all_moves\n",
    "\n",
    "def state_to_X(state):  \n",
    "    import numpy as np\n",
    "    N2=len(state)\n",
    "    arr=np.zeros((1,N2))  # number of samples, size\n",
    "    for i in range(N2):\n",
    "        if state[i]==0:\n",
    "            arr[0,i]=0\n",
    "        elif state[i]==1:\n",
    "            arr[0,i]=1\n",
    "        elif state[i]==2:\n",
    "            arr[0,i]=-1\n",
    "                     \n",
    "    return arr"
   ]
  },
  {
   "cell_type": "code",
   "execution_count": 6,
   "metadata": {},
   "outputs": [
    {
     "name": "stdout",
     "output_type": "stream",
     "text": [
      "[0, 1, 2, 3, 4, 5, 6]\n"
     ]
    }
   ],
   "source": [
    "print(all_possible_moves())"
   ]
  },
  {
   "cell_type": "code",
   "execution_count": 7,
   "metadata": {},
   "outputs": [
    {
     "name": "stdout",
     "output_type": "stream",
     "text": [
      " 0  0  0  0  0  0  0 \n",
      " 0  0  0  0  0  0  0 \n",
      " 0  0  0  0  0  0  0 \n",
      " 0  0  0  0  0  0  0 \n",
      " 0  0  0  0  0  0  0 \n",
      " 0  0  0  0  0  0  0 \n",
      "\n",
      "[[0. 0. 0. 0. 0. 0. 0. 0. 0. 0. 0. 0. 0. 0. 0. 0. 0. 0. 0. 0. 0. 0. 0. 0.\n",
      "  0. 0. 0. 0. 0. 0. 0. 0. 0. 0. 0. 0. 0. 0. 0. 0. 0. 0.]]\n"
     ]
    }
   ],
   "source": [
    "state=initial_state()\n",
    "initial_X=state_to_X(state)\n",
    "all_moves=all_possible_moves()\n",
    "\n",
    "print(state)\n",
    "print(initial_X)"
   ]
  },
  {
   "cell_type": "code",
   "execution_count": 8,
   "metadata": {},
   "outputs": [],
   "source": [
    "Q=NumpyNetTable(state_to_X,all_possible_moves(),\n",
    "                {\n",
    "                    'input':initial_X.shape[1],               # number of inputs\n",
    "                    'hidden':[(5,'logistic'),],\n",
    "                    'output':(len(all_moves),'tanh'),  # number of moves\n",
    "                    'cost':'mse',\n",
    "                })"
   ]
  },
  {
   "cell_type": "code",
   "execution_count": 9,
   "metadata": {},
   "outputs": [
    {
     "data": {
      "text/plain": [
       "[array([0.49975002, 0.49975   , 0.49975004, 0.49975   , 0.49975   ]),\n",
       " array([-0.54435571,  0.04930941, -0.5427026 , -0.31654501, -0.55123811,\n",
       "         0.38550318, -0.24225424])]"
      ]
     },
     "execution_count": 9,
     "metadata": {},
     "output_type": "execute_result"
    }
   ],
   "source": [
    "Q.output(state)"
   ]
  },
  {
   "cell_type": "code",
   "execution_count": 10,
   "metadata": {},
   "outputs": [
    {
     "data": {
      "text/plain": [
       "{0: -0.5443557075420827,\n",
       " 1: 0.049309409372792025,\n",
       " 2: -0.5427026024890943,\n",
       " 3: -0.3165450052199109,\n",
       " 4: -0.5512381129350138,\n",
       " 5: 0.38550317807725343,\n",
       " 6: -0.24225424101813334}"
      ]
     },
     "execution_count": 10,
     "metadata": {},
     "output_type": "execute_result"
    }
   ],
   "source": [
    "Q[state]"
   ]
  },
  {
   "cell_type": "code",
   "execution_count": 11,
   "metadata": {},
   "outputs": [],
   "source": [
    "target=[]\n",
    "actual_moves=valid_moves(state,1)\n",
    "for i,move in enumerate(all_moves):\n",
    "    if move in actual_moves:  # keep the old values for valid moves\n",
    "        target.append(1)\n",
    "    else:\n",
    "        target.append(-1)  # lose with illegal move"
   ]
  },
  {
   "cell_type": "code",
   "execution_count": 12,
   "metadata": {},
   "outputs": [
    {
     "name": "stdout",
     "output_type": "stream",
     "text": [
      "[1,    +1,       +1,       +1,       +1,       +1,    1]\n"
     ]
    }
   ],
   "source": [
    "print(str(target).replace(\" 1,\",\"    +1,   \"))"
   ]
  },
  {
   "cell_type": "code",
   "execution_count": 13,
   "metadata": {},
   "outputs": [
    {
     "data": {
      "text/plain": [
       "array([1, 1, 1, 1, 1, 1, 1])"
      ]
     },
     "execution_count": 13,
     "metadata": {},
     "output_type": "execute_result"
    }
   ],
   "source": [
    "np.array(target)"
   ]
  },
  {
   "cell_type": "code",
   "execution_count": 14,
   "metadata": {},
   "outputs": [],
   "source": [
    "Q[state]=target"
   ]
  },
  {
   "cell_type": "code",
   "execution_count": 15,
   "metadata": {},
   "outputs": [
    {
     "data": {
      "text/plain": [
       "{0: -0.5418793653981082,\n",
       " 1: 0.051892446148988476,\n",
       " 2: -0.5403078931416543,\n",
       " 3: -0.3137310650617132,\n",
       " 4: -0.5487272533523244,\n",
       " 5: 0.38620747757492396,\n",
       " 6: -0.23924419430559754}"
      ]
     },
     "execution_count": 15,
     "metadata": {},
     "output_type": "execute_result"
    }
   ],
   "source": [
    "Q[state]"
   ]
  },
  {
   "cell_type": "code",
   "execution_count": null,
   "metadata": {},
   "outputs": [],
   "source": []
  },
  {
   "cell_type": "code",
   "execution_count": 16,
   "metadata": {},
   "outputs": [],
   "source": [
    "def QNN_move(state,player,info):\n",
    "    Q=info.Q\n",
    "    last_action=info.last_action\n",
    "    last_state=info.last_state\n",
    "    \n",
    "    alpha=info.alpha  # learning rate\n",
    "    gamma=info.gamma  # memory \n",
    "    epsilon=info.epsilon  # probability of doing random move\n",
    "    \n",
    "    new_state=state\n",
    "    new_actual_moves=valid_moves(new_state,player)\n",
    "    new_action_values=Q[new_state]\n",
    "    new_values=[new_action_values[move] for move in new_actual_moves] \n",
    "    \n",
    "    if random.random()<epsilon:  # random move\n",
    "        action=random_choice(new_actual_moves)\n",
    "    else:\n",
    "        action=top_choice(new_actual_moves,weights=new_values)\n",
    "            \n",
    "            \n",
    "#         # Ask the model for the Q values of the old state (inference)\n",
    "#         old_state_Q_values = self.get_Q(old_state)\n",
    "\n",
    "#         # Ask the model for the Q values of the new state (inference)\n",
    "#         new_state_Q_values = self.get_Q(new_state)\n",
    "\n",
    "#         # Real Q value for the action we took. This is what we will train towards.\n",
    "#         old_state_Q_values[action] = reward + self.discount * np.amax(new_state_Q_values)\n",
    "        \n",
    "    if alpha==0:  # no learning\n",
    "        return action\n",
    "\n",
    "    if not last_action is None:  # anything but the first move\n",
    "        r=0.0  # no reward middle of game\n",
    "        possible_moves=Q.all_moves\n",
    "        \n",
    "        old_state=last_state\n",
    "\n",
    "        old_actual_moves=valid_moves(old_state,player)\n",
    "        old_action_values=Q[old_state]\n",
    "        old_values=[old_action_values[move] for move in old_actual_moves] \n",
    "        \n",
    "        \n",
    "        target=[]\n",
    "        for i,move in enumerate(possible_moves):\n",
    "            if move==last_action:\n",
    "                target.append(r + gamma*max(new_values))  # max of actually available values\n",
    "            elif move in old_actual_moves:  # keep the old values for valid moves\n",
    "                target.append(old_action_values[move])\n",
    "            else:\n",
    "                target.append(-1)  # lose with illegal move\n",
    "\n",
    "        Q[old_state]=target\n",
    "        \n",
    "    return action\n",
    "\n",
    "def QNN_post(status,player,info):\n",
    "    Q=info.Q\n",
    "    last_action=info.last_action\n",
    "    last_state=info.last_state\n",
    "    \n",
    "    alpha=info.alpha  # learning rate\n",
    "    gamma=info.gamma  # memory \n",
    "    epsilon=info.epsilon  # probability of doing random move\n",
    "\n",
    "    if alpha==0.0:  # no update if not learning\n",
    "        return\n",
    "    \n",
    "    if status=='lose':\n",
    "        r=-1.0\n",
    "    elif status=='win':\n",
    "        r=1.0\n",
    "    elif status=='stalemate':\n",
    "        r=0.5\n",
    "    else:\n",
    "        r=0.0\n",
    "        \n",
    "    if not last_action is None:  # anything but the first move\n",
    "        possible_moves=Q.all_moves\n",
    "        old_state=last_state\n",
    "\n",
    "        old_actual_moves=valid_moves(old_state,player)\n",
    "        old_action_values=Q[old_state]\n",
    "        old_values=[old_action_values[move] for move in old_actual_moves] \n",
    "        \n",
    "        \n",
    "        target=[]\n",
    "        for i,move in enumerate(possible_moves):\n",
    "            if move==last_action:\n",
    "                target.append(r)  # just the reward\n",
    "            elif move in old_actual_moves:  # keep the old values for valid moves\n",
    "                target.append(old_action_values[move])\n",
    "            else:\n",
    "                target.append(-1)  # lose with illegal move\n",
    "\n",
    "        Q[old_state]=target\n"
   ]
  },
  {
   "cell_type": "code",
   "execution_count": 17,
   "metadata": {},
   "outputs": [],
   "source": [
    "Q1_agent=Agent(QNN_move)\n",
    "Q1_agent.post=QNN_post\n",
    "\n",
    "Q1_agent.alpha=0.03  # learning rate\n",
    "Q1_agent.gamma=0.9  # memory\n",
    "Q1_agent.epsilon=0.1  # chance of making a random move\n",
    "\n",
    "Q1_agent.original_alpha=Q1_agent.alpha\n",
    "\n",
    "Q2_agent=Agent(QNN_move)\n",
    "Q2_agent.post=QNN_post\n",
    "\n",
    "Q2_agent.alpha=0.03  # learning rate\n",
    "Q2_agent.gamma=0.9  # memory\n",
    "Q2_agent.epsilon=0.1  # chance of making a random move\n",
    "\n",
    "Q2_agent.original_alpha=Q2_agent.alpha\n"
   ]
  },
  {
   "cell_type": "markdown",
   "metadata": {},
   "source": [
    "### set the Q tables for the agents"
   ]
  },
  {
   "cell_type": "code",
   "execution_count": 18,
   "metadata": {},
   "outputs": [
    {
     "name": "stdout",
     "output_type": "stream",
     "text": [
      " 0  0  0  0  0  0  0 \n",
      " 0  0  0  0  0  0  0 \n",
      " 0  0  0  0  0  0  0 \n",
      " 0  0  0  0  0  0  0 \n",
      " 0  0  0  0  0  0  0 \n",
      " 0  0  0  0  0  0  0 \n",
      "\n",
      "[[0. 0. 0. 0. 0. 0. 0. 0. 0. 0. 0. 0. 0. 0. 0. 0. 0. 0. 0. 0. 0. 0. 0. 0.\n",
      "  0. 0. 0. 0. 0. 0. 0. 0. 0. 0. 0. 0. 0. 0. 0. 0. 0. 0.]]\n"
     ]
    }
   ],
   "source": [
    "state=initial_state()\n",
    "initial_X=state_to_X(state)\n",
    "all_moves=all_possible_moves()\n",
    "\n",
    "print(state)\n",
    "print(initial_X)\n",
    "\n",
    "Q1_agent.Q=NumpyNetTable(state_to_X,all_possible_moves(),\n",
    "                {\n",
    "                    'input':initial_X.shape[1],               # number of inputs\n",
    "                    'hidden':[(20,'logistic'),],\n",
    "                    'hidden':[(20,'logistic'),],\n",
    "                    'output':(len(all_moves),'tanh'),  # number of moves\n",
    "                    'cost':'mse',\n",
    "                },\n",
    "                        verbose=False)\n",
    "\n",
    "Q2_agent.Q=NumpyNetTable(state_to_X,all_possible_moves(),\n",
    "                {\n",
    "                    'input':initial_X.shape[1],               # number of inputs\n",
    "                    'hidden':[(20,'logistic'),],\n",
    "                    'hidden':[(20,'logistic'),],\n",
    "                    'output':(len(all_moves),'tanh'),  # number of moves\n",
    "                    'cost':'mse',\n",
    "                },\n",
    "                        verbose=False)\n",
    "\n",
    "# initialize things\n",
    "Q1_agent.Q[state]=[0]*len(all_possible_moves())\n",
    "Q2_agent.Q[state]=[0]*len(all_possible_moves())\n"
   ]
  },
  {
   "cell_type": "code",
   "execution_count": 21,
   "metadata": {},
   "outputs": [],
   "source": [
    "percentage_player1_wins=[]\n",
    "percentage_player2_wins=[]\n",
    "percentage_ties=[]\n",
    "total_number_of_games=[]\n",
    "current_game_number=0"
   ]
  },
  {
   "cell_type": "code",
   "execution_count": 22,
   "metadata": {},
   "outputs": [
    {
     "data": {
      "application/vnd.jupyter.widget-view+json": {
       "model_id": "ca80699c8db245efa08c0f9871f580ef",
       "version_major": 2,
       "version_minor": 0
      },
      "text/plain": [
       "  0%|          | 0/500 [00:00<?, ?it/s]"
      ]
     },
     "metadata": {},
     "output_type": "display_data"
    }
   ],
   "source": [
    "N_train=100\n",
    "N_test=500\n",
    "number_of_steps_to_explore=50\n",
    "\n",
    "for i in tqdm(range(500)):\n",
    "    \n",
    "    # ramp down the randomness over time\n",
    "    epsilon=1-epoch/number_of_steps_to_explore\n",
    "    if epsilon<0:\n",
    "        epsilon=0\n",
    "    \n",
    "    # train with learning\n",
    "    Q1_agent.epsilon=0.1\n",
    "    Q1_agent.alpha=0.03\n",
    "    Q2_agent.epsilon=0.1\n",
    "    Q2_agent.alpha=0.03\n",
    "    \n",
    "    g=Game(number_of_games=N_train)  \n",
    "    g.display=False\n",
    "    g.run(Q1_agent,Q2_agent)\n",
    "\n",
    "    current_game_number+=N_train\n",
    "    \n",
    "    # test with no learning\n",
    "    Q1_agent.epsilon=0.0\n",
    "    Q1_agent.alpha=0.0\n",
    "    Q2_agent.epsilon=0.0\n",
    "    Q2_agent.alpha=0.0\n",
    "\n",
    "    g=Game(number_of_games=N_test)\n",
    "    g.display=False\n",
    "    results=g.run(Q1_agent,random_agent)\n",
    "    \n",
    "    percentage_player1_wins.append(results.count(1))\n",
    "    percentage_player2_wins.append(results.count(2))\n",
    "    percentage_ties.append(results.count(0)) \n",
    "    \n",
    "    percent_broken=sum([_==3 for _ in results])/len(results)*100\n",
    "    assert percent_broken==0.0\n",
    "    \n",
    "    total_number_of_games.append(current_game_number)\n",
    "    "
   ]
  },
  {
   "cell_type": "code",
   "execution_count": null,
   "metadata": {},
   "outputs": [],
   "source": [
    "figure(figsize=(10,6))\n",
    "plot(total_number_of_games,percentage_player1_wins,'-o',label=\"Q1 Wins\")\n",
    "plot(total_number_of_games,percentage_player2_wins,'-x',label=\"Random Wins\")\n",
    "plot(total_number_of_games,percentage_ties,'-s',label=\"Ties\")\n",
    "xlabel('Number of Games')\n",
    "ylabel('Percentage')\n",
    "legend()"
   ]
  },
  {
   "attachments": {
    "f5482f68-ae11-4bed-bd0f-aee0015a60a0.png": {
     "image/png": "[encoded data removed]"
    }
   },
   "cell_type": "markdown",
   "metadata": {},
   "source": [
    "![image.png](attachment:f5482f68-ae11-4bed-bd0f-aee0015a60a0.png)"
   ]
  },
  {
   "cell_type": "code",
   "execution_count": 23,
   "metadata": {},
   "outputs": [
    {
     "name": "stdout",
     "output_type": "stream",
     "text": [
      "====\n",
      "Game  1\n",
      "  .    .    .    .    .    .    .  \n",
      "  .    .    .    .    .    .    .  \n",
      "  .    .    .    .    .    .    .  \n",
      "  .    .    .    .    .    .    .  \n",
      "  .    .    .    .    .    .    .  \n",
      "  .    .    .    .    .    .    .  \n",
      "Player 1 moves 3\n",
      "  .    .    .    .    .    .    .  \n",
      "  .    .    .    .    .    .    .  \n",
      "  .    .    .    .    .    .    .  \n",
      "  .    .    .    .    .    .    .  \n",
      "  .    .    .    .    .    .    .  \n",
      "  .    .    .   (r)   .    .    .  \n",
      "\n",
      "  0    1    2    3    4    5    6\n",
      "  7    8    9    10   11   12   13\n",
      "  14   15   16   17   18   19   20\n",
      "  21   22   23   24   25   26   27\n",
      "  28   29   30   31   32   33   34\n",
      "  35   36   37   38   39   40   41\n",
      "     \n",
      " Your valid moves are:  [0, 1, 2, 3, 4, 5, 6]\n"
     ]
    },
    {
     "name": "stdin",
     "output_type": "stream",
     "text": [
      "\n",
      " Where do you want to put your piece? You are yellow! 0\n"
     ]
    },
    {
     "name": "stdout",
     "output_type": "stream",
     "text": [
      "Player 2 moves 0\n",
      "  .    .    .    .    .    .    .  \n",
      "  .    .    .    .    .    .    .  \n",
      "  .    .    .    .    .    .    .  \n",
      "  .    .    .    .    .    .    .  \n",
      "  .    .    .    .    .    .    .  \n",
      " (y)   .    .   (r)   .    .    .  \n",
      "Player 1 moves 5\n",
      "  .    .    .    .    .    .    .  \n",
      "  .    .    .    .    .    .    .  \n",
      "  .    .    .    .    .    .    .  \n",
      "  .    .    .    .    .    .    .  \n",
      "  .    .    .    .    .    .    .  \n",
      " (y)   .    .   (r)   .   (r)   .  \n",
      "\n",
      "  0    1    2    3    4    5    6\n",
      "  7    8    9    10   11   12   13\n",
      "  14   15   16   17   18   19   20\n",
      "  21   22   23   24   25   26   27\n",
      "  28   29   30   31   32   33   34\n",
      "  35   36   37   38   39   40   41\n",
      "     \n",
      " Your valid moves are:  [0, 1, 2, 3, 4, 5, 6]\n"
     ]
    },
    {
     "name": "stdin",
     "output_type": "stream",
     "text": [
      "\n",
      " Where do you want to put your piece? You are yellow! 3\n"
     ]
    },
    {
     "name": "stdout",
     "output_type": "stream",
     "text": [
      "Player 2 moves 3\n",
      "  .    .    .    .    .    .    .  \n",
      "  .    .    .    .    .    .    .  \n",
      "  .    .    .    .    .    .    .  \n",
      "  .    .    .    .    .    .    .  \n",
      "  .    .    .   (y)   .    .    .  \n",
      " (y)   .    .   (r)   .   (r)   .  \n",
      "Player 1 moves 3\n",
      "  .    .    .    .    .    .    .  \n",
      "  .    .    .    .    .    .    .  \n",
      "  .    .    .    .    .    .    .  \n",
      "  .    .    .   (r)   .    .    .  \n",
      "  .    .    .   (y)   .    .    .  \n",
      " (y)   .    .   (r)   .   (r)   .  \n",
      "\n",
      "  0    1    2    3    4    5    6\n",
      "  7    8    9    10   11   12   13\n",
      "  14   15   16   17   18   19   20\n",
      "  21   22   23   24   25   26   27\n",
      "  28   29   30   31   32   33   34\n",
      "  35   36   37   38   39   40   41\n",
      "     \n",
      " Your valid moves are:  [0, 1, 2, 3, 4, 5, 6]\n"
     ]
    },
    {
     "name": "stdin",
     "output_type": "stream",
     "text": [
      "\n",
      " Where do you want to put your piece? You are yellow! 37\n"
     ]
    },
    {
     "name": "stdout",
     "output_type": "stream",
     "text": [
      "Illegal move.\n"
     ]
    },
    {
     "name": "stdin",
     "output_type": "stream",
     "text": [
      "\n",
      " Where do you want to put your piece? You are yellow! 2\n"
     ]
    },
    {
     "name": "stdout",
     "output_type": "stream",
     "text": [
      "Player 2 moves 2\n",
      "  .    .    .    .    .    .    .  \n",
      "  .    .    .    .    .    .    .  \n",
      "  .    .    .    .    .    .    .  \n",
      "  .    .    .   (r)   .    .    .  \n",
      "  .    .    .   (y)   .    .    .  \n",
      " (y)   .   (y)  (r)   .   (r)   .  \n",
      "Player 1 moves 3\n",
      "  .    .    .    .    .    .    .  \n",
      "  .    .    .    .    .    .    .  \n",
      "  .    .    .   (r)   .    .    .  \n",
      "  .    .    .   (r)   .    .    .  \n",
      "  .    .    .   (y)   .    .    .  \n",
      " (y)   .   (y)  (r)   .   (r)   .  \n",
      "\n",
      "  0    1    2    3    4    5    6\n",
      "  7    8    9    10   11   12   13\n",
      "  14   15   16   17   18   19   20\n",
      "  21   22   23   24   25   26   27\n",
      "  28   29   30   31   32   33   34\n",
      "  35   36   37   38   39   40   41\n",
      "     \n",
      " Your valid moves are:  [0, 1, 2, 3, 4, 5, 6]\n"
     ]
    },
    {
     "name": "stdin",
     "output_type": "stream",
     "text": [
      "\n",
      " Where do you want to put your piece? You are yellow! 4\n"
     ]
    },
    {
     "name": "stdout",
     "output_type": "stream",
     "text": [
      "Player 2 moves 4\n",
      "  .    .    .    .    .    .    .  \n",
      "  .    .    .    .    .    .    .  \n",
      "  .    .    .   (r)   .    .    .  \n",
      "  .    .    .   (r)   .    .    .  \n",
      "  .    .    .   (y)   .    .    .  \n",
      " (y)   .   (y)  (r)  (y)  (r)   .  \n",
      "Player 1 moves 3\n",
      "  .    .    .    .    .    .    .  \n",
      "  .    .    .   (r)   .    .    .  \n",
      "  .    .    .   (r)   .    .    .  \n",
      "  .    .    .   (r)   .    .    .  \n",
      "  .    .    .   (y)   .    .    .  \n",
      " (y)   .   (y)  (r)  (y)  (r)   .  \n",
      "\n",
      "  0    1    2    3    4    5    6\n",
      "  7    8    9    10   11   12   13\n",
      "  14   15   16   17   18   19   20\n",
      "  21   22   23   24   25   26   27\n",
      "  28   29   30   31   32   33   34\n",
      "  35   36   37   38   39   40   41\n",
      "     \n",
      " Your valid moves are:  [0, 1, 2, 3, 4, 5, 6]\n"
     ]
    },
    {
     "name": "stdin",
     "output_type": "stream",
     "text": [
      "\n",
      " Where do you want to put your piece? You are yellow! 4\n"
     ]
    },
    {
     "name": "stdout",
     "output_type": "stream",
     "text": [
      "Player 2 moves 4\n",
      "  .    .    .    .    .    .    .  \n",
      "  .    .    .   (r)   .    .    .  \n",
      "  .    .    .   (r)   .    .    .  \n",
      "  .    .    .   (r)   .    .    .  \n",
      "  .    .    .   (y)  (y)   .    .  \n",
      " (y)   .   (y)  (r)  (y)  (r)   .  \n",
      "Player 1 moves 3\n",
      "  .    .    .   (r)   .    .    .  \n",
      "  .    .    .   (r)   .    .    .  \n",
      "  .    .    .   (r)   .    .    .  \n",
      "  .    .    .   (r)   .    .    .  \n",
      "  .    .    .   (y)  (y)   .    .  \n",
      " (y)   .   (y)  (r)  (y)  (r)   .  \n",
      "Player  1 won.\n"
     ]
    },
    {
     "data": {
      "text/plain": [
       "[1]"
      ]
     },
     "execution_count": 23,
     "metadata": {},
     "output_type": "execute_result"
    }
   ],
   "source": [
    "g=Game(number_of_games=1)  \n",
    "g.display=True\n",
    "g.run(Q1_agent,human_agent)"
   ]
  },
  {
   "cell_type": "code",
   "execution_count": null,
   "metadata": {},
   "outputs": [],
   "source": []
  }
 ],
 "metadata": {
  "kernelspec": {
   "display_name": "Python 3 (ipykernel)",
   "language": "python",
   "name": "python3"
  },
  "language_info": {
   "codemirror_mode": {
    "name": "ipython",
    "version": 3
   },
   "file_extension": ".py",
   "mimetype": "text/x-python",
   "name": "python",
   "nbconvert_exporter": "python",
   "pygments_lexer": "ipython3",
   "version": "3.9.12"
  }
 },
 "nbformat": 4,
 "nbformat_minor": 4
}
