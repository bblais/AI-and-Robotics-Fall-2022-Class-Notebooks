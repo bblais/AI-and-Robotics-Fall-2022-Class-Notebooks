{
 "cells": [
  {
   "cell_type": "code",
   "execution_count": 4,
   "id": "371f23fd-bbcf-4656-b33f-44271d457911",
   "metadata": {},
   "outputs": [
    {
     "name": "stdin",
     "output_type": "stream",
     "text": [
      "Enter password: ··········\n"
     ]
    },
    {
     "name": "stdout",
     "output_type": "stream",
     "text": [
      "b'blah\\n'\n"
     ]
    }
   ],
   "source": [
    "import paramiko\n",
    "from getpass import getpass\n",
    "\n",
    "# Set the hostname, username, and password for the Raspberry Pi\n",
    "HOSTNAME = \"dex.local\"\n",
    "USERNAME = \"pi\"\n",
    "PASSWORD=getpass(\"Enter password:\")  # robot password\n",
    "# Create an SSH client\n",
    "ssh = paramiko.SSHClient()\n",
    "\n",
    "# Add your Raspberry Pi's hostname to the known hosts file\n",
    "ssh.load_system_host_keys()\n",
    "\n",
    "# Connect to the Raspberry Pi\n",
    "ssh.connect(HOSTNAME, username=USERNAME, password=PASSWORD)\n",
    "\n",
    "# Execute a command on the Raspberry Pi\n",
    "stdin, stdout, stderr = ssh.exec_command(\"python3 python/blah.py\")\n",
    "\n",
    "# Print the output of the command\n",
    "print(stdout.read())\n",
    "\n",
    "# Close the connection\n",
    "ssh.close()"
   ]
  },
  {
   "cell_type": "code",
   "execution_count": 7,
   "id": "18c9a75c-1330-40a1-be4a-6a784859f6c5",
   "metadata": {},
   "outputs": [
    {
     "name": "stdin",
     "output_type": "stream",
     "text": [
      "Enter password: ··········\n"
     ]
    },
    {
     "ename": "AttributeError",
     "evalue": "'Transport' object has no attribute 'request'",
     "output_type": "error",
     "traceback": [
      "\u001b[0;31m---------------------------------------------------------------------------\u001b[0m",
      "\u001b[0;31mAttributeError\u001b[0m                            Traceback (most recent call last)",
      "Input \u001b[0;32mIn [7]\u001b[0m, in \u001b[0;36m<cell line: 23>\u001b[0;34m()\u001b[0m\n\u001b[1;32m     20\u001b[0m xmlrpc_client \u001b[38;5;241m=\u001b[39m xmlrpc\u001b[38;5;241m.\u001b[39mclient\u001b[38;5;241m.\u001b[39mServerProxy(\u001b[38;5;124m\"\u001b[39m\u001b[38;5;124mhttp://dex.local:8002/\u001b[39m\u001b[38;5;124m\"\u001b[39m, transport\u001b[38;5;241m=\u001b[39mtransport)\n\u001b[1;32m     22\u001b[0m \u001b[38;5;66;03m# Call an XML-RPC method on the remote host\u001b[39;00m\n\u001b[0;32m---> 23\u001b[0m result \u001b[38;5;241m=\u001b[39m \u001b[43mxmlrpc_client\u001b[49m\u001b[38;5;241;43m.\u001b[39;49m\u001b[43myour_method_name\u001b[49m\u001b[43m(\u001b[49m\u001b[43m)\u001b[49m\n\u001b[1;32m     25\u001b[0m \u001b[38;5;66;03m# Print the result of the XML-RPC call\u001b[39;00m\n\u001b[1;32m     26\u001b[0m \u001b[38;5;28mprint\u001b[39m(result)\n",
      "File \u001b[0;32m~/opt/anaconda3/lib/python3.9/xmlrpc/client.py:1122\u001b[0m, in \u001b[0;36m_Method.__call__\u001b[0;34m(self, *args)\u001b[0m\n\u001b[1;32m   1121\u001b[0m \u001b[38;5;28;01mdef\u001b[39;00m \u001b[38;5;21m__call__\u001b[39m(\u001b[38;5;28mself\u001b[39m, \u001b[38;5;241m*\u001b[39margs):\n\u001b[0;32m-> 1122\u001b[0m     \u001b[38;5;28;01mreturn\u001b[39;00m \u001b[38;5;28;43mself\u001b[39;49m\u001b[38;5;241;43m.\u001b[39;49m\u001b[43m__send\u001b[49m\u001b[43m(\u001b[49m\u001b[38;5;28;43mself\u001b[39;49m\u001b[38;5;241;43m.\u001b[39;49m\u001b[43m__name\u001b[49m\u001b[43m,\u001b[49m\u001b[43m \u001b[49m\u001b[43margs\u001b[49m\u001b[43m)\u001b[49m\n",
      "File \u001b[0;32m~/opt/anaconda3/lib/python3.9/xmlrpc/client.py:1464\u001b[0m, in \u001b[0;36mServerProxy.__request\u001b[0;34m(self, methodname, params)\u001b[0m\n\u001b[1;32m   1458\u001b[0m \u001b[38;5;28;01mdef\u001b[39;00m \u001b[38;5;21m__request\u001b[39m(\u001b[38;5;28mself\u001b[39m, methodname, params):\n\u001b[1;32m   1459\u001b[0m     \u001b[38;5;66;03m# call a method on the remote server\u001b[39;00m\n\u001b[1;32m   1461\u001b[0m     request \u001b[38;5;241m=\u001b[39m dumps(params, methodname, encoding\u001b[38;5;241m=\u001b[39m\u001b[38;5;28mself\u001b[39m\u001b[38;5;241m.\u001b[39m__encoding,\n\u001b[1;32m   1462\u001b[0m                     allow_none\u001b[38;5;241m=\u001b[39m\u001b[38;5;28mself\u001b[39m\u001b[38;5;241m.\u001b[39m__allow_none)\u001b[38;5;241m.\u001b[39mencode(\u001b[38;5;28mself\u001b[39m\u001b[38;5;241m.\u001b[39m__encoding, \u001b[38;5;124m'\u001b[39m\u001b[38;5;124mxmlcharrefreplace\u001b[39m\u001b[38;5;124m'\u001b[39m)\n\u001b[0;32m-> 1464\u001b[0m     response \u001b[38;5;241m=\u001b[39m \u001b[38;5;28;43mself\u001b[39;49m\u001b[38;5;241;43m.\u001b[39;49m\u001b[43m__transport\u001b[49m\u001b[38;5;241;43m.\u001b[39;49m\u001b[43mrequest\u001b[49m(\n\u001b[1;32m   1465\u001b[0m         \u001b[38;5;28mself\u001b[39m\u001b[38;5;241m.\u001b[39m__host,\n\u001b[1;32m   1466\u001b[0m         \u001b[38;5;28mself\u001b[39m\u001b[38;5;241m.\u001b[39m__handler,\n\u001b[1;32m   1467\u001b[0m         request,\n\u001b[1;32m   1468\u001b[0m         verbose\u001b[38;5;241m=\u001b[39m\u001b[38;5;28mself\u001b[39m\u001b[38;5;241m.\u001b[39m__verbose\n\u001b[1;32m   1469\u001b[0m         )\n\u001b[1;32m   1471\u001b[0m     \u001b[38;5;28;01mif\u001b[39;00m \u001b[38;5;28mlen\u001b[39m(response) \u001b[38;5;241m==\u001b[39m \u001b[38;5;241m1\u001b[39m:\n\u001b[1;32m   1472\u001b[0m         response \u001b[38;5;241m=\u001b[39m response[\u001b[38;5;241m0\u001b[39m]\n",
      "\u001b[0;31mAttributeError\u001b[0m: 'Transport' object has no attribute 'request'"
     ]
    }
   ],
   "source": [
    "import paramiko\n",
    "import xmlrpc.client\n",
    "\n",
    "# Set the hostname, username, and password for the remote machine\n",
    "HOSTNAME = \"dex.local\"\n",
    "USERNAME = \"pi\"\n",
    "PASSWORD=getpass(\"Enter password:\")  # robot password\n",
    "\n",
    "# Create an SSH client\n",
    "ssh = paramiko.SSHClient()\n",
    "\n",
    "# Add the remote host's hostname to the known hosts file\n",
    "ssh.load_system_host_keys()\n",
    "\n",
    "# Connect to the remote host\n",
    "ssh.connect(HOSTNAME, username=USERNAME, password=PASSWORD)\n",
    "\n",
    "# Create an XML-RPC client using the SSH transport\n",
    "transport = ssh.get_transport()\n",
    "xmlrpc_client = xmlrpc.client.ServerProxy(\"http://dex.local:8002/\", transport=transport)\n",
    "\n",
    "# Call an XML-RPC method on the remote host\n",
    "result = xmlrpc_client.your_method_name()\n",
    "\n",
    "# Print the result of the XML-RPC call\n",
    "print(result)\n",
    "\n",
    "# Close the connection\n",
    "ssh.close()\n",
    "\n",
    "\n",
    "\n"
   ]
  },
  {
   "cell_type": "code",
   "execution_count": null,
   "id": "6fc5ed69-7722-448e-a3e3-7c94898dfcbb",
   "metadata": {},
   "outputs": [],
   "source": []
  },
  {
   "cell_type": "code",
   "execution_count": null,
   "id": "0d5c9189-ea01-45e2-8849-d70c340f59df",
   "metadata": {},
   "outputs": [],
   "source": [
    "import paramiko\n",
    "import xmlrpc.client\n",
    "\n",
    "# Set the hostname, username, and password for the remote machine\n",
    "HOSTNAME = \"your_hostname\"\n",
    "USERNAME = \"username\"\n",
    "PASSWORD=getpass(\"Enter password:\")  # robot password\n",
    "port=\"someport\"\n",
    "\n",
    "# Create an SSH client\n",
    "ssh = paramiko.SSHClient()\n",
    "\n",
    "# Add the remote host's hostname to the known hosts file\n",
    "ssh.load_system_host_keys()\n",
    "\n",
    "# Connect to the remote host\n",
    "ssh.connect(HOSTNAME, username=USERNAME, password=PASSWORD)\n",
    "\n",
    "# Create an XML-RPC client using the SSH transport\n",
    "transport = ssh.get_transport()\n",
    "xmlrpc_client = xmlrpc.client.ServerProxy(f\"http://{hostname}:{port}\", transport=transport)\n",
    "\n",
    "# Call an XML-RPC method on the remote host\n",
    "result = xmlrpc_client.your_method_name()\n",
    "\n",
    "# Print the result of the XML-RPC call\n",
    "print(result)\n",
    "\n",
    "# Close the connection\n",
    "ssh.close()\n",
    "\n",
    "\n",
    "\n"
   ]
  },
  {
   "cell_type": "code",
   "execution_count": 11,
   "id": "78ca0792-3ff5-4207-b6b7-68a0ee0599c0",
   "metadata": {},
   "outputs": [
    {
     "name": "stdin",
     "output_type": "stream",
     "text": [
      "Enter password: ··········\n",
      "pausing \n"
     ]
    },
    {
     "ename": "OSError",
     "evalue": "Socket is closed",
     "output_type": "error",
     "traceback": [
      "\u001b[0;31m---------------------------------------------------------------------------\u001b[0m",
      "\u001b[0;31mOSError\u001b[0m                                   Traceback (most recent call last)",
      "Input \u001b[0;32mIn [11]\u001b[0m, in \u001b[0;36m<cell line: 23>\u001b[0;34m()\u001b[0m\n\u001b[1;32m     21\u001b[0m stdin\u001b[38;5;241m.\u001b[39mwrite(\u001b[38;5;124m\"\u001b[39m\u001b[38;5;124mforward 5\u001b[39m\u001b[38;5;124m\"\u001b[39m\u001b[38;5;241m+\u001b[39m\u001b[38;5;124m\"\u001b[39m\u001b[38;5;130;01m\\n\u001b[39;00m\u001b[38;5;124m\"\u001b[39m)\n\u001b[1;32m     22\u001b[0m x\u001b[38;5;241m=\u001b[39m\u001b[38;5;28minput\u001b[39m(\u001b[38;5;124m\"\u001b[39m\u001b[38;5;124mpausing\u001b[39m\u001b[38;5;124m\"\u001b[39m)\n\u001b[0;32m---> 23\u001b[0m \u001b[43mstdin\u001b[49m\u001b[38;5;241;43m.\u001b[39;49m\u001b[43mwrite\u001b[49m\u001b[43m(\u001b[49m\u001b[38;5;124;43m\"\u001b[39;49m\u001b[38;5;124;43mexit\u001b[39;49m\u001b[38;5;124;43m\"\u001b[39;49m\u001b[38;5;241;43m+\u001b[39;49m\u001b[38;5;124;43m\"\u001b[39;49m\u001b[38;5;130;43;01m\\n\u001b[39;49;00m\u001b[38;5;124;43m\"\u001b[39;49m\u001b[43m)\u001b[49m\n\u001b[1;32m     25\u001b[0m \u001b[38;5;66;03m# Close the connection\u001b[39;00m\n\u001b[1;32m     26\u001b[0m ssh\u001b[38;5;241m.\u001b[39mclose()\n",
      "File \u001b[0;32m~/opt/anaconda3/lib/python3.9/site-packages/paramiko/file.py:405\u001b[0m, in \u001b[0;36mBufferedFile.write\u001b[0;34m(self, data)\u001b[0m\n\u001b[1;32m    403\u001b[0m     \u001b[38;5;28;01mraise\u001b[39;00m \u001b[38;5;167;01mIOError\u001b[39;00m(\u001b[38;5;124m\"\u001b[39m\u001b[38;5;124mFile not open for writing\u001b[39m\u001b[38;5;124m\"\u001b[39m)\n\u001b[1;32m    404\u001b[0m \u001b[38;5;28;01mif\u001b[39;00m \u001b[38;5;129;01mnot\u001b[39;00m (\u001b[38;5;28mself\u001b[39m\u001b[38;5;241m.\u001b[39m_flags \u001b[38;5;241m&\u001b[39m \u001b[38;5;28mself\u001b[39m\u001b[38;5;241m.\u001b[39mFLAG_BUFFERED):\n\u001b[0;32m--> 405\u001b[0m     \u001b[38;5;28;43mself\u001b[39;49m\u001b[38;5;241;43m.\u001b[39;49m\u001b[43m_write_all\u001b[49m\u001b[43m(\u001b[49m\u001b[43mdata\u001b[49m\u001b[43m)\u001b[49m\n\u001b[1;32m    406\u001b[0m     \u001b[38;5;28;01mreturn\u001b[39;00m\n\u001b[1;32m    407\u001b[0m \u001b[38;5;28mself\u001b[39m\u001b[38;5;241m.\u001b[39m_wbuffer\u001b[38;5;241m.\u001b[39mwrite(data)\n",
      "File \u001b[0;32m~/opt/anaconda3/lib/python3.9/site-packages/paramiko/file.py:523\u001b[0m, in \u001b[0;36mBufferedFile._write_all\u001b[0;34m(self, raw_data)\u001b[0m\n\u001b[1;32m    521\u001b[0m data \u001b[38;5;241m=\u001b[39m \u001b[38;5;28mmemoryview\u001b[39m(raw_data)\n\u001b[1;32m    522\u001b[0m \u001b[38;5;28;01mwhile\u001b[39;00m \u001b[38;5;28mlen\u001b[39m(data) \u001b[38;5;241m>\u001b[39m \u001b[38;5;241m0\u001b[39m:\n\u001b[0;32m--> 523\u001b[0m     count \u001b[38;5;241m=\u001b[39m \u001b[38;5;28;43mself\u001b[39;49m\u001b[38;5;241;43m.\u001b[39;49m\u001b[43m_write\u001b[49m\u001b[43m(\u001b[49m\u001b[43mdata\u001b[49m\u001b[43m)\u001b[49m\n\u001b[1;32m    524\u001b[0m     data \u001b[38;5;241m=\u001b[39m data[count:]\n\u001b[1;32m    525\u001b[0m     \u001b[38;5;28;01mif\u001b[39;00m \u001b[38;5;28mself\u001b[39m\u001b[38;5;241m.\u001b[39m_flags \u001b[38;5;241m&\u001b[39m \u001b[38;5;28mself\u001b[39m\u001b[38;5;241m.\u001b[39mFLAG_APPEND:\n",
      "File \u001b[0;32m~/opt/anaconda3/lib/python3.9/site-packages/paramiko/channel.py:1364\u001b[0m, in \u001b[0;36mChannelFile._write\u001b[0;34m(self, data)\u001b[0m\n\u001b[1;32m   1363\u001b[0m \u001b[38;5;28;01mdef\u001b[39;00m \u001b[38;5;21m_write\u001b[39m(\u001b[38;5;28mself\u001b[39m, data):\n\u001b[0;32m-> 1364\u001b[0m     \u001b[38;5;28;43mself\u001b[39;49m\u001b[38;5;241;43m.\u001b[39;49m\u001b[43mchannel\u001b[49m\u001b[38;5;241;43m.\u001b[39;49m\u001b[43msendall\u001b[49m\u001b[43m(\u001b[49m\u001b[43mdata\u001b[49m\u001b[43m)\u001b[49m\n\u001b[1;32m   1365\u001b[0m     \u001b[38;5;28;01mreturn\u001b[39;00m \u001b[38;5;28mlen\u001b[39m(data)\n",
      "File \u001b[0;32m~/opt/anaconda3/lib/python3.9/site-packages/paramiko/channel.py:846\u001b[0m, in \u001b[0;36mChannel.sendall\u001b[0;34m(self, s)\u001b[0m\n\u001b[1;32m    828\u001b[0m \u001b[38;5;124;03m\"\"\"\u001b[39;00m\n\u001b[1;32m    829\u001b[0m \u001b[38;5;124;03mSend data to the channel, without allowing partial results.  Unlike\u001b[39;00m\n\u001b[1;32m    830\u001b[0m \u001b[38;5;124;03m`send`, this method continues to send data from the given string until\u001b[39;00m\n\u001b[0;32m   (...)\u001b[0m\n\u001b[1;32m    843\u001b[0m \u001b[38;5;124;03m    This is irritating, but identically follows Python's API.\u001b[39;00m\n\u001b[1;32m    844\u001b[0m \u001b[38;5;124;03m\"\"\"\u001b[39;00m\n\u001b[1;32m    845\u001b[0m \u001b[38;5;28;01mwhile\u001b[39;00m s:\n\u001b[0;32m--> 846\u001b[0m     sent \u001b[38;5;241m=\u001b[39m \u001b[38;5;28;43mself\u001b[39;49m\u001b[38;5;241;43m.\u001b[39;49m\u001b[43msend\u001b[49m\u001b[43m(\u001b[49m\u001b[43ms\u001b[49m\u001b[43m)\u001b[49m\n\u001b[1;32m    847\u001b[0m     s \u001b[38;5;241m=\u001b[39m s[sent:]\n\u001b[1;32m    848\u001b[0m \u001b[38;5;28;01mreturn\u001b[39;00m \u001b[38;5;28;01mNone\u001b[39;00m\n",
      "File \u001b[0;32m~/opt/anaconda3/lib/python3.9/site-packages/paramiko/channel.py:801\u001b[0m, in \u001b[0;36mChannel.send\u001b[0;34m(self, s)\u001b[0m\n\u001b[1;32m    799\u001b[0m m\u001b[38;5;241m.\u001b[39madd_byte(cMSG_CHANNEL_DATA)\n\u001b[1;32m    800\u001b[0m m\u001b[38;5;241m.\u001b[39madd_int(\u001b[38;5;28mself\u001b[39m\u001b[38;5;241m.\u001b[39mremote_chanid)\n\u001b[0;32m--> 801\u001b[0m \u001b[38;5;28;01mreturn\u001b[39;00m \u001b[38;5;28;43mself\u001b[39;49m\u001b[38;5;241;43m.\u001b[39;49m\u001b[43m_send\u001b[49m\u001b[43m(\u001b[49m\u001b[43ms\u001b[49m\u001b[43m,\u001b[49m\u001b[43m \u001b[49m\u001b[43mm\u001b[49m\u001b[43m)\u001b[49m\n",
      "File \u001b[0;32m~/opt/anaconda3/lib/python3.9/site-packages/paramiko/channel.py:1198\u001b[0m, in \u001b[0;36mChannel._send\u001b[0;34m(self, s, m)\u001b[0m\n\u001b[1;32m   1194\u001b[0m \u001b[38;5;28;01mtry\u001b[39;00m:\n\u001b[1;32m   1195\u001b[0m     \u001b[38;5;28;01mif\u001b[39;00m \u001b[38;5;28mself\u001b[39m\u001b[38;5;241m.\u001b[39mclosed:\n\u001b[1;32m   1196\u001b[0m         \u001b[38;5;66;03m# this doesn't seem useful, but it is the documented behavior\u001b[39;00m\n\u001b[1;32m   1197\u001b[0m         \u001b[38;5;66;03m# of Socket\u001b[39;00m\n\u001b[0;32m-> 1198\u001b[0m         \u001b[38;5;28;01mraise\u001b[39;00m socket\u001b[38;5;241m.\u001b[39merror(\u001b[38;5;124m\"\u001b[39m\u001b[38;5;124mSocket is closed\u001b[39m\u001b[38;5;124m\"\u001b[39m)\n\u001b[1;32m   1199\u001b[0m     size \u001b[38;5;241m=\u001b[39m \u001b[38;5;28mself\u001b[39m\u001b[38;5;241m.\u001b[39m_wait_for_send_window(size)\n\u001b[1;32m   1200\u001b[0m     \u001b[38;5;28;01mif\u001b[39;00m size \u001b[38;5;241m==\u001b[39m \u001b[38;5;241m0\u001b[39m:\n\u001b[1;32m   1201\u001b[0m         \u001b[38;5;66;03m# eof or similar\u001b[39;00m\n",
      "\u001b[0;31mOSError\u001b[0m: Socket is closed"
     ]
    }
   ],
   "source": [
    "import paramiko\n",
    "from getpass import getpass\n",
    "\n",
    "# Set the hostname, username, and password for the Raspberry Pi\n",
    "HOSTNAME = \"dex.local\"\n",
    "USERNAME = \"pi\"\n",
    "PASSWORD=getpass(\"Enter password:\")  # robot password\n",
    "# Create an SSH client\n",
    "ssh = paramiko.SSHClient()\n",
    "\n",
    "# Add your Raspberry Pi's hostname to the known hosts file\n",
    "ssh.load_system_host_keys()\n",
    "\n",
    "# Connect to the Raspberry Pi\n",
    "ssh.connect(HOSTNAME, username=USERNAME, password=PASSWORD)\n",
    "\n",
    "# Execute a command on the Raspberry Pi\n",
    "stdin, stdout, stderr = ssh.exec_command(\"python3 python/test_paramiko_stream.py\")\n",
    "\n",
    "# Print the output of the command\n",
    "stdin.write(\"forward 5\"+\"\\n\")\n",
    "x=input(\"pausing\")\n",
    "stdin.write(\"exit\"+\"\\n\")\n",
    "\n",
    "# Close the connection\n",
    "ssh.close()"
   ]
  },
  {
   "cell_type": "code",
   "execution_count": 12,
   "id": "4e6d656e-e1b8-4fef-ae1c-7e496190f776",
   "metadata": {},
   "outputs": [
    {
     "name": "stdin",
     "output_type": "stream",
     "text": [
      "Enter password: ··········\n"
     ]
    }
   ],
   "source": [
    "import paramiko\n",
    "from getpass import getpass\n",
    "\n",
    "# Set the hostname, username, and password for the Raspberry Pi\n",
    "HOSTNAME = \"dex.local\"\n",
    "USERNAME = \"pi\"\n",
    "PASSWORD=getpass(\"Enter password:\")  # robot password\n",
    "# Create an SSH client\n",
    "ssh = paramiko.SSHClient()\n"
   ]
  },
  {
   "cell_type": "code",
   "execution_count": 10,
   "id": "c6564f62-da8d-4642-b800-24ae8b90b6ea",
   "metadata": {},
   "outputs": [
    {
     "data": {
      "text/plain": [
       "(<paramiko.ChannelFile from <paramiko.Channel 0 (open) window=2097152 -> <paramiko.Transport at 0xb15b0580 (cipher aes128-ctr, 128 bits) (active; 1 open channel(s))>>>,\n",
       " <paramiko.ChannelFile from <paramiko.Channel 0 (open) window=2097152 -> <paramiko.Transport at 0xb15b0580 (cipher aes128-ctr, 128 bits) (active; 1 open channel(s))>>>,\n",
       " <paramiko.ChannelFile from <paramiko.Channel 0 (open) window=2097152 -> <paramiko.Transport at 0xb15b0580 (cipher aes128-ctr, 128 bits) (active; 1 open channel(s))>>>)"
      ]
     },
     "execution_count": 10,
     "metadata": {},
     "output_type": "execute_result"
    }
   ],
   "source": []
  },
  {
   "cell_type": "code",
   "execution_count": null,
   "id": "3a0368c3-dfe1-438d-9501-b239892547a1",
   "metadata": {},
   "outputs": [],
   "source": []
  }
 ],
 "metadata": {
  "kernelspec": {
   "display_name": "Python 3 (ipykernel)",
   "language": "python",
   "name": "python3"
  },
  "language_info": {
   "codemirror_mode": {
    "name": "ipython",
    "version": 3
   },
   "file_extension": ".py",
   "mimetype": "text/x-python",
   "name": "python",
   "nbconvert_exporter": "python",
   "pygments_lexer": "ipython3",
   "version": "3.9.12"
  }
 },
 "nbformat": 4,
 "nbformat_minor": 5
}
