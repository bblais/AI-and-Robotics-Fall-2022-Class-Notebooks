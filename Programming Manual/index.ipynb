{
 "cells": [
  {
   "cell_type": "markdown",
   "id": "00087edb-d879-4c1d-a991-8bfead400550",
   "metadata": {},
   "source": [
    "# Acknowledgments {.unnumbered}\n",
    "\n",
    "I want to thank the Bryant College AI and Robotics class of Fall 2003\n",
    "for having the patience with me teaching the course *without* this\n",
    "guide. Their good work has motivated me to write it. The Bryant\n",
    "University AI and Robotics class of Fall 2004 allowed me to clean up\n",
    "many of the exercises, and make the text more clear. The AI and Robotics\n",
    "class of 2011 motivated me to do many improvements to this document.\n",
    "\n",
    "Also, now I want to thank the AI and Robotics class of Fall 2021 and Ryan Smith for motivating me to translate this to a slightly more modern platform.\n"
   ]
  },
  {
   "cell_type": "markdown",
   "id": "e898ad16-cbf3-49fb-9469-9e849cbc6861",
   "metadata": {},
   "source": [
    "# Preface: Why Python? {.unnumbered}\n",
    "\n",
    "There are several reasons for me choosing Python as the\n",
    "language/environment for introducing programming, some of them\n",
    "practical, some pedagogical, and some personal.\n",
    "\n",
    "\n",
    "- Python is free, as in \"free oil changes\". I believe this is an\n",
    "important consideration for teaching any language. If it is accessible,\n",
    "then students are more likely to use it beyond the particular class that\n",
    "is being taught. \n",
    "- Python is free, as in \"free speech\". This allows me to\n",
    "distribute freely anything I develop with Python, and any changes to\n",
    "Python that I make for my own purposes. \n",
    "- Python is available both for\n",
    "Windows, Linux, and the Mac. Since I work in both a Mac and a Linux\n",
    "environment, but am surrounded by students who only know MS Windows,\n",
    "this is a personal reason for me using it. \n",
    "- Python is simple. It's\n",
    "syntax is extremely clean. There are no variable declarations or\n",
    "pointers. There are no segmentation faults or other memory errors.\n",
    "\n",
    "- Python is interpreted. This makes it easy to develop programs, and more\n",
    "importantly to *debug* programs. \n",
    "- Python is flexible. You can do dynamic\n",
    "heterogeneous arrays, structures, lists, objects and classes with a\n",
    "simple syntax. You can do both procedural and object-oriented\n",
    "programming (or a mixture) if you want.\n",
    "\n",
    "This guide grew out of my experience teaching an Artificial Intelligence\n",
    "and Robotics course at Bryant University (formerly Bryant College). The course includes students from\n",
    "many majors, not many of which are computer oriented. As such, Python\n",
    "was a choice (over the traditional Lisp for AI) that would have a chance\n",
    "to be used by students in other contexts outside of the class.\n",
    "\n",
    "As far as other possible languages for the course, C or Java are obvious\n",
    "choices, especially given how much support material there is out there\n",
    "(I wouldn't have had to write this guide at all), but I believe that\n",
    "certain language structures, like variable declarations and pointers (in\n",
    "C), get in the way of the concepts I want to teach. Visual Basic is a\n",
    "possibility, but I don't know that language as well as others, I don't\n",
    "believe it exists currently for Linux, and I don't believe it has the\n",
    "simplicity and power of Python. Lisp is the most common choice for an AI\n",
    "class, but as noted above the course I teach is not a traditional\n",
    "Computer Science AI course. Pascal is not portable enough, and Prolog is\n",
    "just too weird. :)\n",
    "\n",
    "Since running my classes with Python for many years now, I feel I have\n",
    "accomplished things in this language that would be very difficult, or\n",
    "impossible, to do with a different language. Such things include using\n",
    "Python to program Lego Mindstorms robots, writing numerical simulators\n",
    "with near-mathematical notation, and flexibly dealing with many\n",
    "different types of data. I have yet to have a project where Python\n",
    "wasn't the easiest language to develop that project."
   ]
  },
  {
   "cell_type": "markdown",
   "id": "584e426f-296f-4f80-b997-e3daab3248f0",
   "metadata": {},
   "source": [
    "## License\n",
    "\n",
    "This website is (and will always be) **free to use**, and is licensed under the [Creative Commons Attribution-NonCommercial-NoDerivs 4.0](https://creativecommons.org/licenses/by-nc-nd/4.0/) License. \n"
   ]
  },
  {
   "cell_type": "code",
   "execution_count": null,
   "id": "636f72ef-768c-4e11-ba98-f580f80e3324",
   "metadata": {},
   "outputs": [],
   "source": []
  }
 ],
 "metadata": {
  "kernelspec": {
   "display_name": "Python 3 (ipykernel)",
   "language": "python",
   "name": "python3"
  },
  "language_info": {
   "codemirror_mode": {
    "name": "ipython",
    "version": 3
   },
   "file_extension": ".py",
   "mimetype": "text/x-python",
   "name": "python",
   "nbconvert_exporter": "python",
   "pygments_lexer": "ipython3",
   "version": "3.9.12"
  }
 },
 "nbformat": 4,
 "nbformat_minor": 5
}
