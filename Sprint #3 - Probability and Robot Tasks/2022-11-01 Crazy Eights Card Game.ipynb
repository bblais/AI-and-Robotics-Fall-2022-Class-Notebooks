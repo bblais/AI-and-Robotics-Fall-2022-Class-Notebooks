{
 "cells": [
  {
   "cell_type": "code",
   "execution_count": 1,
   "id": "74741759-19d9-4545-9517-231dd89aa57f",
   "metadata": {},
   "outputs": [
    {
     "name": "stdout",
     "output_type": "stream",
     "text": [
      "Version:  0.2.41\n"
     ]
    }
   ],
   "source": [
    "from Game import *\n",
    "from Game.cards import *"
   ]
  },
  {
   "cell_type": "markdown",
   "id": "c8dfbc7f-3f6e-4454-8be2-9d32116e2a69",
   "metadata": {},
   "source": [
    "https://www.pagat.com/eights/crazy8s.html"
   ]
  },
  {
   "cell_type": "code",
   "execution_count": 52,
   "id": "f12d5df6-6336-49d4-bdb6-181ddada9040",
   "metadata": {},
   "outputs": [],
   "source": [
    "def initial_state():\n",
    "    # state = stock (face down),discard (face up), hand1, hand2,\n",
    "    # observation = discard, own hand\n",
    "    \n",
    "    make_a_small_deck=True  # use this for  agents, for debugging\n",
    "    \n",
    "    \n",
    "    deck=makedeck()\n",
    "    \n",
    "    \n",
    "    if make_a_small_deck:\n",
    "        # to keep things a litter easier\n",
    "        # make a small deck\n",
    "        for card in deck:\n",
    "            if card.rank in [8,9,10]:\n",
    "                continue\n",
    "\n",
    "            deck.remove(card)\n",
    "        cards_per_hand=3  # small game\n",
    "    else:\n",
    "        cards_per_hand=7  # typical game\n",
    "    \n",
    "    \n",
    "    hand1=deck.deal(cards_per_hand)\n",
    "    hand2=deck.deal(cards_per_hand)\n",
    "        \n",
    "    while True:  # keep pulling from the discard until no eights\n",
    "        discard=deck.deal(1)\n",
    "        if not discard[0].rank==8:\n",
    "            break\n",
    "            \n",
    "        deck+=discard   # put the card back and reshuffle\n",
    "        random.shuffle(deck)\n",
    "    \n",
    "    stock=deck\n",
    "    \n",
    "    state=stock,discard,hand1,hand2\n",
    "\n",
    "    return state"
   ]
  },
  {
   "cell_type": "code",
   "execution_count": 53,
   "id": "4a37b646-e82e-4c68-af3a-aa90687bf600",
   "metadata": {},
   "outputs": [],
   "source": [
    "def state_to_observation(state,player):\n",
    "    stock,discard,hand1,hand2=state\n",
    "    \n",
    "    if player==1:\n",
    "        observation=discard,hand1\n",
    "        \n",
    "    else:\n",
    "        observation=discard,hand2\n",
    "        \n",
    "    \n",
    "    return observation\n"
   ]
  },
  {
   "cell_type": "code",
   "execution_count": 54,
   "id": "a231c05a-a7a2-4d10-b20e-6b46733860f3",
   "metadata": {},
   "outputs": [],
   "source": [
    "a=[3,5,3,2,5,56,6,7,7,4,3,3]"
   ]
  },
  {
   "cell_type": "code",
   "execution_count": 55,
   "id": "0dc383ba-c8d5-424d-8097-90a0e5cd51e1",
   "metadata": {},
   "outputs": [
    {
     "data": {
      "text/plain": [
       "[3, 3, 4, 7]"
      ]
     },
     "execution_count": 55,
     "metadata": {},
     "output_type": "execute_result"
    }
   ],
   "source": [
    "a[-1:-5:-1]"
   ]
  },
  {
   "cell_type": "code",
   "execution_count": 56,
   "id": "4bd7054c-e19d-4bae-ac0b-65c9a1bb4f27",
   "metadata": {},
   "outputs": [],
   "source": [
    "def show_state(observation):\n",
    "    discard,hand=observation\n",
    "    print(\"My hand:\",\"(%d cards)\" % len(hand),str(hand))\n",
    "    print(\"Top card:\",discard[-1])\n",
    "    \n",
    "    \n",
    "    print(\"Top 10 cards from the discard: \",str(CardList(discard[-1:-11:-1])))\n",
    "    print()"
   ]
  },
  {
   "cell_type": "code",
   "execution_count": 57,
   "id": "9f8c6a8c-bd0d-4a22-8605-23d659dbe189",
   "metadata": {},
   "outputs": [
    {
     "name": "stdout",
     "output_type": "stream",
     "text": [
      "My hand: (3 cards) 9D 2C 5S\n",
      "Top card: AH\n",
      "Top 10 cards from the discard:  AH\n",
      "\n"
     ]
    }
   ],
   "source": [
    "state=initial_state()\n",
    "show_state(state_to_observation(state,1))"
   ]
  },
  {
   "cell_type": "code",
   "execution_count": 58,
   "id": "f1d79ccc-8cdb-4dd8-a485-722d019f6f08",
   "metadata": {},
   "outputs": [
    {
     "name": "stdout",
     "output_type": "stream",
     "text": [
      "My hand: (3 cards) 2H 5C 3C\n",
      "Top card: AH\n",
      "Top 10 cards from the discard:  AH\n",
      "\n"
     ]
    }
   ],
   "source": [
    "show_state(state_to_observation(state,2))"
   ]
  },
  {
   "cell_type": "code",
   "execution_count": 59,
   "id": "58415139-6849-4133-93e1-8e58d7126716",
   "metadata": {},
   "outputs": [],
   "source": [
    "def valid_moves(observation,player):\n",
    "    discard,hand=observation\n",
    "    top_card=discard[-1]\n",
    "\n",
    "    moves=['draw']\n",
    "    \n",
    "    for card in hand:\n",
    "        if card.rank==8:\n",
    "            for suit in ['h','s','d','c']:\n",
    "                moves.append( [card,suit] )\n",
    "        elif card.rank == top_card.rank:\n",
    "            moves.append(card)\n",
    "        elif card.suit==top_card.suit:\n",
    "            moves.append(card)\n",
    "    \n",
    "    return moves\n",
    "\n"
   ]
  },
  {
   "cell_type": "code",
   "execution_count": 60,
   "id": "b0f1bfcc-9ebd-4464-b2ee-a140b9f2ee1b",
   "metadata": {},
   "outputs": [
    {
     "name": "stdout",
     "output_type": "stream",
     "text": [
      "My hand: (3 cards) 9C 7D QC\n",
      "Top card: JC\n",
      "Top 10 cards from the discard:  JC\n",
      "\n"
     ]
    },
    {
     "data": {
      "text/plain": [
       "['draw', '9C', 'QC']"
      ]
     },
     "execution_count": 60,
     "metadata": {},
     "output_type": "execute_result"
    }
   ],
   "source": [
    "state=initial_state()\n",
    "observation=state_to_observation(state,1)\n",
    "show_state(observation)\n",
    "\n",
    "valid_moves(observation,1)"
   ]
  },
  {
   "cell_type": "code",
   "execution_count": 61,
   "id": "9c6057fc-8906-4efb-9d67-8826b28a428e",
   "metadata": {},
   "outputs": [],
   "source": [
    "def update_state(state,player,move):\n",
    "    stock,discard,hand1,hand2=state\n",
    "    \n",
    "    if move=='draw':\n",
    "        cards=stock.deal(1)\n",
    "        if player==1:\n",
    "            hand1+=cards\n",
    "        else:\n",
    "            hand2+=cards\n",
    "    \n",
    "        if not stock:  # stock is empty, reuse the discard pile other than the last card\n",
    "            stock=CardList(discard[:-1])\n",
    "            discard=CardList([discard[-1]])\n",
    "            \n",
    "        \n",
    "    elif isinstance(move,Card):\n",
    "        card=move\n",
    "        discard+=[move]\n",
    "        \n",
    "        if player==1:\n",
    "            hand1.remove(card)\n",
    "        else:\n",
    "            hand2.remove(card)\n",
    "        \n",
    "    elif isinstance(move[0],Card):  # should be an eight\n",
    "        card=move[0]\n",
    "        \n",
    "        if player==1:\n",
    "            hand1.remove(card)\n",
    "        else:\n",
    "            hand2.remove(card)\n",
    "                \n",
    "        \n",
    "        card.suit=move[1]\n",
    "        discard+=[card]\n",
    "    else:\n",
    "        raise ValueError(\"Can't get there from here.\")\n",
    "    \n",
    "\n",
    "    new_state=stock,discard,hand1,hand2\n",
    "    return new_state"
   ]
  },
  {
   "cell_type": "code",
   "execution_count": 62,
   "id": "795f75e3-a5bd-45fc-abe0-32644a7aff9f",
   "metadata": {},
   "outputs": [],
   "source": [
    "def repeat_move(state,player,move):\n",
    "    if move=='draw':\n",
    "        return True\n",
    "    else:\n",
    "        return False"
   ]
  },
  {
   "cell_type": "code",
   "execution_count": 63,
   "id": "5b6fe47a-5e22-4a58-984e-06febc4c48f5",
   "metadata": {},
   "outputs": [],
   "source": [
    "def win_status(state,player):\n",
    "    stock,discard,hand1,hand2=state\n",
    "    \n",
    "    if player==1 and not hand1:\n",
    "        return 'win'\n",
    "    if player==2 and not hand2:\n",
    "        return 'win'\n",
    "    "
   ]
  },
  {
   "cell_type": "code",
   "execution_count": 64,
   "id": "6455c1f3-6ff0-4c46-b3cf-eb68e5642e60",
   "metadata": {},
   "outputs": [],
   "source": [
    "def random_move(state,player):\n",
    "\n",
    "    moves=valid_moves(state,player)\n",
    "    return random.choice(moves)\n",
    "\n",
    "random_agent=Agent(random_move)"
   ]
  },
  {
   "cell_type": "code",
   "execution_count": 65,
   "id": "eb456f87-14a2-4064-a737-aaa1c4a50b9e",
   "metadata": {},
   "outputs": [],
   "source": [
    "def human_move(observation,player):\n",
    "    discard,hand=observation\n",
    "    \n",
    "    moves=valid_moves(observation,player)\n",
    "    print( \"Player \", player)\n",
    "    print(\"Moves:\")\n",
    "    for i, move in enumerate(moves):\n",
    "        print(f\"\\t{i}: {move}\")\n",
    "        \n",
    "    valid_move=False\n",
    "    while not valid_move:\n",
    "        move_number=int(input('Which move do you want (enter a number)?'))\n",
    "\n",
    "        if move_number in range(len(moves)):\n",
    "            valid_move=True\n",
    "        else:\n",
    "            print( \"Illegal move.\")\n",
    "\n",
    "    \n",
    "    return moves[move_number]\n",
    "\n",
    "human_agent=Agent(human_move)\n"
   ]
  },
  {
   "cell_type": "code",
   "execution_count": 50,
   "id": "9d4b0e08-8eef-496e-90e4-2283b00af69b",
   "metadata": {},
   "outputs": [
    {
     "name": "stdout",
     "output_type": "stream",
     "text": [
      "====\n",
      "Game  1\n",
      "My hand: (3 cards) 7S QD 6S\n",
      "Top card: 10H\n",
      "Top 10 cards from the discard:  10H\n",
      "\n",
      "Player  1\n",
      "Moves:\n",
      "\t0: draw\n"
     ]
    },
    {
     "name": "stdin",
     "output_type": "stream",
     "text": [
      "Which move do you want (enter a number)? \n"
     ]
    },
    {
     "ename": "ValueError",
     "evalue": "invalid literal for int() with base 10: ''",
     "output_type": "error",
     "traceback": [
      "\u001b[0;31m---------------------------------------------------------------------------\u001b[0m",
      "\u001b[0;31mValueError\u001b[0m                                Traceback (most recent call last)",
      "Input \u001b[0;32mIn [50]\u001b[0m, in \u001b[0;36m<cell line: 2>\u001b[0;34m()\u001b[0m\n\u001b[1;32m      1\u001b[0m g\u001b[38;5;241m=\u001b[39mGame()\n\u001b[0;32m----> 2\u001b[0m wins\u001b[38;5;241m=\u001b[39m\u001b[43mg\u001b[49m\u001b[38;5;241;43m.\u001b[39;49m\u001b[43mrun\u001b[49m\u001b[43m(\u001b[49m\u001b[43mhuman_agent\u001b[49m\u001b[43m,\u001b[49m\u001b[43mhuman_agent\u001b[49m\u001b[43m)\u001b[49m\n",
      "File \u001b[0;32m~/opt/anaconda3/lib/python3.9/site-packages/Game/game.py:325\u001b[0m, in \u001b[0;36mGame.run\u001b[0;34m(self, agent1, agent2)\u001b[0m\n\u001b[1;32m    323\u001b[0m     move\u001b[38;5;241m=\u001b[39magents[player]\u001b[38;5;241m.\u001b[39mmove(observation,player,agents[player])\n\u001b[1;32m    324\u001b[0m \u001b[38;5;28;01melse\u001b[39;00m:\n\u001b[0;32m--> 325\u001b[0m     move\u001b[38;5;241m=\u001b[39m\u001b[43magents\u001b[49m\u001b[43m[\u001b[49m\u001b[43mplayer\u001b[49m\u001b[43m]\u001b[49m\u001b[38;5;241;43m.\u001b[39;49m\u001b[43mmove\u001b[49m\u001b[43m(\u001b[49m\u001b[43mobservation\u001b[49m\u001b[43m,\u001b[49m\u001b[43mplayer\u001b[49m\u001b[43m)\u001b[49m\n\u001b[1;32m    327\u001b[0m \u001b[38;5;28;01mif\u001b[39;00m move \u001b[38;5;241m==\u001b[39m\u001b[38;5;124m'\u001b[39m\u001b[38;5;124m'\u001b[39m:\n\u001b[1;32m    328\u001b[0m     \u001b[38;5;28;01mraise\u001b[39;00m \u001b[38;5;167;01mValueError\u001b[39;00m(\u001b[38;5;124m\"\u001b[39m\u001b[38;5;124mEmpty move quits. \u001b[39m\u001b[38;5;124m\"\u001b[39m)\n",
      "Input \u001b[0;32mIn [49]\u001b[0m, in \u001b[0;36mhuman_move\u001b[0;34m(observation, player)\u001b[0m\n\u001b[1;32m     10\u001b[0m valid_move\u001b[38;5;241m=\u001b[39m\u001b[38;5;28;01mFalse\u001b[39;00m\n\u001b[1;32m     11\u001b[0m \u001b[38;5;28;01mwhile\u001b[39;00m \u001b[38;5;129;01mnot\u001b[39;00m valid_move:\n\u001b[0;32m---> 12\u001b[0m     move_number\u001b[38;5;241m=\u001b[39m\u001b[38;5;28;43mint\u001b[39;49m\u001b[43m(\u001b[49m\u001b[38;5;28;43minput\u001b[39;49m\u001b[43m(\u001b[49m\u001b[38;5;124;43m'\u001b[39;49m\u001b[38;5;124;43mWhich move do you want (enter a number)?\u001b[39;49m\u001b[38;5;124;43m'\u001b[39;49m\u001b[43m)\u001b[49m\u001b[43m)\u001b[49m\n\u001b[1;32m     14\u001b[0m     \u001b[38;5;28;01mif\u001b[39;00m move_number \u001b[38;5;129;01min\u001b[39;00m \u001b[38;5;28mrange\u001b[39m(\u001b[38;5;28mlen\u001b[39m(moves)):\n\u001b[1;32m     15\u001b[0m         valid_move\u001b[38;5;241m=\u001b[39m\u001b[38;5;28;01mTrue\u001b[39;00m\n",
      "\u001b[0;31mValueError\u001b[0m: invalid literal for int() with base 10: ''"
     ]
    }
   ],
   "source": [
    "g=Game()\n",
    "wins=g.run(human_agent,human_agent)"
   ]
  },
  {
   "cell_type": "code",
   "execution_count": 51,
   "id": "8706e958-e818-4ac8-8026-0ff7969f2fc9",
   "metadata": {},
   "outputs": [
    {
     "name": "stdout",
     "output_type": "stream",
     "text": [
      "====\n",
      "Game  1\n",
      "My hand: (3 cards) QH JS 6C\n",
      "Top card: QD\n",
      "Top 10 cards from the discard:  QD\n",
      "\n",
      "Player 1 moves QH\n",
      "My hand: (3 cards) 8D QC 8C\n",
      "Top card: QH\n",
      "Top 10 cards from the discard:  QH QD\n",
      "\n",
      "Player 2 moves draw\n",
      "My hand: (4 cards) 8D QC 8C 7S\n",
      "Top card: QH\n",
      "Top 10 cards from the discard:  QH QD\n",
      "\n",
      "Player 2 moves ['8C', 's']\n",
      "My hand: (2 cards) JS 6C\n",
      "Top card: 8S\n",
      "Top 10 cards from the discard:  8S QH QD\n",
      "\n",
      "Player 1 moves JS\n",
      "My hand: (3 cards) 8D QC 7S\n",
      "Top card: JS\n",
      "Top 10 cards from the discard:  JS 8S QH QD\n",
      "\n",
      "Player 2 moves draw\n",
      "My hand: (4 cards) 8D QC 7S QS\n",
      "Top card: JS\n",
      "Top 10 cards from the discard:  JS 8S QH QD\n",
      "\n",
      "Player 2 moves ['8D', 'h']\n",
      "My hand: (1 cards) 6C\n",
      "Top card: 8H\n",
      "Top 10 cards from the discard:  8H JS 8S QH QD\n",
      "\n",
      "Player 1 moves draw\n",
      "My hand: (2 cards) 6C 3S\n",
      "Top card: 8H\n",
      "Top 10 cards from the discard:  8H JS 8S QH QD\n",
      "\n",
      "Player 1 moves draw\n",
      "My hand: (3 cards) 6C 3S KS\n",
      "Top card: 8H\n",
      "Top 10 cards from the discard:  8H JS 8S QH QD\n",
      "\n",
      "Player 1 moves draw\n",
      "My hand: (4 cards) 6C 3S KS 9H\n",
      "Top card: 8H\n",
      "Top 10 cards from the discard:  8H JS 8S QH QD\n",
      "\n",
      "Player 1 moves draw\n",
      "My hand: (5 cards) 6C 3S KS 9H 9C\n",
      "Top card: 8H\n",
      "Top 10 cards from the discard:  8H JS 8S QH QD\n",
      "\n",
      "Player 1 moves 9H\n",
      "My hand: (3 cards) QC 7S QS\n",
      "Top card: 9H\n",
      "Top 10 cards from the discard:  9H 8H JS 8S QH QD\n",
      "\n",
      "Player 2 moves draw\n",
      "My hand: (4 cards) QC 7S QS 10S\n",
      "Top card: 9H\n",
      "Top 10 cards from the discard:  9H 8H JS 8S QH QD\n",
      "\n",
      "Player 2 moves draw\n",
      "My hand: (5 cards) QC 7S QS 10S 7D\n",
      "Top card: 9H\n",
      "Top 10 cards from the discard:  9H 8H JS 8S QH QD\n",
      "\n",
      "Player 2 moves draw\n",
      "My hand: (6 cards) QC 7S QS 10S 7D 10H\n",
      "Top card: 9H\n",
      "Top 10 cards from the discard:  9H 8H JS 8S QH QD\n",
      "\n",
      "Player 2 moves draw\n",
      "My hand: (7 cards) QC 7S QS 10S 7D 10H KD\n",
      "Top card: 9H\n",
      "Top 10 cards from the discard:  9H 8H JS 8S QH QD\n",
      "\n",
      "Player 2 moves draw\n",
      "My hand: (8 cards) QC 7S QS 10S 7D 10H KD 9S\n",
      "Top card: 9H\n",
      "Top 10 cards from the discard:  9H 8H JS 8S QH QD\n",
      "\n",
      "Player 2 moves 10H\n",
      "My hand: (4 cards) 6C 3S KS 9C\n",
      "Top card: 10H\n",
      "Top 10 cards from the discard:  10H 9H 8H JS 8S QH QD\n",
      "\n",
      "Player 1 moves draw\n",
      "My hand: (5 cards) 6C 3S KS 9C 5C\n",
      "Top card: 10H\n",
      "Top 10 cards from the discard:  10H 9H 8H JS 8S QH QD\n",
      "\n",
      "Player 1 moves draw\n",
      "My hand: (6 cards) 6C 3S KS 9C 5C 5H\n",
      "Top card: 10H\n",
      "Top 10 cards from the discard:  10H 9H 8H JS 8S QH QD\n",
      "\n",
      "Player 1 moves 5H\n",
      "My hand: (7 cards) QC 7S QS 10S 7D KD 9S\n",
      "Top card: 5H\n",
      "Top 10 cards from the discard:  5H 10H 9H 8H JS 8S QH QD\n",
      "\n",
      "Player 2 moves draw\n",
      "My hand: (8 cards) QC 7S QS 10S 7D KD 9S 8H\n",
      "Top card: 5H\n",
      "Top 10 cards from the discard:  5H 10H 9H 8H JS 8S QH QD\n",
      "\n",
      "Player 2 moves ['8H', 'c']\n",
      "My hand: (5 cards) 6C 3S KS 9C 5C\n",
      "Top card: 8C\n",
      "Top 10 cards from the discard:  8C 5H 10H 9H 8H JS 8S QH QD\n",
      "\n",
      "Player 1 moves 5C\n",
      "My hand: (7 cards) QC 7S QS 10S 7D KD 9S\n",
      "Top card: 5C\n",
      "Top 10 cards from the discard:  5C 8C 5H 10H 9H 8H JS 8S QH QD\n",
      "\n",
      "Player 2 moves draw\n",
      "My hand: (8 cards) QC 7S QS 10S 7D KD 9S KC\n",
      "Top card: 5C\n",
      "Top 10 cards from the discard:  5C 8C 5H 10H 9H 8H JS 8S QH QD\n",
      "\n",
      "Player 2 moves draw\n",
      "My hand: (9 cards) QC 7S QS 10S 7D KD 9S KC 10C\n",
      "Top card: 5C\n",
      "Top 10 cards from the discard:  5C 8C 5H 10H 9H 8H JS 8S QH QD\n",
      "\n",
      "Player 2 moves draw\n",
      "My hand: (10 cards) QC 7S QS 10S 7D KD 9S KC 10C 2H\n",
      "Top card: 5C\n",
      "Top 10 cards from the discard:  5C 8C 5H 10H 9H 8H JS 8S QH QD\n",
      "\n",
      "Player 2 moves draw\n",
      "My hand: (11 cards) QC 7S QS 10S 7D KD 9S KC 10C 2H 10D\n",
      "Top card: 5C\n",
      "Top 10 cards from the discard:  5C 8C 5H 10H 9H 8H JS 8S QH QD\n",
      "\n",
      "Player 2 moves QC\n",
      "My hand: (4 cards) 6C 3S KS 9C\n",
      "Top card: QC\n",
      "Top 10 cards from the discard:  QC 5C 8C 5H 10H 9H 8H JS 8S QH\n",
      "\n",
      "Player 1 moves 6C\n",
      "My hand: (10 cards) 7S QS 10S 7D KD 9S KC 10C 2H 10D\n",
      "Top card: 6C\n",
      "Top 10 cards from the discard:  6C QC 5C 8C 5H 10H 9H 8H JS 8S\n",
      "\n",
      "Player 2 moves draw\n",
      "My hand: (11 cards) 7S QS 10S 7D KD 9S KC 10C 2H 10D KH\n",
      "Top card: 6C\n",
      "Top 10 cards from the discard:  6C QC 5C 8C 5H 10H 9H 8H JS 8S\n",
      "\n",
      "Player 2 moves 10C\n",
      "My hand: (3 cards) 3S KS 9C\n",
      "Top card: 10C\n",
      "Top 10 cards from the discard:  10C 6C QC 5C 8C 5H 10H 9H 8H JS\n",
      "\n",
      "Player 1 moves 9C\n",
      "My hand: (10 cards) 7S QS 10S 7D KD 9S KC 2H 10D KH\n",
      "Top card: 9C\n",
      "Top 10 cards from the discard:  9C 10C 6C QC 5C 8C 5H 10H 9H 8H\n",
      "\n",
      "Player 2 moves draw\n",
      "My hand: (11 cards) 7S QS 10S 7D KD 9S KC 2H 10D KH 6S\n",
      "Top card: 9C\n",
      "Top 10 cards from the discard:  9C 10C 6C QC 5C 8C 5H 10H 9H 8H\n",
      "\n",
      "Player 2 moves draw\n",
      "My hand: (12 cards) 7S QS 10S 7D KD 9S KC 2H 10D KH 6S 9D\n",
      "Top card: 9C\n",
      "Top 10 cards from the discard:  9C 10C 6C QC 5C 8C 5H 10H 9H 8H\n",
      "\n",
      "Player 2 moves 9S\n",
      "My hand: (2 cards) 3S KS\n",
      "Top card: 9S\n",
      "Top 10 cards from the discard:  9S 9C 10C 6C QC 5C 8C 5H 10H 9H\n",
      "\n",
      "Player 1 moves 3S\n",
      "My hand: (11 cards) 7S QS 10S 7D KD KC 2H 10D KH 6S 9D\n",
      "Top card: 3S\n",
      "Top 10 cards from the discard:  3S 9S 9C 10C 6C QC 5C 8C 5H 10H\n",
      "\n",
      "Player 2 moves 6S\n",
      "My hand: (1 cards) KS\n",
      "Top card: 6S\n",
      "Top 10 cards from the discard:  6S 3S 9S 9C 10C 6C QC 5C 8C 5H\n",
      "\n",
      "Player 1 moves KS\n",
      "My hand: (0 cards) \n",
      "Top card: KS\n",
      "Top 10 cards from the discard:  KS 6S 3S 9S 9C 10C 6C QC 5C 8C\n",
      "\n",
      "Player  1 won.\n"
     ]
    }
   ],
   "source": [
    "g=Game()\n",
    "wins=g.run(random_agent,random_agent)"
   ]
  },
  {
   "cell_type": "code",
   "execution_count": null,
   "id": "9af87ea6-4d85-420a-babf-04d3fddd300c",
   "metadata": {},
   "outputs": [],
   "source": []
  }
 ],
 "metadata": {
  "kernelspec": {
   "display_name": "Python 3 (ipykernel)",
   "language": "python",
   "name": "python3"
  },
  "language_info": {
   "codemirror_mode": {
    "name": "ipython",
    "version": 3
   },
   "file_extension": ".py",
   "mimetype": "text/x-python",
   "name": "python",
   "nbconvert_exporter": "python",
   "pygments_lexer": "ipython3",
   "version": "3.9.12"
  }
 },
 "nbformat": 4,
 "nbformat_minor": 5
}
