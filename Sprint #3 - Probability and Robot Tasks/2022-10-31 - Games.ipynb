{
 "cells": [
  {
   "cell_type": "code",
   "execution_count": 1,
   "id": "5371579f-3daf-4c55-b6db-c7d4a32cfe3e",
   "metadata": {},
   "outputs": [
    {
     "name": "stdout",
     "output_type": "stream",
     "text": [
      "Version:  0.2.38\n"
     ]
    }
   ],
   "source": [
    "from Game import *"
   ]
  },
  {
   "cell_type": "markdown",
   "id": "fe683fb8-feef-481e-a567-021225813fe3",
   "metadata": {},
   "source": [
    "# Breakthrough"
   ]
  },
  {
   "cell_type": "code",
   "execution_count": 40,
   "id": "6442e9d1-1ee7-4b7c-a526-d56304b62602",
   "metadata": {},
   "outputs": [],
   "source": [
    "def initial_state():\n",
    "    N=8\n",
    "    state=Board(N,N)\n",
    "    \n",
    "    for i in range(N):\n",
    "        state[i]=2\n",
    "    for i in range(N**2-N,N**2):\n",
    "        state[i]=1\n",
    "    return state"
   ]
  },
  {
   "cell_type": "code",
   "execution_count": 41,
   "id": "2c49c1cc-eeb8-44d9-9770-2e2ac162a466",
   "metadata": {},
   "outputs": [
    {
     "data": {
      "text/plain": [
       " 2  2  2  2  2  2  2  2 \n",
       " 0  0  0  0  0  0  0  0 \n",
       " 0  0  0  0  0  0  0  0 \n",
       " 0  0  0  0  0  0  0  0 \n",
       " 0  0  0  0  0  0  0  0 \n",
       " 0  0  0  0  0  0  0  0 \n",
       " 0  0  0  0  0  0  0  0 \n",
       " 1  1  1  1  1  1  1  1 "
      ]
     },
     "execution_count": 41,
     "metadata": {},
     "output_type": "execute_result"
    }
   ],
   "source": [
    "state=initial_state()\n",
    "state"
   ]
  },
  {
   "cell_type": "code",
   "execution_count": 42,
   "id": "212fccf2-f165-4418-baea-f18ccb3b0dd2",
   "metadata": {},
   "outputs": [
    {
     "name": "stdout",
     "output_type": "stream",
     "text": [
      " 0  1  2  3  4  5  6  7 \n",
      " 8  9 10 11 12 13 14 15 \n",
      "16 17 18 19 20 21 22 23 \n",
      "24 25 26 27 28 29 30 31 \n",
      "32 33 34 35 36 37 38 39 \n",
      "40 41 42 43 44 45 46 47 \n",
      "48 49 50 51 52 53 54 55 \n",
      "56 57 58 59 60 61 62 63 \n",
      "\n"
     ]
    }
   ],
   "source": [
    "state.show_locations()"
   ]
  },
  {
   "cell_type": "code",
   "execution_count": 43,
   "id": "a60a8d3d-450c-4190-a607-5febceefcd71",
   "metadata": {},
   "outputs": [
    {
     "data": {
      "text/plain": [
       "(8, 8)"
      ]
     },
     "execution_count": 43,
     "metadata": {},
     "output_type": "execute_result"
    }
   ],
   "source": [
    "state.shape"
   ]
  },
  {
   "cell_type": "code",
   "execution_count": 44,
   "id": "0d841559-c989-4a38-b08d-dcd83100a0cf",
   "metadata": {},
   "outputs": [
    {
     "data": {
      "text/plain": [
       "[63, 62, 61, 60, 59, 58, 57, 56]"
      ]
     },
     "execution_count": 44,
     "metadata": {},
     "output_type": "execute_result"
    }
   ],
   "source": [
    "N=8\n",
    "list(range(N**2-1,N**2-N-1,-1))"
   ]
  },
  {
   "cell_type": "code",
   "execution_count": 45,
   "id": "5a196ee4-38ab-4030-9eec-59a4ac81187d",
   "metadata": {},
   "outputs": [
    {
     "data": {
      "text/plain": [
       "[56, 57, 58, 59, 60, 61, 62, 63]"
      ]
     },
     "execution_count": 45,
     "metadata": {},
     "output_type": "execute_result"
    }
   ],
   "source": [
    "list(range(N**2-N,N**2))"
   ]
  },
  {
   "cell_type": "code",
   "execution_count": 49,
   "id": "08427db6-5640-4e73-8f66-25f0c6fd5b5b",
   "metadata": {},
   "outputs": [],
   "source": [
    "def valid_moves(state,player):\n",
    "    N=state.shape[0]\n",
    "    \n",
    "    if player==1:\n",
    "        other_player=2\n",
    "    else:\n",
    "        other_player=1\n",
    "    \n",
    "    # types of moves for breakthrough\n",
    "    moves=[]\n",
    "    \n",
    "    if player==1:\n",
    "        \n",
    "        # north move\n",
    "        for start in range(N,N**2):\n",
    "            end=start-N\n",
    "            \n",
    "            if state[end]==0 and state[start]==player:\n",
    "                moves.append([start,end])\n",
    "              \n",
    "        # north east move            \n",
    "        for start in range(N,N**2):\n",
    "            end=start-N+1  # start - (N-1)\n",
    "                \n",
    "            \n",
    "            if (start+1) % 8 == 0:\n",
    "                continue\n",
    "                \n",
    "            if state[end]==other_player and state[start]==player:\n",
    "                moves.append([start,end])\n",
    "\n",
    "                \n",
    "        # north west move            \n",
    "        for start in range(N,N**2):\n",
    "            end=start-N-1  \n",
    "                \n",
    "\n",
    "            if start % 8 == 0:\n",
    "                continue\n",
    "                \n",
    "            if state[end]==other_player and state[start]==player:\n",
    "                moves.append([start,end])\n",
    "                \n",
    "                \n",
    "    else:\n",
    "        \n",
    "        for start in range(N**2-N):\n",
    "            end=start+N\n",
    "            \n",
    "            if state[end]==0 and state[start]==player:\n",
    "                moves.append([start,end])\n",
    "      \n",
    "    \n",
    "    \n",
    "    \n",
    "    return moves"
   ]
  },
  {
   "cell_type": "code",
   "execution_count": 47,
   "id": "f41d8ef2-a7ba-497a-9d6a-2199451e9571",
   "metadata": {},
   "outputs": [
    {
     "data": {
      "text/plain": [
       "[[56, 48],\n",
       " [57, 49],\n",
       " [58, 50],\n",
       " [59, 51],\n",
       " [60, 52],\n",
       " [61, 53],\n",
       " [62, 54],\n",
       " [63, 55]]"
      ]
     },
     "execution_count": 47,
     "metadata": {},
     "output_type": "execute_result"
    }
   ],
   "source": [
    "valid_moves(initial_state(),1)"
   ]
  },
  {
   "cell_type": "code",
   "execution_count": 48,
   "id": "9b47e5c5-ace3-4d39-adc7-625382555934",
   "metadata": {},
   "outputs": [
    {
     "data": {
      "text/plain": [
       "[[0, 8], [1, 9], [2, 10], [3, 11], [4, 12], [5, 13], [6, 14], [7, 15]]"
      ]
     },
     "execution_count": 48,
     "metadata": {},
     "output_type": "execute_result"
    }
   ],
   "source": [
    "valid_moves(initial_state(),2)"
   ]
  },
  {
   "cell_type": "code",
   "execution_count": null,
   "id": "5f59d27f-e031-48e9-ac94-07067afc01cd",
   "metadata": {},
   "outputs": [],
   "source": []
  },
  {
   "cell_type": "code",
   "execution_count": 52,
   "id": "910eff3d-a9f8-466e-80f3-e6564ca9a1c6",
   "metadata": {},
   "outputs": [
    {
     "data": {
      "text/plain": [
       "[[56, 48],\n",
       " [57, 49],\n",
       " [58, 50],\n",
       " [59, 51],\n",
       " [60, 52],\n",
       " [61, 53],\n",
       " [62, 54],\n",
       " [63, 55],\n",
       " [56, 49],\n",
       " [57, 50],\n",
       " [58, 51],\n",
       " [59, 52],\n",
       " [60, 53],\n",
       " [61, 54],\n",
       " [62, 55],\n",
       " [57, 48],\n",
       " [58, 49],\n",
       " [59, 50],\n",
       " [60, 51],\n",
       " [61, 52],\n",
       " [62, 53],\n",
       " [63, 54]]"
      ]
     },
     "execution_count": 52,
     "metadata": {},
     "output_type": "execute_result"
    }
   ],
   "source": [
    "state.moves(1,\"n\",\"ne\",\"nw\")"
   ]
  },
  {
   "cell_type": "markdown",
   "id": "29f3b93e-09c0-4dde-8fe3-5cd2440a7ed5",
   "metadata": {},
   "source": [
    "## Connect Four"
   ]
  },
  {
   "cell_type": "code",
   "execution_count": 53,
   "id": "94fda78c-91e8-47a4-b609-eeceffcebad2",
   "metadata": {},
   "outputs": [],
   "source": [
    "def initial_state():\n",
    "    M,N=6,7\n",
    "    state=Board(M,N)\n",
    "    \n",
    "    return state"
   ]
  },
  {
   "cell_type": "code",
   "execution_count": 56,
   "id": "45eacdd4-8458-40cb-988f-dc7f22344e3a",
   "metadata": {},
   "outputs": [
    {
     "data": {
      "text/plain": [
       " 0  0  0  0  0  0  0 \n",
       " 0  0  0  0  0  0  0 \n",
       " 0  0  0  0  0  0  0 \n",
       " 0  0  0  0  0  0  0 \n",
       " 0  0  0  0  0  0  0 \n",
       " 0  0  0  0  0  0  0 "
      ]
     },
     "execution_count": 56,
     "metadata": {},
     "output_type": "execute_result"
    }
   ],
   "source": [
    "state=initial_state()\n",
    "state"
   ]
  },
  {
   "cell_type": "code",
   "execution_count": 57,
   "id": "b572ce27-5039-4da5-a4ed-7534a945d437",
   "metadata": {},
   "outputs": [
    {
     "name": "stdout",
     "output_type": "stream",
     "text": [
      " 0  1  2  3  4  5  6 \n",
      " 7  8  9 10 11 12 13 \n",
      "14 15 16 17 18 19 20 \n",
      "21 22 23 24 25 26 27 \n",
      "28 29 30 31 32 33 34 \n",
      "35 36 37 38 39 40 41 \n",
      "\n"
     ]
    }
   ],
   "source": [
    "state.show_locations()"
   ]
  },
  {
   "cell_type": "code",
   "execution_count": 62,
   "id": "3a7874cd-b15f-4ff7-a6fa-43cabcb77eea",
   "metadata": {},
   "outputs": [],
   "source": [
    "def valid_moves(state,player):\n",
    "    M,N=state.shape\n",
    "    moves=[]\n",
    "    for i in range(N):\n",
    "        if state[0,i]==0:\n",
    "            moves.append(i)\n",
    "    \n",
    "    return moves"
   ]
  },
  {
   "cell_type": "code",
   "execution_count": 63,
   "id": "993f0a6f-f90e-4739-b3dc-c825d3aee2c9",
   "metadata": {},
   "outputs": [
    {
     "data": {
      "text/plain": [
       "[0, 1, 2, 3, 4, 5, 6]"
      ]
     },
     "execution_count": 63,
     "metadata": {},
     "output_type": "execute_result"
    }
   ],
   "source": [
    "valid_moves(state,1)"
   ]
  },
  {
   "cell_type": "code",
   "execution_count": null,
   "id": "598ba752-2e8f-4db4-9689-76b96f25f244",
   "metadata": {},
   "outputs": [],
   "source": [
    "def index_from_rc(r,c,M,N):\n",
    "    index=r*N+c\n",
    "    \n",
    "    return index\n",
    "    "
   ]
  },
  {
   "cell_type": "code",
   "execution_count": 65,
   "id": "1960bd63-c182-40ec-869b-666ffa7beee2",
   "metadata": {},
   "outputs": [],
   "source": [
    "# another way to think of it -- the locations where it is filled up to\n",
    "def valid_moves(state,player):\n",
    "    M,N=6,7\n",
    "    #M,N=state.shape\n",
    "    moves=[]\n",
    "    for c in range(N):\n",
    "        for r in range(M-1,-1,-1):\n",
    "            index=index_from_rc(r,c,M,N)\n",
    "            if state[index]==0:\n",
    "                moves.append(index)\n",
    "                break\n",
    "    \n",
    "    return moves"
   ]
  },
  {
   "cell_type": "code",
   "execution_count": 70,
   "id": "dc959a20-d2e4-4f6f-96bc-f1705093e212",
   "metadata": {},
   "outputs": [],
   "source": [
    "s1=[1,2,3]\n",
    "s2=[1,0,3]"
   ]
  },
  {
   "cell_type": "code",
   "execution_count": 73,
   "id": "e6fa5f60-4be5-4d39-aa79-710b4c603cfa",
   "metadata": {},
   "outputs": [],
   "source": [
    "s=[state[0],state[1],state[2]]\n",
    "if sum(s)==15 and prod(s)>0:\n",
    "    pass"
   ]
  },
  {
   "cell_type": "code",
   "execution_count": null,
   "id": "8e6ff05a-d039-4f04-a875-3c98b56bb9a5",
   "metadata": {},
   "outputs": [],
   "source": []
  },
  {
   "cell_type": "code",
   "execution_count": 72,
   "id": "2265eb00-611c-4bba-b59a-70825d73fde5",
   "metadata": {},
   "outputs": [
    {
     "data": {
      "text/plain": [
       "(6, 6)"
      ]
     },
     "execution_count": 72,
     "metadata": {},
     "output_type": "execute_result"
    }
   ],
   "source": [
    "sum(s1),prod(s1)"
   ]
  },
  {
   "cell_type": "code",
   "execution_count": 66,
   "id": "644f81ab-8c59-40b9-b15b-46c035e95e18",
   "metadata": {},
   "outputs": [
    {
     "data": {
      "text/plain": [
       "[35, 36, 37, 38, 39, 40, 41]"
      ]
     },
     "execution_count": 66,
     "metadata": {},
     "output_type": "execute_result"
    }
   ],
   "source": [
    "valid_moves(initial_state(),1)"
   ]
  },
  {
   "cell_type": "code",
   "execution_count": 67,
   "id": "926fb5e0-a2cc-4aab-ae8e-6fc4b8b6dd09",
   "metadata": {},
   "outputs": [
    {
     "data": {
      "text/plain": [
       " 0  0  0  0  0  0  0 \n",
       " 0  0  0  0  0  0  0 \n",
       " 0  0  0  0  0  0  0 \n",
       " 0  0  0  0  0  0  0 \n",
       " 1  0  0  0  0  0  0 \n",
       " 1  0  0  1  1  0  0 "
      ]
     },
     "execution_count": 67,
     "metadata": {},
     "output_type": "execute_result"
    }
   ],
   "source": [
    "state=initial_state()\n",
    "for i in [35,28,38,39]:\n",
    "    state[i]=1\n",
    "    \n",
    "state"
   ]
  },
  {
   "cell_type": "code",
   "execution_count": 68,
   "id": "e1d3835a-7c65-4b3c-adbb-a560f91a9f3a",
   "metadata": {},
   "outputs": [
    {
     "name": "stdout",
     "output_type": "stream",
     "text": [
      " 0  1  2  3  4  5  6 \n",
      " 7  8  9 10 11 12 13 \n",
      "14 15 16 17 18 19 20 \n",
      "21 22 23 24 25 26 27 \n",
      "28 29 30 31 32 33 34 \n",
      "35 36 37 38 39 40 41 \n",
      "\n"
     ]
    }
   ],
   "source": [
    "state.show_locations()"
   ]
  },
  {
   "cell_type": "code",
   "execution_count": 69,
   "id": "81b6bb80-7aeb-4d79-b407-a4c69d6799fb",
   "metadata": {},
   "outputs": [
    {
     "data": {
      "text/plain": [
       "[21, 36, 37, 31, 32, 40, 41]"
      ]
     },
     "execution_count": 69,
     "metadata": {},
     "output_type": "execute_result"
    }
   ],
   "source": [
    "valid_moves(state,1)"
   ]
  },
  {
   "cell_type": "code",
   "execution_count": null,
   "id": "a2c2cd63-25af-4cec-aaf6-6349fbb7e61c",
   "metadata": {},
   "outputs": [],
   "source": []
  }
 ],
 "metadata": {
  "kernelspec": {
   "display_name": "Python 3 (ipykernel)",
   "language": "python",
   "name": "python3"
  },
  "language_info": {
   "codemirror_mode": {
    "name": "ipython",
    "version": 3
   },
   "file_extension": ".py",
   "mimetype": "text/x-python",
   "name": "python",
   "nbconvert_exporter": "python",
   "pygments_lexer": "ipython3",
   "version": "3.9.12"
  }
 },
 "nbformat": 4,
 "nbformat_minor": 5
}
