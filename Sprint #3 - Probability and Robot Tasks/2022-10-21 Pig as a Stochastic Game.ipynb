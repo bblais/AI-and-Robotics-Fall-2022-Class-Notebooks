{
 "cells": [
  {
   "cell_type": "markdown",
   "id": "ed871083-bc1e-40ea-bba5-92a1c2187c25",
   "metadata": {},
   "source": [
    "## Rules of Pig\n",
    "\n"
   ]
  },
  {
   "cell_type": "markdown",
   "id": "b382d458-23b6-4dff-91d5-4989cb58ee7b",
   "metadata": {},
   "source": [
    "- moves:\n",
    "    - roll\n",
    "    - hold\n",
    "- goal to 100 points \n",
    "- roll a die\n",
    "    - roll a 1 your turn is over, you get no points\n",
    "    - 2-6, add this number to your turn total      get another turn\n",
    "- hold:\n",
    "    - turn points get added to your total points, your turn is over"
   ]
  },
  {
   "cell_type": "code",
   "execution_count": 1,
   "id": "7582490b-6ec6-41d5-afbb-f67afc6b6a56",
   "metadata": {},
   "outputs": [
    {
     "name": "stdout",
     "output_type": "stream",
     "text": [
      "Version:  0.2.38\n"
     ]
    }
   ],
   "source": [
    "from Game import *"
   ]
  },
  {
   "cell_type": "code",
   "execution_count": 2,
   "id": "b7c3fc21-acca-4e3e-8f94-95b1abe2ec55",
   "metadata": {},
   "outputs": [],
   "source": [
    "def initial_state():\n",
    "    # player 1 score, player 2 score, turn score, last dice roll\n",
    "    return [0,0,0,0]"
   ]
  },
  {
   "cell_type": "code",
   "execution_count": 3,
   "id": "ff7acb11-d889-44e6-845c-c95417695d15",
   "metadata": {},
   "outputs": [],
   "source": [
    "def valid_moves(state,player):\n",
    "    return [\"hold\",\"roll\"]"
   ]
  },
  {
   "cell_type": "code",
   "execution_count": 4,
   "id": "070599f3-d43e-4045-9b89-a40b0fb61e74",
   "metadata": {},
   "outputs": [],
   "source": [
    "def show_state(state):\n",
    "    print(\"Player 1 score:\",state[0])\n",
    "    print(\"Player 2 score:\",state[1])    \n",
    "    print(\"Turn score:\",state[2])    \n",
    "    print(\"Last die:\",state[3])    \n",
    "    "
   ]
  },
  {
   "cell_type": "code",
   "execution_count": 5,
   "id": "9a57deb0-61f8-4f0c-ae0a-3bf7d8cf0b86",
   "metadata": {},
   "outputs": [],
   "source": [
    "def win_status(state,player):\n",
    "    goal=21\n",
    "    \n",
    "    player1_total,player2_total,turn_total,last_die=state\n",
    "    \n",
    "    if player==1:\n",
    "        if player1_total + turn_total>=goal:\n",
    "            return \"win\"\n",
    "        \n",
    "    elif player==2:\n",
    "        if player2_total + turn_total>=goal:\n",
    "            return \"win\"\n",
    "    else:\n",
    "        raise ValueError(\"You can't get there from here.\")\n",
    "        "
   ]
  },
  {
   "cell_type": "code",
   "execution_count": 6,
   "id": "12f6dc32-97a6-4eb3-b282-3ebbcc168413",
   "metadata": {},
   "outputs": [],
   "source": [
    "def update_state(state,player,move):\n",
    "    new_state=state\n",
    "    player1_total,player2_total,turn_total,last_die=state\n",
    "    \n",
    "    \n",
    "    if move==\"hold\":\n",
    "        if player==1:\n",
    "            new_state[0]=player1_total+turn_total\n",
    "        else:\n",
    "            new_state[1]=player2_total+turn_total\n",
    "        \n",
    "        new_state[2]=0  # reset the turn total\n",
    "        new_state[3]=0  # this resets the last die\n",
    "        \n",
    "    elif move==\"roll\":\n",
    "        dice=random.randint(1,6)  # this generates a value from 1-6\n",
    "        \n",
    "        new_state[3]=dice\n",
    "        if dice==1:\n",
    "            new_state[2]=0  # reset the turn total\n",
    "        else:\n",
    "            new_state[2]=turn_total+dice  # update the turn total\n",
    "        \n",
    "    else:\n",
    "        raise ValueError(\"You can't get there from here.\")\n",
    "        \n",
    "    \n",
    "    return new_state\n",
    "    "
   ]
  },
  {
   "cell_type": "code",
   "execution_count": 7,
   "id": "a62f4014-d7a4-4563-a106-bdf8a3ad6797",
   "metadata": {},
   "outputs": [],
   "source": [
    "def repeat_move(state,player,move):\n",
    "    player1_total,player2_total,turn_total,last_die=state\n",
    "\n",
    "    # check for die roll of 1 or 0\n",
    "    # check for turn total > 0\n",
    "    \n",
    "    if last_die==0 or last_die==1:\n",
    "        return False\n",
    "    else:\n",
    "        return True\n",
    "    "
   ]
  },
  {
   "cell_type": "code",
   "execution_count": 8,
   "id": "026b381a-71fd-4292-9e2a-d31e8de3435c",
   "metadata": {},
   "outputs": [],
   "source": [
    "def random_move(state,player):    \n",
    "    moves=valid_moves(state,player)\n",
    "    return random.choice(moves)\n",
    " \n",
    "random_agent=Agent(random_move)    "
   ]
  },
  {
   "cell_type": "code",
   "execution_count": 9,
   "id": "90ca1b6f-e24b-4494-8e65-01c25fe7cb3b",
   "metadata": {},
   "outputs": [],
   "source": [
    "def human_move(state,player):   \n",
    "    \n",
    "    move=input(\"Roll or Hold?\").lower()\n",
    "    \n",
    "    if move[0]=='r':\n",
    "        return \"roll\"\n",
    "    else:\n",
    "        return \"hold\"\n",
    "\n",
    "human_agent=Agent(human_move)    "
   ]
  },
  {
   "cell_type": "code",
   "execution_count": 10,
   "id": "bd9964ad-c5b2-45b8-b674-c362eb6612ef",
   "metadata": {},
   "outputs": [
    {
     "name": "stdout",
     "output_type": "stream",
     "text": [
      "====\n",
      "Game  1\n",
      "Player 1 score: 0\n",
      "Player 2 score: 0\n",
      "Turn score: 0\n",
      "Last die: 0\n"
     ]
    },
    {
     "name": "stdin",
     "output_type": "stream",
     "text": [
      "Roll or Hold? r\n"
     ]
    },
    {
     "name": "stdout",
     "output_type": "stream",
     "text": [
      "Player 1 moves roll\n",
      "Player 1 score: 0\n",
      "Player 2 score: 0\n",
      "Turn score: 2\n",
      "Last die: 2\n"
     ]
    },
    {
     "name": "stdin",
     "output_type": "stream",
     "text": [
      "Roll or Hold? r\n"
     ]
    },
    {
     "name": "stdout",
     "output_type": "stream",
     "text": [
      "Player 1 moves roll\n",
      "Player 1 score: 0\n",
      "Player 2 score: 0\n",
      "Turn score: 6\n",
      "Last die: 4\n"
     ]
    },
    {
     "name": "stdin",
     "output_type": "stream",
     "text": [
      "Roll or Hold? h\n"
     ]
    },
    {
     "name": "stdout",
     "output_type": "stream",
     "text": [
      "Player 1 moves hold\n",
      "Player 1 score: 6\n",
      "Player 2 score: 0\n",
      "Turn score: 0\n",
      "Last die: 0\n",
      "Player 2 moves roll\n",
      "Player 1 score: 6\n",
      "Player 2 score: 0\n",
      "Turn score: 5\n",
      "Last die: 5\n",
      "Player 2 moves hold\n",
      "Player 1 score: 6\n",
      "Player 2 score: 5\n",
      "Turn score: 0\n",
      "Last die: 0\n"
     ]
    },
    {
     "name": "stdin",
     "output_type": "stream",
     "text": [
      "Roll or Hold? h\n"
     ]
    },
    {
     "name": "stdout",
     "output_type": "stream",
     "text": [
      "Player 1 moves hold\n",
      "Player 1 score: 6\n",
      "Player 2 score: 5\n",
      "Turn score: 0\n",
      "Last die: 0\n",
      "Player 2 moves roll\n",
      "Player 1 score: 6\n",
      "Player 2 score: 5\n",
      "Turn score: 2\n",
      "Last die: 2\n",
      "Player 2 moves roll\n",
      "Player 1 score: 6\n",
      "Player 2 score: 5\n",
      "Turn score: 8\n",
      "Last die: 6\n",
      "Player 2 moves roll\n",
      "Player 1 score: 6\n",
      "Player 2 score: 5\n",
      "Turn score: 13\n",
      "Last die: 5\n",
      "Player 2 moves hold\n",
      "Player 1 score: 6\n",
      "Player 2 score: 18\n",
      "Turn score: 0\n",
      "Last die: 0\n"
     ]
    },
    {
     "name": "stdin",
     "output_type": "stream",
     "text": [
      "Roll or Hold? \n"
     ]
    },
    {
     "ename": "IndexError",
     "evalue": "string index out of range",
     "output_type": "error",
     "traceback": [
      "\u001b[0;31m---------------------------------------------------------------------------\u001b[0m",
      "\u001b[0;31mIndexError\u001b[0m                                Traceback (most recent call last)",
      "Input \u001b[0;32mIn [10]\u001b[0m, in \u001b[0;36m<cell line: 2>\u001b[0;34m()\u001b[0m\n\u001b[1;32m      1\u001b[0m g\u001b[38;5;241m=\u001b[39mGame()\n\u001b[0;32m----> 2\u001b[0m \u001b[43mg\u001b[49m\u001b[38;5;241;43m.\u001b[39;49m\u001b[43mrun\u001b[49m\u001b[43m(\u001b[49m\u001b[43mhuman_agent\u001b[49m\u001b[43m,\u001b[49m\u001b[43mrandom_agent\u001b[49m\u001b[43m)\u001b[49m\n",
      "File \u001b[0;32m~/opt/anaconda3/lib/python3.9/site-packages/Game/game.py:325\u001b[0m, in \u001b[0;36mGame.run\u001b[0;34m(self, agent1, agent2)\u001b[0m\n\u001b[1;32m    323\u001b[0m     move\u001b[38;5;241m=\u001b[39magents[player]\u001b[38;5;241m.\u001b[39mmove(observation,player,agents[player])\n\u001b[1;32m    324\u001b[0m \u001b[38;5;28;01melse\u001b[39;00m:\n\u001b[0;32m--> 325\u001b[0m     move\u001b[38;5;241m=\u001b[39m\u001b[43magents\u001b[49m\u001b[43m[\u001b[49m\u001b[43mplayer\u001b[49m\u001b[43m]\u001b[49m\u001b[38;5;241;43m.\u001b[39;49m\u001b[43mmove\u001b[49m\u001b[43m(\u001b[49m\u001b[43mobservation\u001b[49m\u001b[43m,\u001b[49m\u001b[43mplayer\u001b[49m\u001b[43m)\u001b[49m\n\u001b[1;32m    327\u001b[0m \u001b[38;5;28;01mif\u001b[39;00m move \u001b[38;5;241m==\u001b[39m\u001b[38;5;124m'\u001b[39m\u001b[38;5;124m'\u001b[39m:\n\u001b[1;32m    328\u001b[0m     \u001b[38;5;28;01mraise\u001b[39;00m \u001b[38;5;167;01mValueError\u001b[39;00m(\u001b[38;5;124m\"\u001b[39m\u001b[38;5;124mEmpty move quits. \u001b[39m\u001b[38;5;124m\"\u001b[39m)\n",
      "Input \u001b[0;32mIn [9]\u001b[0m, in \u001b[0;36mhuman_move\u001b[0;34m(state, player)\u001b[0m\n\u001b[1;32m      1\u001b[0m \u001b[38;5;28;01mdef\u001b[39;00m \u001b[38;5;21mhuman_move\u001b[39m(state,player):   \n\u001b[1;32m      3\u001b[0m     move\u001b[38;5;241m=\u001b[39m\u001b[38;5;28minput\u001b[39m(\u001b[38;5;124m\"\u001b[39m\u001b[38;5;124mRoll or Hold?\u001b[39m\u001b[38;5;124m\"\u001b[39m)\u001b[38;5;241m.\u001b[39mlower()\n\u001b[0;32m----> 5\u001b[0m     \u001b[38;5;28;01mif\u001b[39;00m \u001b[43mmove\u001b[49m\u001b[43m[\u001b[49m\u001b[38;5;241;43m0\u001b[39;49m\u001b[43m]\u001b[49m\u001b[38;5;241m==\u001b[39m\u001b[38;5;124m'\u001b[39m\u001b[38;5;124mr\u001b[39m\u001b[38;5;124m'\u001b[39m:\n\u001b[1;32m      6\u001b[0m         \u001b[38;5;28;01mreturn\u001b[39;00m \u001b[38;5;124m\"\u001b[39m\u001b[38;5;124mroll\u001b[39m\u001b[38;5;124m\"\u001b[39m\n\u001b[1;32m      7\u001b[0m     \u001b[38;5;28;01melse\u001b[39;00m:\n",
      "\u001b[0;31mIndexError\u001b[0m: string index out of range"
     ]
    }
   ],
   "source": [
    "g=Game()\n",
    "g.run(human_agent,random_agent)"
   ]
  },
  {
   "cell_type": "code",
   "execution_count": null,
   "id": "6821dcfe-a628-4b4f-a433-439d12edabf7",
   "metadata": {},
   "outputs": [],
   "source": []
  }
 ],
 "metadata": {
  "kernelspec": {
   "display_name": "Python 3 (ipykernel)",
   "language": "python",
   "name": "python3"
  },
  "language_info": {
   "codemirror_mode": {
    "name": "ipython",
    "version": 3
   },
   "file_extension": ".py",
   "mimetype": "text/x-python",
   "name": "python",
   "nbconvert_exporter": "python",
   "pygments_lexer": "ipython3",
   "version": "3.9.12"
  }
 },
 "nbformat": 4,
 "nbformat_minor": 5
}
