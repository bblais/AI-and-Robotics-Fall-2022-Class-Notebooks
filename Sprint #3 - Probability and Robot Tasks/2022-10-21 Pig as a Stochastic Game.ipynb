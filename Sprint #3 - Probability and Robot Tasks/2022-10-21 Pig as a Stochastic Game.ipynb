{
 "cells": [
  {
   "cell_type": "markdown",
   "id": "ed871083-bc1e-40ea-bba5-92a1c2187c25",
   "metadata": {},
   "source": [
    "## Rules of Pig\n",
    "\n"
   ]
  },
  {
   "cell_type": "code",
   "execution_count": 1,
   "id": "7582490b-6ec6-41d5-afbb-f67afc6b6a56",
   "metadata": {},
   "outputs": [
    {
     "name": "stdout",
     "output_type": "stream",
     "text": [
      "Version:  0.2.38\n"
     ]
    }
   ],
   "source": [
    "from Game import *"
   ]
  },
  {
   "cell_type": "code",
   "execution_count": null,
   "id": "b7c3fc21-acca-4e3e-8f94-95b1abe2ec55",
   "metadata": {},
   "outputs": [],
   "source": []
  }
 ],
 "metadata": {
  "kernelspec": {
   "display_name": "Python 3 (ipykernel)",
   "language": "python",
   "name": "python3"
  },
  "language_info": {
   "codemirror_mode": {
    "name": "ipython",
    "version": 3
   },
   "file_extension": ".py",
   "mimetype": "text/x-python",
   "name": "python",
   "nbconvert_exporter": "python",
   "pygments_lexer": "ipython3",
   "version": "3.9.12"
  }
 },
 "nbformat": 4,
 "nbformat_minor": 5
}
