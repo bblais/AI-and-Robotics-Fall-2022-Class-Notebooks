{
 "cells": [
  {
   "cell_type": "code",
   "execution_count": null,
   "id": "199ad234-70c3-479a-ab91-497b18283c19",
   "metadata": {},
   "outputs": [],
   "source": [
    "def heuristic(state,player):\n",
    "    # material advantage\n",
    "    if player==1:\n",
    "        other_player=2\n",
    "    else:\n",
    "        other_player=1\n",
    "    \n",
    "    \n",
    "    # other_player=3-player  # this is terrible but works\n",
    "    \n",
    "    count=0\n",
    "    for i in range(9):\n",
    "        if state[i]==player:\n",
    "            count+=1\n",
    "    \n",
    "    N_player=count\n",
    "    \n",
    "    \n",
    "    count=0\n",
    "    for i in range(9):\n",
    "        if state[i]==other_player:\n",
    "            count+=1\n",
    "    \n",
    "    N_other_player=count\n",
    "    \n",
    "    value = (N_player-N_other_player)/(N_player+N_other_player)\n",
    "    "
   ]
  }
 ],
 "metadata": {
  "kernelspec": {
   "display_name": "Python 3 (ipykernel)",
   "language": "python",
   "name": "python3"
  },
  "language_info": {
   "codemirror_mode": {
    "name": "ipython",
    "version": 3
   },
   "file_extension": ".py",
   "mimetype": "text/x-python",
   "name": "python",
   "nbconvert_exporter": "python",
   "pygments_lexer": "ipython3",
   "version": "3.9.12"
  }
 },
 "nbformat": 4,
 "nbformat_minor": 5
}
