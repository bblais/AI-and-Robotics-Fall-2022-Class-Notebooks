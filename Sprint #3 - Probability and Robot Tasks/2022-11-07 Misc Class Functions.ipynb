{
 "cells": [
  {
   "cell_type": "code",
   "execution_count": null,
   "id": "faa7acf1-9fca-47f0-96e8-f3673ff7e055",
   "metadata": {},
   "outputs": [],
   "source": [
    "def state_to_observation(state,player):\n",
    "    deck,hand1,hand2=state\n",
    "    \n",
    "    if player==1:\n",
    "        observation=hand1,hand2[1:]  \n",
    "        \n",
    "    else:\n",
    "        observation=hand2,hand1[1:]\n",
    "        \n",
    "    \n",
    "    return observation\n"
   ]
  },
  {
   "cell_type": "code",
   "execution_count": null,
   "id": "a2db2eac-1896-4d80-9d01-39f1ca5f62b5",
   "metadata": {},
   "outputs": [],
   "source": [
    "def show_state(observation):\n",
    "    \n",
    "    myhand,other_hand=observation\n",
    "    \n",
    "    print(\"My hand:\",myhand)\n",
    "    print(\"Other hand:\",other_hand)    "
   ]
  },
  {
   "cell_type": "code",
   "execution_count": 1,
   "id": "7d076e56-47c8-4d96-b3b2-6e5e918a4951",
   "metadata": {},
   "outputs": [],
   "source": [
    "def initial_state():\n",
    "    # player 1 score, player 2 score, turn score, last dice roll1 last dice roll 2\n",
    "    return [0,0,0,0,0]\n",
    "\n",
    "def valid_moves(state,player):\n",
    "    if state[3]==state[4]:  # last two rolls the same\n",
    "        return [\"roll\"]\n",
    "    else:\n",
    "        return [\"hold\",\"roll\"]"
   ]
  },
  {
   "cell_type": "code",
   "execution_count": 4,
   "id": "708bef7a-c2a5-4bc5-9085-d41d8adbac4a",
   "metadata": {},
   "outputs": [],
   "source": [
    "state=[\"rock\",\"paper\",\"scissors\",\"rock\"]"
   ]
  },
  {
   "cell_type": "code",
   "execution_count": 5,
   "id": "9c186096-4547-4b9a-8665-ef172e601506",
   "metadata": {},
   "outputs": [],
   "source": [
    "player1_move=state[-2]\n",
    "player2_move=state[-1]"
   ]
  },
  {
   "cell_type": "code",
   "execution_count": 6,
   "id": "a92628fc-a060-4dad-8e35-b54bb955bccf",
   "metadata": {},
   "outputs": [
    {
     "data": {
      "text/plain": [
       "'scissors'"
      ]
     },
     "execution_count": 6,
     "metadata": {},
     "output_type": "execute_result"
    }
   ],
   "source": [
    "player1_move"
   ]
  },
  {
   "cell_type": "code",
   "execution_count": 7,
   "id": "71ceac40-859b-42cc-853b-6b4c25707f04",
   "metadata": {},
   "outputs": [
    {
     "data": {
      "text/plain": [
       "'rock'"
      ]
     },
     "execution_count": 7,
     "metadata": {},
     "output_type": "execute_result"
    }
   ],
   "source": [
    "player2_move"
   ]
  },
  {
   "cell_type": "code",
   "execution_count": null,
   "id": "87c83f98-07e5-4f11-a494-2ecc771899c8",
   "metadata": {},
   "outputs": [],
   "source": [
    "if player==1:\n",
    "    return None"
   ]
  },
  {
   "cell_type": "code",
   "execution_count": null,
   "id": "e2c76bdd-3d47-483c-88a7-1616fc8e276c",
   "metadata": {},
   "outputs": [],
   "source": [
    "a=state[-2]\n",
    "b=state[-1]"
   ]
  },
  {
   "cell_type": "code",
   "execution_count": null,
   "id": "0752a996-640a-42e0-96b3-5838b6c82d2c",
   "metadata": {},
   "outputs": [],
   "source": [
    "if a==\"scissors\" and b==\"rock\":\n",
    "    #  all wins/losses are phrased in terms of player 2\n",
    "    return \"win\"\n",
    "elif .....\n",
    "\n"
   ]
  }
 ],
 "metadata": {
  "kernelspec": {
   "display_name": "Python 3 (ipykernel)",
   "language": "python",
   "name": "python3"
  },
  "language_info": {
   "codemirror_mode": {
    "name": "ipython",
    "version": 3
   },
   "file_extension": ".py",
   "mimetype": "text/x-python",
   "name": "python",
   "nbconvert_exporter": "python",
   "pygments_lexer": "ipython3",
   "version": "3.9.12"
  }
 },
 "nbformat": 4,
 "nbformat_minor": 5
}
