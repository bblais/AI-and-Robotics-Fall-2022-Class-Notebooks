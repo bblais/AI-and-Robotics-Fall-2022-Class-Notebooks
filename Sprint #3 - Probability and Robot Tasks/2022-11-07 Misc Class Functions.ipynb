{
 "cells": [
  {
   "cell_type": "code",
   "execution_count": null,
   "id": "faa7acf1-9fca-47f0-96e8-f3673ff7e055",
   "metadata": {},
   "outputs": [],
   "source": [
    "def state_to_observation(state,player):\n",
    "    deckk,hand1,hand2=state\n",
    "    \n",
    "    if player==1:\n",
    "        observation=hand1,hand2[1:]  \n",
    "        \n",
    "    else:\n",
    "        observation=hand2,hand1[1:]\n",
    "        \n",
    "    \n",
    "    return observation\n"
   ]
  }
 ],
 "metadata": {
  "kernelspec": {
   "display_name": "Python 3 (ipykernel)",
   "language": "python",
   "name": "python3"
  },
  "language_info": {
   "codemirror_mode": {
    "name": "ipython",
    "version": 3
   },
   "file_extension": ".py",
   "mimetype": "text/x-python",
   "name": "python",
   "nbconvert_exporter": "python",
   "pygments_lexer": "ipython3",
   "version": "3.9.12"
  }
 },
 "nbformat": 4,
 "nbformat_minor": 5
}
