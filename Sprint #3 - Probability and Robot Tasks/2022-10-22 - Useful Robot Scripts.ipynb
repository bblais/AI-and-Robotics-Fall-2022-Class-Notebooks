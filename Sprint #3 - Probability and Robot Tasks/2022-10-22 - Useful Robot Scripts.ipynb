{
 "cells": [
  {
   "cell_type": "markdown",
   "id": "82a803d3-ffa5-4197-8598-1172b8b33206",
   "metadata": {},
   "source": [
    "Write functions so that you can:\n",
    "\n"
   ]
  },
  {
   "cell_type": "markdown",
   "id": "6b894285-2439-42ca-be62-1eee208cc271",
   "metadata": {},
   "source": [
    "These will be sketches of them.  I haven't debugged them, so there may even be typos!  :-)- use the ultrasonic sensor to give distances in meters or feet (whichever you’re more comfortable with)\n"
   ]
  },
  {
   "cell_type": "markdown",
   "id": "8044102d-a2fd-4b72-a3a1-66a8e626fff6",
   "metadata": {},
   "source": [
    "- use the ultrasonic sensor to give distances in meters or feet (whichever you’re more comfortable with)\n"
   ]
  },
  {
   "cell_type": "code",
   "execution_count": null,
   "id": "04add950-7ff8-49a3-8d18-109d82af49f6",
   "metadata": {},
   "outputs": [],
   "source": [
    "from Robot373 import *\n",
    "\n",
    "def distance_in_inches(distance_in_cm):\n",
    "    return distance_in_cm/100*39\n",
    "\n",
    "\n",
    "eyes,touch=Sensors(None,None,\"us\",\"touch\")\n",
    "\n",
    "try:\n",
    "    while True:\n",
    "        distance=eyes.value  # distance in cm\n",
    "        print(distance_in_inches(distance))\n",
    "        Wait(0.05)\n",
    "except KeyboardInterrupt:\n",
    "    pass\n",
    "\n",
    "Shutdown()"
   ]
  },
  {
   "cell_type": "markdown",
   "id": "d750739c-b575-43ae-8f0c-480620ea6e4c",
   "metadata": {},
   "source": [
    "- use the motor value to give degrees turned\n"
   ]
  },
  {
   "cell_type": "code",
   "execution_count": null,
   "id": "1c0ecd6a-e02e-4773-bf71-006dc9bfa096",
   "metadata": {},
   "outputs": [],
   "source": [
    "from Robot373 import *\n",
    "\n",
    "def degrees(position):\n",
    "    return position*1.0  # not sure of the conversion factor here -- is it 1?\n",
    "\n",
    "left,right=Motors(\"ab\")\n",
    "\n",
    "try:\n",
    "    while True:\n",
    "        print(degrees(left.position))\n",
    "        Wait(0.05)\n",
    "except KeyboardInterrupt:\n",
    "    pass\n",
    "\n",
    "Shutdown()"
   ]
  },
  {
   "cell_type": "markdown",
   "id": "2b0c3c24-0598-4fca-bbd8-91d61079a093",
   "metadata": {},
   "source": [
    "- use the motor value to give distance traveled, given the wheel size"
   ]
  },
  {
   "cell_type": "code",
   "execution_count": null,
   "id": "7b60e858-2e3c-49bf-b7f5-6cefd90dbe75",
   "metadata": {},
   "outputs": [],
   "source": [
    "from Robot373 import *\n",
    "\n",
    "def degrees(position):\n",
    "    return position*1.0  # not sure of the conversion factor here -- is it 1?\n",
    "\n",
    "def distance_traveled(position):\n",
    "    wheel_diameter_cm=2\n",
    "    pi=3.141592653589793235\n",
    "    \n",
    "    return pi*wheel_diameter_cm*degrees(position)/360\n",
    "\n",
    "    \n",
    "    \n",
    "\n",
    "left,right=Motors(\"ab\")\n",
    "\n",
    "left.power=50\n",
    "right.power=50\n",
    "\n",
    "\n",
    "\n",
    "try:\n",
    "    while True:\n",
    "        print(\"distance traveled so far:\",distance_traveled(left.position))\n",
    "        Wait(0.05)\n",
    "except KeyboardInterrupt:\n",
    "    pass\n",
    "\n",
    "Shutdown()"
   ]
  },
  {
   "cell_type": "code",
   "execution_count": null,
   "id": "6de26a83-e86e-4880-b307-1afc7cf45b59",
   "metadata": {},
   "outputs": [],
   "source": []
  },
  {
   "cell_type": "markdown",
   "id": "c76d1798-861c-4569-bfe4-059d52bf6fcd",
   "metadata": {},
   "source": [
    "- given the axis size and wheel size, use the motor value to turn robot 90 degrees\n"
   ]
  },
  {
   "cell_type": "code",
   "execution_count": null,
   "id": "5703c730-a66d-4100-9f7f-649353af3e6f",
   "metadata": {},
   "outputs": [],
   "source": [
    "from Robot373 import *\n",
    "\n",
    "def degrees(position):\n",
    "    return position*1.0  # not sure of the conversion factor here -- is it 1?\n",
    "\n",
    "def distance_traveled(position):\n",
    "    wheel_diameter_cm=2\n",
    "    pi=3.141592653589793235\n",
    "    \n",
    "    return pi*wheel_diameter_cm*degrees(position)/360\n",
    "\n",
    "    \n",
    "    \n",
    "\n",
    "left,right=Motors(\"ab\")\n",
    "\n",
    "left.power=50\n",
    "right.power=-50\n",
    "\n",
    "axis_length_cm=6\n",
    "pi=3.14159\n",
    "distance_needed=(axis_length_cm/2)*2*pi/4  # need a quarter turn of the robot\n",
    "\n",
    "\n",
    "\n",
    "try:\n",
    "    while distance_traveled(left.position)<distance_needed:\n",
    "        print(\"distance traveled so far:\",distance_traveled(left.position))\n",
    "        Wait(0.01)\n",
    "except KeyboardInterrupt:\n",
    "    pass\n",
    "\n",
    "Shutdown()"
   ]
  },
  {
   "cell_type": "markdown",
   "id": "03205d20-937f-4ec0-9a97-9523ce96b9d3",
   "metadata": {},
   "source": [
    "Move 30 cm and stop"
   ]
  },
  {
   "cell_type": "code",
   "execution_count": null,
   "id": "a727a51d-bc47-4b25-831c-a43b9ed59f79",
   "metadata": {},
   "outputs": [],
   "source": [
    "from Robot373 import *\n",
    "\n",
    "def degrees(position):\n",
    "    return position*1.0  # not sure of the conversion factor here -- is it 1?\n",
    "\n",
    "def distance_traveled(position):\n",
    "    wheel_diameter_cm=2\n",
    "    pi=3.141592653589793235\n",
    "    \n",
    "    return pi*wheel_diameter_cm*degrees(position)/360\n",
    "\n",
    "    \n",
    "    \n",
    "\n",
    "left,right=Motors(\"ab\")\n",
    "\n",
    "left.power=50\n",
    "right.power=50\n",
    "\n",
    "\n",
    "try:\n",
    "    while distance_traveled(left.position)<30:  # cm\n",
    "        print(\"distance traveled so far:\",distance_traveled(left.position))\n",
    "        Wait(0.05)\n",
    "except KeyboardInterrupt:\n",
    "    pass\n",
    "\n",
    "left.power=0\n",
    "right.power=0\n",
    "\n",
    "\n",
    "Shutdown()"
   ]
  },
  {
   "cell_type": "code",
   "execution_count": null,
   "id": "718cca5d-802a-408d-91c3-2381959f2d91",
   "metadata": {},
   "outputs": [],
   "source": []
  },
  {
   "cell_type": "markdown",
   "id": "bc72a2a0-761b-4220-bbc9-d818f62b1a8f",
   "metadata": {},
   "source": [
    "- use the color sensor to distinguish two colors (could be black and white, or any other pair of colors)"
   ]
  },
  {
   "cell_type": "code",
   "execution_count": null,
   "id": "6c654102-eae9-470f-a626-cfdc35b9f3a4",
   "metadata": {},
   "outputs": [],
   "source": [
    "from Robot373 import *\n",
    "\n",
    "color_sensor=Sensors(None,\"color\",None,None)  # color on sensor port S2\n",
    "\n",
    "try:\n",
    "    while True:\n",
    "        if not value:  # in case there is an illegal sensor value\n",
    "            continue\n",
    "\n",
    "        r,g,b,something=color_sensor.value\n",
    "        print(r,g,b,something)\n",
    "        print(closest_color(r,g,b,\n",
    "                maroon=[128,0,0],\n",
    "                gray=[128,128,128],\n",
    "                white=[256,256,256],\n",
    "                black=[0,0,0],\n",
    "                ))\n",
    "        Wait(0.05)\n",
    "except KeyboardInterrupt:\n",
    "    pass\n",
    "\n",
    "Shutdown()"
   ]
  },
  {
   "cell_type": "markdown",
   "id": "bb11f18a-7a52-4ec0-a3c7-658c4abc7e06",
   "metadata": {},
   "source": [
    "- use the touch sensor to do each of the following:\n",
    "    - do something if the sensor is pressed\n",
    "    - do something only if the sensor is pressed and then released\n",
    "    - do something if the sensor is “double clicked” within a reasonably short time period"
   ]
  },
  {
   "cell_type": "code",
   "execution_count": null,
   "id": "8a5c24b4-9a8d-47a2-978f-29cac53ac20d",
   "metadata": {},
   "outputs": [],
   "source": []
  },
  {
   "cell_type": "markdown",
   "id": "66e9872d-ca66-4250-bed6-f0878b4efd4a",
   "metadata": {},
   "source": [
    "- go forward for 3 seconds if a button is **pressed**"
   ]
  },
  {
   "cell_type": "code",
   "execution_count": null,
   "id": "b738f75b-2773-42b9-9375-126f6ae81d93",
   "metadata": {},
   "outputs": [],
   "source": [
    "from Robot373 import *\n",
    "\n",
    "eyes,touch=Sensors(None,None,\"us\",\"touch\")\n",
    "\n",
    "left,right=Motors(\"ab\")\n",
    "\n",
    "\n",
    "# do nothing until the touch sensor is pressed\n",
    "while not touch.value:\n",
    "    Wait(0.01)\n",
    "\n",
    "left.power(50)\n",
    "right.power(50)\n",
    "\n",
    "Wait(3)\n",
    "\n",
    "Shutdown()"
   ]
  },
  {
   "cell_type": "markdown",
   "id": "635ff43a-e12e-426c-b3e8-d5dd60ae973e",
   "metadata": {},
   "source": [
    "- go forward for 3 seconds if a button is **pressed and released**"
   ]
  },
  {
   "cell_type": "code",
   "execution_count": null,
   "id": "9253b519-c462-49ff-a872-88c5b6787943",
   "metadata": {},
   "outputs": [],
   "source": [
    "from Robot373 import *\n",
    "\n",
    "eyes,touch=Sensors(None,None,\"us\",\"touch\")\n",
    "\n",
    "left,right=Motors(\"ab\")\n",
    "\n",
    "\n",
    "# do nothing until the touch sensor is pressed\n",
    "while not touch.value:\n",
    "    Wait(0.01)\n",
    "\n",
    "# do nothing until the touch sensor is released\n",
    "while touch.value:\n",
    "    Wait(0.01)\n",
    "    \n",
    "    \n",
    "left.power(50)\n",
    "right.power(50)\n",
    "\n",
    "Wait(3)\n",
    "\n",
    "Shutdown()"
   ]
  },
  {
   "cell_type": "markdown",
   "id": "554273e9-688a-4dc8-bef7-65febed2fc31",
   "metadata": {},
   "source": [
    "- go forward for 3 seconds if a button is **double-clicked**"
   ]
  },
  {
   "cell_type": "code",
   "execution_count": null,
   "id": "1fc0976c-74a0-40d1-9392-2f3875862b9d",
   "metadata": {},
   "outputs": [],
   "source": [
    "from Robot373 import *\n",
    "\n",
    "def wait_for_double_click(touch):\n",
    "    \n",
    "    double_click_time=0.5  # seconds\n",
    "    timer=Timer()\n",
    "    count=0\n",
    "    stop=False\n",
    "    while not stop:\n",
    "        \n",
    "        # do nothing until the touch sensor is pressed\n",
    "        while not touch.value:\n",
    "            Wait(0.01)\n",
    "\n",
    "        # do nothing until the touch sensor is released\n",
    "        while touch.value:\n",
    "            Wait(0.01)\n",
    "        \n",
    "        count+=1\n",
    "\n",
    "        if count>=2:  # double-click\n",
    "            if timer.value>double_click_time:  # too long between \"clicks\":\n",
    "                timer._reset()  # restart the timer at t=0\n",
    "                count=0\n",
    "        else:\n",
    "            stop=True\n",
    "        \n",
    "\n",
    "eyes,touch=Sensors(None,None,\"us\",\"touch\")\n",
    "\n",
    "left,right=Motors(\"ab\")\n",
    "\n",
    "wait_for_double_click(touch)\n",
    "    \n",
    "    \n",
    "left.power(50)\n",
    "right.power(50)\n",
    "\n",
    "Wait(3)\n",
    "\n",
    "Shutdown()"
   ]
  }
 ],
 "metadata": {
  "kernelspec": {
   "display_name": "Python 3 (ipykernel)",
   "language": "python",
   "name": "python3"
  },
  "language_info": {
   "codemirror_mode": {
    "name": "ipython",
    "version": 3
   },
   "file_extension": ".py",
   "mimetype": "text/x-python",
   "name": "python",
   "nbconvert_exporter": "python",
   "pygments_lexer": "ipython3",
   "version": "3.9.12"
  }
 },
 "nbformat": 4,
 "nbformat_minor": 5
}
