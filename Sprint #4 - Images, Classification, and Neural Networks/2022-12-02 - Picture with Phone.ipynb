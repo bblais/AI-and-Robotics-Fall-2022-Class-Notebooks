{
 "cells": [
  {
   "cell_type": "code",
   "execution_count": null,
   "id": "bba8b41e-bac3-4166-b7b9-e6710fea5b6d",
   "metadata": {},
   "outputs": [],
   "source": [
    "def watch_new_files(dirname,verbose=False):\n",
    "    import glob\n",
    "    import os\n",
    "    import time\n",
    "    \n",
    "    first_time=True\n",
    "    old_files=[]\n",
    "    if verbose:\n",
    "        print(\"Watching \",dirname)\n",
    "    try:\n",
    "        while True:\n",
    "            files = list(filter(os.path.isfile, glob.glob(os.path.join(dirname,\"*\"))))\n",
    "            files.sort(key=lambda x: os.path.getmtime(x))\n",
    "\n",
    "            if first_time:\n",
    "                pass\n",
    "            elif len(files)!=len(old_files):\n",
    "                yield files[-1]\n",
    "\n",
    "            first_time=False\n",
    "            old_files=files\n",
    "            if verbose:\n",
    "                print(\".\",end=\"\")\n",
    "\n",
    "\n",
    "            time.sleep(1)\n",
    "    \n",
    "    except KeyboardInterrupt:\n",
    "        if verbose:\n",
    "            print(\"done.\")"
   ]
  },
  {
   "cell_type": "code",
   "execution_count": null,
   "id": "cb014993-29b1-4acb-a76c-f020a6f19d81",
   "metadata": {},
   "outputs": [],
   "source": [
    "def scp(local,remote,user_hostname=None,passwd=None,debug=False):\n",
    "    import os\n",
    "    assert not passwd is None\n",
    "    assert not user_hostname is None\n",
    "    assert '@' in user_hostname\n",
    "    cmd=\"sshpass -p %s scp -o StrictHostKeyChecking=no '%s' %s:'%s'\" % (passwd,local,user_hostname,remote)\n",
    "    print(cmd)\n",
    "    if not debug:\n",
    "        os.system(cmd)"
   ]
  },
  {
   "cell_type": "code",
   "execution_count": null,
   "id": "6f3fb446-c629-4047-9865-3b7720a0439f",
   "metadata": {},
   "outputs": [],
   "source": [
    "def scp(local,remote,user_hostname=None,debug=False):\n",
    "    import os\n",
    "    assert not passwd is None\n",
    "    assert not user_hostname is None\n",
    "    assert '@' in user_hostname\n",
    "    cmd=\"scp '%s' %s:'%s'\" % (local,user_hostname,remote)\n",
    "    print(cmd)\n",
    "    if not debug:\n",
    "        os.system(cmd)"
   ]
  },
  {
   "cell_type": "code",
   "execution_count": null,
   "id": "851a6f4e-9f1f-4751-8446-cfc6a7f6e4bc",
   "metadata": {},
   "outputs": [],
   "source": []
  },
  {
   "cell_type": "code",
   "execution_count": null,
   "id": "120257f5-9ebf-4f5d-94c2-2055e6f641ba",
   "metadata": {},
   "outputs": [],
   "source": [
    "for filename in watch_new_files('/Volumes/GoogleDrive/My Drive/Robot_Phone_Pictures',verbose=True):\n",
    "    scp(filename,\n",
    "        'python/picture.jpg',  # filename on robot\n",
    "        'pi@dex.local','password',\n",
    "       debug=False)"
   ]
  },
  {
   "cell_type": "code",
   "execution_count": null,
   "id": "c81d3b99-a4ef-4d15-8f45-ac3fce904613",
   "metadata": {},
   "outputs": [],
   "source": [
    "import subprocess\n",
    "command = [\"scp\", '/Volumes/GoogleDrive/My Drive/Robot_Phone_Pictures/IMG_3591.JPG','pi@dex.local:python/']\n",
    "output,error  = subprocess.Popen(\n",
    "                command, universal_newlines=True,\n",
    "                stdout=subprocess.PIPE,  \n",
    "                stderr=subprocess.PIPE).communicate()"
   ]
  },
  {
   "cell_type": "code",
   "execution_count": null,
   "id": "53dae59f-df26-4b61-8117-12d115ef883d",
   "metadata": {},
   "outputs": [],
   "source": [
    "output,error"
   ]
  },
  {
   "cell_type": "code",
   "execution_count": null,
   "id": "06a22daa-273e-4ada-b7db-049e3b00220c",
   "metadata": {},
   "outputs": [],
   "source": [
    "import subprocess\n",
    "\n",
    "command = [\"scp\", '/Volumes/GoogleDrive/My Drive/Robot_Phone_Pictures/IMG_3591.JPG','pi@dex.local:python/']\n",
    "# Enter \"google.com; cat /etc/passwd\", without quotes.\n",
    "subprocess.run(command, shell=True)\n"
   ]
  },
  {
   "cell_type": "code",
   "execution_count": null,
   "id": "f5a6c16a-c4f8-409c-a6e7-8e4178bdc598",
   "metadata": {},
   "outputs": [],
   "source": []
  }
 ],
 "metadata": {
  "kernelspec": {
   "display_name": "Python 3 (ipykernel)",
   "language": "python",
   "name": "python3"
  },
  "language_info": {
   "codemirror_mode": {
    "name": "ipython",
    "version": 3
   },
   "file_extension": ".py",
   "mimetype": "text/x-python",
   "name": "python",
   "nbconvert_exporter": "python",
   "pygments_lexer": "ipython3",
   "version": "3.9.12"
  }
 },
 "nbformat": 4,
 "nbformat_minor": 5
}
