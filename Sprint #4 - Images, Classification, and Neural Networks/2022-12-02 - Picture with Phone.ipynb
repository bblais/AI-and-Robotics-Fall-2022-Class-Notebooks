{
 "cells": [
  {
   "cell_type": "code",
   "execution_count": 20,
   "id": "bba8b41e-bac3-4166-b7b9-e6710fea5b6d",
   "metadata": {},
   "outputs": [],
   "source": [
    "def watch_new_files(dirname,verbose=False):\n",
    "    import glob\n",
    "    import os\n",
    "    import time\n",
    "    assert os.path.isdir(dirname)\n",
    "    \n",
    "    first_time=True\n",
    "    old_files=[]\n",
    "    if verbose:\n",
    "        print(\"Watching \",dirname)\n",
    "    try:\n",
    "        while True:\n",
    "            files = list(filter(os.path.isfile, glob.glob(os.path.join(dirname,\"*\"))))\n",
    "            files.sort(key=lambda x: os.path.getmtime(x))\n",
    "\n",
    "            if first_time:\n",
    "                pass\n",
    "            elif len(files)!=len(old_files):\n",
    "                yield files[-1]\n",
    "\n",
    "            first_time=False\n",
    "            old_files=files\n",
    "            if verbose:\n",
    "                print(\".\",end=\"\")\n",
    "\n",
    "\n",
    "            time.sleep(1)\n",
    "    \n",
    "    except KeyboardInterrupt:\n",
    "        if verbose:\n",
    "            print(\"done.\")"
   ]
  },
  {
   "cell_type": "code",
   "execution_count": 21,
   "id": "cb014993-29b1-4acb-a76c-f020a6f19d81",
   "metadata": {},
   "outputs": [],
   "source": [
    "from getpass import getpass\n",
    "def scp(local,user_hostname,remote):\n",
    "    global passwd_\n",
    "    \n",
    "    import os,shutil\n",
    "    assert os.name=='nt'  # only works on windows\n",
    "    assert shutil.which('pscp')\n",
    "    \n",
    "    assert '@' in user_hostname\n",
    "    cmd='pscp -pw \"%s\" \"%s\" %s:\"%s\"' % (passwd_,local,user_hostname,remote)\n",
    "    cmd_='pscp -pw \"%s\" \"%s\" %s:\"%s\"' % ('*'*len(passwd_),local,user_hostname,remote)\n",
    "    print(cmd_)\n",
    "    os.system(cmd)"
   ]
  },
  {
   "cell_type": "code",
   "execution_count": 23,
   "id": "d0959d6f-3d41-48a9-a3eb-bf74f2b05232",
   "metadata": {},
   "outputs": [
    {
     "name": "stdin",
     "output_type": "stream",
     "text": [
      "Enter password: ··········\n"
     ]
    }
   ],
   "source": [
    "passwd_=getpass(\"Enter password:\")  # robot password"
   ]
  },
  {
   "cell_type": "code",
   "execution_count": 22,
   "id": "120257f5-9ebf-4f5d-94c2-2055e6f641ba",
   "metadata": {},
   "outputs": [
    {
     "name": "stdout",
     "output_type": "stream",
     "text": [
      "Watching  G:/My Drive/Robot_Phone_Pictures\n",
      ".....................pscp -pw \"********************\" \"G:/My Drive/Robot_Phone_Pictures\\IMG_3600.JPG\" bblais@192.168.68.106:\"tmp/picture.jpg\"\n",
      "...............................done.\n"
     ]
    }
   ],
   "source": [
    "for filename in watch_new_files('G:/My Drive/Robot_Phone_Pictures',verbose=True):\n",
    "    scp(filename,'pi@10.2.2.30','python/picture.jpg')"
   ]
  },
  {
   "cell_type": "code",
   "execution_count": null,
   "id": "c1b0a01d-deed-4450-8fa7-ab8564932546",
   "metadata": {},
   "outputs": [],
   "source": []
  }
 ],
 "metadata": {
  "kernelspec": {
   "display_name": "Python 3 (ipykernel)",
   "language": "python",
   "name": "python3"
  },
  "language_info": {
   "codemirror_mode": {
    "name": "ipython",
    "version": 3
   },
   "file_extension": ".py",
   "mimetype": "text/x-python",
   "name": "python",
   "nbconvert_exporter": "python",
   "pygments_lexer": "ipython3",
   "version": "3.9.12"
  }
 },
 "nbformat": 4,
 "nbformat_minor": 5
}
