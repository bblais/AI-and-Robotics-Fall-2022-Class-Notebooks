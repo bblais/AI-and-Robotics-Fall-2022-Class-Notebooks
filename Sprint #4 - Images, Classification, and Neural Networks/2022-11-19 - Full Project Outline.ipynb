{
 "cells": [
  {
   "cell_type": "markdown",
   "id": "83a56b40-282d-423d-97af-7cb7cc09466a",
   "metadata": {},
   "source": [
    "Let's work backward from the answer we need to how we get there.  We'll write the entire robot playing a board game.  We'll make empty or partial functions first, and then fill them out."
   ]
  },
  {
   "cell_type": "code",
   "execution_count": null,
   "id": "01848806-1484-435f-a399-0f7ffcfad44b",
   "metadata": {},
   "outputs": [],
   "source": [
    "# don't run these yet -- they are defined below\n",
    "state=read_state()     #  read the state from the world\n",
    "move=get_move(state,1)   # from an agent\n",
    "make_move(move)        # robot motion to move pieces, etc..."
   ]
  },
  {
   "cell_type": "markdown",
   "id": "60a2e91b-a451-4226-8997-c0c2b3892776",
   "metadata": {},
   "source": [
    "# get_move"
   ]
  },
  {
   "cell_type": "code",
   "execution_count": 1,
   "id": "5ff7f7d9-89af-4db8-b951-c7b2f8b8dd1f",
   "metadata": {},
   "outputs": [
    {
     "name": "stdout",
     "output_type": "stream",
     "text": [
      "Version:  0.2.41\n"
     ]
    }
   ],
   "source": [
    "from breakthrough import *"
   ]
  },
  {
   "cell_type": "markdown",
   "id": "4e59d97e-c576-466d-a14d-417df44fca5e",
   "metadata": {},
   "source": [
    "there are several get_move functions one could use.  Like random...."
   ]
  },
  {
   "cell_type": "code",
   "execution_count": 2,
   "id": "b2bbb4d9-6d45-43f1-a712-60b6872507d1",
   "metadata": {},
   "outputs": [],
   "source": [
    "def random_move(state,player):\n",
    "    moves=valid_moves(state,player)\n",
    "    return random.choice(moves)\n",
    "\n",
    "def get_move(state,player):\n",
    "    return random_move(state,player)"
   ]
  },
  {
   "cell_type": "markdown",
   "id": "1d1d1c43-98dc-4eb3-bb7d-b31a0cb23e8c",
   "metadata": {},
   "source": [
    "or minimax the same way."
   ]
  },
  {
   "cell_type": "code",
   "execution_count": 3,
   "id": "797bdf84-1136-413b-821c-b55d1865d135",
   "metadata": {},
   "outputs": [],
   "source": [
    "def get_move(state,player):\n",
    "    return minimax_move(state,player)"
   ]
  },
  {
   "cell_type": "markdown",
   "id": "42a91f54-8ea5-4141-a5f8-5524761eca27",
   "metadata": {},
   "source": [
    "Q or skittles, the move comes from the table."
   ]
  },
  {
   "cell_type": "code",
   "execution_count": 3,
   "id": "aaa8034e-a846-4844-ab5d-1c747a13cca1",
   "metadata": {},
   "outputs": [],
   "source": [
    "def get_move(state,player):\n",
    "    if player==1:\n",
    "        Q=LoadTable(\"Q1_breakthrough_table.json\")\n",
    "    else:\n",
    "        Q=LoadTable(\"Q2_breakthrough_table.json\")\n",
    "        \n",
    "    \n",
    "    if state not in Q:\n",
    "        return random_move(state,player)\n",
    "    else:\n",
    "        return top_choice(Q[state])"
   ]
  },
  {
   "cell_type": "code",
   "execution_count": 4,
   "id": "ab86e28e-9deb-48e3-a51d-4e3c62a48d7d",
   "metadata": {},
   "outputs": [],
   "source": [
    "state=initial_state()"
   ]
  },
  {
   "cell_type": "code",
   "execution_count": 5,
   "id": "23346014-2497-4815-9b6c-e22aae1a7dec",
   "metadata": {},
   "outputs": [
    {
     "data": {
      "text/plain": [
       "[12, 8]"
      ]
     },
     "execution_count": 5,
     "metadata": {},
     "output_type": "execute_result"
    }
   ],
   "source": [
    "get_move(state,1)"
   ]
  },
  {
   "cell_type": "markdown",
   "id": "1f10db45-cd4d-427e-a8ad-b77c7d1f9976",
   "metadata": {},
   "source": [
    "## make_move"
   ]
  },
  {
   "cell_type": "markdown",
   "id": "04868fb2-3b79-47f8-8e60-d649755fcc3a",
   "metadata": {},
   "source": [
    "the minimal one just prints the move"
   ]
  },
  {
   "cell_type": "code",
   "execution_count": 6,
   "id": "9e8e44d4-ecff-46e3-9584-e685927a6655",
   "metadata": {},
   "outputs": [],
   "source": [
    "def make_move(move):\n",
    "    print(\"If I could move, I would do move: \",move)"
   ]
  },
  {
   "cell_type": "markdown",
   "id": "b9bcf668-b5b4-433b-9648-7e759e864d8a",
   "metadata": {},
   "source": [
    "everything else will be specific to your robot, but it might do something like this."
   ]
  },
  {
   "cell_type": "code",
   "execution_count": 7,
   "id": "b9f1bd70-743c-49a5-a8c5-7bde3191aa7c",
   "metadata": {},
   "outputs": [],
   "source": [
    "move=[12,8]\n",
    "move=[9,6]"
   ]
  },
  {
   "cell_type": "code",
   "execution_count": 8,
   "id": "71e6d6a8-b4f7-4b07-acaf-9411cc59ff2b",
   "metadata": {},
   "outputs": [],
   "source": [
    "def take_picture(fname):\n",
    "    print(\"\"\"--- Opening /dev/video0...\n",
    "Trying source module v4l2...\n",
    "/dev/video0 opened.\n",
    "No input was specified, using the first.\n",
    "Setting Brightness to 255 (100%).\n",
    "Adjusting resolution from 1600x900 to 1600x896.\n",
    "--- Capturing frame...\n",
    "Captured frame in 0.00 seconds.\n",
    "--- Processing captured image...\n",
    "Disabling banner.\n",
    "Writing JPEG image to '%s'.\n",
    "    \"\"\" % fname)\n",
    "\n",
    "\n",
    "def move_forward(distance):\n",
    "    print(\"forward \",distance)\n",
    "    \n",
    "def move_backward(distance):\n",
    "    print(\"backward \",distance)    \n",
    "    \n",
    "def turn_robot_left_90():\n",
    "    print(\"left 90\")\n",
    "    \n",
    "def turn_robot_right_90():\n",
    "    print(\"right 90\")    \n",
    "    \n",
    "def turn_robot_left_45():\n",
    "    print(\"left 45\")    \n",
    "    \n",
    "def turn_robot_right_45():\n",
    "    print(\"right 45\")     \n",
    "    \n",
    "def arm_up():\n",
    "    print(\"arm up\")\n",
    "def arm_down():\n",
    "    print(\"arm down\")\n"
   ]
  },
  {
   "cell_type": "code",
   "execution_count": 9,
   "id": "d6c22e6f-a95e-41ce-b993-93fb313f2be6",
   "metadata": {},
   "outputs": [],
   "source": [
    "def make_move(move):\n",
    "    print(\"Making move \",move)\n",
    "    \n",
    "    board=Board(4,4)  # just to get the conversion functions for free\n",
    "    \n",
    "    start,end=move\n",
    "    rs,cs=board.rc_from_index(start)  # convert to row, column\n",
    "    re,ce=board.rc_from_index(end)\n",
    "    \n",
    "    distance_to_board=10\n",
    "    length_column=4\n",
    "    length_row=4\n",
    "\n",
    "    type_of_move=ce-cs  # 0 for a forward move, +1 for a right-hand diagonal, -1 for left-hand diagonal\n",
    "    distance_to_column=distance_to_board+length_column*cs\n",
    "    distance_to_row=(4-rs)*length_row\n",
    "\n",
    "    if type_of_move==0:  # forward\n",
    "\n",
    "        move_forward(distance_to_column)\n",
    "        turn_robot_left_90()\n",
    "        move_forward(distance_to_row)\n",
    "        arm_down()  # to push the piece\n",
    "        move_forward( 1*length_row )\n",
    "        arm_up()\n",
    "\n",
    "        # go back\n",
    "        move_backward(distance_to_row + 1*length_row)\n",
    "        turn_robot_right_90()\n",
    "        move_backward(distance_to_column)\n",
    "\n",
    "    elif type_of_move==1:  # right-hand diagonal\n",
    "\n",
    "        move_forward(distance_to_column)\n",
    "        turn_robot_left_90()\n",
    "        move_forward(distance_to_row)\n",
    "\n",
    "\n",
    "        arm_down()  # to push the piece\n",
    "        turn_robot_right_45()\n",
    "        move_forward( 1*length_row )\n",
    "\n",
    "        # go back\n",
    "        move_backward(1*length_row)\n",
    "        turn_robot_left_45()    \n",
    "        move_backward(distance_to_row )\n",
    "        turn_robot_right_90()\n",
    "        move_backward(distance_to_column)\n",
    "\n",
    "    elif type_of_move==-1:  # left-hand diagonal\n",
    "        move_forward(distance_to_column)\n",
    "        turn_robot_left_90()\n",
    "        move_forward(distance_to_row)\n",
    "\n",
    "\n",
    "        arm_down()  # to push the piece\n",
    "        turn_robot_left_45()\n",
    "        move_forward( 1*length_row )\n",
    "\n",
    "        # go back\n",
    "        move_backward(1*length_row)\n",
    "        turn_robot_right_45()    \n",
    "        move_backward(distance_to_row )\n",
    "        turn_robot_right_90()\n",
    "        move_backward(distance_to_column)\n",
    "\n",
    "    else:\n",
    "        raise ValueError(\"You can't get there from here.\")\n",
    "\n",
    "    "
   ]
  },
  {
   "cell_type": "code",
   "execution_count": 10,
   "id": "de3e6532-1484-4bd6-93d7-f574f34bbe17",
   "metadata": {},
   "outputs": [
    {
     "name": "stdout",
     "output_type": "stream",
     "text": [
      " v  v  v  v \n",
      " .  .  .  . \n",
      " .  .  .  . \n",
      " ^  ^  ^  ^ \n",
      "\n",
      " 0  1  2  3 \n",
      " 4  5  6  7 \n",
      " 8  9 10 11 \n",
      "12 13 14 15 \n",
      "\n"
     ]
    }
   ],
   "source": [
    "state=initial_state()\n",
    "show_state(state)\n",
    "state.show_locations()"
   ]
  },
  {
   "cell_type": "code",
   "execution_count": 11,
   "id": "da5cc25b-71bc-448c-9705-cef6a3ec4b61",
   "metadata": {},
   "outputs": [
    {
     "name": "stdout",
     "output_type": "stream",
     "text": [
      "Making move  [13, 8]\n",
      "forward  14\n",
      "left 90\n",
      "forward  4\n",
      "arm down\n",
      "left 45\n",
      "forward  4\n",
      "backward  4\n",
      "right 45\n",
      "backward  4\n",
      "right 90\n",
      "backward  14\n"
     ]
    }
   ],
   "source": [
    "make_move([13,8])"
   ]
  },
  {
   "cell_type": "markdown",
   "id": "7dddda68-76c1-4e0f-8b8e-8b9e8da150c4",
   "metadata": {},
   "source": [
    "## read_state"
   ]
  },
  {
   "cell_type": "markdown",
   "id": "93d7ddd5-596c-4a43-90d2-d52b49a15383",
   "metadata": {},
   "source": [
    "a nice fall-back is to read the state from a file"
   ]
  },
  {
   "cell_type": "code",
   "execution_count": 12,
   "id": "0e452c12-6cb0-40b2-ac69-2be91956bde0",
   "metadata": {},
   "outputs": [],
   "source": [
    "def read_state_from_file(filename='current_board.txt'):\n",
    "    with open(filename) as fid:\n",
    "        text=fid.read()\n",
    "\n",
    "    text2=text.strip().split('\\n')\n",
    "    number_of_rows=len(text2)\n",
    "    number_of_cols=len(text2[0].split())\n",
    "    \n",
    "    b=Board(number_of_rows,number_of_cols)\n",
    "        \n",
    "    board=[int(v) for v in text.split()]\n",
    "    b.board=board\n",
    "    return b"
   ]
  },
  {
   "cell_type": "code",
   "execution_count": 13,
   "id": "077f0166-2aaa-40ea-9283-025662776e2e",
   "metadata": {},
   "outputs": [],
   "source": [
    "def read_state():\n",
    "    state=read_state_from_file()\n",
    "    return state"
   ]
  },
  {
   "cell_type": "code",
   "execution_count": 14,
   "id": "12cde23b-1572-4806-ac3e-b3b95d6e8b6c",
   "metadata": {},
   "outputs": [],
   "source": [
    "with open(\"current_board.txt\",\"w\") as fid:\n",
    "    fid.write(\"\"\"\n",
    "2 0 2 0 \n",
    "0 2 0 0\n",
    "1 0 1 1\n",
    "0 1 0 0\n",
    "    \"\"\")"
   ]
  },
  {
   "cell_type": "code",
   "execution_count": 15,
   "id": "2d1653a3-203c-48f8-aeca-448f23a03fdc",
   "metadata": {},
   "outputs": [
    {
     "name": "stdout",
     "output_type": "stream",
     "text": [
      " 2  0  2  0 \n",
      " 0  2  0  0 \n",
      " 1  0  1  1 \n",
      " 0  1  0  0 \n",
      "\n"
     ]
    }
   ],
   "source": [
    "state=read_state()\n",
    "show_state(state)"
   ]
  },
  {
   "cell_type": "markdown",
   "id": "3a122cdf-7f3e-4a46-af0a-2abe237343f1",
   "metadata": {},
   "source": [
    "now we can do the reading from the world"
   ]
  },
  {
   "cell_type": "code",
   "execution_count": 16,
   "id": "a603fd16-b067-435d-973f-4ab630b15d9a",
   "metadata": {},
   "outputs": [
    {
     "name": "stdout",
     "output_type": "stream",
     "text": [
      "Version:  0.0.31\n"
     ]
    }
   ],
   "source": [
    "from classy import *"
   ]
  },
  {
   "cell_type": "markdown",
   "id": "da9c13f8-f819-45f3-a3f7-39c4ee99a462",
   "metadata": {},
   "source": [
    "Assuming you have collection of training images, train the classifier...."
   ]
  },
  {
   "cell_type": "code",
   "execution_count": 17,
   "id": "e563d2cc-9c72-46c1-ba34-109712a3adbc",
   "metadata": {},
   "outputs": [],
   "source": [
    "\n",
    "def get_square(arr,index,shape,locations=None):\n",
    "    import json\n",
    "    \n",
    "    if locations is None:\n",
    "        with open('locations.json') as json_file:\n",
    "            locations = json.load(json_file)        \n",
    "    \n",
    "    try:\n",
    "        location=locations[index]\n",
    "    except IndexError:\n",
    "        print(\"locations.json file probably corrupt.\")\n",
    "        raise \n",
    "        \n",
    "    c,r=location\n",
    "    c1=int(c-shape[1]/2)\n",
    "    c2=int(c+shape[1]/2)\n",
    "    r1=int(r-shape[0]/2)\n",
    "    r2=int(r+shape[0]/2)\n",
    "\n",
    "    c2=c2+(shape[1]-(c2-c1))\n",
    "    r2=r2+(shape[0]-(r2-r1))\n",
    "\n",
    "    square=arr[r1:r2,c1:c2,:]\n",
    "    \n",
    "    return square"
   ]
  },
  {
   "cell_type": "code",
   "execution_count": 18,
   "id": "ffa01c84-551a-469e-963f-46cb8cbb308a",
   "metadata": {},
   "outputs": [],
   "source": [
    "from pylab import imread,imsave"
   ]
  },
  {
   "cell_type": "code",
   "execution_count": 21,
   "id": "08342b84-2dbf-4d0e-8fa7-a3168fcec3ec",
   "metadata": {},
   "outputs": [],
   "source": [
    "def read_state():\n",
    "    from pylab import imread,imsave\n",
    "    import os\n",
    "\n",
    "    # train the classifier\n",
    "    images=image.load_images('images/all_pieces',delete_alpha=True)\n",
    "    shape=images.data[0].shape[:2]\n",
    "    data_train=data=image.images_to_vectors(images,verbose=True)  # train on all of them\n",
    "\n",
    "    #classifier=kNearestNeighbor()\n",
    "    classifier=NaiveBayes()\n",
    "    classifier.fit(data_train.vectors,data_train.targets)\n",
    "\n",
    "\n",
    "    # get the picture\n",
    "    take_picture('current_board.jpg')\n",
    "    arr=imread('current_board.jpg')\n",
    "\n",
    "\n",
    "    # slice the picture into squares of the right size\n",
    "    shape=data_train.shape[:2]\n",
    "    squares=[get_square(arr,i,shape) for i in range(16)]\n",
    "    test_images=image.array_to_image_struct(squares)\n",
    "\n",
    "    # get predictions\n",
    "    test_data=image.images_to_vectors(test_images)\n",
    "    predictions=classifier.predict(test_data.vectors)\n",
    "    names=[data_train.target_names[p] for p in predictions]\n",
    "\n",
    "    if not os.path.exists('images/predicted'):\n",
    "        os.mkdir('images/predicted')\n",
    "    for i,(square,prediction) in enumerate(zip(squares,predictions)):\n",
    "        imsave('images/predicted/square %d predicted as %s.jpg' % (i,data_train.target_names[prediction]),square)\n",
    "\n",
    "    \n",
    "    # reconstruct the state from the predictions\n",
    "    state=Board(4,4)\n",
    "    for i in range(16):\n",
    "        color=data_train.target_names[predictions[i]]\n",
    "        if color==\"white\":\n",
    "            state[i]=0\n",
    "        elif color==\"red\":\n",
    "            state[i]=1\n",
    "        elif color==\"black\":\n",
    "            state[i]=2\n",
    "        else:\n",
    "            raise ValueError(\"You can't get there from here.\")\n",
    "\n",
    "    print(\"Current state is:\")\n",
    "    print(state)\n",
    "\n",
    "    x=input(\"\"\"\n",
    "    Hit return if this is correct, otherwise type a character \n",
    "    and the state will be read from current_board.txt.\"\"\")\n",
    "\n",
    "    if x:\n",
    "        state=read_state_from_file()\n",
    "\n",
    "    print(\"Using\")\n",
    "    print(state)\n",
    "\n",
    "    \n",
    "    return state"
   ]
  },
  {
   "cell_type": "code",
   "execution_count": 22,
   "id": "b0a110e5-5c6d-4832-951d-0d36f465586b",
   "metadata": {},
   "outputs": [
    {
     "name": "stdout",
     "output_type": "stream",
     "text": [
      "[red]: 192 files found\n",
      "[white]: 128 files found\n",
      "[black]: 192 files found\n",
      "512 vectors of length 11286\n",
      "Feature names: 'p0', 'p1', 'p2', 'p3', 'p4'  , ... ,  'p11281', 'p11282', 'p11283', 'p11284', 'p11285'  (11286 features)\n",
      "Target values given.\n",
      "Target names: 'red', 'white', 'black'\n",
      "Mean:  [129.1875    136.5234375 130.4375    ... 129.1875    136.5234375\n",
      " 130.4375   ]\n",
      "Median:  [175.5 184.  174.  ... 175.5 184.  174. ]\n",
      "Stddev:  [67.94258836 67.75472364 65.81324192 ... 67.94258836 67.75472364\n",
      " 65.81324192]\n",
      "16 vectors of length 11286\n",
      "Feature names: 'p0', 'p1', 'p2', 'p3', 'p4'  , ... ,  'p11281', 'p11282', 'p11283', 'p11284', 'p11285'  (11286 features)\n",
      "Target values given.\n",
      "Target names: 'None', 'None', 'None', 'None', 'None', 'None', 'None', 'None', 'None', 'None', 'None', 'None', 'None', 'None', 'None', 'None'\n",
      "Mean:  [128.1875 133.9375 123.3125 ...  67.5625  70.8125  64.8125]\n",
      "Median:  [170.  182.  171.5 ...  43.   46.5  47. ]\n",
      "Stddev:  [64.35955519 67.96733476 68.61552189 ... 53.47074989 53.0497629\n",
      " 50.91195679]\n",
      "Current state is:\n",
      " 2  0  0  0 \n",
      " 0  2  0  2 \n",
      " 0  0  1  0 \n",
      " 1  1  0  0 \n",
      "\n"
     ]
    },
    {
     "name": "stdin",
     "output_type": "stream",
     "text": [
      "\n",
      "    Hit return if this is correct, otherwise type a character \n",
      "    and the state will be read from current_board.txt. \n"
     ]
    },
    {
     "name": "stdout",
     "output_type": "stream",
     "text": [
      "Using\n",
      " 2  0  0  0 \n",
      " 0  2  0  2 \n",
      " 0  0  1  0 \n",
      " 1  1  0  0 \n",
      "\n"
     ]
    }
   ],
   "source": [
    "state=read_state()"
   ]
  },
  {
   "cell_type": "markdown",
   "id": "f5e71aef-e465-4beb-8185-b626587549e7",
   "metadata": {},
   "source": [
    "## Now the full game"
   ]
  },
  {
   "cell_type": "code",
   "execution_count": 23,
   "id": "64bbb94f-d526-46ef-a7bd-7159b7ea5832",
   "metadata": {},
   "outputs": [
    {
     "name": "stdout",
     "output_type": "stream",
     "text": [
      "[red]: 192 files found\n",
      "[white]: 128 files found\n",
      "[black]: 192 files found\n",
      "512 vectors of length 11286\n",
      "Feature names: 'p0', 'p1', 'p2', 'p3', 'p4'  , ... ,  'p11281', 'p11282', 'p11283', 'p11284', 'p11285'  (11286 features)\n",
      "Target values given.\n",
      "Target names: 'red', 'white', 'black'\n",
      "Mean:  [129.1875    136.5234375 130.4375    ... 129.1875    136.5234375\n",
      " 130.4375   ]\n",
      "Median:  [175.5 184.  174.  ... 175.5 184.  174. ]\n",
      "Stddev:  [67.94258836 67.75472364 65.81324192 ... 67.94258836 67.75472364\n",
      " 65.81324192]\n",
      "16 vectors of length 11286\n",
      "Feature names: 'p0', 'p1', 'p2', 'p3', 'p4'  , ... ,  'p11281', 'p11282', 'p11283', 'p11284', 'p11285'  (11286 features)\n",
      "Target values given.\n",
      "Target names: 'None', 'None', 'None', 'None', 'None', 'None', 'None', 'None', 'None', 'None', 'None', 'None', 'None', 'None', 'None', 'None'\n",
      "Mean:  [128.1875 133.9375 123.3125 ...  67.5625  70.8125  64.8125]\n",
      "Median:  [170.  182.  171.5 ...  43.   46.5  47. ]\n",
      "Stddev:  [64.35955519 67.96733476 68.61552189 ... 53.47074989 53.0497629\n",
      " 50.91195679]\n",
      "Current state is:\n",
      " 2  0  0  0 \n",
      " 0  2  0  2 \n",
      " 0  0  1  0 \n",
      " 1  1  0  0 \n",
      "\n"
     ]
    },
    {
     "name": "stdin",
     "output_type": "stream",
     "text": [
      "\n",
      "    Hit return if this is correct, otherwise type a character \n",
      "    and the state will be read from current_board.txt. \n"
     ]
    },
    {
     "name": "stdout",
     "output_type": "stream",
     "text": [
      "Using\n",
      " 2  0  0  0 \n",
      " 0  2  0  2 \n",
      " 0  0  1  0 \n",
      " 1  1  0  0 \n",
      "\n",
      "Making move  [10, 6]\n",
      "forward  18\n",
      "left 90\n",
      "forward  8\n",
      "arm down\n",
      "forward  4\n",
      "arm up\n",
      "backward  12\n",
      "right 90\n",
      "backward  18\n"
     ]
    }
   ],
   "source": [
    "state=read_state()     #  read the state from the world\n",
    "move=get_move(state,1)   # from an agent\n",
    "make_move(move)        # robot motion to move pieces, etc..."
   ]
  },
  {
   "cell_type": "code",
   "execution_count": null,
   "id": "b6e0f8f6-9d8b-4571-8fd1-a7b12208719e",
   "metadata": {},
   "outputs": [],
   "source": []
  }
 ],
 "metadata": {
  "kernelspec": {
   "display_name": "Python 3 (ipykernel)",
   "language": "python",
   "name": "python3"
  },
  "language_info": {
   "codemirror_mode": {
    "name": "ipython",
    "version": 3
   },
   "file_extension": ".py",
   "mimetype": "text/x-python",
   "name": "python",
   "nbconvert_exporter": "python",
   "pygments_lexer": "ipython3",
   "version": "3.9.12"
  }
 },
 "nbformat": 4,
 "nbformat_minor": 5
}
