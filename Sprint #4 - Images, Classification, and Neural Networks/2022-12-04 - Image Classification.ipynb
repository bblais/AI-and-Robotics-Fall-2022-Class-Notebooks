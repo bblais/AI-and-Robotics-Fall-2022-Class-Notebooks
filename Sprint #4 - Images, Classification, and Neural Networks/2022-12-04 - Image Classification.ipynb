{
 "cells": [
  {
   "cell_type": "code",
   "execution_count": 1,
   "id": "8dc1a37f-1a79-4ee6-a4e7-a58e07d03b10",
   "metadata": {},
   "outputs": [],
   "source": [
    "%matplotlib inline\n",
    "from pylab import *"
   ]
  },
  {
   "cell_type": "code",
   "execution_count": 2,
   "id": "eeeb2e8b-68b8-4b29-aacd-b9f547c95d0f",
   "metadata": {},
   "outputs": [
    {
     "name": "stdout",
     "output_type": "stream",
     "text": [
      "Version  1.0.6\n",
      "Version:  0.0.31\n"
     ]
    }
   ],
   "source": [
    "from classy import *"
   ]
  },
  {
   "cell_type": "code",
   "execution_count": 3,
   "id": "40b6b058-c9ed-43d7-a390-65ff37a6a960",
   "metadata": {},
   "outputs": [
    {
     "name": "stdout",
     "output_type": "stream",
     "text": [
      "[red]: 60 files found\n",
      "[white]: 49 files found\n",
      "[black]: 67 files found\n"
     ]
    }
   ],
   "source": [
    "images=image.load_images('images/square images/')"
   ]
  },
  {
   "cell_type": "code",
   "execution_count": 4,
   "id": "b27cc742-d51e-4a98-9c6d-af3176429a9b",
   "metadata": {},
   "outputs": [
    {
     "name": "stdout",
     "output_type": "stream",
     "text": [
      "176 vectors of length 7500\n",
      "Feature names: 'p0', 'p1', 'p2', 'p3', 'p4'  , ... ,  'p7495', 'p7496', 'p7497', 'p7498', 'p7499'  (7500 features)\n",
      "Target values given.\n",
      "Target names: 'red', 'white', 'black'\n",
      "Mean:  [116.77840909 124.65909091 117.86931818 ... 183.26704545 186.98295455\n",
      " 178.26704545]\n",
      "Median:  [151.  165.  155.5 ... 184.  189.  180. ]\n",
      "Stddev:  [67.04477634 71.35886999 70.85997694 ...  5.98504237 12.83172313\n",
      " 12.64516815]\n"
     ]
    }
   ],
   "source": [
    "data=image.images_to_vectors(images)"
   ]
  },
  {
   "cell_type": "code",
   "execution_count": 5,
   "id": "0bce0fe5-c99c-4433-b08b-d75db790e0f9",
   "metadata": {},
   "outputs": [
    {
     "data": {
      "text/plain": [
       "7500"
      ]
     },
     "execution_count": 5,
     "metadata": {},
     "output_type": "execute_result"
    }
   ],
   "source": [
    "50*50*3"
   ]
  },
  {
   "cell_type": "code",
   "execution_count": 6,
   "id": "80f8209b-342c-4dfc-a67c-076c5f8b12b1",
   "metadata": {},
   "outputs": [
    {
     "name": "stdout",
     "output_type": "stream",
     "text": [
      "Original vector shape:  (176, 7500)\n",
      "Train vector shape:  (140, 7500)\n",
      "Test vector shape:  (36, 7500)\n"
     ]
    }
   ],
   "source": [
    "data_train,data_test=split(data,test_size=0.2)"
   ]
  },
  {
   "cell_type": "code",
   "execution_count": 7,
   "id": "5c920ac4-5f12-4761-bcb3-9ba2a8507557",
   "metadata": {},
   "outputs": [
    {
     "name": "stdout",
     "output_type": "stream",
     "text": [
      "On Training Set: 100.0\n",
      "On Test Set: 100.0\n"
     ]
    }
   ],
   "source": [
    "C=NaiveBayes()\n",
    "C.fit(data_train.vectors,data_train.targets)\n",
    "print(\"On Training Set:\",C.percent_correct(data_train.vectors,data_train.targets))\n",
    "print(\"On Test Set:\",C.percent_correct(data_test.vectors,data_test.targets))"
   ]
  },
  {
   "cell_type": "code",
   "execution_count": 8,
   "id": "830b4636-9302-4eac-a2fd-c97b6ce84102",
   "metadata": {},
   "outputs": [
    {
     "name": "stdout",
     "output_type": "stream",
     "text": [
      "On Training Set: 100.0\n",
      "On Test Set: 100.0\n"
     ]
    }
   ],
   "source": [
    "C=kNearestNeighbor()\n",
    "C.fit(data_train.vectors,data_train.targets)\n",
    "print(\"On Training Set:\",C.percent_correct(data_train.vectors,data_train.targets))\n",
    "print(\"On Test Set:\",C.percent_correct(data_test.vectors,data_test.targets))"
   ]
  },
  {
   "cell_type": "code",
   "execution_count": null,
   "id": "d9970f51-a752-4c7b-9171-a025a3918d99",
   "metadata": {},
   "outputs": [],
   "source": []
  }
 ],
 "metadata": {
  "kernelspec": {
   "display_name": "Python 3 (ipykernel)",
   "language": "python",
   "name": "python3"
  },
  "language_info": {
   "codemirror_mode": {
    "name": "ipython",
    "version": 3
   },
   "file_extension": ".py",
   "mimetype": "text/x-python",
   "name": "python",
   "nbconvert_exporter": "python",
   "pygments_lexer": "ipython3",
   "version": "3.9.12"
  }
 },
 "nbformat": 4,
 "nbformat_minor": 5
}
