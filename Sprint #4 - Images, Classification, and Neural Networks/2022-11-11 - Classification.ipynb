{
 "cells": [
  {
   "cell_type": "code",
   "execution_count": 1,
   "id": "137a44ef-0733-4db6-a28e-095a8a086f69",
   "metadata": {},
   "outputs": [],
   "source": [
    "%matplotlib inline\n",
    "from pylab import *"
   ]
  },
  {
   "cell_type": "code",
   "execution_count": 2,
   "id": "c3db1098-868b-4100-8825-7fbdb2cae323",
   "metadata": {},
   "outputs": [
    {
     "name": "stdout",
     "output_type": "stream",
     "text": [
      "Version:  0.0.31\n"
     ]
    }
   ],
   "source": [
    "from classy import *"
   ]
  },
  {
   "cell_type": "code",
   "execution_count": 3,
   "id": "ad6b9839-f915-4b18-b63e-d5af2ea25a5e",
   "metadata": {},
   "outputs": [
    {
     "name": "stdout",
     "output_type": "stream",
     "text": [
      "iris.data 151 5\n",
      "150 vectors of length 4\n",
      "Feature names: 'petal length in cm', 'petal width in cm', 'sepal length in cm', 'sepal width in cm'\n",
      "Target values given.\n",
      "Target names: 'Iris-setosa', 'Iris-versicolor', 'Iris-virginica'\n",
      "Mean:  [3.75866667 1.19866667 5.84333333 3.054     ]\n",
      "Median:  [4.35 1.3  5.8  3.  ]\n",
      "Stddev:  [1.75852918 0.76061262 0.82530129 0.43214658]\n"
     ]
    }
   ],
   "source": [
    "data=load_excel('data/iris.xls')"
   ]
  },
  {
   "cell_type": "code",
   "execution_count": 4,
   "id": "0384a4fa-4238-4563-8d9b-a8f0150128c0",
   "metadata": {},
   "outputs": [
    {
     "ename": "AssertionError",
     "evalue": "Function only works for 2D data.",
     "output_type": "error",
     "traceback": [
      "\u001b[0;31m---------------------------------------------------------------------------\u001b[0m",
      "\u001b[0;31mAssertionError\u001b[0m                            Traceback (most recent call last)",
      "Input \u001b[0;32mIn [4]\u001b[0m, in \u001b[0;36m<cell line: 1>\u001b[0;34m()\u001b[0m\n\u001b[0;32m----> 1\u001b[0m \u001b[43mplot2D\u001b[49m\u001b[43m(\u001b[49m\u001b[43mdata\u001b[49m\u001b[43m)\u001b[49m\n",
      "File \u001b[0;32m~/opt/anaconda3/lib/python3.9/site-packages/classy/utils.py:180\u001b[0m, in \u001b[0;36mplot2D\u001b[0;34m(data, classifier, axis_range, number_of_grid_points, legend_location)\u001b[0m\n\u001b[1;32m    174\u001b[0m \u001b[38;5;28;01mfrom\u001b[39;00m \u001b[38;5;21;01mmatplotlib\u001b[39;00m\u001b[38;5;21;01m.\u001b[39;00m\u001b[38;5;21;01mlines\u001b[39;00m \u001b[38;5;28;01mimport\u001b[39;00m Line2D\n\u001b[1;32m    176\u001b[0m \u001b[38;5;28;01mfrom\u001b[39;00m \u001b[38;5;21;01mmatplotlib\u001b[39;00m\u001b[38;5;21;01m.\u001b[39;00m\u001b[38;5;21;01mcolors\u001b[39;00m \u001b[38;5;28;01mimport\u001b[39;00m ListedColormap\n\u001b[0;32m--> 180\u001b[0m \u001b[38;5;28;01massert\u001b[39;00m \u001b[38;5;28mlen\u001b[39m(data\u001b[38;5;241m.\u001b[39mfeature_names)\u001b[38;5;241m==\u001b[39m\u001b[38;5;241m2\u001b[39m,\u001b[38;5;124m\"\u001b[39m\u001b[38;5;124mFunction only works for 2D data.\u001b[39m\u001b[38;5;124m\"\u001b[39m\n\u001b[1;32m    181\u001b[0m \u001b[38;5;28;01massert\u001b[39;00m \u001b[38;5;28mlen\u001b[39m(data\u001b[38;5;241m.\u001b[39mtarget_names)\u001b[38;5;241m<\u001b[39m\u001b[38;5;241m=\u001b[39m\u001b[38;5;28mlen\u001b[39m(bold_colors),\u001b[38;5;124m\"\u001b[39m\u001b[38;5;124mOnly \u001b[39m\u001b[38;5;132;01m%d\u001b[39;00m\u001b[38;5;124m target colors implemented.\u001b[39m\u001b[38;5;124m\"\u001b[39m \u001b[38;5;241m%\u001b[39m (\u001b[38;5;28mlen\u001b[39m(cmap_bold\u001b[38;5;241m.\u001b[39mcolors))\n\u001b[1;32m    184\u001b[0m cmap_light \u001b[38;5;241m=\u001b[39m ListedColormap(light_colors[:\u001b[38;5;28mlen\u001b[39m(data\u001b[38;5;241m.\u001b[39mtarget_names)])\n",
      "\u001b[0;31mAssertionError\u001b[0m: Function only works for 2D data."
     ]
    }
   ],
   "source": [
    "plot2D(data)"
   ]
  },
  {
   "cell_type": "code",
   "execution_count": null,
   "id": "76b4dd47-4120-4f06-9dd5-b19d34e5fe0c",
   "metadata": {},
   "outputs": [],
   "source": [
    "subset=extract_features(data,[0,1])\n",
    "plot2D(subset)"
   ]
  },
  {
   "cell_type": "code",
   "execution_count": 8,
   "id": "0b829bd7-7221-4b7b-83d3-68290b3a3844",
   "metadata": {},
   "outputs": [
    {
     "name": "stdout",
     "output_type": "stream",
     "text": [
      "Original vector shape:  (150, 4)\n",
      "Train vector shape:  (120, 4)\n",
      "Test vector shape:  (30, 4)\n"
     ]
    }
   ],
   "source": [
    "data_train,data_test=split(data,test_size=0.2)"
   ]
  },
  {
   "cell_type": "code",
   "execution_count": 9,
   "id": "1563565f-bff4-4faa-b2f1-3fca538b9f2a",
   "metadata": {},
   "outputs": [],
   "source": [
    "C=NaiveBayes()"
   ]
  },
  {
   "cell_type": "code",
   "execution_count": 10,
   "id": "9bc53755-d572-4a2c-882f-09a8b98d5ef4",
   "metadata": {},
   "outputs": [],
   "source": [
    "C.fit(data_train.vectors,data_train.targets)"
   ]
  },
  {
   "cell_type": "code",
   "execution_count": 11,
   "id": "549f894e-8cdc-4641-a43b-fc5555634438",
   "metadata": {},
   "outputs": [
    {
     "name": "stdout",
     "output_type": "stream",
     "text": [
      "On Training Set: 95.0\n",
      "On Test Set: 100.0\n"
     ]
    }
   ],
   "source": [
    "print(\"On Training Set:\",C.percent_correct(data_train.vectors,data_train.targets))\n",
    "print(\"On Test Set:\",C.percent_correct(data_test.vectors,data_test.targets))"
   ]
  },
  {
   "cell_type": "code",
   "execution_count": 12,
   "id": "e04fd1c5-5d4f-40d5-a47d-f75cdaf78152",
   "metadata": {},
   "outputs": [],
   "source": [
    "C=kNearestNeighbor()"
   ]
  },
  {
   "cell_type": "code",
   "execution_count": 13,
   "id": "56afda19-682a-4e01-8dd0-3d89b9b62724",
   "metadata": {},
   "outputs": [
    {
     "data": {
      "text/plain": [
       "kNearestNeighbor()"
      ]
     },
     "execution_count": 13,
     "metadata": {},
     "output_type": "execute_result"
    }
   ],
   "source": [
    "C.fit(data_train.vectors,data_train.targets)"
   ]
  },
  {
   "cell_type": "code",
   "execution_count": 14,
   "id": "251ec211-2b3a-464a-8398-c163b81304cb",
   "metadata": {},
   "outputs": [
    {
     "name": "stdout",
     "output_type": "stream",
     "text": [
      "On Training Set: 95.83333333333334\n",
      "On Test Set: 96.66666666666667\n"
     ]
    }
   ],
   "source": [
    "print(\"On Training Set:\",C.percent_correct(data_train.vectors,data_train.targets))\n",
    "print(\"On Test Set:\",C.percent_correct(data_test.vectors,data_test.targets))"
   ]
  },
  {
   "cell_type": "code",
   "execution_count": null,
   "id": "bdb6260c-8594-400f-ad4a-9707cdb9f21f",
   "metadata": {},
   "outputs": [],
   "source": []
  },
  {
   "cell_type": "markdown",
   "id": "febbf429-be64-468a-b86d-a0b9fee26edb",
   "metadata": {},
   "source": [
    "## Images"
   ]
  },
  {
   "cell_type": "code",
   "execution_count": 59,
   "id": "168aefb1-396a-485d-95f9-010a61946b72",
   "metadata": {},
   "outputs": [
    {
     "name": "stdout",
     "output_type": "stream",
     "text": [
      "[red]: 192 files found\n",
      "[white]: 128 files found\n",
      "[black]: 192 files found\n"
     ]
    }
   ],
   "source": [
    "images=image.load_images('images/all_pieces/')"
   ]
  },
  {
   "cell_type": "code",
   "execution_count": 60,
   "id": "b46eb473-aaf1-4b6c-911c-30faa2ad35e6",
   "metadata": {},
   "outputs": [
    {
     "name": "stdout",
     "output_type": "stream",
     "text": [
      "512 vectors of length 15048\n",
      "Feature names: 'p0', 'p1', 'p2', 'p3', 'p4'  , ... ,  'p15043', 'p15044', 'p15045', 'p15046', 'p15047'  (15048 features)\n",
      "Target values given.\n",
      "Target names: 'red', 'white', 'black'\n",
      "Mean:  [129.1875    136.5234375 130.4375    ... 136.5234375 130.4375\n",
      " 255.       ]\n",
      "Median:  [175.5 184.  174.  ... 184.  174.  255. ]\n",
      "Stddev:  [67.94258836 67.75472364 65.81324192 ... 67.75472364 65.81324192\n",
      "  0.        ]\n"
     ]
    }
   ],
   "source": [
    "data=image.images_to_vectors(images)"
   ]
  },
  {
   "cell_type": "code",
   "execution_count": 61,
   "id": "f1f12f82-91a6-4a4f-95ed-5c2675c8c0df",
   "metadata": {},
   "outputs": [
    {
     "name": "stdout",
     "output_type": "stream",
     "text": [
      "Original vector shape:  (512, 15048)\n",
      "Train vector shape:  (409, 15048)\n",
      "Test vector shape:  (103, 15048)\n"
     ]
    }
   ],
   "source": [
    "data_train,data_test=split(data,test_size=0.2)"
   ]
  },
  {
   "cell_type": "code",
   "execution_count": 62,
   "id": "368ae191-b9cd-42b4-9829-7d522efb24c0",
   "metadata": {},
   "outputs": [
    {
     "name": "stdout",
     "output_type": "stream",
     "text": [
      "On Training Set: 100.0\n",
      "On Test Set: 100.0\n"
     ]
    }
   ],
   "source": [
    "C=NaiveBayes()\n",
    "C.fit(data_train.vectors,data_train.targets)\n",
    "print(\"On Training Set:\",C.percent_correct(data_train.vectors,data_train.targets))\n",
    "print(\"On Test Set:\",C.percent_correct(data_test.vectors,data_test.targets))"
   ]
  },
  {
   "cell_type": "code",
   "execution_count": 63,
   "id": "c1e47270-2ab2-4b82-80e7-114f3ba17757",
   "metadata": {},
   "outputs": [
    {
     "name": "stdout",
     "output_type": "stream",
     "text": [
      "On Training Set: 97.79951100244499\n",
      "On Test Set: 82.52427184466019\n"
     ]
    }
   ],
   "source": [
    "C=kNearestNeighbor()\n",
    "C.fit(data_train.vectors,data_train.targets)\n",
    "print(\"On Training Set:\",C.percent_correct(data_train.vectors,data_train.targets))\n",
    "print(\"On Test Set:\",C.percent_correct(data_test.vectors,data_test.targets))"
   ]
  },
  {
   "cell_type": "markdown",
   "id": "eeee2475-437f-46db-80a4-467b576a9594",
   "metadata": {},
   "source": [
    "## Predict"
   ]
  },
  {
   "cell_type": "code",
   "execution_count": 64,
   "id": "8601b574-0a52-45b2-b9ad-ed322fa43e5f",
   "metadata": {},
   "outputs": [
    {
     "name": "stdout",
     "output_type": "stream",
     "text": [
      "[None]: 1 files found\n"
     ]
    }
   ],
   "source": [
    "test_square=image.load_images('images/square example.png')"
   ]
  },
  {
   "cell_type": "code",
   "execution_count": 65,
   "id": "08a001ba-ad7f-4cc2-9341-d5a6a2a190f7",
   "metadata": {},
   "outputs": [
    {
     "name": "stdout",
     "output_type": "stream",
     "text": [
      "1 vectors of length 15048\n",
      "Feature names: 'p0', 'p1', 'p2', 'p3', 'p4'  , ... ,  'p15043', 'p15044', 'p15045', 'p15046', 'p15047'  (15048 features)\n",
      "No Target values.\n",
      "Target names: [None]\n",
      "Mean:  [ 53.  71.  71. ...  53.  46. 255.]\n",
      "Median:  [ 53.  71.  71. ...  53.  46. 255.]\n",
      "Stddev:  [0. 0. 0. ... 0. 0. 0.]\n"
     ]
    }
   ],
   "source": [
    "test_data=image.images_to_vectors(test_square)"
   ]
  },
  {
   "cell_type": "code",
   "execution_count": 66,
   "id": "28fe654b-cb24-4090-830f-41ba4681e190",
   "metadata": {},
   "outputs": [
    {
     "name": "stdout",
     "output_type": "stream",
     "text": [
      "red\n"
     ]
    }
   ],
   "source": [
    "predictions=C.predict(test_data.vectors)\n",
    "category=images.target_names[predictions[0]]\n",
    "print(category)"
   ]
  },
  {
   "cell_type": "code",
   "execution_count": 69,
   "id": "e3858ae1-8747-41e6-bd13-091b5010fc57",
   "metadata": {},
   "outputs": [
    {
     "data": {
      "text/plain": [
       "<matplotlib.image.AxesImage at 0x7fd058feb9a0>"
      ]
     },
     "execution_count": 69,
     "metadata": {},
     "output_type": "execute_result"
    },
    {
     "data": {
      "image/png": "[encoded data removed]",
      "text/plain": [
       "<Figure size 720x576 with 1 Axes>"
      ]
     },
     "metadata": {
      "needs_background": "light"
     },
     "output_type": "display_data"
    }
   ],
   "source": [
    "imshow(test_square.data[0])"
   ]
  },
  {
   "cell_type": "markdown",
   "id": "49b1d31d-81e1-4ea5-a617-61736a6f2dc4",
   "metadata": {},
   "source": [
    "## visualize"
   ]
  },
  {
   "cell_type": "code",
   "execution_count": 20,
   "id": "2ca658e6-350a-46ee-acd8-d38daf503c22",
   "metadata": {},
   "outputs": [],
   "source": [
    "C=NaiveBayes()\n",
    "C.fit(data_train.vectors,data_train.targets)"
   ]
  },
  {
   "cell_type": "code",
   "execution_count": 21,
   "id": "bef3e6dd-89e8-4ae5-8e7b-8ba30d459c2a",
   "metadata": {},
   "outputs": [
    {
     "data": {
      "text/plain": [
       "array([[130.90909091, 141.09090909, 135.62987013, ..., 141.90909091,\n",
       "        136.68181818, 255.        ],\n",
       "       [123.79166667, 131.98958333, 121.90625   , ..., 129.83333333,\n",
       "        120.25      , 255.        ],\n",
       "       [132.89937107, 137.20125786, 132.66666667, ..., 139.65408805,\n",
       "        134.99371069, 255.        ]])"
      ]
     },
     "execution_count": 21,
     "metadata": {},
     "output_type": "execute_result"
    }
   ],
   "source": [
    "C.means"
   ]
  },
  {
   "cell_type": "code",
   "execution_count": 22,
   "id": "43d5b204-14e3-4732-aed9-2a278c113de1",
   "metadata": {},
   "outputs": [
    {
     "data": {
      "text/plain": [
       "(3, 15048)"
      ]
     },
     "execution_count": 22,
     "metadata": {},
     "output_type": "execute_result"
    }
   ],
   "source": [
    "C.means.shape"
   ]
  },
  {
   "cell_type": "code",
   "execution_count": 23,
   "id": "f83e2553-aa0d-44ce-9db9-9b24c2148abe",
   "metadata": {},
   "outputs": [],
   "source": [
    "mean0=C.means[0,:]"
   ]
  },
  {
   "cell_type": "code",
   "execution_count": 24,
   "id": "286d5839-5b40-4580-948d-7c66b5b80086",
   "metadata": {},
   "outputs": [
    {
     "data": {
      "text/plain": [
       "(15048,)"
      ]
     },
     "execution_count": 24,
     "metadata": {},
     "output_type": "execute_result"
    }
   ],
   "source": [
    "mean0.shape"
   ]
  },
  {
   "cell_type": "code",
   "execution_count": 25,
   "id": "68587aa3-70ce-4641-b578-76b47ab19ee4",
   "metadata": {},
   "outputs": [],
   "source": [
    "im0=mean0.reshape((57,66,4))"
   ]
  },
  {
   "cell_type": "code",
   "execution_count": 26,
   "id": "763af109-36dc-4bda-aafe-3dfb3d773643",
   "metadata": {},
   "outputs": [
    {
     "data": {
      "text/plain": [
       "(57, 66, 4)"
      ]
     },
     "execution_count": 26,
     "metadata": {},
     "output_type": "execute_result"
    }
   ],
   "source": [
    "im0.shape"
   ]
  },
  {
   "cell_type": "code",
   "execution_count": 27,
   "id": "f96a0f83-5d29-4f68-996c-35a09978476d",
   "metadata": {},
   "outputs": [
    {
     "data": {
      "text/plain": [
       "<matplotlib.image.AxesImage at 0x7fd0585c00d0>"
      ]
     },
     "execution_count": 27,
     "metadata": {},
     "output_type": "execute_result"
    },
    {
     "data": {
      "image/png": "[encoded data removed]",
      "text/plain": [
       "<Figure size 720x576 with 1 Axes>"
      ]
     },
     "metadata": {
      "needs_background": "light"
     },
     "output_type": "display_data"
    }
   ],
   "source": [
    "imshow(im0/im0.max())"
   ]
  },
  {
   "cell_type": "code",
   "execution_count": 28,
   "id": "bec2c5dd-0c1e-416b-bf3e-9af5a0805a5a",
   "metadata": {},
   "outputs": [
    {
     "data": {
      "text/plain": [
       "<matplotlib.image.AxesImage at 0x7fd0706bd3a0>"
      ]
     },
     "execution_count": 28,
     "metadata": {},
     "output_type": "execute_result"
    },
    {
     "data": {
      "image/png": "[encoded data removed]",
      "text/plain": [
       "<Figure size 720x576 with 1 Axes>"
      ]
     },
     "metadata": {
      "needs_background": "light"
     },
     "output_type": "display_data"
    }
   ],
   "source": [
    "mean1=C.means[1,:]\n",
    "im1=mean1.reshape((57,66,4))\n",
    "im1=im1/im1.max()\n",
    "imshow(im1)"
   ]
  },
  {
   "cell_type": "code",
   "execution_count": 29,
   "id": "617e532e-7041-4ae4-af53-7c94e86f5170",
   "metadata": {},
   "outputs": [
    {
     "data": {
      "text/plain": [
       "<matplotlib.image.AxesImage at 0x7fd0a8712130>"
      ]
     },
     "execution_count": 29,
     "metadata": {},
     "output_type": "execute_result"
    },
    {
     "data": {
      "image/png": "[encoded data removed]",
      "text/plain": [
       "<Figure size 720x576 with 1 Axes>"
      ]
     },
     "metadata": {
      "needs_background": "light"
     },
     "output_type": "display_data"
    }
   ],
   "source": [
    "mean1=C.means[2,:]\n",
    "im1=mean1.reshape((57,66,4))\n",
    "im1=im1/im1.max()\n",
    "imshow(im1)"
   ]
  },
  {
   "cell_type": "code",
   "execution_count": null,
   "id": "604a670b-0f72-45a0-8b3a-ab7b9c0c5fa0",
   "metadata": {},
   "outputs": [],
   "source": []
  },
  {
   "cell_type": "code",
   "execution_count": null,
   "id": "74c0cb98-4903-4fb2-b35b-d28269aed49f",
   "metadata": {},
   "outputs": [],
   "source": []
  }
 ],
 "metadata": {
  "kernelspec": {
   "display_name": "Python 3 (ipykernel)",
   "language": "python",
   "name": "python3"
  },
  "language_info": {
   "codemirror_mode": {
    "name": "ipython",
    "version": 3
   },
   "file_extension": ".py",
   "mimetype": "text/x-python",
   "name": "python",
   "nbconvert_exporter": "python",
   "pygments_lexer": "ipython3",
   "version": "3.9.12"
  }
 },
 "nbformat": 4,
 "nbformat_minor": 5
}
