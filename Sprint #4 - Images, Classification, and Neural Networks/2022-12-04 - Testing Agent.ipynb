{
 "cells": [
  {
   "cell_type": "code",
   "execution_count": 1,
   "id": "a5ad62d0-5eac-4132-af80-7ca5314ac119",
   "metadata": {},
   "outputs": [
    {
     "name": "stdout",
     "output_type": "stream",
     "text": [
      "Version:  0.2.41\n"
     ]
    }
   ],
   "source": [
    "from breakthrough import *"
   ]
  },
  {
   "cell_type": "code",
   "execution_count": 2,
   "id": "92f2bd3b-e245-4ac8-a53f-7b3bacd4f76e",
   "metadata": {},
   "outputs": [],
   "source": [
    "def get_move(state,player):\n",
    "    if player==1:\n",
    "        Q=LoadTable(\"Q1_breakthrough_table.json\")\n",
    "    else:\n",
    "        Q=LoadTable(\"Q2_breakthrough_table.json\")\n",
    "        \n",
    "    \n",
    "    if state not in Q:\n",
    "        return random_move(state,player)  # this is defined in my game functions import\n",
    "    else:\n",
    "        return top_choice(Q[state])\n",
    "    \n",
    "robot_agent=Agent(get_move)"
   ]
  },
  {
   "cell_type": "code",
   "execution_count": 3,
   "id": "f48a07d6-9700-499a-b32a-2b5c1da1cc2b",
   "metadata": {},
   "outputs": [
    {
     "name": "stdout",
     "output_type": "stream",
     "text": [
      "====\n",
      "Game  1\n",
      " v  v  v  v \n",
      " .  .  .  . \n",
      " .  .  .  . \n",
      " ^  ^  ^  ^ \n",
      "\n",
      "Player 1 moves [12, 8]\n",
      " v  v  v  v \n",
      " .  .  .  . \n",
      " ^  .  .  . \n",
      " .  ^  ^  ^ \n",
      "\n",
      "Locations:\n",
      " 0  1  2  3 \n",
      " 4  5  6  7 \n",
      " 8  9 10 11 \n",
      "12 13 14 15 \n",
      "\n",
      "Player  2\n",
      "Moves:\n",
      "\t0: [0, 4]\n",
      "\t1: [1, 5]\n",
      "\t2: [2, 6]\n",
      "\t3: [3, 7]\n"
     ]
    },
    {
     "name": "stdin",
     "output_type": "stream",
     "text": [
      "Which move do you want (enter a number)? 1\n"
     ]
    },
    {
     "name": "stdout",
     "output_type": "stream",
     "text": [
      "Player 2 moves [1, 5]\n",
      " v  .  v  v \n",
      " .  v  .  . \n",
      " ^  .  .  . \n",
      " .  ^  ^  ^ \n",
      "\n",
      "Player 1 moves [15, 11]\n",
      " v  .  v  v \n",
      " .  v  .  . \n",
      " ^  .  .  ^ \n",
      " .  ^  ^  . \n",
      "\n",
      "Locations:\n",
      " 0  1  2  3 \n",
      " 4  5  6  7 \n",
      " 8  9 10 11 \n",
      "12 13 14 15 \n",
      "\n",
      "Player  2\n",
      "Moves:\n",
      "\t0: [0, 4]\n",
      "\t1: [2, 6]\n",
      "\t2: [3, 7]\n",
      "\t3: [5, 9]\n",
      "\t4: [5, 8]\n"
     ]
    },
    {
     "name": "stdin",
     "output_type": "stream",
     "text": [
      "Which move do you want (enter a number)? 1\n"
     ]
    },
    {
     "name": "stdout",
     "output_type": "stream",
     "text": [
      "Player 2 moves [2, 6]\n",
      " v  .  .  v \n",
      " .  v  v  . \n",
      " ^  .  .  ^ \n",
      " .  ^  ^  . \n",
      "\n",
      "Player 1 moves [11, 6]\n",
      " v  .  .  v \n",
      " .  v  ^  . \n",
      " ^  .  .  . \n",
      " .  ^  ^  . \n",
      "\n",
      "Locations:\n",
      " 0  1  2  3 \n",
      " 4  5  6  7 \n",
      " 8  9 10 11 \n",
      "12 13 14 15 \n",
      "\n",
      "Player  2\n",
      "Moves:\n",
      "\t0: [0, 4]\n",
      "\t1: [3, 7]\n",
      "\t2: [5, 9]\n",
      "\t3: [3, 6]\n",
      "\t4: [5, 8]\n"
     ]
    },
    {
     "name": "stdin",
     "output_type": "stream",
     "text": [
      "Which move do you want (enter a number)? 3\n"
     ]
    },
    {
     "name": "stdout",
     "output_type": "stream",
     "text": [
      "Player 2 moves [3, 6]\n",
      " v  .  .  . \n",
      " .  v  v  . \n",
      " ^  .  .  . \n",
      " .  ^  ^  . \n",
      "\n",
      "Player 1 moves [8, 4]\n",
      " v  .  .  . \n",
      " ^  v  v  . \n",
      " .  .  .  . \n",
      " .  ^  ^  . \n",
      "\n",
      "Locations:\n",
      " 0  1  2  3 \n",
      " 4  5  6  7 \n",
      " 8  9 10 11 \n",
      "12 13 14 15 \n",
      "\n",
      "Player  2\n",
      "Moves:\n",
      "\t0: [5, 9]\n",
      "\t1: [6, 10]\n"
     ]
    },
    {
     "name": "stdin",
     "output_type": "stream",
     "text": [
      "Which move do you want (enter a number)? 0\n"
     ]
    },
    {
     "name": "stdout",
     "output_type": "stream",
     "text": [
      "Player 2 moves [5, 9]\n",
      " v  .  .  . \n",
      " ^  .  v  . \n",
      " .  v  .  . \n",
      " .  ^  ^  . \n",
      "\n",
      "Player 1 moves [14, 10]\n",
      " v  .  .  . \n",
      " ^  .  v  . \n",
      " .  v  ^  . \n",
      " .  ^  .  . \n",
      "\n",
      "Player  1 won.\n"
     ]
    },
    {
     "data": {
      "text/plain": [
       "[1]"
      ]
     },
     "execution_count": 3,
     "metadata": {},
     "output_type": "execute_result"
    }
   ],
   "source": [
    "g=Game()  \n",
    "g.run(robot_agent,human_agent)"
   ]
  },
  {
   "cell_type": "code",
   "execution_count": null,
   "id": "0db62bcc-b1ce-4218-ae78-9f2cad9429f3",
   "metadata": {},
   "outputs": [],
   "source": []
  }
 ],
 "metadata": {
  "kernelspec": {
   "display_name": "Python 3 (ipykernel)",
   "language": "python",
   "name": "python3"
  },
  "language_info": {
   "codemirror_mode": {
    "name": "ipython",
    "version": 3
   },
   "file_extension": ".py",
   "mimetype": "text/x-python",
   "name": "python",
   "nbconvert_exporter": "python",
   "pygments_lexer": "ipython3",
   "version": "3.9.12"
  }
 },
 "nbformat": 4,
 "nbformat_minor": 5
}
