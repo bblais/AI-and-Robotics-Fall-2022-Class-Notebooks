{
 "cells": [
  {
   "cell_type": "code",
   "execution_count": 1,
   "id": "0b5f32b4-170e-4b65-891f-32567ad871ef",
   "metadata": {},
   "outputs": [],
   "source": [
    "%matplotlib inline\n",
    "from pylab import *"
   ]
  },
  {
   "cell_type": "code",
   "execution_count": 2,
   "id": "9ad5ce65-969e-499a-ad4e-421e8347c143",
   "metadata": {},
   "outputs": [
    {
     "name": "stdout",
     "output_type": "stream",
     "text": [
      "Version  1.0.6\n",
      "Version:  0.0.31\n"
     ]
    }
   ],
   "source": [
    "from classy import *"
   ]
  },
  {
   "cell_type": "code",
   "execution_count": 3,
   "id": "1df94595-2c4c-43c2-83c6-a10d34146436",
   "metadata": {},
   "outputs": [
    {
     "name": "stdout",
     "output_type": "stream",
     "text": [
      "[red]: 192 files found\n",
      "[white]: 128 files found\n",
      "[black]: 192 files found\n"
     ]
    }
   ],
   "source": [
    "images=image.load_images('images/all_pieces/')"
   ]
  },
  {
   "cell_type": "code",
   "execution_count": 4,
   "id": "b37b2f5d-805c-49a8-ba59-c771d08a90f6",
   "metadata": {},
   "outputs": [
    {
     "name": "stdout",
     "output_type": "stream",
     "text": [
      "512 vectors of length 15048\n",
      "Feature names: 'p0', 'p1', 'p2', 'p3', 'p4'  , ... ,  'p15043', 'p15044', 'p15045', 'p15046', 'p15047'  (15048 features)\n",
      "Target values given.\n",
      "Target names: 'red', 'white', 'black'\n",
      "Mean:  [129.1875    136.5234375 130.4375    ... 136.5234375 130.4375\n",
      " 255.       ]\n",
      "Median:  [175.5 184.  174.  ... 184.  174.  255. ]\n",
      "Stddev:  [67.94258836 67.75472364 65.81324192 ... 67.75472364 65.81324192\n",
      "  0.        ]\n"
     ]
    }
   ],
   "source": [
    "data=image.images_to_vectors(images)"
   ]
  },
  {
   "cell_type": "code",
   "execution_count": 5,
   "id": "57084841-099c-4f64-81e4-b02eb4652aa2",
   "metadata": {},
   "outputs": [
    {
     "name": "stdout",
     "output_type": "stream",
     "text": [
      "Original vector shape:  (512, 15048)\n",
      "Train vector shape:  (409, 15048)\n",
      "Test vector shape:  (103, 15048)\n"
     ]
    }
   ],
   "source": [
    "data_train,data_test=split(data,test_size=0.2)"
   ]
  },
  {
   "cell_type": "markdown",
   "id": "6aa3bff8-6318-48c2-b04d-100692f9b6ee",
   "metadata": {},
   "source": [
    "## Naive Bayes"
   ]
  },
  {
   "cell_type": "code",
   "execution_count": 6,
   "id": "df29dab0-d752-4e16-85d3-378dc5757cb9",
   "metadata": {},
   "outputs": [
    {
     "name": "stdout",
     "output_type": "stream",
     "text": [
      "On Training Set: 100.0\n",
      "On Test Set: 100.0\n"
     ]
    }
   ],
   "source": [
    "C=NaiveBayes()\n",
    "C.fit(data_train.vectors,data_train.targets)\n",
    "print(\"On Training Set:\",C.percent_correct(data_train.vectors,data_train.targets))\n",
    "print(\"On Test Set:\",C.percent_correct(data_test.vectors,data_test.targets))"
   ]
  },
  {
   "cell_type": "code",
   "execution_count": 7,
   "id": "b5f77ec1-8d53-4357-b1c0-6e4054d4a45a",
   "metadata": {},
   "outputs": [
    {
     "data": {
      "text/plain": [
       "array([[127.48734177, 136.93037975, 131.69620253, ..., 137.34810127,\n",
       "        132.2721519 , 255.        ],\n",
       "       [123.63917526, 131.50515464, 121.87628866, ..., 135.06185567,\n",
       "        125.41237113, 255.        ],\n",
       "       [130.53896104, 134.38961039, 129.85714286, ..., 138.49350649,\n",
       "        133.68181818, 255.        ]])"
      ]
     },
     "execution_count": 7,
     "metadata": {},
     "output_type": "execute_result"
    }
   ],
   "source": [
    "C.means"
   ]
  },
  {
   "cell_type": "code",
   "execution_count": 8,
   "id": "d1674b95-5856-4e57-80d1-2c9df6689dab",
   "metadata": {},
   "outputs": [
    {
     "data": {
      "text/plain": [
       "(3, 15048)"
      ]
     },
     "execution_count": 8,
     "metadata": {},
     "output_type": "execute_result"
    }
   ],
   "source": [
    "C.means.shape"
   ]
  },
  {
   "cell_type": "code",
   "execution_count": 9,
   "id": "f22d5046-2e7a-4352-bcde-ba93fc67e935",
   "metadata": {},
   "outputs": [],
   "source": [
    "mean0=C.means[0,:]"
   ]
  },
  {
   "cell_type": "code",
   "execution_count": 10,
   "id": "802e4635-bb66-4142-8422-0345e82efca9",
   "metadata": {},
   "outputs": [
    {
     "data": {
      "text/plain": [
       "(15048,)"
      ]
     },
     "execution_count": 10,
     "metadata": {},
     "output_type": "execute_result"
    }
   ],
   "source": [
    "mean0.shape"
   ]
  },
  {
   "cell_type": "code",
   "execution_count": 11,
   "id": "8b750eb5-1572-44ba-bfd2-2457fa8cc4ff",
   "metadata": {},
   "outputs": [],
   "source": [
    "im0=mean0.reshape((57,66,4))"
   ]
  },
  {
   "cell_type": "code",
   "execution_count": 12,
   "id": "b39c84ba-e5d3-445a-9b52-cc00a3d6d00d",
   "metadata": {},
   "outputs": [
    {
     "data": {
      "text/plain": [
       "<matplotlib.image.AxesImage at 0x7fb5885f5d00>"
      ]
     },
     "execution_count": 12,
     "metadata": {},
     "output_type": "execute_result"
    },
    {
     "data": {
      "image/png": "[encoded data removed]",
      "text/plain": [
       "<Figure size 720x576 with 1 Axes>"
      ]
     },
     "metadata": {
      "needs_background": "light"
     },
     "output_type": "display_data"
    }
   ],
   "source": [
    "imshow(im0/im0.max())"
   ]
  },
  {
   "cell_type": "markdown",
   "id": "9c49911a-56a5-4f5a-922b-29b66dbdffc4",
   "metadata": {},
   "source": [
    "## Perceptron"
   ]
  },
  {
   "cell_type": "code",
   "execution_count": 13,
   "id": "23a743c7-d6bf-4328-a95d-8e861911f766",
   "metadata": {},
   "outputs": [
    {
     "data": {
      "text/plain": [
       "(409, 15048)"
      ]
     },
     "execution_count": 13,
     "metadata": {},
     "output_type": "execute_result"
    }
   ],
   "source": [
    "data_train.vectors.shape"
   ]
  },
  {
   "cell_type": "code",
   "execution_count": 14,
   "id": "d1ccfb6b-92c7-49db-813d-20aeb1aae3eb",
   "metadata": {},
   "outputs": [],
   "source": [
    "number_of_features=data_train.vectors.shape[1]\n",
    "number_of_categories=3  # the types of pieces"
   ]
  },
  {
   "cell_type": "code",
   "execution_count": 15,
   "id": "0f39ac48-2d83-4cb7-a543-2f20b04c0b6b",
   "metadata": {},
   "outputs": [],
   "source": [
    "C=NumPyNetBackProp({\n",
    "    'input':number_of_features,               # number of features\n",
    "    'output':(number_of_categories,'linear'),  # number of classes\n",
    "    'cost':'mse',\n",
    "})\n"
   ]
  },
  {
   "cell_type": "code",
   "execution_count": 16,
   "id": "594190a4-3c40-4c65-b275-0361d36adbd5",
   "metadata": {},
   "outputs": [
    {
     "name": "stdout",
     "output_type": "stream",
     "text": [
      "layer       filters  size              input                output\n",
      "   0 input                   409 x   1 x   1 x15048   ->   409 x   1 x   1 x15048\n",
      "   1 connected               409 x   1 x   1 x15048   ->   409 x   3\n",
      "   2 cost                    409 x   1 x   1 x   3   ->   409 x   1 x   1 x   3\n"
     ]
    },
    {
     "name": "stderr",
     "output_type": "stream",
     "text": [
      "100%|█████████████████████████████████████████████████████████████| 500/500 [00:41<00:00, 12.12it/s]\n"
     ]
    }
   ],
   "source": [
    "C.fit(data_train.vectors,data_train.targets,epochs=500)   # you'll want to increase epochs here"
   ]
  },
  {
   "cell_type": "code",
   "execution_count": 17,
   "id": "b6329238-94f4-4148-94c5-00c9bbf70336",
   "metadata": {},
   "outputs": [
    {
     "name": "stdout",
     "output_type": "stream",
     "text": [
      "('On Training Set:', 34.71882640586797)\n",
      "('On Test Set:', 37.86407766990291)\n"
     ]
    }
   ],
   "source": [
    "print((\"On Training Set:\",C.percent_correct(data_train.vectors,data_train.targets)))\n",
    "print((\"On Test Set:\",C.percent_correct(data_test.vectors,data_test.targets)))"
   ]
  },
  {
   "cell_type": "code",
   "execution_count": 18,
   "id": "7215f6eb-daa0-4484-8e18-291d0974983a",
   "metadata": {},
   "outputs": [
    {
     "data": {
      "text/plain": [
       "1"
      ]
     },
     "execution_count": 18,
     "metadata": {},
     "output_type": "execute_result"
    }
   ],
   "source": [
    "len(C.weights)"
   ]
  },
  {
   "cell_type": "code",
   "execution_count": null,
   "id": "034eef44-e72a-4b97-9a6d-aff2fb03357f",
   "metadata": {},
   "outputs": [],
   "source": [
    "C.weights[0]  # first layer"
   ]
  },
  {
   "cell_type": "code",
   "execution_count": 19,
   "id": "eb00ba4f-6806-481b-9ebd-7eccbcceec11",
   "metadata": {},
   "outputs": [
    {
     "data": {
      "text/plain": [
       "(15048, 3)"
      ]
     },
     "execution_count": 19,
     "metadata": {},
     "output_type": "execute_result"
    }
   ],
   "source": [
    "W=C.weights[0]\n",
    "W.shape"
   ]
  },
  {
   "cell_type": "code",
   "execution_count": 20,
   "id": "65c3e03a-0c49-41b1-8ab7-4dea7efdcb17",
   "metadata": {},
   "outputs": [
    {
     "data": {
      "text/plain": [
       "<matplotlib.image.AxesImage at 0x7fb53841abb0>"
      ]
     },
     "execution_count": 20,
     "metadata": {},
     "output_type": "execute_result"
    },
    {
     "data": {
      "image/png": "[encoded data removed]",
      "text/plain": [
       "<Figure size 720x576 with 1 Axes>"
      ]
     },
     "metadata": {
      "needs_background": "light"
     },
     "output_type": "display_data"
    }
   ],
   "source": [
    "vec=W[:,0]\n",
    "vec=(vec-W.min())/(W.max()-W.min())  # rescale to 0-1\n",
    "im=vec.reshape((57,66,4))\n",
    "imshow(im)"
   ]
  },
  {
   "cell_type": "markdown",
   "id": "9a470c43-3f0c-4d8c-b19f-f03fcbe0b366",
   "metadata": {},
   "source": [
    "for non-linear perceptron, change the output function, like"
   ]
  },
  {
   "cell_type": "code",
   "execution_count": null,
   "id": "c00d84a1-f432-41ed-bbfe-0819d376769b",
   "metadata": {},
   "outputs": [],
   "source": [
    "C=NumPyNetBackProp({\n",
    "    'input':number_of_features,               # number of features\n",
    "    'output':(number_of_categories,'logistic'),  # number of classes\n",
    "    'cost':'mse',\n",
    "})\n"
   ]
  },
  {
   "cell_type": "markdown",
   "id": "cfea51c2-fd35-4b69-9757-c921ca69925d",
   "metadata": {},
   "source": [
    "for non-linear backprop, you add layers, like"
   ]
  },
  {
   "cell_type": "code",
   "execution_count": null,
   "id": "680935fd-0513-40b8-ab14-4ca5958565e5",
   "metadata": {},
   "outputs": [],
   "source": [
    "C=NumPyNetBackProp({\n",
    "    'input':number_of_features,               # number of features\n",
    "    'hidden':[(15,'logistic'),],   # this size is \"arbitrary\"\n",
    "    'output':(number_of_categories,'logistic'),  # number of classes\n",
    "    'cost':'mse',\n",
    "})"
   ]
  }
 ],
 "metadata": {
  "kernelspec": {
   "display_name": "Python 3 (ipykernel)",
   "language": "python",
   "name": "python3"
  },
  "language_info": {
   "codemirror_mode": {
    "name": "ipython",
    "version": 3
   },
   "file_extension": ".py",
   "mimetype": "text/x-python",
   "name": "python",
   "nbconvert_exporter": "python",
   "pygments_lexer": "ipython3",
   "version": "3.9.12"
  }
 },
 "nbformat": 4,
 "nbformat_minor": 5
}
