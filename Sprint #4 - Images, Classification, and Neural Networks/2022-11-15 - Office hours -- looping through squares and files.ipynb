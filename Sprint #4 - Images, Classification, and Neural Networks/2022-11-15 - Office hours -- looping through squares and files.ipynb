{
 "cells": [
  {
   "cell_type": "code",
   "execution_count": 13,
   "id": "affe73c9-af6e-467c-8589-34880d02d272",
   "metadata": {},
   "outputs": [],
   "source": [
    "%matplotlib inline\n",
    "from pylab import *\n",
    "import os"
   ]
  },
  {
   "cell_type": "code",
   "execution_count": 21,
   "id": "03740891-bb54-43e3-99ba-c4fbaf28b287",
   "metadata": {},
   "outputs": [],
   "source": [
    "def get_subimage(im,r_value,c_value):\n",
    "    \n",
    "    # I assume you have this written and not return a random image\n",
    "    return rand(200,300)"
   ]
  },
  {
   "cell_type": "code",
   "execution_count": 15,
   "id": "38d4d80e-a144-4aaa-8fcf-ce8f90607345",
   "metadata": {},
   "outputs": [
    {
     "name": "stdout",
     "output_type": "stream",
     "text": [
      "images/bird.png  images/cats.jpg\n",
      "\n",
      "images/all_pieces:\n",
      "\u001b[34mblack\u001b[m\u001b[m/ \u001b[34mred\u001b[m\u001b[m/   \u001b[34mwhite\u001b[m\u001b[m/\n",
      "\n",
      "images/board images:\n",
      "test0.jpg   test10.jpg  test3.jpg   test5.jpg   test7.jpg   test9.jpg\n",
      "test1.jpg   test2.jpg   test4.jpg   test6.jpg   test8.jpg\n",
      "\n",
      "images/digits:\n",
      "\u001b[34m0\u001b[m\u001b[m/ \u001b[34m1\u001b[m\u001b[m/ \u001b[34m2\u001b[m\u001b[m/ \u001b[34m3\u001b[m\u001b[m/ \u001b[34m4\u001b[m\u001b[m/ \u001b[34m5\u001b[m\u001b[m/ \u001b[34m6\u001b[m\u001b[m/ \u001b[34m7\u001b[m\u001b[m/ \u001b[34m8\u001b[m\u001b[m/ \u001b[34m9\u001b[m\u001b[m/\n"
     ]
    }
   ],
   "source": [
    "ls images/*"
   ]
  },
  {
   "cell_type": "code",
   "execution_count": 17,
   "id": "105c1c84-0ea6-475c-be95-aa5ffc1b40bd",
   "metadata": {},
   "outputs": [],
   "source": [
    "if not os.path.exists('squares'):\n",
    "    os.mkdir('squares')"
   ]
  },
  {
   "cell_type": "code",
   "execution_count": 18,
   "id": "f005a938-2d7b-45dc-a761-6b4c9aaa610d",
   "metadata": {},
   "outputs": [],
   "source": [
    "filename='images/board images/test0.jpg'"
   ]
  },
  {
   "cell_type": "code",
   "execution_count": 19,
   "id": "04e7aa53-119a-45fc-8424-41d8f8c89db8",
   "metadata": {},
   "outputs": [],
   "source": [
    "im=imread(filename)"
   ]
  },
  {
   "cell_type": "code",
   "execution_count": 20,
   "id": "02d2198e-8367-442c-8587-e73de211e47f",
   "metadata": {},
   "outputs": [
    {
     "data": {
      "text/plain": [
       "(288, 352, 3)"
      ]
     },
     "execution_count": 20,
     "metadata": {},
     "output_type": "execute_result"
    }
   ],
   "source": [
    "im.shape"
   ]
  },
  {
   "cell_type": "code",
   "execution_count": 23,
   "id": "b7444ea8-91a1-4399-86a4-3655e47624f1",
   "metadata": {},
   "outputs": [
    {
     "name": "stdout",
     "output_type": "stream",
     "text": [
      "0 2\n",
      "1 1\n",
      "1 2\n",
      "1 3\n",
      "2 0\n",
      "2 1\n",
      "2 2\n",
      "2 3\n",
      "2 4\n"
     ]
    }
   ],
   "source": [
    "for r,c in [[0,2],[1,1],[1,2],[1,3],[2,0],[2,1],[2,2],[2,3],[2,4]]:\n",
    "    print(r,c)\n",
    "    subimage=get_subimage(im,r,c)\n",
    "    imsave(f\"squares/square {r} {c}.jpeg\",subimage)"
   ]
  },
  {
   "cell_type": "code",
   "execution_count": 24,
   "id": "3a19de14-74cc-4869-8920-94475b83c5f9",
   "metadata": {},
   "outputs": [],
   "source": [
    "from glob import glob"
   ]
  },
  {
   "cell_type": "code",
   "execution_count": 25,
   "id": "6bcd2eb0-9837-4356-a9eb-cca6d83abc52",
   "metadata": {},
   "outputs": [],
   "source": [
    "board_filenames=glob('images/board images/*.jpg')"
   ]
  },
  {
   "cell_type": "code",
   "execution_count": 28,
   "id": "7b6351eb-3e4e-4005-b9ab-fe6475ef9a5a",
   "metadata": {},
   "outputs": [
    {
     "name": "stdout",
     "output_type": "stream",
     "text": [
      "0 2\n",
      "squares/square 0 0 2.jpeg\n",
      "1 1\n",
      "squares/square 0 1 1.jpeg\n",
      "1 2\n",
      "squares/square 0 1 2.jpeg\n",
      "1 3\n",
      "squares/square 0 1 3.jpeg\n",
      "2 0\n",
      "squares/square 0 2 0.jpeg\n",
      "2 1\n",
      "squares/square 0 2 1.jpeg\n",
      "2 2\n",
      "squares/square 0 2 2.jpeg\n",
      "2 3\n",
      "squares/square 0 2 3.jpeg\n",
      "2 4\n",
      "squares/square 0 2 4.jpeg\n",
      "0 2\n",
      "squares/square 1 0 2.jpeg\n",
      "1 1\n",
      "squares/square 1 1 1.jpeg\n",
      "1 2\n",
      "squares/square 1 1 2.jpeg\n",
      "1 3\n",
      "squares/square 1 1 3.jpeg\n",
      "2 0\n",
      "squares/square 1 2 0.jpeg\n",
      "2 1\n",
      "squares/square 1 2 1.jpeg\n",
      "2 2\n",
      "squares/square 1 2 2.jpeg\n",
      "2 3\n",
      "squares/square 1 2 3.jpeg\n",
      "2 4\n",
      "squares/square 1 2 4.jpeg\n",
      "0 2\n",
      "squares/square 2 0 2.jpeg\n",
      "1 1\n",
      "squares/square 2 1 1.jpeg\n",
      "1 2\n",
      "squares/square 2 1 2.jpeg\n",
      "1 3\n",
      "squares/square 2 1 3.jpeg\n",
      "2 0\n",
      "squares/square 2 2 0.jpeg\n",
      "2 1\n",
      "squares/square 2 2 1.jpeg\n",
      "2 2\n",
      "squares/square 2 2 2.jpeg\n",
      "2 3\n",
      "squares/square 2 2 3.jpeg\n",
      "2 4\n",
      "squares/square 2 2 4.jpeg\n",
      "0 2\n",
      "squares/square 3 0 2.jpeg\n",
      "1 1\n",
      "squares/square 3 1 1.jpeg\n",
      "1 2\n",
      "squares/square 3 1 2.jpeg\n",
      "1 3\n",
      "squares/square 3 1 3.jpeg\n",
      "2 0\n",
      "squares/square 3 2 0.jpeg\n",
      "2 1\n",
      "squares/square 3 2 1.jpeg\n",
      "2 2\n",
      "squares/square 3 2 2.jpeg\n",
      "2 3\n",
      "squares/square 3 2 3.jpeg\n",
      "2 4\n",
      "squares/square 3 2 4.jpeg\n",
      "0 2\n",
      "squares/square 4 0 2.jpeg\n",
      "1 1\n",
      "squares/square 4 1 1.jpeg\n",
      "1 2\n",
      "squares/square 4 1 2.jpeg\n",
      "1 3\n",
      "squares/square 4 1 3.jpeg\n",
      "2 0\n",
      "squares/square 4 2 0.jpeg\n",
      "2 1\n",
      "squares/square 4 2 1.jpeg\n",
      "2 2\n",
      "squares/square 4 2 2.jpeg\n",
      "2 3\n",
      "squares/square 4 2 3.jpeg\n",
      "2 4\n",
      "squares/square 4 2 4.jpeg\n",
      "0 2\n",
      "squares/square 5 0 2.jpeg\n",
      "1 1\n",
      "squares/square 5 1 1.jpeg\n",
      "1 2\n",
      "squares/square 5 1 2.jpeg\n",
      "1 3\n",
      "squares/square 5 1 3.jpeg\n",
      "2 0\n",
      "squares/square 5 2 0.jpeg\n",
      "2 1\n",
      "squares/square 5 2 1.jpeg\n",
      "2 2\n",
      "squares/square 5 2 2.jpeg\n",
      "2 3\n",
      "squares/square 5 2 3.jpeg\n",
      "2 4\n",
      "squares/square 5 2 4.jpeg\n",
      "0 2\n",
      "squares/square 6 0 2.jpeg\n",
      "1 1\n",
      "squares/square 6 1 1.jpeg\n",
      "1 2\n",
      "squares/square 6 1 2.jpeg\n",
      "1 3\n",
      "squares/square 6 1 3.jpeg\n",
      "2 0\n",
      "squares/square 6 2 0.jpeg\n",
      "2 1\n",
      "squares/square 6 2 1.jpeg\n",
      "2 2\n",
      "squares/square 6 2 2.jpeg\n",
      "2 3\n",
      "squares/square 6 2 3.jpeg\n",
      "2 4\n",
      "squares/square 6 2 4.jpeg\n",
      "0 2\n",
      "squares/square 7 0 2.jpeg\n",
      "1 1\n",
      "squares/square 7 1 1.jpeg\n",
      "1 2\n",
      "squares/square 7 1 2.jpeg\n",
      "1 3\n",
      "squares/square 7 1 3.jpeg\n",
      "2 0\n",
      "squares/square 7 2 0.jpeg\n",
      "2 1\n",
      "squares/square 7 2 1.jpeg\n",
      "2 2\n",
      "squares/square 7 2 2.jpeg\n",
      "2 3\n",
      "squares/square 7 2 3.jpeg\n",
      "2 4\n",
      "squares/square 7 2 4.jpeg\n",
      "0 2\n",
      "squares/square 8 0 2.jpeg\n",
      "1 1\n",
      "squares/square 8 1 1.jpeg\n",
      "1 2\n",
      "squares/square 8 1 2.jpeg\n",
      "1 3\n",
      "squares/square 8 1 3.jpeg\n",
      "2 0\n",
      "squares/square 8 2 0.jpeg\n",
      "2 1\n",
      "squares/square 8 2 1.jpeg\n",
      "2 2\n",
      "squares/square 8 2 2.jpeg\n",
      "2 3\n",
      "squares/square 8 2 3.jpeg\n",
      "2 4\n",
      "squares/square 8 2 4.jpeg\n",
      "0 2\n",
      "squares/square 9 0 2.jpeg\n",
      "1 1\n",
      "squares/square 9 1 1.jpeg\n",
      "1 2\n",
      "squares/square 9 1 2.jpeg\n",
      "1 3\n",
      "squares/square 9 1 3.jpeg\n",
      "2 0\n",
      "squares/square 9 2 0.jpeg\n",
      "2 1\n",
      "squares/square 9 2 1.jpeg\n",
      "2 2\n",
      "squares/square 9 2 2.jpeg\n",
      "2 3\n",
      "squares/square 9 2 3.jpeg\n",
      "2 4\n",
      "squares/square 9 2 4.jpeg\n",
      "0 2\n",
      "squares/square 10 0 2.jpeg\n",
      "1 1\n",
      "squares/square 10 1 1.jpeg\n",
      "1 2\n",
      "squares/square 10 1 2.jpeg\n",
      "1 3\n",
      "squares/square 10 1 3.jpeg\n",
      "2 0\n",
      "squares/square 10 2 0.jpeg\n",
      "2 1\n",
      "squares/square 10 2 1.jpeg\n",
      "2 2\n",
      "squares/square 10 2 2.jpeg\n",
      "2 3\n",
      "squares/square 10 2 3.jpeg\n",
      "2 4\n",
      "squares/square 10 2 4.jpeg\n"
     ]
    }
   ],
   "source": [
    "for count,filename in enumerate(board_filenames):\n",
    "    im=imread(filename)\n",
    "    \n",
    "    for r,c in [[0,2],[1,1],[1,2],[1,3],[2,0],[2,1],[2,2],[2,3],[2,4]]:\n",
    "        subimage=get_subimage(im,r,c)\n",
    "        subfilename=f\"squares/square {count} {r} {c}.jpeg\"\n",
    "        print(r,c)\n",
    "        print(subfilename)\n",
    "        imsave(subfilename,subimage)    "
   ]
  },
  {
   "cell_type": "code",
   "execution_count": null,
   "id": "8d934ce0-e2eb-46d1-abce-d0779e497044",
   "metadata": {},
   "outputs": [],
   "source": []
  }
 ],
 "metadata": {
  "kernelspec": {
   "display_name": "Python 3 (ipykernel)",
   "language": "python",
   "name": "python3"
  },
  "language_info": {
   "codemirror_mode": {
    "name": "ipython",
    "version": 3
   },
   "file_extension": ".py",
   "mimetype": "text/x-python",
   "name": "python",
   "nbconvert_exporter": "python",
   "pygments_lexer": "ipython3",
   "version": "3.9.12"
  }
 },
 "nbformat": 4,
 "nbformat_minor": 5
}
