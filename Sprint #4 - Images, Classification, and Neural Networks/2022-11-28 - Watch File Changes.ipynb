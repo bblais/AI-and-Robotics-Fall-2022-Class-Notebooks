{
 "cells": [
  {
   "cell_type": "code",
   "execution_count": 5,
   "id": "a238c94f-6c06-4004-9615-682c28c9945f",
   "metadata": {},
   "outputs": [],
   "source": [
    "def watch(filename):\n",
    "    import os,time\n",
    "    print(\"Watching \",filename,':')\n",
    "    if not os.path.exists(filename):\n",
    "        use_exist=True\n",
    "        stamp=os.path.exists(filename)\n",
    "    else:\n",
    "        use_exist=False\n",
    "        stamp = os.stat(filename).st_mtime\n",
    "    \n",
    "    while True:\n",
    "        if use_exist:\n",
    "            new_stamp=os.path.exists(filename)\n",
    "        else:\n",
    "            new_stamp=os.stat(filename).st_mtime\n",
    "        print(\".\",end=\"\")\n",
    "        if new_stamp!=stamp:\n",
    "            break\n",
    "        time.sleep(0.5)\n",
    "        \n",
    "    print(\"done.\")"
   ]
  },
  {
   "cell_type": "code",
   "execution_count": 6,
   "id": "5127b60d-de46-45f0-9f88-0a00821b8e0c",
   "metadata": {},
   "outputs": [
    {
     "name": "stdout",
     "output_type": "stream",
     "text": [
      "Watching  picture.jpg :\n",
      "..................done.\n"
     ]
    }
   ],
   "source": [
    "watch('picture.jpg')"
   ]
  },
  {
   "cell_type": "code",
   "execution_count": null,
   "id": "10a96e3d-c115-4607-be5b-1152d3355d78",
   "metadata": {},
   "outputs": [],
   "source": []
  }
 ],
 "metadata": {
  "kernelspec": {
   "display_name": "Python 3 (ipykernel)",
   "language": "python",
   "name": "python3"
  },
  "language_info": {
   "codemirror_mode": {
    "name": "ipython",
    "version": 3
   },
   "file_extension": ".py",
   "mimetype": "text/x-python",
   "name": "python",
   "nbconvert_exporter": "python",
   "pygments_lexer": "ipython3",
   "version": "3.9.12"
  }
 },
 "nbformat": 4,
 "nbformat_minor": 5
}
