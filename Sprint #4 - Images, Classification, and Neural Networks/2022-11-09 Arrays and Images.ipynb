{
 "cells": [
  {
   "cell_type": "code",
   "execution_count": 1,
   "id": "696e95cb-90ca-485f-9d8b-500e1a249cd3",
   "metadata": {},
   "outputs": [],
   "source": [
    "%matplotlib inline"
   ]
  },
  {
   "cell_type": "code",
   "execution_count": 2,
   "id": "e9da6f12-8ddb-4da4-9b79-ffce4cb909e7",
   "metadata": {},
   "outputs": [],
   "source": [
    "from pylab import *"
   ]
  },
  {
   "cell_type": "markdown",
   "id": "71b34d57-32ab-4614-b4fc-465fe9cd476b",
   "metadata": {},
   "source": [
    "https://www.theverge.com/2021/4/12/22379880/artificial-intelligence-cat-photos-gan\n",
    "\n",
    "https://thiscatdoesnotexist.com/\n",
    "\n",
    "\n",
    "A cool seminar on colormaps:  https://youtu.be/xAoljeRJ3lU"
   ]
  },
  {
   "cell_type": "code",
   "execution_count": 5,
   "id": "5b72604b-0add-4254-b690-1881358acf6e",
   "metadata": {},
   "outputs": [],
   "source": [
    "im=imread('images/cats.jpg')"
   ]
  }
 ],
 "metadata": {
  "kernelspec": {
   "display_name": "Python 3 (ipykernel)",
   "language": "python",
   "name": "python3"
  },
  "language_info": {
   "codemirror_mode": {
    "name": "ipython",
    "version": 3
   },
   "file_extension": ".py",
   "mimetype": "text/x-python",
   "name": "python",
   "nbconvert_exporter": "python",
   "pygments_lexer": "ipython3",
   "version": "3.9.12"
  }
 },
 "nbformat": 4,
 "nbformat_minor": 5
}
