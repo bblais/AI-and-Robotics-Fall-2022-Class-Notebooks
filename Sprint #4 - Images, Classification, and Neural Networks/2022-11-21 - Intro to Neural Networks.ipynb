{
 "cells": [
  {
   "cell_type": "code",
   "execution_count": null,
   "id": "7349dadd-4265-4e25-8832-d05ead683f60",
   "metadata": {},
   "outputs": [],
   "source": [
    "%matplotlib inline\n",
    "from pylab import *"
   ]
  },
  {
   "cell_type": "code",
   "execution_count": null,
   "id": "ce05f8af-19c2-4fcc-9822-d9f66870e4ef",
   "metadata": {},
   "outputs": [],
   "source": [
    "from classy import *"
   ]
  },
  {
   "cell_type": "code",
   "execution_count": null,
   "id": "f0d7d79b-1519-430e-9766-748d400a050a",
   "metadata": {},
   "outputs": [],
   "source": [
    "data_train=double_moon_data(d=-2,N=1000)\n",
    "data_test=double_moon_data(d=-2,N=200)"
   ]
  },
  {
   "cell_type": "code",
   "execution_count": null,
   "id": "378130d2-625d-4661-82df-04958c1fa79b",
   "metadata": {},
   "outputs": [],
   "source": [
    "plot2D(data_train)"
   ]
  },
  {
   "cell_type": "markdown",
   "id": "8c42d870-bb04-401c-9ae2-d79362347a30",
   "metadata": {},
   "source": [
    "## no hidden layer, linear units = Perceptron"
   ]
  },
  {
   "cell_type": "code",
   "execution_count": null,
   "id": "e7186134-4077-4668-a144-2d37284980f3",
   "metadata": {},
   "outputs": [],
   "source": [
    "C=NumPyNetBackProp({\n",
    "    'input':2,               # number of features\n",
    "    'output':(2,'linear'),  # number of classes\n",
    "    'cost':'mse',\n",
    "})\n",
    "\n",
    "# activation functions - linear, tanh (-1 to 1), logistic (0 to 1), relu (min 0, linear)"
   ]
  },
  {
   "cell_type": "code",
   "execution_count": null,
   "id": "174a0b05-b74f-4433-8429-6f79a4e76664",
   "metadata": {},
   "outputs": [],
   "source": [
    "C.fit(data_train.vectors,data_train.targets,epochs=3000)"
   ]
  },
  {
   "cell_type": "code",
   "execution_count": null,
   "id": "97cf6ee4-e089-40f0-a33d-210c1ce59b64",
   "metadata": {},
   "outputs": [],
   "source": [
    "print((C.predict(data_test.vectors)))\n",
    "print((\"On Training Set:\",C.percent_correct(data_train.vectors,data_train.targets)))\n",
    "print((\"On Test Set:\",C.percent_correct(data_test.vectors,data_test.targets)))"
   ]
  },
  {
   "cell_type": "code",
   "execution_count": null,
   "id": "c20319ca-1ea0-4fec-93f3-4349b4f7a0f3",
   "metadata": {},
   "outputs": [],
   "source": [
    "plot2D(data_test,classifier=C)"
   ]
  },
  {
   "cell_type": "code",
   "execution_count": null,
   "id": "9aec9675-8217-4f00-97d6-c567c2781c91",
   "metadata": {},
   "outputs": [],
   "source": [
    "data=load_excel('data/iris.xls')"
   ]
  },
  {
   "cell_type": "code",
   "execution_count": null,
   "id": "cdd1b24b-52ce-4333-93df-0df294adc503",
   "metadata": {},
   "outputs": [],
   "source": [
    "subset=extract_features(data,[0,1])\n",
    "plot2D(subset)"
   ]
  },
  {
   "cell_type": "code",
   "execution_count": null,
   "id": "32608071-a714-4932-9e52-b7ab7ae07083",
   "metadata": {},
   "outputs": [],
   "source": [
    "data_train,data_test=split(subset,test_size=0.2)"
   ]
  },
  {
   "cell_type": "code",
   "execution_count": null,
   "id": "cd6042a1-e4b8-4adf-8dfb-9c8d6581ea61",
   "metadata": {},
   "outputs": [],
   "source": [
    "C=NumPyNetBackProp({\n",
    "    'input':2,               # number of features\n",
    "    'output':(3,'linear'),  # number of classes\n",
    "    'cost':'mse',\n",
    "})\n",
    "\n",
    "# activation functions - linear, tanh (-1 to 1), logistic (0 to 1), relu (min 0, linear)"
   ]
  },
  {
   "cell_type": "code",
   "execution_count": null,
   "id": "0650e51c-8dc4-4af7-8be5-9826424b0ba4",
   "metadata": {},
   "outputs": [],
   "source": [
    "C.fit(data_train.vectors,data_train.targets,epochs=3000)"
   ]
  },
  {
   "cell_type": "code",
   "execution_count": null,
   "id": "91c6329c-6eac-4c3b-ab7d-6ee944e70fa1",
   "metadata": {},
   "outputs": [],
   "source": [
    "print((C.predict(data_test.vectors)))\n",
    "print((\"On Training Set:\",C.percent_correct(data_train.vectors,data_train.targets)))\n",
    "print((\"On Test Set:\",C.percent_correct(data_test.vectors,data_test.targets)))"
   ]
  },
  {
   "cell_type": "code",
   "execution_count": null,
   "id": "19d6d559-3ded-431e-8893-da4813f277a0",
   "metadata": {},
   "outputs": [],
   "source": [
    "plot2D(data_test,classifier=C)"
   ]
  },
  {
   "cell_type": "markdown",
   "id": "95b8e9be-ffc2-432e-b389-23f376d8c21e",
   "metadata": {},
   "source": [
    "## Backprop with hidden units"
   ]
  },
  {
   "cell_type": "code",
   "execution_count": null,
   "id": "18d3f81e-5358-46f2-9218-ac23dddba2fe",
   "metadata": {},
   "outputs": [],
   "source": [
    "data_train=double_moon_data(d=-2,N=1000)\n",
    "data_test=double_moon_data(d=-2,N=200)"
   ]
  },
  {
   "cell_type": "code",
   "execution_count": null,
   "id": "aeed6dac-987f-4075-b054-c80bf5a2110c",
   "metadata": {},
   "outputs": [],
   "source": []
  },
  {
   "cell_type": "code",
   "execution_count": null,
   "id": "b3e8b9d0-dd32-408d-8cec-bcd247b8e08a",
   "metadata": {},
   "outputs": [],
   "source": []
  },
  {
   "cell_type": "code",
   "execution_count": null,
   "id": "69f14d52-f0ee-4bc2-a070-18e35c53c4d5",
   "metadata": {},
   "outputs": [],
   "source": []
  },
  {
   "cell_type": "code",
   "execution_count": null,
   "id": "3cc36262-ccf0-4a53-9cab-1cd49252492c",
   "metadata": {},
   "outputs": [],
   "source": [
    "C=NumPyNetBackProp({\n",
    "    'input':2,               # number of features\n",
    "    'hidden':[(15,'logistic'),],\n",
    "    'output':(2,'logistic'),  # number of classes\n",
    "    'cost':'mse',\n",
    "})"
   ]
  },
  {
   "cell_type": "code",
   "execution_count": null,
   "id": "4eca07ef-8c52-44b5-aee8-29186a34df9a",
   "metadata": {},
   "outputs": [],
   "source": [
    "C.fit(data_train.vectors,data_train.targets,epochs=6000)"
   ]
  },
  {
   "cell_type": "code",
   "execution_count": null,
   "id": "a2e01324-7d6c-4c96-bc55-f71ad98287a0",
   "metadata": {},
   "outputs": [],
   "source": [
    "print((C.predict(data_test.vectors)))\n",
    "print((\"On Training Set:\",C.percent_correct(data_train.vectors,data_train.targets)))\n",
    "print((\"On Test Set:\",C.percent_correct(data_test.vectors,data_test.targets)))"
   ]
  },
  {
   "cell_type": "code",
   "execution_count": null,
   "id": "7af59bf8-09f2-4218-b695-1c24ca1616f8",
   "metadata": {},
   "outputs": [],
   "source": [
    "plot2D(data_test,classifier=C)"
   ]
  },
  {
   "cell_type": "code",
   "execution_count": null,
   "id": "7bdc0728-4ade-4758-8b13-108eb35762c3",
   "metadata": {},
   "outputs": [],
   "source": []
  }
 ],
 "metadata": {
  "kernelspec": {
   "display_name": "Python 3 (ipykernel)",
   "language": "python",
   "name": "python3"
  },
  "language_info": {
   "codemirror_mode": {
    "name": "ipython",
    "version": 3
   },
   "file_extension": ".py",
   "mimetype": "text/x-python",
   "name": "python",
   "nbconvert_exporter": "python",
   "pygments_lexer": "ipython3",
   "version": "3.9.12"
  }
 },
 "nbformat": 4,
 "nbformat_minor": 5
}
