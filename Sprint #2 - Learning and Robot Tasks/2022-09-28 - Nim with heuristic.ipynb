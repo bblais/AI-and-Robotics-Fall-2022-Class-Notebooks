{
 "cells": [
  {
   "cell_type": "code",
   "execution_count": 1,
   "id": "3e4286e7-01cc-4bd9-9d2c-6313b1a8fb8e",
   "metadata": {},
   "outputs": [
    {
     "name": "stdout",
     "output_type": "stream",
     "text": [
      "Version:  0.2.35\n"
     ]
    }
   ],
   "source": [
    "from Game import *"
   ]
  },
  {
   "cell_type": "markdown",
   "id": "ad6e0ba2-89bb-477f-884d-9ebe2ec8ca98",
   "metadata": {},
   "source": [
    "## Game functions"
   ]
  },
  {
   "cell_type": "code",
   "execution_count": 2,
   "id": "dce7d2f3-16f4-40a7-bf01-6d5d1d21c0be",
   "metadata": {},
   "outputs": [],
   "source": [
    "def initial_state():\n",
    "    return 21"
   ]
  },
  {
   "cell_type": "code",
   "execution_count": 3,
   "id": "77b0be7c-b77d-4da8-9735-2b5f48fe8c8b",
   "metadata": {},
   "outputs": [],
   "source": [
    "def valid_moves(state,player):\n",
    "    if state==1:\n",
    "        return [1]\n",
    "    elif state==2:\n",
    "        return [1,2]\n",
    "    else:\n",
    "        return [1,2,3]\n",
    "    "
   ]
  },
  {
   "cell_type": "code",
   "execution_count": 4,
   "id": "10903fd0-ec0c-487b-95c3-d9b11c8378f6",
   "metadata": {},
   "outputs": [],
   "source": [
    "def update_state(state,player,move):\n",
    "    \n",
    "    new_state=state-move\n",
    "    \n",
    "    return new_state"
   ]
  },
  {
   "cell_type": "code",
   "execution_count": 5,
   "id": "e558ada2-f559-4b83-895c-25b19cb5402a",
   "metadata": {},
   "outputs": [],
   "source": [
    "def show_state(state):\n",
    "    number_of_sticks=state\n",
    "    print(\"The number of sticks is \",number_of_sticks)"
   ]
  },
  {
   "cell_type": "code",
   "execution_count": 6,
   "id": "ed6b80b4-ffe7-4e40-ae9c-277448f6fe43",
   "metadata": {},
   "outputs": [],
   "source": [
    "def win_status(state,player):\n",
    "\n",
    "    # the state here is the state after the player made the move\n",
    "    \n",
    "    # returns  - 'win'  if the state is a winning state for the player, \n",
    "    #            'lose' if the state is a losing state for the player,\n",
    "    #            'stalemate' for a stalemate\n",
    "    #            None otherwise    \n",
    "    \n",
    "    \n",
    "    if state==1:\n",
    "        return \"win\"\n",
    "    \n",
    "    if state==0:\n",
    "        return \"lose\"\n",
    "    \n",
    "    "
   ]
  },
  {
   "cell_type": "markdown",
   "id": "1835b8cf-10cc-4a33-bc31-aa23384ed862",
   "metadata": {},
   "source": [
    "## Agents"
   ]
  },
  {
   "cell_type": "code",
   "execution_count": 7,
   "id": "f6ddd4b8-a281-46db-a482-3fce9f58fed0",
   "metadata": {},
   "outputs": [],
   "source": [
    "def random_move(state,player):    \n",
    "    moves=valid_moves(state,player)\n",
    "    return random.choice(moves)\n",
    " \n",
    "random_agent=Agent(random_move)    "
   ]
  },
  {
   "cell_type": "code",
   "execution_count": 8,
   "id": "c3b6cd08-1aca-4b81-aa00-0463c61c9a43",
   "metadata": {},
   "outputs": [],
   "source": [
    "def human_move(state,player):    \n",
    "    move=int(input(\"How many sticks to take?\"))\n",
    "    return move\n",
    " \n",
    "human_agent=Agent(human_move)    "
   ]
  },
  {
   "cell_type": "code",
   "execution_count": 9,
   "id": "f23f69ee-0068-464f-85e3-c0570f3f3617",
   "metadata": {},
   "outputs": [],
   "source": [
    "from Game.minimax import *\n",
    "def minimax_move(state,player):\n",
    "    values,moves=minimax_values(state,player,display=True)\n",
    "    return top_choice(moves,values)\n",
    "    \n",
    "    \n",
    "    \n",
    "minimax_agent=Agent(minimax_move)"
   ]
  },
  {
   "cell_type": "markdown",
   "id": "c9c51253-45a8-4f3f-a8c9-3fe825b2b66a",
   "metadata": {},
   "source": [
    "Fix for long games"
   ]
  },
  {
   "cell_type": "code",
   "execution_count": 17,
   "id": "340d1054-bac5-4efb-a479-b383e2a4d9cc",
   "metadata": {},
   "outputs": [],
   "source": [
    "from Game.minimax import *\n",
    "def minimax_move(state,player):\n",
    "    values,moves=minimax_values(state,player,maxdepth=1,display=True)\n",
    "    return top_choice(moves,values)\n",
    "    \n",
    "def heuristic(state,player):\n",
    "    # returns between -1 and 1 (not inclusive)\n",
    "    # approximate value of a state\n",
    "    # positive = good for the player\n",
    "    # negative = bad for player\n",
    "    \n",
    "    if state%2==0:   # even state\n",
    "        return 0.3\n",
    "    else:  # odd state\n",
    "        return -0.3\n",
    "    \n",
    "minimax_agent=Agent(minimax_move)"
   ]
  },
  {
   "cell_type": "markdown",
   "id": "1af03c01-995e-469a-8ef5-2fd8c8d7d23d",
   "metadata": {},
   "source": [
    "### Long Game"
   ]
  },
  {
   "cell_type": "code",
   "execution_count": 18,
   "id": "c12773a6-a0a5-43dc-b295-2af11e24265d",
   "metadata": {},
   "outputs": [
    {
     "name": "stdout",
     "output_type": "stream",
     "text": [
      "  Choice Time: 2.9325485229492188e-05 seconds \n"
     ]
    },
    {
     "data": {
      "text/plain": [
       "([1, -1, -1], [3, 2, 1])"
      ]
     },
     "execution_count": 18,
     "metadata": {},
     "output_type": "execute_result"
    }
   ],
   "source": [
    "values,moves=minimax_values(200,1,display=True)\n",
    "values,moves"
   ]
  },
  {
   "cell_type": "code",
   "execution_count": 22,
   "id": "9acc3d99-76c3-4d90-b279-17bd4f5e5db9",
   "metadata": {},
   "outputs": [
    {
     "name": "stdout",
     "output_type": "stream",
     "text": [
      "  Choice Time: 3.3855438232421875e-05 seconds \n"
     ]
    },
    {
     "data": {
      "text/plain": [
       "([0.3, -0.3, -0.3], [2, 3, 1])"
      ]
     },
     "execution_count": 22,
     "metadata": {},
     "output_type": "execute_result"
    }
   ],
   "source": [
    "values,moves=minimax_values(100000,1,maxdepth=-1,display=True)  # need a heuristic function to deal with recursion\n",
    "values,moves"
   ]
  },
  {
   "cell_type": "markdown",
   "id": "5a09ca86-45d2-4d38-a44f-ed05a0df01b3",
   "metadata": {},
   "source": [
    "## Running the Game"
   ]
  },
  {
   "cell_type": "code",
   "execution_count": 18,
   "id": "6cbffa40-936f-46eb-ab2c-788d28d8a642",
   "metadata": {},
   "outputs": [
    {
     "name": "stdout",
     "output_type": "stream",
     "text": [
      "====\n",
      "Game  1\n",
      "The number of sticks is  21\n"
     ]
    },
    {
     "name": "stdin",
     "output_type": "stream",
     "text": [
      "How many sticks to take? 1\n"
     ]
    },
    {
     "name": "stdout",
     "output_type": "stream",
     "text": [
      "Player 1 moves 1\n",
      "The number of sticks is  20\n",
      "  Choice Time: 0.003470897674560547 seconds \n",
      "Player 2 moves 3\n",
      "The number of sticks is  17\n"
     ]
    },
    {
     "name": "stdin",
     "output_type": "stream",
     "text": [
      "How many sticks to take? 2\n"
     ]
    },
    {
     "name": "stdout",
     "output_type": "stream",
     "text": [
      "Player 1 moves 2\n",
      "The number of sticks is  15\n",
      "  Choice Time: 0.0011239051818847656 seconds \n",
      "Player 2 moves 2\n",
      "The number of sticks is  13\n"
     ]
    },
    {
     "name": "stdin",
     "output_type": "stream",
     "text": [
      "How many sticks to take? 3\n"
     ]
    },
    {
     "name": "stdout",
     "output_type": "stream",
     "text": [
      "Player 1 moves 3\n",
      "The number of sticks is  10\n",
      "  Choice Time: 0.0005290508270263672 seconds \n",
      "Player 2 moves 1\n",
      "The number of sticks is  9\n"
     ]
    },
    {
     "name": "stdin",
     "output_type": "stream",
     "text": [
      "How many sticks to take? 2\n"
     ]
    },
    {
     "name": "stdout",
     "output_type": "stream",
     "text": [
      "Player 1 moves 2\n",
      "The number of sticks is  7\n",
      "  Choice Time: 0.00016498565673828125 seconds \n",
      "Player 2 moves 2\n",
      "The number of sticks is  5\n"
     ]
    },
    {
     "name": "stdin",
     "output_type": "stream",
     "text": [
      "How many sticks to take? 2\n"
     ]
    },
    {
     "name": "stdout",
     "output_type": "stream",
     "text": [
      "Player 1 moves 2\n",
      "The number of sticks is  3\n",
      "  Choice Time: 4.887580871582031e-05 seconds \n",
      "Player 2 moves 2\n",
      "The number of sticks is  1\n",
      "Player  2 won.\n"
     ]
    },
    {
     "data": {
      "text/plain": [
       "[2]"
      ]
     },
     "execution_count": 18,
     "metadata": {},
     "output_type": "execute_result"
    }
   ],
   "source": [
    "g=Game()\n",
    "g.run(human_agent,minimax_agent)"
   ]
  },
  {
   "cell_type": "code",
   "execution_count": null,
   "id": "7603dd34-aee9-4e19-ab3a-d56ee545f318",
   "metadata": {},
   "outputs": [],
   "source": []
  }
 ],
 "metadata": {
  "kernelspec": {
   "display_name": "Python 3 (ipykernel)",
   "language": "python",
   "name": "python3"
  },
  "language_info": {
   "codemirror_mode": {
    "name": "ipython",
    "version": 3
   },
   "file_extension": ".py",
   "mimetype": "text/x-python",
   "name": "python",
   "nbconvert_exporter": "python",
   "pygments_lexer": "ipython3",
   "version": "3.9.12"
  }
 },
 "nbformat": 4,
 "nbformat_minor": 5
}
