{
 "cells": [
  {
   "cell_type": "code",
   "execution_count": 1,
   "id": "90d315de-d356-4277-bfcd-b3c953d044e4",
   "metadata": {},
   "outputs": [
    {
     "name": "stdout",
     "output_type": "stream",
     "text": [
      "Version:  0.2.36\n"
     ]
    }
   ],
   "source": [
    "from Game import *"
   ]
  },
  {
   "cell_type": "markdown",
   "id": "d23bcbd9-2ffa-42ac-8584-47e3d2d29d0a",
   "metadata": {},
   "source": [
    "## Game functions"
   ]
  },
  {
   "cell_type": "code",
   "execution_count": 2,
   "id": "15420972-b911-4f92-9727-3791e0021b28",
   "metadata": {},
   "outputs": [],
   "source": [
    "def initial_state(N=21):\n",
    "    return N\n",
    "\n",
    "def show_state(state):\n",
    "    print(\"There are \",state,\"sticks\")\n",
    "    \n",
    "def valid_moves(state,player):\n",
    "    if state==2:\n",
    "        return [1,2]\n",
    "    elif state==1:\n",
    "        return [1]\n",
    "    else:\n",
    "        return [1,2,3]\n",
    "    \n",
    "def update_state(state,player,move):\n",
    "    new_state=state-move\n",
    "    return new_state\n",
    "\n",
    "def win_status(state,player):\n",
    "    # the state is *after* the move for the player\n",
    "    if state==1:\n",
    "        return \"win\"\n",
    "    \n",
    "    if state==0:\n",
    "        return \"lose\"\n",
    "    \n",
    "    return None # mid-game"
   ]
  },
  {
   "cell_type": "markdown",
   "id": "2b73f5f6-e774-4bde-94f3-db57480a8de9",
   "metadata": {},
   "source": [
    "## Agent Functions"
   ]
  },
  {
   "cell_type": "code",
   "execution_count": 3,
   "id": "9fc2bb6e-04ec-49b8-b665-cc6c7a0d8cf8",
   "metadata": {},
   "outputs": [],
   "source": [
    "def human_move(state,player):\n",
    "    move=int(input(\"how many sticks to take (1,2, or 3?\"))\n",
    "    return move\n",
    "human_agent=Agent(human_move)    "
   ]
  },
  {
   "cell_type": "code",
   "execution_count": 4,
   "id": "84dda3ca-ea87-440f-a9fa-bbb5ead27e06",
   "metadata": {},
   "outputs": [],
   "source": [
    "def random_move(state,player):\n",
    "    \n",
    "    move=random.choice(valid_moves(state,player))\n",
    "    return move\n",
    "\n",
    "\n",
    "random_agent=Agent(random_move)"
   ]
  },
  {
   "cell_type": "code",
   "execution_count": 5,
   "id": "74454473-403a-4597-ada4-edd245cb5526",
   "metadata": {},
   "outputs": [],
   "source": [
    "from Game.minimax import *\n",
    "def minimax_move(state,player):\n",
    "\n",
    "    values,moves=minimax_values(state,player,display=True)\n",
    "    return top_choice(moves,values)\n",
    "\n",
    "\n",
    "minimax_agent=Agent(minimax_move)"
   ]
  },
  {
   "cell_type": "markdown",
   "id": "e3f47303-f2ca-45e2-973f-e4254478ac98",
   "metadata": {},
   "source": [
    "## Skittles Agent"
   ]
  },
  {
   "cell_type": "code",
   "execution_count": 6,
   "id": "213ef3b2-ca15-4ba0-ae39-13b63adaab19",
   "metadata": {},
   "outputs": [],
   "source": [
    "def skittles_move(state,player,info):\n",
    "    T=info.T\n",
    "    last_state=info.last_state\n",
    "    last_action=info.last_action\n",
    "    learning=info.learning\n",
    "    \n",
    "    if state not in T:\n",
    "        actions=valid_moves(state,player)\n",
    "        T[state]=Table()\n",
    "        for action in actions:\n",
    "            T[state][action]=2  # initial number of skittles\n",
    "    \n",
    "    move=weighted_choice(T[state])\n",
    "    \n",
    "    if move is None:  \n",
    "        \n",
    "        # learn\n",
    "        if learning:\n",
    "            if last_state:\n",
    "                T[last_state][last_action]-=1 # take away a skittle\n",
    "                if T[last_state][last_action]<0:\n",
    "                    T[last_state][last_action]=0\n",
    "    \n",
    "        return random_move(state,player)\n",
    "    else:\n",
    "        return move"
   ]
  },
  {
   "cell_type": "code",
   "execution_count": 7,
   "id": "4fb63acf-7843-447e-8ba1-2d97f3d22690",
   "metadata": {},
   "outputs": [],
   "source": [
    "def skittles_after(status,player,info):\n",
    "    # not return anything but...\n",
    "    # will adjust the skittles table if lost the game\n",
    "    T=info.T\n",
    "    last_state=info.last_state\n",
    "    last_action=info.last_action\n",
    "    learning=info.learning\n",
    "    \n",
    "    if learning:\n",
    "        if status=='lose':  # only learn when you lose\n",
    "            T[last_state][last_action]-=1 # take away a skittle\n",
    "            if T[last_state][last_action]<0:\n",
    "                T[last_state][last_action]=0"
   ]
  },
  {
   "cell_type": "code",
   "execution_count": 8,
   "id": "c7c67522-fbd6-4eb9-beca-71b88561edec",
   "metadata": {},
   "outputs": [],
   "source": [
    "skittles_agent=Agent(skittles_move)\n",
    "skittles_agent.post=skittles_after\n",
    "skittles_agent.T=Table()  # makes an empty table\n",
    "skittles_agent.learning=True"
   ]
  },
  {
   "cell_type": "markdown",
   "id": "0308f234-ce99-4179-a403-bf1656048c77",
   "metadata": {},
   "source": [
    "## Q Agent"
   ]
  },
  {
   "cell_type": "code",
   "execution_count": 9,
   "id": "b3b34bb3-c1c6-488e-a15f-a794bf72f1f5",
   "metadata": {},
   "outputs": [],
   "source": [
    "def Q_move(state,player,info):\n",
    "    Q=info.Q\n",
    "    last_state=info.last_state\n",
    "    last_action=info.last_action\n",
    "    learning=info.learning\n",
    "    \n",
    "    α=info.α  # learning rate\n",
    "    ϵ=info.ϵ  # how often to take a random move\n",
    "    γ=info.γ  # memory constant -- how quickly does the table update back in time (earlier in the game)\n",
    "    \n",
    "    # \\alpha <hit tab>    α\n",
    "    # \\epsilon <hit tab>  ϵ\n",
    "    # \\gamma <hit tab>    γ\n",
    "    \n",
    "    if state not in Q:\n",
    "        actions=valid_moves(state,player)\n",
    "        Q[state]=Table()\n",
    "        for action in actions:\n",
    "            Q[state][action]=0  # initial value of table\n",
    "    \n",
    "    if learning:\n",
    "        if random.random()<ϵ:  # take a random move occasionally to explore the environment\n",
    "            move=random_move(state,player)\n",
    "        else:\n",
    "            move=top_choice(Q[state])\n",
    "    else:\n",
    "        move=top_choice(Q[state])\n",
    "    \n",
    "    if not last_action is None:  # not the first move\n",
    "        reward=0\n",
    "        \n",
    "        # learn\n",
    "        if learning:\n",
    "            Q[last_state][last_action]+=α*(reward +\n",
    "                        γ*max([Q[state][a] for a in Q[state]]) - Q[last_state][last_action])\n",
    "    \n",
    "    return move"
   ]
  },
  {
   "cell_type": "code",
   "execution_count": 10,
   "id": "05270935-cf16-4044-86c9-67210e80dacc",
   "metadata": {},
   "outputs": [],
   "source": [
    "def Q_after(status,player,info):\n",
    "    Q=info.Q\n",
    "    last_state=info.last_state\n",
    "    last_action=info.last_action\n",
    "    learning=info.learning\n",
    "    \n",
    "    α=info.α  # learning rate\n",
    "    ϵ=info.ϵ  # how often to take a random move\n",
    "    γ=info.γ  # memory constant -- how quickly does the table update back in time (earlier in the game)\n",
    "    \n",
    "    # \\alpha <hit tab>    α\n",
    "    # \\epsilon <hit tab>  ϵ\n",
    "    # \\gamma <hit tab>    γ\n",
    "\n",
    "    if status=='lose':\n",
    "        reward=-1\n",
    "    elif status=='win':\n",
    "        reward=1\n",
    "    elif status=='stalemate':\n",
    "        reward=.5 # value stalemate a little closer to a win\n",
    "    else:\n",
    "        reward=0\n",
    "    \n",
    "    \n",
    "    if learning:\n",
    "        Q[last_state][last_action]+=α*(reward - Q[last_state][last_action])\n",
    "        \n"
   ]
  },
  {
   "cell_type": "code",
   "execution_count": 11,
   "id": "22a4d157-95fc-4b3c-8fe5-7428dd610bdf",
   "metadata": {},
   "outputs": [],
   "source": [
    "Q1_agent=Agent(Q_move)\n",
    "Q1_agent.post=Q_after\n",
    "Q1_agent.Q=Table()  # makes an empty table\n",
    "Q1_agent.learning=True\n",
    "\n",
    "Q1_agent.α=0.3  # learning rate\n",
    "Q1_agent.ϵ=0.1  # how often to take a random move\n",
    "Q1_agent.γ=0.9  # memory constant -- how quickly does the table update back in time (earlier in the game)"
   ]
  },
  {
   "cell_type": "code",
   "execution_count": 12,
   "id": "20bba54c-6313-41cb-93cd-415cfc745d78",
   "metadata": {},
   "outputs": [],
   "source": [
    "Q2_agent=Agent(Q_move)\n",
    "Q2_agent.post=Q_after\n",
    "Q2_agent.Q=Table()  # makes an empty table\n",
    "Q2_agent.learning=True\n",
    "\n",
    "Q2_agent.α=0.3  # learning rate\n",
    "Q2_agent.ϵ=0.1  # how often to take a random move\n",
    "Q2_agent.γ=0.9  # memory constant -- how quickly does the table update back in time (earlier in the game)"
   ]
  },
  {
   "cell_type": "markdown",
   "id": "f887d351-f175-4af5-9b22-5687792cb8d6",
   "metadata": {},
   "source": [
    "## Running the Game"
   ]
  },
  {
   "cell_type": "code",
   "execution_count": 13,
   "id": "48bcad7b-c1b9-42c3-87a9-a2ae71310454",
   "metadata": {},
   "outputs": [],
   "source": [
    "from copy import deepcopy\n",
    "from tqdm.notebook import tqdm"
   ]
  },
  {
   "cell_type": "code",
   "execution_count": 14,
   "id": "4562bd01-46d6-4cdf-8199-7a53a5bf1532",
   "metadata": {},
   "outputs": [
    {
     "data": {
      "application/vnd.jupyter.widget-view+json": {
       "model_id": "bfb54b09470e4e6e88168c2f0322e627",
       "version_major": 2,
       "version_minor": 0
      },
      "text/plain": [
       "  0%|          | 0/200 [00:00<?, ?it/s]"
      ]
     },
     "metadata": {},
     "output_type": "display_data"
    }
   ],
   "source": [
    "N_train=1\n",
    "N_test=100\n",
    "\n",
    "percentage_player1_wins=[]\n",
    "percentage_player2_wins=[]\n",
    "percentage_ties=[]\n",
    "total_number_of_games=[]\n",
    "\n",
    "Qs=[]\n",
    "Q1_agent.Q=Table()  # makes an empty table\n",
    "Q2_agent.Q=Table()  # makes an empty table\n",
    "\n",
    "Qs+=[ [deepcopy(Q1_agent.Q),deepcopy(Q2_agent.Q)] ]\n",
    "\n",
    "current_game_number=0\n",
    "\n",
    "for i in tqdm(range(200)):\n",
    "    \n",
    "    Q1_agent.learning=Q2_agent.learning=True\n",
    "    g=Game(number_of_games=N_train)\n",
    "    g.display=False\n",
    "    g.run(Q1_agent,Q2_agent)\n",
    "\n",
    "    Qs+=[ [deepcopy(Q1_agent.Q),deepcopy(Q2_agent.Q)] ]\n",
    "    \n",
    "    current_game_number+=N_train\n",
    "    \n",
    "    \n",
    "    Q1_agent.learning=Q2_agent.learning=False\n",
    "    g=Game(number_of_games=N_test)\n",
    "    g.display=False\n",
    "    results=g.run(random_agent,Q2_agent)\n",
    "    \n",
    "    percentage_player1_wins.append(results.count(1))\n",
    "    percentage_player2_wins.append(results.count(2))\n",
    "    percentage_ties.append(results.count(0)) \n",
    "    total_number_of_games.append(current_game_number)"
   ]
  },
  {
   "cell_type": "code",
   "execution_count": 15,
   "id": "5d1f4198-43aa-469d-9fe2-0b1b08ae6ec5",
   "metadata": {},
   "outputs": [],
   "source": [
    "%matplotlib inline\n",
    "from matplotlib.pylab import figure,plot,legend,xlabel,ylabel,imshow,cm,axis\n",
    "import matplotlib.pylab as plt"
   ]
  },
  {
   "cell_type": "code",
   "execution_count": 16,
   "id": "dc9030ab-05fc-496e-8861-57b1676a7f9e",
   "metadata": {},
   "outputs": [
    {
     "data": {
      "text/plain": [
       "<matplotlib.legend.Legend at 0x7fc1807abe50>"
      ]
     },
     "execution_count": 16,
     "metadata": {},
     "output_type": "execute_result"
    },
    {
     "data": {
      "image/png": "[encoded data removed]",
      "text/plain": [
       "<Figure size 576x432 with 1 Axes>"
      ]
     },
     "metadata": {
      "needs_background": "light"
     },
     "output_type": "display_data"
    }
   ],
   "source": [
    "figure(figsize=(8,6))\n",
    "plot(total_number_of_games,percentage_player1_wins,'-o',label=\"Player 1 Wins\")\n",
    "plot(total_number_of_games,percentage_player2_wins,'-x',label=\"Player 2 Wins\")\n",
    "plot(total_number_of_games,percentage_ties,'-s',label=\"Ties\")\n",
    "xlabel('Number of Games')\n",
    "ylabel('Percentage')\n",
    "legend()"
   ]
  },
  {
   "cell_type": "code",
   "execution_count": 17,
   "id": "10e78263-184e-4900-abb5-33fdf39ca6ef",
   "metadata": {},
   "outputs": [
    {
     "data": {
      "text/plain": [
       "{21: {1: -0.38290013362419023,\n",
       "  2: 0.056117647863071135,\n",
       "  3: -0.4397801210681043},\n",
       " 19: {1: 0, 2: 0.06861039198596922, 3: 0.0},\n",
       " 13: {1: -0.7659291251247411, 2: -0.7606130881119254, 3: -0.5669993566380974},\n",
       " 10: {1: 0.7438751427419952, 2: -0.081, 3: -0.149607},\n",
       " 4: {1: 0, 2: -0.3, 3: 0.9966767069430399},\n",
       " 17: {1: -0.5974989693295341, 2: -0.2745464088397933, 3: -0.6155729144714769},\n",
       " 12: {1: 0.20357675216802948, 2: 0, 3: 0.7598434945862657},\n",
       " 8: {1: 0, 2: 0.0, 3: 0.896183597164811},\n",
       " 5: {1: -0.9999681371420015, 2: -0.9999680292467438, 3: -0.974746307173873},\n",
       " 15: {1: 0.0, 2: 0.5537628074481337, 3: 0},\n",
       " 18: {1: 0.3563135835257753,\n",
       "  2: -0.018724227827065017,\n",
       "  3: -0.048019996623406364},\n",
       " 14: {1: 0.4853327992828509, 2: 0.0, 3: -0.104140566},\n",
       " 6: {1: 0.8993099925301012, 2: -0.51, 3: -0.3},\n",
       " 3: {1: -0.51, 2: 0.9999962118130773, 3: -0.3},\n",
       " 11: {1: -0.1628362105320231, 2: 0.7857862603108758, 3: -0.21100743},\n",
       " 2: {1: 0.99321776927151, 2: -0.3},\n",
       " 16: {1: -0.08133218648528331, 2: 0, 3: 0.6350374330039686},\n",
       " 9: {1: -0.8974138418471597, 2: -0.7961413663096679, 3: -0.8973808019235554},\n",
       " 7: {1: 0, 2: 0.8695522340434502, 3: 0}}"
      ]
     },
     "execution_count": 17,
     "metadata": {},
     "output_type": "execute_result"
    }
   ],
   "source": [
    "Q1_agent.Q"
   ]
  },
  {
   "cell_type": "code",
   "execution_count": 18,
   "id": "a2e173ff-0d5b-4e54-a462-1170889a8141",
   "metadata": {},
   "outputs": [],
   "source": [
    "SaveTable(Q1_agent.Q,\"Q1 table.json\")\n",
    "SaveTable(Q2_agent.Q,\"Q2 table.json\")"
   ]
  },
  {
   "cell_type": "code",
   "execution_count": 19,
   "id": "74f0b53c-d62b-41a4-b532-43c08eff884c",
   "metadata": {},
   "outputs": [],
   "source": [
    "def Q2image(Q):\n",
    "    from numpy import zeros\n",
    "    im=zeros((22,3))\n",
    "    for state in range(22):\n",
    "        if state in Q:\n",
    "            for action in [1,2,3]:\n",
    "                if action in Q[state]:\n",
    "                    im[state,action-1]=Q[state][action]\n",
    "                    \n",
    "    return im"
   ]
  },
  {
   "cell_type": "code",
   "execution_count": 20,
   "id": "ac34982d-d060-439e-8eb2-0a3e50a8e8cd",
   "metadata": {},
   "outputs": [],
   "source": [
    "from IPython.display import display, clear_output"
   ]
  },
  {
   "cell_type": "code",
   "execution_count": 22,
   "id": "ab831111-89b2-4f25-9fc8-031bb873fd0e",
   "metadata": {},
   "outputs": [
    {
     "data": {
      "text/plain": [
       "[Text(0, 1, '1'), Text(1, 1, '2'), Text(2, 1, '3')]"
      ]
     },
     "execution_count": 22,
     "metadata": {},
     "output_type": "execute_result"
    },
    {
     "data": {
      "image/png": "[encoded data removed]",
      "text/plain": [
       "<Figure size 288x720 with 1 Axes>"
      ]
     },
     "metadata": {
      "needs_background": "light"
     },
     "output_type": "display_data"
    }
   ],
   "source": [
    "figure(figsize=(4,10))\n",
    "im=Q2image(Q2_agent.Q)\n",
    "imshow(im,cmap=cm.gray)\n",
    "axis('off');\n",
    "ax=plt.gca()\n",
    "ax.xaxis.tick_top()\n",
    "ax.set_yticks(range(22))\n",
    "ax.set_yticklabels(range(22))\n",
    "ax.set_xticks([0,1,2])\n",
    "ax.set_xticklabels([1,2,3])\n"
   ]
  },
  {
   "cell_type": "code",
   "execution_count": 24,
   "id": "13f5d929-2b65-46a2-b492-6a4d2d1f7cf4",
   "metadata": {},
   "outputs": [
    {
     "data": {
      "image/png": "[encoded data removed]",
      "text/plain": [
       "<Figure size 288x720 with 1 Axes>"
      ]
     },
     "metadata": {},
     "output_type": "display_data"
    },
    {
     "data": {
      "image/png": "[encoded data removed]",
      "text/plain": [
       "<Figure size 288x720 with 1 Axes>"
      ]
     },
     "metadata": {
      "needs_background": "light"
     },
     "output_type": "display_data"
    }
   ],
   "source": [
    "f=figure(figsize=(4,10))\n",
    "for Q in Qs:\n",
    "    clear_output(wait=True)\n",
    "    f.clf()    \n",
    "    im=Q2image(Q[1])\n",
    "    imshow(im,vmin=-1,vmax=1,cmap=cm.gray)\n",
    "    ax=plt.gca()\n",
    "    ax.xaxis.tick_top()\n",
    "    ax.set_yticks(range(22))\n",
    "    ax.set_yticklabels(range(22))\n",
    "    ax.set_xticks([0,1,2])\n",
    "    ax.set_xticklabels([1,2,3])\n",
    "    display(f)\n",
    "    \n"
   ]
  },
  {
   "cell_type": "code",
   "execution_count": null,
   "id": "b2467d67-5931-41b2-ab9d-e6823a24e194",
   "metadata": {},
   "outputs": [],
   "source": []
  }
 ],
 "metadata": {
  "kernelspec": {
   "display_name": "Python 3 (ipykernel)",
   "language": "python",
   "name": "python3"
  },
  "language_info": {
   "codemirror_mode": {
    "name": "ipython",
    "version": 3
   },
   "file_extension": ".py",
   "mimetype": "text/x-python",
   "name": "python",
   "nbconvert_exporter": "python",
   "pygments_lexer": "ipython3",
   "version": "3.9.12"
  }
 },
 "nbformat": 4,
 "nbformat_minor": 5
}
