{
 "cells": [
  {
   "cell_type": "code",
   "execution_count": 1,
   "id": "3e4286e7-01cc-4bd9-9d2c-6313b1a8fb8e",
   "metadata": {},
   "outputs": [
    {
     "name": "stdout",
     "output_type": "stream",
     "text": [
      "Version:  0.2.36\n"
     ]
    }
   ],
   "source": [
    "from Game import *"
   ]
  },
  {
   "cell_type": "markdown",
   "id": "ad6e0ba2-89bb-477f-884d-9ebe2ec8ca98",
   "metadata": {},
   "source": [
    "## Game functions"
   ]
  },
  {
   "cell_type": "code",
   "execution_count": 2,
   "id": "dce7d2f3-16f4-40a7-bf01-6d5d1d21c0be",
   "metadata": {},
   "outputs": [],
   "source": [
    "def initial_state():\n",
    "    return 21"
   ]
  },
  {
   "cell_type": "code",
   "execution_count": 3,
   "id": "77b0be7c-b77d-4da8-9735-2b5f48fe8c8b",
   "metadata": {},
   "outputs": [],
   "source": [
    "def valid_moves(state,player):\n",
    "    if state==1:\n",
    "        return [1]\n",
    "    elif state==2:\n",
    "        return [1,2]\n",
    "    else:\n",
    "        return [1,2,3]\n",
    "    "
   ]
  },
  {
   "cell_type": "code",
   "execution_count": 4,
   "id": "10903fd0-ec0c-487b-95c3-d9b11c8378f6",
   "metadata": {},
   "outputs": [],
   "source": [
    "def update_state(state,player,move):\n",
    "    \n",
    "    new_state=state-move\n",
    "    \n",
    "    return new_state"
   ]
  },
  {
   "cell_type": "code",
   "execution_count": 5,
   "id": "e558ada2-f559-4b83-895c-25b19cb5402a",
   "metadata": {},
   "outputs": [],
   "source": [
    "def show_state(state):\n",
    "    number_of_sticks=state\n",
    "    print(\"The number of sticks is \",number_of_sticks)"
   ]
  },
  {
   "cell_type": "code",
   "execution_count": 6,
   "id": "ed6b80b4-ffe7-4e40-ae9c-277448f6fe43",
   "metadata": {},
   "outputs": [],
   "source": [
    "def win_status(state,player):\n",
    "\n",
    "    # the state here is the state after the player made the move\n",
    "    \n",
    "    # returns  - 'win'  if the state is a winning state for the player, \n",
    "    #            'lose' if the state is a losing state for the player,\n",
    "    #            'stalemate' for a stalemate\n",
    "    #            None otherwise    \n",
    "    \n",
    "    \n",
    "    if state==1:\n",
    "        return \"win\"\n",
    "    \n",
    "    if state==0:\n",
    "        return \"lose\"\n",
    "    \n",
    "    "
   ]
  },
  {
   "cell_type": "markdown",
   "id": "1835b8cf-10cc-4a33-bc31-aa23384ed862",
   "metadata": {},
   "source": [
    "## Agents"
   ]
  },
  {
   "cell_type": "code",
   "execution_count": 7,
   "id": "f6ddd4b8-a281-46db-a482-3fce9f58fed0",
   "metadata": {},
   "outputs": [],
   "source": [
    "def random_move(state,player):    \n",
    "    moves=valid_moves(state,player)\n",
    "    return random.choice(moves)\n",
    " \n",
    "random_agent=Agent(random_move)    "
   ]
  },
  {
   "cell_type": "code",
   "execution_count": 8,
   "id": "c3b6cd08-1aca-4b81-aa00-0463c61c9a43",
   "metadata": {},
   "outputs": [],
   "source": [
    "def human_move(state,player):    \n",
    "    move=int(input(\"How many sticks to take?\"))\n",
    "    return move\n",
    " \n",
    "human_agent=Agent(human_move)    "
   ]
  },
  {
   "cell_type": "code",
   "execution_count": 9,
   "id": "f23f69ee-0068-464f-85e3-c0570f3f3617",
   "metadata": {},
   "outputs": [],
   "source": [
    "from Game.minimax import *\n",
    "def minimax_move(state,player):\n",
    "    values,moves=minimax_values(state,player,display=True)\n",
    "    return top_choice(moves,values)\n",
    "    \n",
    "    \n",
    "    \n",
    "minimax_agent=Agent(minimax_move)"
   ]
  },
  {
   "cell_type": "code",
   "execution_count": 10,
   "id": "7c4eba41-46da-474e-b324-0631cb7cedec",
   "metadata": {},
   "outputs": [],
   "source": [
    "def skittles_move(state,player,info):\n",
    "    T=info.T\n",
    "    last_state=info.last_state\n",
    "    last_action=info.last_action\n",
    "    \n",
    "    \n",
    "    if state not in T:\n",
    "        actions=valid_moves(state,player)\n",
    "        T[state]=Table()\n",
    "        for action in actions:\n",
    "            T[state][action]=3  # number of skittles\n",
    "        \n",
    "    \n",
    "    move=weighted_choice(T[state])\n",
    "    \n",
    "    if move is None:  # can't win from this state\n",
    "        if not last_state is None:\n",
    "            T[last_state][last_action]-=1   # take away a skittle\n",
    "            if T[last_state][last_action]<0:\n",
    "                T[last_state][last_action]=0\n",
    "    \n",
    "        move=random_move(state,player)\n",
    "    \n",
    "    return move\n",
    "\n",
    "def skittles_after(status,player,info):  # this is called after the game is over\n",
    "    T=info.T\n",
    "    last_state=info.last_state\n",
    "    last_action=info.last_action\n",
    "\n",
    "    if status=='lose':\n",
    "        T[last_state][last_action]-=1   # take away a skittle\n",
    "        if T[last_state][last_action]<0:\n",
    "            T[last_state][last_action]=0\n",
    "    \n",
    "    "
   ]
  },
  {
   "cell_type": "code",
   "execution_count": 11,
   "id": "b287295a-7c36-4f83-aa3a-cca8bd96886a",
   "metadata": {},
   "outputs": [],
   "source": [
    "skittles_agent1=Agent(skittles_move)\n",
    "skittles_agent1.T=Table()\n",
    "skittles_agent1.post=skittles_after\n",
    "\n",
    "skittles_agent2=Agent(skittles_move)\n",
    "skittles_agent2.T=Table()\n",
    "skittles_agent2.post=skittles_after"
   ]
  },
  {
   "cell_type": "markdown",
   "id": "5a09ca86-45d2-4d38-a44f-ed05a0df01b3",
   "metadata": {},
   "source": [
    "## Running the Game"
   ]
  },
  {
   "cell_type": "code",
   "execution_count": 15,
   "id": "6cbffa40-936f-46eb-ab2c-788d28d8a642",
   "metadata": {},
   "outputs": [
    {
     "name": "stdout",
     "output_type": "stream",
     "text": [
      "====\n",
      "Game  1\n",
      "The number of sticks is  21\n",
      "Player 1 moves 1\n",
      "The number of sticks is  20\n",
      "Player 2 moves 3\n",
      "The number of sticks is  17\n",
      "Player 1 moves 2\n",
      "The number of sticks is  15\n",
      "Player 2 moves 1\n",
      "The number of sticks is  14\n",
      "Player 1 moves 2\n",
      "The number of sticks is  12\n",
      "Player 2 moves 1\n",
      "The number of sticks is  11\n",
      "Player 1 moves 2\n",
      "The number of sticks is  9\n",
      "Player 2 moves 1\n",
      "The number of sticks is  8\n",
      "Player 1 moves 2\n",
      "The number of sticks is  6\n",
      "Player 2 moves 1\n",
      "The number of sticks is  5\n",
      "Player 1 moves 2\n",
      "The number of sticks is  3\n",
      "Player 2 moves 2\n",
      "The number of sticks is  1\n",
      "Player  2 won.\n",
      "====\n",
      "Game  2\n",
      "The number of sticks is  21\n",
      "Player 1 moves 3\n",
      "The number of sticks is  18\n",
      "Player 2 moves 3\n",
      "The number of sticks is  15\n",
      "Player 1 moves 2\n",
      "The number of sticks is  13\n",
      "Player 2 moves 2\n",
      "The number of sticks is  11\n",
      "Player 1 moves 3\n",
      "The number of sticks is  8\n",
      "Player 2 moves 2\n",
      "The number of sticks is  6\n",
      "Player 1 moves 2\n",
      "The number of sticks is  4\n",
      "Player 2 moves 2\n",
      "The number of sticks is  2\n",
      "Player 1 moves 2\n",
      "The number of sticks is  0\n",
      "Player  2 won.\n",
      "====\n",
      "Game  3\n",
      "The number of sticks is  21\n",
      "Player 1 moves 2\n",
      "The number of sticks is  19\n",
      "Player 2 moves 3\n",
      "The number of sticks is  16\n",
      "Player 1 moves 1\n",
      "The number of sticks is  15\n",
      "Player 2 moves 2\n",
      "The number of sticks is  13\n",
      "Player 1 moves 3\n",
      "The number of sticks is  10\n",
      "Player 2 moves 1\n",
      "The number of sticks is  9\n",
      "Player 1 moves 3\n",
      "The number of sticks is  6\n",
      "Player 2 moves 1\n",
      "The number of sticks is  5\n",
      "Player 1 moves 3\n",
      "The number of sticks is  2\n",
      "Player 2 moves 2\n",
      "The number of sticks is  0\n",
      "Player  1 won.\n",
      "====\n",
      "Game  4\n",
      "The number of sticks is  21\n",
      "Player 1 moves 1\n",
      "The number of sticks is  20\n",
      "Player 2 moves 2\n",
      "The number of sticks is  18\n",
      "Player 1 moves 1\n",
      "The number of sticks is  17\n",
      "Player 2 moves 2\n",
      "The number of sticks is  15\n",
      "Player 1 moves 1\n",
      "The number of sticks is  14\n",
      "Player 2 moves 3\n",
      "The number of sticks is  11\n",
      "Player 1 moves 1\n",
      "The number of sticks is  10\n",
      "Player 2 moves 2\n",
      "The number of sticks is  8\n",
      "Player 1 moves 1\n",
      "The number of sticks is  7\n",
      "Player 2 moves 1\n",
      "The number of sticks is  6\n",
      "Player 1 moves 3\n",
      "The number of sticks is  3\n",
      "Player 2 moves 1\n",
      "The number of sticks is  2\n",
      "Player 1 moves 1\n",
      "The number of sticks is  1\n",
      "Player  1 won.\n",
      "====\n",
      "Game  5\n",
      "The number of sticks is  21\n",
      "Player 1 moves 1\n",
      "The number of sticks is  20\n",
      "Player 2 moves 3\n",
      "The number of sticks is  17\n",
      "Player 1 moves 3\n",
      "The number of sticks is  14\n",
      "Player 2 moves 1\n",
      "The number of sticks is  13\n",
      "Player 1 moves 1\n",
      "The number of sticks is  12\n",
      "Player 2 moves 3\n",
      "The number of sticks is  9\n",
      "Player 1 moves 3\n",
      "The number of sticks is  6\n",
      "Player 2 moves 2\n",
      "The number of sticks is  4\n",
      "Player 1 moves 2\n",
      "The number of sticks is  2\n",
      "Player 2 moves 1\n",
      "The number of sticks is  1\n",
      "Player  2 won.\n",
      "====\n",
      "Game  6\n",
      "The number of sticks is  21\n",
      "Player 1 moves 2\n",
      "The number of sticks is  19\n",
      "Player 2 moves 3\n",
      "The number of sticks is  16\n",
      "Player 1 moves 3\n",
      "The number of sticks is  13\n",
      "Player 2 moves 3\n",
      "The number of sticks is  10\n",
      "Player 1 moves 1\n",
      "The number of sticks is  9\n",
      "Player 2 moves 2\n",
      "The number of sticks is  7\n",
      "Player 1 moves 1\n",
      "The number of sticks is  6\n",
      "Player 2 moves 3\n",
      "The number of sticks is  3\n",
      "Player 1 moves 2\n",
      "The number of sticks is  1\n",
      "Player  1 won.\n",
      "====\n",
      "Game  7\n",
      "The number of sticks is  21\n",
      "Player 1 moves 1\n",
      "The number of sticks is  20\n",
      "Player 2 moves 3\n",
      "The number of sticks is  17\n",
      "Player 1 moves 1\n",
      "The number of sticks is  16\n",
      "Player 2 moves 3\n",
      "The number of sticks is  13\n",
      "Player 1 moves 1\n",
      "The number of sticks is  12\n",
      "Player 2 moves 3\n",
      "The number of sticks is  9\n",
      "Player 1 moves 1\n",
      "The number of sticks is  8\n",
      "Player 2 moves 2\n",
      "The number of sticks is  6\n",
      "Player 1 moves 2\n",
      "The number of sticks is  4\n",
      "Player 2 moves 3\n",
      "The number of sticks is  1\n",
      "Player  2 won.\n",
      "====\n",
      "Game  8\n",
      "The number of sticks is  21\n",
      "Player 1 moves 3\n",
      "The number of sticks is  18\n",
      "Player 2 moves 3\n",
      "The number of sticks is  15\n",
      "Player 1 moves 2\n",
      "The number of sticks is  13\n",
      "Player 2 moves 3\n",
      "The number of sticks is  10\n",
      "Player 1 moves 3\n",
      "The number of sticks is  7\n",
      "Player 2 moves 3\n",
      "The number of sticks is  4\n",
      "Player 1 moves 3\n",
      "The number of sticks is  1\n",
      "Player  1 won.\n",
      "====\n",
      "Game  9\n",
      "The number of sticks is  21\n",
      "Player 1 moves 1\n",
      "The number of sticks is  20\n",
      "Player 2 moves 1\n",
      "The number of sticks is  19\n",
      "Player 1 moves 1\n",
      "The number of sticks is  18\n",
      "Player 2 moves 2\n",
      "The number of sticks is  16\n",
      "Player 1 moves 2\n",
      "The number of sticks is  14\n",
      "Player 2 moves 3\n",
      "The number of sticks is  11\n",
      "Player 1 moves 3\n",
      "The number of sticks is  8\n",
      "Player 2 moves 2\n",
      "The number of sticks is  6\n",
      "Player 1 moves 2\n",
      "The number of sticks is  4\n",
      "Player 2 moves 3\n",
      "The number of sticks is  1\n",
      "Player  2 won.\n",
      "====\n",
      "Game  10\n",
      "The number of sticks is  21\n",
      "Player 1 moves 2\n",
      "The number of sticks is  19\n",
      "Player 2 moves 2\n",
      "The number of sticks is  17\n",
      "Player 1 moves 2\n",
      "The number of sticks is  15\n",
      "Player 2 moves 1\n",
      "The number of sticks is  14\n",
      "Player 1 moves 2\n",
      "The number of sticks is  12\n",
      "Player 2 moves 3\n",
      "The number of sticks is  9\n",
      "Player 1 moves 2\n",
      "The number of sticks is  7\n",
      "Player 2 moves 1\n",
      "The number of sticks is  6\n",
      "Player 1 moves 2\n",
      "The number of sticks is  4\n",
      "Player 2 moves 1\n",
      "The number of sticks is  3\n",
      "Player 1 moves 2\n",
      "The number of sticks is  1\n",
      "Player  1 won.\n"
     ]
    },
    {
     "data": {
      "text/plain": [
       "[2, 2, 1, 1, 2, 1, 2, 1, 2, 1]"
      ]
     },
     "execution_count": 15,
     "metadata": {},
     "output_type": "execute_result"
    }
   ],
   "source": [
    "g=Game(number_of_games=10)\n",
    "g.run(skittles_agent1,random_agent)"
   ]
  },
  {
   "cell_type": "code",
   "execution_count": 16,
   "id": "7603dd34-aee9-4e19-ab3a-d56ee545f318",
   "metadata": {},
   "outputs": [
    {
     "data": {
      "text/plain": [
       "{21: {1: 3, 2: 3, 3: 3},\n",
       " 16: {1: 3, 2: 3, 3: 3},\n",
       " 14: {1: 3, 2: 3, 3: 3},\n",
       " 9: {1: 3, 2: 3, 3: 3},\n",
       " 3: {1: 3, 2: 3, 3: 3},\n",
       " 17: {1: 3, 2: 3, 3: 3},\n",
       " 11: {1: 3, 2: 3, 3: 3},\n",
       " 8: {1: 3, 2: 3, 3: 3},\n",
       " 5: {1: 3, 2: 2, 3: 3},\n",
       " 15: {1: 3, 2: 3, 3: 3},\n",
       " 6: {1: 3, 2: 1, 3: 3},\n",
       " 2: {1: 3, 2: 2},\n",
       " 13: {1: 3, 2: 3, 3: 3},\n",
       " 18: {1: 3, 2: 3, 3: 3},\n",
       " 4: {1: 3, 2: 2, 3: 3},\n",
       " 10: {1: 3, 2: 3, 3: 3},\n",
       " 7: {1: 3, 2: 3, 3: 3},\n",
       " 19: {1: 3, 2: 3, 3: 3}}"
      ]
     },
     "execution_count": 16,
     "metadata": {},
     "output_type": "execute_result"
    }
   ],
   "source": [
    "skittles_agent1.T"
   ]
  },
  {
   "cell_type": "code",
   "execution_count": 17,
   "id": "221fe647-2c01-4d1b-9af9-19fad44550d2",
   "metadata": {},
   "outputs": [],
   "source": [
    "SaveTable(skittles_agent1.T,\"Skittles 1 Table.json\")"
   ]
  },
  {
   "cell_type": "markdown",
   "id": "0da6f227-fa5d-4fa4-bb1d-4fc8cdebd8a0",
   "metadata": {},
   "source": [
    "## a little debugging"
   ]
  },
  {
   "cell_type": "code",
   "execution_count": 22,
   "id": "d610910c-0f99-40fc-8e46-f5172e2b37cf",
   "metadata": {},
   "outputs": [],
   "source": [
    "g=Game(number_of_games=20)\n",
    "g.display=False\n",
    "\n",
    "result=g.run(skittles_agent1,random_agent)\n"
   ]
  },
  {
   "cell_type": "code",
   "execution_count": 23,
   "id": "b7d78f97-3365-4849-94ac-2f18f101b8cd",
   "metadata": {},
   "outputs": [
    {
     "data": {
      "text/plain": [
       "[1, 1, 2, 1, 1, 1, 2, 1, 1, 2, 1, 1, 2, 2, 1, 2, 1, 1, 1, 1]"
      ]
     },
     "execution_count": 23,
     "metadata": {},
     "output_type": "execute_result"
    }
   ],
   "source": [
    "result"
   ]
  },
  {
   "cell_type": "code",
   "execution_count": 24,
   "id": "434a4a7f-37b8-48d5-9ff3-c3bdaa7ded98",
   "metadata": {},
   "outputs": [
    {
     "data": {
      "text/plain": [
       "14"
      ]
     },
     "execution_count": 24,
     "metadata": {},
     "output_type": "execute_result"
    }
   ],
   "source": [
    "result.count(1)"
   ]
  },
  {
   "cell_type": "code",
   "execution_count": 25,
   "id": "cb1fd7a5-a6e5-4db8-9eab-84e34fdd7bb1",
   "metadata": {},
   "outputs": [
    {
     "data": {
      "text/plain": [
       "6"
      ]
     },
     "execution_count": 25,
     "metadata": {},
     "output_type": "execute_result"
    }
   ],
   "source": [
    "result.count(2)"
   ]
  },
  {
   "cell_type": "code",
   "execution_count": 26,
   "id": "6a71d5e6-2574-4900-a3c1-83e0d3fe9cda",
   "metadata": {},
   "outputs": [
    {
     "data": {
      "text/plain": [
       "0"
      ]
     },
     "execution_count": 26,
     "metadata": {},
     "output_type": "execute_result"
    }
   ],
   "source": [
    "result.count(0)"
   ]
  },
  {
   "cell_type": "code",
   "execution_count": 27,
   "id": "e5610f54-59cd-40b0-983d-981e40120a7a",
   "metadata": {},
   "outputs": [
    {
     "data": {
      "text/plain": [
       "20"
      ]
     },
     "execution_count": 27,
     "metadata": {},
     "output_type": "execute_result"
    }
   ],
   "source": [
    "len(result)"
   ]
  },
  {
   "cell_type": "code",
   "execution_count": null,
   "id": "55f67613-3169-40c6-afe1-9d936adc0c3b",
   "metadata": {},
   "outputs": [],
   "source": []
  },
  {
   "cell_type": "markdown",
   "id": "e1e01a7f-abf6-4239-b033-ea9dfc701214",
   "metadata": {},
   "source": [
    "## Progress!"
   ]
  },
  {
   "cell_type": "code",
   "execution_count": 32,
   "id": "cc426cc5-6ad6-4b64-9ef2-b57fa98c1ae9",
   "metadata": {},
   "outputs": [],
   "source": [
    "skittles_agent1.T=Table()"
   ]
  },
  {
   "cell_type": "code",
   "execution_count": 33,
   "id": "62b61608-ab10-455e-8a4d-48a74a2dfad8",
   "metadata": {},
   "outputs": [],
   "source": [
    "%matplotlib inline\n",
    "from matplotlib.pyplot import figure,plot,grid,legend,xlabel,ylabel,title\n",
    "from tqdm.notebook import tqdm"
   ]
  },
  {
   "cell_type": "code",
   "execution_count": 34,
   "id": "64472111-8ed3-44ad-99ee-b626347d581f",
   "metadata": {},
   "outputs": [],
   "source": [
    "S=Storage()\n",
    "one,two,ties,N=0,0,0,0"
   ]
  },
  {
   "cell_type": "code",
   "execution_count": 48,
   "id": "0fd9f0c1-5b9c-464e-af6f-476e060e9681",
   "metadata": {},
   "outputs": [
    {
     "data": {
      "application/vnd.jupyter.widget-view+json": {
       "model_id": "758bcd30beb2418eaefad2060a91fde3",
       "version_major": 2,
       "version_minor": 0
      },
      "text/plain": [
       "  0%|          | 0/1000 [00:00<?, ?it/s]"
      ]
     },
     "metadata": {},
     "output_type": "display_data"
    }
   ],
   "source": [
    "for i in tqdm(range(1000)):\n",
    "    g=Game(number_of_games=1)\n",
    "    g.display=False\n",
    "    \n",
    "    result=g.run(skittles_agent1,random_agent)\n",
    "    one,two,ties,N=one+result.count(1),two+result.count(2),ties+result.count(0),N+len(result)\n",
    "    \n",
    "    S+=one/N*100,two/N*100,ties/N*100,N"
   ]
  },
  {
   "cell_type": "code",
   "execution_count": 49,
   "id": "994c9059-b5a2-45eb-8542-2504b1068a6e",
   "metadata": {},
   "outputs": [],
   "source": [
    "y1,y2,y0,x=S.arrays()"
   ]
  },
  {
   "cell_type": "code",
   "execution_count": 50,
   "id": "4f76725c-e3b6-4205-baac-1a3c044738b5",
   "metadata": {},
   "outputs": [],
   "source": [
    "from bigfonts import *"
   ]
  },
  {
   "cell_type": "code",
   "execution_count": 51,
   "id": "31c6d1aa-e247-41f5-8d14-92a1e536412c",
   "metadata": {},
   "outputs": [
    {
     "data": {
      "text/plain": [
       "Text(0, 0.5, 'Percent')"
      ]
     },
     "execution_count": 51,
     "metadata": {},
     "output_type": "execute_result"
    },
    {
     "data": {
      "image/png": "[encoded data removed]",
      "text/plain": [
       "<Figure size 1152x576 with 1 Axes>"
      ]
     },
     "metadata": {
      "needs_background": "light"
     },
     "output_type": "display_data"
    }
   ],
   "source": [
    "figure(figsize=(16,8))\n",
    "plot(x,y1,label='One Win')\n",
    "plot(x,y2,label='Two Win')\n",
    "plot(x,y0,label='Tie')\n",
    "legend()\n",
    "xlabel('Number of Games')\n",
    "ylabel('Percent')"
   ]
  },
  {
   "cell_type": "code",
   "execution_count": null,
   "id": "973ad0a9-29c0-4a2e-95aa-f9ddeeb51206",
   "metadata": {},
   "outputs": [],
   "source": []
  }
 ],
 "metadata": {
  "kernelspec": {
   "display_name": "Python 3 (ipykernel)",
   "language": "python",
   "name": "python3"
  },
  "language_info": {
   "codemirror_mode": {
    "name": "ipython",
    "version": 3
   },
   "file_extension": ".py",
   "mimetype": "text/x-python",
   "name": "python",
   "nbconvert_exporter": "python",
   "pygments_lexer": "ipython3",
   "version": "3.9.12"
  }
 },
 "nbformat": 4,
 "nbformat_minor": 5
}
