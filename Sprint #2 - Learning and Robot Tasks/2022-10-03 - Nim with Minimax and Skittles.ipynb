{
 "cells": [
  {
   "cell_type": "code",
   "execution_count": 1,
   "id": "3e4286e7-01cc-4bd9-9d2c-6313b1a8fb8e",
   "metadata": {},
   "outputs": [
    {
     "name": "stdout",
     "output_type": "stream",
     "text": [
      "Version:  0.2.35\n"
     ]
    }
   ],
   "source": [
    "from Game import *"
   ]
  },
  {
   "cell_type": "markdown",
   "id": "ad6e0ba2-89bb-477f-884d-9ebe2ec8ca98",
   "metadata": {},
   "source": [
    "## Game functions"
   ]
  },
  {
   "cell_type": "code",
   "execution_count": 2,
   "id": "dce7d2f3-16f4-40a7-bf01-6d5d1d21c0be",
   "metadata": {},
   "outputs": [],
   "source": [
    "def initial_state():\n",
    "    return 21"
   ]
  },
  {
   "cell_type": "code",
   "execution_count": 3,
   "id": "77b0be7c-b77d-4da8-9735-2b5f48fe8c8b",
   "metadata": {},
   "outputs": [],
   "source": [
    "def valid_moves(state,player):\n",
    "    if state==1:\n",
    "        return [1]\n",
    "    elif state==2:\n",
    "        return [1,2]\n",
    "    else:\n",
    "        return [1,2,3]\n",
    "    "
   ]
  },
  {
   "cell_type": "code",
   "execution_count": 4,
   "id": "10903fd0-ec0c-487b-95c3-d9b11c8378f6",
   "metadata": {},
   "outputs": [],
   "source": [
    "def update_state(state,player,move):\n",
    "    \n",
    "    new_state=state-move\n",
    "    \n",
    "    return new_state"
   ]
  },
  {
   "cell_type": "code",
   "execution_count": 5,
   "id": "e558ada2-f559-4b83-895c-25b19cb5402a",
   "metadata": {},
   "outputs": [],
   "source": [
    "def show_state(state):\n",
    "    number_of_sticks=state\n",
    "    print(\"The number of sticks is \",number_of_sticks)"
   ]
  },
  {
   "cell_type": "code",
   "execution_count": 6,
   "id": "ed6b80b4-ffe7-4e40-ae9c-277448f6fe43",
   "metadata": {},
   "outputs": [],
   "source": [
    "def win_status(state,player):\n",
    "\n",
    "    # the state here is the state after the player made the move\n",
    "    \n",
    "    # returns  - 'win'  if the state is a winning state for the player, \n",
    "    #            'lose' if the state is a losing state for the player,\n",
    "    #            'stalemate' for a stalemate\n",
    "    #            None otherwise    \n",
    "    \n",
    "    \n",
    "    if state==1:\n",
    "        return \"win\"\n",
    "    \n",
    "    if state==0:\n",
    "        return \"lose\"\n",
    "    \n",
    "    "
   ]
  },
  {
   "cell_type": "markdown",
   "id": "1835b8cf-10cc-4a33-bc31-aa23384ed862",
   "metadata": {},
   "source": [
    "## Agents"
   ]
  },
  {
   "cell_type": "code",
   "execution_count": 7,
   "id": "f6ddd4b8-a281-46db-a482-3fce9f58fed0",
   "metadata": {},
   "outputs": [],
   "source": [
    "def random_move(state,player):    \n",
    "    moves=valid_moves(state,player)\n",
    "    return random.choice(moves)\n",
    " \n",
    "random_agent=Agent(random_move)    "
   ]
  },
  {
   "cell_type": "code",
   "execution_count": 8,
   "id": "c3b6cd08-1aca-4b81-aa00-0463c61c9a43",
   "metadata": {},
   "outputs": [],
   "source": [
    "def human_move(state,player):    \n",
    "    move=int(input(\"How many sticks to take?\"))\n",
    "    return move\n",
    " \n",
    "human_agent=Agent(human_move)    "
   ]
  },
  {
   "cell_type": "code",
   "execution_count": 9,
   "id": "f23f69ee-0068-464f-85e3-c0570f3f3617",
   "metadata": {},
   "outputs": [],
   "source": [
    "from Game.minimax import *\n",
    "def minimax_move(state,player):\n",
    "    values,moves=minimax_values(state,player,display=True)\n",
    "    return top_choice(moves,values)\n",
    "    \n",
    "    \n",
    "    \n",
    "minimax_agent=Agent(minimax_move)"
   ]
  },
  {
   "cell_type": "code",
   "execution_count": 42,
   "id": "7c4eba41-46da-474e-b324-0631cb7cedec",
   "metadata": {},
   "outputs": [],
   "source": [
    "def skittles_move(state,player,info):\n",
    "    T=info.T\n",
    "    last_state=info.last_state\n",
    "    last_action=info.last_action\n",
    "    \n",
    "    \n",
    "    if state not in T:\n",
    "        actions=valid_moves(state,player)\n",
    "        T[state]=Table()\n",
    "        for action in actions:\n",
    "            T[state][action]=3  # number of skittles\n",
    "        \n",
    "    \n",
    "    move=weighted_choice(T[state])\n",
    "    \n",
    "    if move is None:  # can't win from this state\n",
    "        if not last_state is None:\n",
    "            T[last_state][last_action]-=1   # take away a skittle\n",
    "            if T[last_state][last_action]<0:\n",
    "                T[last_state][last_action]=0\n",
    "    \n",
    "        move=random_move(state,player)\n",
    "    \n",
    "    return move\n",
    "\n",
    "def skittles_after(status,player,info):  # this is called after the game is over\n",
    "    T=info.T\n",
    "    last_state=info.last_state\n",
    "    last_action=info.last_action\n",
    "\n",
    "    if status=='lose':\n",
    "        T[last_state][last_action]-=1   # take away a skittle\n",
    "        if T[last_state][last_action]<0:\n",
    "            T[last_state][last_action]=0\n",
    "    \n",
    "    "
   ]
  },
  {
   "cell_type": "code",
   "execution_count": 20,
   "id": "b287295a-7c36-4f83-aa3a-cca8bd96886a",
   "metadata": {},
   "outputs": [],
   "source": [
    "skittles_agent=Agent(skittles_move)\n",
    "skittles_agent.T=Table()\n",
    "skittles_agent.post=skittles_after"
   ]
  },
  {
   "cell_type": "code",
   "execution_count": null,
   "id": "966525d6-f23f-4d8d-b1ed-5c845c2fcee2",
   "metadata": {},
   "outputs": [],
   "source": []
  },
  {
   "cell_type": "code",
   "execution_count": null,
   "id": "3e1ad0b8-d536-4f1c-b218-4a160822f289",
   "metadata": {},
   "outputs": [],
   "source": []
  },
  {
   "cell_type": "markdown",
   "id": "1af03c01-995e-469a-8ef5-2fd8c8d7d23d",
   "metadata": {},
   "source": [
    "### some debugging"
   ]
  },
  {
   "cell_type": "code",
   "execution_count": 14,
   "id": "7a2983ad-c715-40ce-a584-f40f03055ffe",
   "metadata": {},
   "outputs": [
    {
     "data": {
      "text/plain": [
       "{}"
      ]
     },
     "execution_count": 14,
     "metadata": {},
     "output_type": "execute_result"
    }
   ],
   "source": [
    "T=Table()\n",
    "T"
   ]
  },
  {
   "cell_type": "code",
   "execution_count": 15,
   "id": "62deaaea-6a2b-4ef8-ac2d-9207919469a4",
   "metadata": {},
   "outputs": [
    {
     "data": {
      "text/plain": [
       "{6: {3: 3, 2: 3, 1: 3}, 5: {3: 3, 2: 3, 1: 3}}"
      ]
     },
     "execution_count": 15,
     "metadata": {},
     "output_type": "execute_result"
    }
   ],
   "source": [
    "state=6\n",
    "T[state]=Table()\n",
    "\n",
    "action=3\n",
    "T[state][action]=3  # number of skittles\n",
    "action=2\n",
    "T[state][action]=3  # number of skittles\n",
    "action=1\n",
    "T[state][action]=3  # number of skittles\n",
    "\n",
    "state=5\n",
    "T[state]=Table()\n",
    "\n",
    "action=3\n",
    "T[state][action]=3  # number of skittles\n",
    "action=2\n",
    "T[state][action]=3  # number of skittles\n",
    "action=1\n",
    "T[state][action]=3  # number of skittles\n",
    "\n",
    "T"
   ]
  },
  {
   "cell_type": "code",
   "execution_count": null,
   "id": "3d7a50ef-21b8-4728-8641-e69f9c65a6e7",
   "metadata": {},
   "outputs": [],
   "source": []
  },
  {
   "cell_type": "code",
   "execution_count": null,
   "id": "a098f64a-a199-458e-b6f7-f37df53af01a",
   "metadata": {},
   "outputs": [],
   "source": []
  },
  {
   "cell_type": "code",
   "execution_count": null,
   "id": "d2c72b6f-7653-47ec-a279-ed5c32b737c7",
   "metadata": {},
   "outputs": [],
   "source": []
  },
  {
   "cell_type": "code",
   "execution_count": null,
   "id": "b29f2820-6172-4f46-931e-4f5ae89a90a1",
   "metadata": {},
   "outputs": [],
   "source": []
  },
  {
   "cell_type": "code",
   "execution_count": null,
   "id": "9e58b4ca-dad8-4e01-afe6-a9623549afcb",
   "metadata": {},
   "outputs": [],
   "source": []
  },
  {
   "cell_type": "markdown",
   "id": "5a09ca86-45d2-4d38-a44f-ed05a0df01b3",
   "metadata": {},
   "source": [
    "## Running the Game"
   ]
  },
  {
   "cell_type": "code",
   "execution_count": 27,
   "id": "6cbffa40-936f-46eb-ab2c-788d28d8a642",
   "metadata": {},
   "outputs": [
    {
     "name": "stdout",
     "output_type": "stream",
     "text": [
      "====\n",
      "Game  1\n",
      "The number of sticks is  21\n",
      "Player 1 moves 2\n",
      "The number of sticks is  19\n",
      "Player 2 moves 1\n",
      "The number of sticks is  18\n",
      "Player 1 moves 2\n",
      "The number of sticks is  16\n",
      "Player 2 moves 2\n",
      "The number of sticks is  14\n",
      "Player 1 moves 2\n",
      "The number of sticks is  12\n",
      "Player 2 moves 1\n",
      "The number of sticks is  11\n",
      "Player 1 moves 1\n",
      "The number of sticks is  10\n",
      "Player 2 moves 3\n",
      "The number of sticks is  7\n",
      "Player 1 moves 3\n",
      "The number of sticks is  4\n",
      "Player 2 moves 1\n",
      "The number of sticks is  3\n",
      "Player 1 moves 1\n",
      "The number of sticks is  2\n",
      "Player 2 moves 1\n",
      "The number of sticks is  1\n",
      "Player  2 won.\n"
     ]
    },
    {
     "data": {
      "text/plain": [
       "[2]"
      ]
     },
     "execution_count": 27,
     "metadata": {},
     "output_type": "execute_result"
    }
   ],
   "source": [
    "g=Game()\n",
    "g.run(skittles_agent,random_agent)"
   ]
  },
  {
   "cell_type": "code",
   "execution_count": 28,
   "id": "7603dd34-aee9-4e19-ab3a-d56ee545f318",
   "metadata": {},
   "outputs": [
    {
     "data": {
      "text/plain": [
       "{21: {1: 3, 2: 3, 3: 3},\n",
       " 17: {1: 3, 2: 3, 3: 3},\n",
       " 13: {1: 3, 2: 3, 3: 3},\n",
       " 9: {1: 3, 2: 3, 3: 3},\n",
       " 6: {1: 3, 2: 3, 3: 3},\n",
       " 3: {1: 1, 2: 3, 3: 3},\n",
       " 8: {1: 3, 2: 3, 3: 3},\n",
       " 2: {1: 3, 2: 3},\n",
       " 14: {1: 3, 2: 3, 3: 3},\n",
       " 11: {1: 3, 2: 3, 3: 3},\n",
       " 18: {1: 3, 2: 3, 3: 3},\n",
       " 7: {1: 3, 2: 3, 3: 3}}"
      ]
     },
     "execution_count": 28,
     "metadata": {},
     "output_type": "execute_result"
    }
   ],
   "source": [
    "skittles_agent.T"
   ]
  },
  {
   "cell_type": "code",
   "execution_count": 37,
   "id": "c307226f-354d-48dd-abf8-011c0fceec3d",
   "metadata": {},
   "outputs": [],
   "source": [
    "g=Game(number_of_games=100)\n",
    "g.display=False\n",
    "result=g.run(skittles_agent,random_agent)"
   ]
  },
  {
   "cell_type": "code",
   "execution_count": 38,
   "id": "eab4e70c-c62d-4a25-b40f-7842bc606166",
   "metadata": {},
   "outputs": [
    {
     "data": {
      "text/plain": [
       "(95, 5)"
      ]
     },
     "execution_count": 38,
     "metadata": {},
     "output_type": "execute_result"
    }
   ],
   "source": [
    "result.count(1),result.count(2)"
   ]
  },
  {
   "cell_type": "code",
   "execution_count": 39,
   "id": "f707e03c-c2b8-46bd-946d-8ed11f0a5f26",
   "metadata": {},
   "outputs": [
    {
     "data": {
      "text/plain": [
       "{21: {1: 3, 2: 3, 3: 3},\n",
       " 17: {1: 0, 2: 1, 3: 2},\n",
       " 13: {1: 0, 2: 0, 3: 0},\n",
       " 9: {1: 0, 2: 0, 3: 0},\n",
       " 6: {1: 3, 2: 0, 3: 0},\n",
       " 3: {1: 0, 2: 3, 3: 0},\n",
       " 8: {1: 0, 2: 0, 3: 3},\n",
       " 2: {1: 3, 2: 0},\n",
       " 14: {1: 3, 2: 0, 3: 0},\n",
       " 11: {1: 0, 2: 3, 3: 0},\n",
       " 18: {1: 3, 2: 2, 3: 0},\n",
       " 7: {1: 0, 2: 3, 3: 0},\n",
       " 16: {1: 1, 2: 2, 3: 3},\n",
       " 12: {1: 0, 2: 0, 3: 3},\n",
       " 10: {1: 3, 2: 0, 3: 0},\n",
       " 4: {1: 0, 2: 0, 3: 3},\n",
       " 15: {1: 3, 2: 3, 3: 1},\n",
       " 5: {1: 0, 2: 0, 3: 0},\n",
       " 19: {1: 3, 2: 3, 3: 2}}"
      ]
     },
     "execution_count": 39,
     "metadata": {},
     "output_type": "execute_result"
    }
   ],
   "source": [
    "skittles_agent.T"
   ]
  },
  {
   "cell_type": "code",
   "execution_count": 40,
   "id": "fb414a7c-4bef-453c-abf1-bcbb94d53e35",
   "metadata": {},
   "outputs": [
    {
     "data": {
      "text/plain": [
       "(1, 99)"
      ]
     },
     "execution_count": 40,
     "metadata": {},
     "output_type": "execute_result"
    }
   ],
   "source": [
    "g=Game(number_of_games=100)\n",
    "g.display=False\n",
    "result=g.run(random_agent,skittles_agent)\n",
    "result.count(1),result.count(2)"
   ]
  },
  {
   "cell_type": "code",
   "execution_count": 43,
   "id": "ff0322f5-e3a0-480e-a23a-28b24f57199d",
   "metadata": {},
   "outputs": [
    {
     "data": {
      "text/plain": [
       "(5062, 4938)"
      ]
     },
     "execution_count": 43,
     "metadata": {},
     "output_type": "execute_result"
    }
   ],
   "source": [
    "skittles_agent=Agent(skittles_move)\n",
    "skittles_agent.T=Table()\n",
    "skittles_agent.post=skittles_after\n",
    "\n",
    "g=Game(number_of_games=10000)\n",
    "g.display=False\n",
    "result=g.run(skittles_agent,skittles_agent)\n",
    "result.count(1),result.count(2)"
   ]
  },
  {
   "cell_type": "code",
   "execution_count": 44,
   "id": "71f72892-936e-465d-8d78-48b0442ec17e",
   "metadata": {},
   "outputs": [
    {
     "data": {
      "text/plain": [
       "{21: {1: 0, 2: 0, 3: 0},\n",
       " 20: {1: 0, 2: 0, 3: 0},\n",
       " 19: {1: 0, 2: 0, 3: 0},\n",
       " 16: {1: 0, 2: 0, 3: 0},\n",
       " 13: {1: 0, 2: 0, 3: 0},\n",
       " 12: {1: 0, 2: 0, 3: 0},\n",
       " 9: {1: 0, 2: 0, 3: 0},\n",
       " 8: {1: 0, 2: 0, 3: 0},\n",
       " 5: {1: 0, 2: 0, 3: 0},\n",
       " 2: {1: 0, 2: 0},\n",
       " 17: {1: 0, 2: 0, 3: 0},\n",
       " 14: {1: 0, 2: 0, 3: 0},\n",
       " 11: {1: 0, 2: 0, 3: 0},\n",
       " 10: {1: 0, 2: 0, 3: 0},\n",
       " 7: {1: 0, 2: 0, 3: 0},\n",
       " 6: {1: 0, 2: 0, 3: 0},\n",
       " 4: {1: 0, 2: 0, 3: 0},\n",
       " 18: {1: 0, 2: 0, 3: 0},\n",
       " 15: {1: 0, 2: 0, 3: 0},\n",
       " 3: {1: 0, 2: 0, 3: 0}}"
      ]
     },
     "execution_count": 44,
     "metadata": {},
     "output_type": "execute_result"
    }
   ],
   "source": [
    "skittles_agent.T"
   ]
  },
  {
   "cell_type": "code",
   "execution_count": null,
   "id": "221fe647-2c01-4d1b-9af9-19fad44550d2",
   "metadata": {},
   "outputs": [],
   "source": []
  }
 ],
 "metadata": {
  "kernelspec": {
   "display_name": "Python 3 (ipykernel)",
   "language": "python",
   "name": "python3"
  },
  "language_info": {
   "codemirror_mode": {
    "name": "ipython",
    "version": 3
   },
   "file_extension": ".py",
   "mimetype": "text/x-python",
   "name": "python",
   "nbconvert_exporter": "python",
   "pygments_lexer": "ipython3",
   "version": "3.9.12"
  }
 },
 "nbformat": 4,
 "nbformat_minor": 5
}
