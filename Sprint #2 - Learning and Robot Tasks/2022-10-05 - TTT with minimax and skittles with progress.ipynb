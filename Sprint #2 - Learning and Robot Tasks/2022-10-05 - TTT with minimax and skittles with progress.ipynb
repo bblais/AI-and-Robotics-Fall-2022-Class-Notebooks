{
 "cells": [
  {
   "cell_type": "code",
   "execution_count": 1,
   "id": "c5f42dec-9a08-4e12-ad9b-77c1c39ff842",
   "metadata": {},
   "outputs": [
    {
     "name": "stdout",
     "output_type": "stream",
     "text": [
      "Version:  0.2.36\n"
     ]
    }
   ],
   "source": [
    "from Game import *"
   ]
  },
  {
   "cell_type": "code",
   "execution_count": 2,
   "id": "caa361ee-78cc-4e9c-904b-53963304fe10",
   "metadata": {},
   "outputs": [],
   "source": [
    "def initial_state():\n",
    "    state=Board(3,3)\n",
    "    \n",
    "    # state[0]=1 in cases where we need to have starting pieces\n",
    "    return state"
   ]
  },
  {
   "cell_type": "code",
   "execution_count": 3,
   "id": "0b88abb4-cb1d-4b5d-89a1-5d25831ba53d",
   "metadata": {},
   "outputs": [],
   "source": [
    "def valid_moves(state,player):\n",
    "    \n",
    "    moves=[]\n",
    "    for location in range(9):\n",
    "        if state[location]==0:\n",
    "            moves.append(location)\n",
    "    \n",
    "    \n",
    "    return moves"
   ]
  },
  {
   "cell_type": "code",
   "execution_count": 4,
   "id": "29afef16-76c3-4230-9960-82508ff679cf",
   "metadata": {},
   "outputs": [],
   "source": [
    "def update_state(state,player,move):\n",
    "    \n",
    "    new_state=state\n",
    "    \n",
    "    new_state[move]=player\n",
    "    \n",
    "    return new_state"
   ]
  },
  {
   "cell_type": "code",
   "execution_count": 5,
   "id": "06f0c72d-c08f-4773-9104-3d3a288311e7",
   "metadata": {},
   "outputs": [],
   "source": [
    "def three_in_a_row(a,b,c,player):\n",
    "    \n",
    "    if a==player and b==player and c==player:\n",
    "        return True\n",
    "    else:\n",
    "        return False\n",
    "    \n",
    "    \n",
    "    \n",
    "def win_status(state,player):\n",
    "    \n",
    "    # 0 1 2\n",
    "    # 3 4 5\n",
    "    # 6 7 8\n",
    "    \n",
    "    if player==1:\n",
    "        other_player=2\n",
    "    else:\n",
    "        other_player=1\n",
    "    \n",
    "    if three_in_a_row(state[0],state[1],state[2],player):\n",
    "        return 'win'\n",
    "    if three_in_a_row(state[3],state[4],state[5],player):\n",
    "        return 'win'\n",
    "    if three_in_a_row(state[6],state[7],state[8],player):\n",
    "        return 'win'\n",
    "    if three_in_a_row(state[0],state[3],state[6],player):\n",
    "        return 'win'\n",
    "    if three_in_a_row(state[1],state[4],state[7],player):\n",
    "        return 'win'\n",
    "    if three_in_a_row(state[2],state[5],state[8],player):\n",
    "        return 'win'\n",
    "    if three_in_a_row(state[0],state[4],state[8],player):\n",
    "        return 'win'\n",
    "    if three_in_a_row(state[2],state[4],state[6],player):\n",
    "        return 'win'\n",
    "    \n",
    "    if not valid_moves(state,other_player):\n",
    "        return 'stalemate'\n",
    "    \n",
    "    \n",
    "def show_state(state):\n",
    "    print(state)\n",
    "    \n"
   ]
  },
  {
   "cell_type": "code",
   "execution_count": 6,
   "id": "f4aad795-4a20-48b3-a173-09a3ae9af9e0",
   "metadata": {},
   "outputs": [],
   "source": [
    "def random_move(state,player):    \n",
    "    moves=valid_moves(state,player)\n",
    "    return random.choice(moves)\n",
    " \n",
    "random_agent=Agent(random_move)    "
   ]
  },
  {
   "cell_type": "code",
   "execution_count": 7,
   "id": "ff32ab92-355e-4b1d-ae55-0a6849579a93",
   "metadata": {},
   "outputs": [],
   "source": [
    "def human_move(state,player):    \n",
    "    print(\"\"\"\n",
    "    0 1 2\n",
    "    3 4 5\n",
    "    6 7 8\n",
    "    \"\"\")\n",
    "    move=int(input(\"What location do you want to move?\"))\n",
    "    return move\n",
    " \n",
    "human_agent=Agent(human_move)    "
   ]
  },
  {
   "cell_type": "code",
   "execution_count": 8,
   "id": "e770ec11-48b4-4cca-83bc-eaef762edbd2",
   "metadata": {},
   "outputs": [],
   "source": [
    "from Game.minimax import *\n",
    "def minimax_move(state,player):\n",
    "    values,moves=minimax_values(state,player,maxdepth=20,display=False)\n",
    "    return top_choice(moves,values)\n",
    "    \n",
    "def heuristic(state,player):\n",
    "    # returns between -1 and 1 (not inclusive)\n",
    "    # approximate value of a state\n",
    "    # positive = good for the player\n",
    "    # negative = bad for player\n",
    "    \n",
    "    return 0\n",
    "\n",
    "# material advantage\n",
    "def heuristic(state,player):\n",
    "    # returns between -1 and 1 (not inclusive)\n",
    "    # approximate value of a state\n",
    "    # positive = good for the player\n",
    "    # negative = bad for player\n",
    "    \n",
    "    # count up my pieces, count up their pieces\n",
    "    N_player=count_pieces(state,player)\n",
    "    N_other=count_pieces(state,other_player)\n",
    "    \n",
    "    return (N_player-N_other)/(N_player+N_other)\n",
    "    \n",
    "    \n",
    "    \n",
    "    return 0\n",
    "\n",
    "\n",
    "\n",
    "\n",
    "minimax_agent=Agent(minimax_move)"
   ]
  },
  {
   "cell_type": "code",
   "execution_count": 9,
   "id": "89ffd8b7-6ba5-497f-94a9-e63cb0cb5eee",
   "metadata": {},
   "outputs": [],
   "source": [
    "def skittles_move(state,player,info):\n",
    "    T=info.T\n",
    "    last_state=info.last_state\n",
    "    last_action=info.last_action\n",
    "    \n",
    "    \n",
    "    if state not in T:\n",
    "        actions=valid_moves(state,player)\n",
    "        T[state]=Table()\n",
    "        for action in actions:\n",
    "            T[state][action]=3  # number of skittles\n",
    "        \n",
    "    \n",
    "    move=weighted_choice(T[state])\n",
    "    \n",
    "    if move is None:  # can't win from this state\n",
    "        if not last_state is None:\n",
    "            T[last_state][last_action]-=1   # take away a skittle\n",
    "            if T[last_state][last_action]<0:\n",
    "                T[last_state][last_action]=0\n",
    "    \n",
    "        move=random_move(state,player)\n",
    "    \n",
    "    return move\n",
    "\n",
    "def skittles_after(status,player,info):  # this is called after the game is over\n",
    "    T=info.T\n",
    "    last_state=info.last_state\n",
    "    last_action=info.last_action\n",
    "\n",
    "    if status=='lose':\n",
    "        T[last_state][last_action]-=1   # take away a skittle\n",
    "        if T[last_state][last_action]<0:\n",
    "            T[last_state][last_action]=0\n",
    "    \n",
    "    "
   ]
  },
  {
   "cell_type": "code",
   "execution_count": 10,
   "id": "ca9433c9-2a1f-40a6-bc95-55e5f37756ff",
   "metadata": {},
   "outputs": [],
   "source": [
    "skittles_agent1=Agent(skittles_move)\n",
    "skittles_agent1.T=Table()\n",
    "skittles_agent1.post=skittles_after\n",
    "\n",
    "skittles_agent2=Agent(skittles_move)\n",
    "skittles_agent2.T=Table()\n",
    "skittles_agent2.post=skittles_after"
   ]
  },
  {
   "cell_type": "code",
   "execution_count": 11,
   "id": "ff4531bf-8a83-486e-954a-45f184853a12",
   "metadata": {},
   "outputs": [
    {
     "name": "stdout",
     "output_type": "stream",
     "text": [
      "====\n",
      "Game  1\n",
      " 0  0  0 \n",
      " 0  0  0 \n",
      " 0  0  0 \n",
      "\n",
      "Player 1 moves 1\n",
      " 0  1  0 \n",
      " 0  0  0 \n",
      " 0  0  0 \n",
      "\n",
      "Player 2 moves 6\n",
      " 0  1  0 \n",
      " 0  0  0 \n",
      " 2  0  0 \n",
      "\n",
      "Player 1 moves 5\n",
      " 0  1  0 \n",
      " 0  0  1 \n",
      " 2  0  0 \n",
      "\n",
      "Player 2 moves 8\n",
      " 0  1  0 \n",
      " 0  0  1 \n",
      " 2  0  2 \n",
      "\n",
      "Player 1 moves 3\n",
      " 0  1  0 \n",
      " 1  0  1 \n",
      " 2  0  2 \n",
      "\n",
      "Player 2 moves 7\n",
      " 0  1  0 \n",
      " 1  0  1 \n",
      " 2  2  2 \n",
      "\n",
      "Player  2 won.\n"
     ]
    },
    {
     "data": {
      "text/plain": [
       "[2]"
      ]
     },
     "execution_count": 11,
     "metadata": {},
     "output_type": "execute_result"
    }
   ],
   "source": [
    "g=Game()\n",
    "g.run(skittles_agent1,random_agent)"
   ]
  },
  {
   "cell_type": "markdown",
   "id": "4a5c29fa-26a7-4d3e-8a7c-07ca4801a794",
   "metadata": {},
   "source": [
    "## Progress"
   ]
  },
  {
   "cell_type": "code",
   "execution_count": 12,
   "id": "b2ab1f74-f3bd-41a8-9edd-7a769ce43682",
   "metadata": {},
   "outputs": [],
   "source": [
    "skittles_agent1.T=Table()"
   ]
  },
  {
   "cell_type": "code",
   "execution_count": 13,
   "id": "dd97c31f-ca56-42a7-9b1e-7128ade0db36",
   "metadata": {},
   "outputs": [],
   "source": [
    "%matplotlib inline\n",
    "from matplotlib.pyplot import figure,plot,grid,legend,xlabel,ylabel,title\n",
    "from tqdm.notebook import tqdm"
   ]
  },
  {
   "cell_type": "code",
   "execution_count": 14,
   "id": "c7fc35b5-f545-4bdd-a9b6-50319fd72d93",
   "metadata": {},
   "outputs": [],
   "source": [
    "S=Storage()\n",
    "one,two,ties,N=0,0,0,0"
   ]
  },
  {
   "cell_type": "code",
   "execution_count": 15,
   "id": "10c12a24-67d2-4025-9a8b-46dfe16c6a0b",
   "metadata": {},
   "outputs": [
    {
     "data": {
      "application/vnd.jupyter.widget-view+json": {
       "model_id": "daca1cf1377545a2881d3125d9f1d4fc",
       "version_major": 2,
       "version_minor": 0
      },
      "text/plain": [
       "  0%|          | 0/500 [00:00<?, ?it/s]"
      ]
     },
     "metadata": {},
     "output_type": "display_data"
    }
   ],
   "source": [
    "for i in tqdm(range(500)):\n",
    "    g=Game(number_of_games=100)\n",
    "    g.display=False\n",
    "    \n",
    "    result=g.run(skittles_agent1,random_agent)\n",
    "    one,two,ties,N=one+result.count(1),two+result.count(2),ties+result.count(0),N+len(result)\n",
    "    \n",
    "    S+=one/N*100,two/N*100,ties/N*100,N"
   ]
  },
  {
   "cell_type": "code",
   "execution_count": 18,
   "id": "f9aa0fd8-a5fa-4621-bcc4-9f67cff9229a",
   "metadata": {},
   "outputs": [],
   "source": [
    "y1,y2,y0,x=S.arrays()"
   ]
  },
  {
   "cell_type": "code",
   "execution_count": 19,
   "id": "a5be0e4b-5a64-437a-b2cc-658187c73f94",
   "metadata": {},
   "outputs": [],
   "source": [
    "from bigfonts import *"
   ]
  },
  {
   "cell_type": "code",
   "execution_count": 20,
   "id": "b01dd42c-fb64-4f9c-b1b0-75aed95c4901",
   "metadata": {},
   "outputs": [
    {
     "data": {
      "text/plain": [
       "Text(0, 0.5, 'Percent')"
      ]
     },
     "execution_count": 20,
     "metadata": {},
     "output_type": "execute_result"
    },
    {
     "data": {
      "image/png": "[encoded data removed]",
      "text/plain": [
       "<Figure size 1152x576 with 1 Axes>"
      ]
     },
     "metadata": {
      "needs_background": "light"
     },
     "output_type": "display_data"
    }
   ],
   "source": [
    "figure(figsize=(16,8))\n",
    "plot(x,y1,label='One Win')\n",
    "plot(x,y2,label='Two Win')\n",
    "plot(x,y0,label='Tie')\n",
    "legend()\n",
    "xlabel('Number of Games')\n",
    "ylabel('Percent')"
   ]
  },
  {
   "cell_type": "code",
   "execution_count": null,
   "id": "54b82e78-c938-4138-b0e3-a0b2f82457d8",
   "metadata": {},
   "outputs": [],
   "source": []
  }
 ],
 "metadata": {
  "kernelspec": {
   "display_name": "Python 3 (ipykernel)",
   "language": "python",
   "name": "python3"
  },
  "language_info": {
   "codemirror_mode": {
    "name": "ipython",
    "version": 3
   },
   "file_extension": ".py",
   "mimetype": "text/x-python",
   "name": "python",
   "nbconvert_exporter": "python",
   "pygments_lexer": "ipython3",
   "version": "3.9.12"
  }
 },
 "nbformat": 4,
 "nbformat_minor": 5
}
