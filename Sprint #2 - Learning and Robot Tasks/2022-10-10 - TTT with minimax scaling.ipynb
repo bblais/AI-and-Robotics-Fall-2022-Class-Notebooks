{
 "cells": [
  {
   "cell_type": "code",
   "execution_count": 1,
   "id": "c5f42dec-9a08-4e12-ad9b-77c1c39ff842",
   "metadata": {},
   "outputs": [
    {
     "name": "stdout",
     "output_type": "stream",
     "text": [
      "Version:  0.2.38\n"
     ]
    }
   ],
   "source": [
    "from Game import *"
   ]
  },
  {
   "cell_type": "code",
   "execution_count": 2,
   "id": "caa361ee-78cc-4e9c-904b-53963304fe10",
   "metadata": {},
   "outputs": [],
   "source": [
    "def initial_state():\n",
    "    state=Board(3,3)\n",
    "    \n",
    "    # state[0]=1 in cases where we need to have starting pieces\n",
    "    return state"
   ]
  },
  {
   "cell_type": "code",
   "execution_count": 3,
   "id": "0b88abb4-cb1d-4b5d-89a1-5d25831ba53d",
   "metadata": {},
   "outputs": [],
   "source": [
    "def valid_moves(state,player):\n",
    "    \n",
    "    # nope -- return [0,1,2,3,4,5,6,7,8]\n",
    "    \n",
    "    EMPTY=0\n",
    "    X=1\n",
    "    O=2\n",
    "    \n",
    "    moves=[]\n",
    "    \n",
    "    if state[0]==0:\n",
    "        moves.append(0)\n",
    "    if state[1]==0:\n",
    "        moves.append(1)        \n",
    "    if state[2]==0:\n",
    "        moves.append(2)\n",
    "        \n",
    "    #....\n",
    "    \n",
    "    moves=[]\n",
    "    for location in range(9):\n",
    "        if state[location]==EMPTY:\n",
    "            moves.append(location)\n",
    "    \n",
    "    \n",
    "    return moves"
   ]
  },
  {
   "cell_type": "code",
   "execution_count": 4,
   "id": "29afef16-76c3-4230-9960-82508ff679cf",
   "metadata": {},
   "outputs": [],
   "source": [
    "def update_state(state,player,move):\n",
    "    \n",
    "    new_state=state\n",
    "    \n",
    "    new_state[move]=player\n",
    "    \n",
    "    return new_state"
   ]
  },
  {
   "cell_type": "code",
   "execution_count": 5,
   "id": "06f0c72d-c08f-4773-9104-3d3a288311e7",
   "metadata": {},
   "outputs": [],
   "source": [
    "def three_in_a_row(a,b,c,player):\n",
    "    \n",
    "    if a==player and b==player and c==player:\n",
    "        return True\n",
    "    else:\n",
    "        return False\n",
    "    \n",
    "    \n",
    "    \n",
    "def win_status(state,player):\n",
    "    \n",
    "    # 0 1 2\n",
    "    # 3 4 5\n",
    "    # 6 7 8\n",
    "    \n",
    "    if player==1:\n",
    "        other_player=2\n",
    "    else:\n",
    "        other_player=1\n",
    "    \n",
    "    if three_in_a_row(state[0],state[1],state[2],player):\n",
    "        return 'win'\n",
    "    if three_in_a_row(state[3],state[4],state[5],player):\n",
    "        return 'win'\n",
    "    if three_in_a_row(state[6],state[7],state[8],player):\n",
    "        return 'win'\n",
    "    if three_in_a_row(state[0],state[3],state[6],player):\n",
    "        return 'win'\n",
    "    if three_in_a_row(state[1],state[4],state[7],player):\n",
    "        return 'win'\n",
    "    if three_in_a_row(state[2],state[5],state[8],player):\n",
    "        return 'win'\n",
    "    if three_in_a_row(state[0],state[4],state[8],player):\n",
    "        return 'win'\n",
    "    if three_in_a_row(state[2],state[4],state[6],player):\n",
    "        return 'win'\n",
    "    \n",
    "    if not valid_moves(state,other_player):\n",
    "        return 'stalemate'\n",
    "    \n",
    "    \n",
    "def show_state(state):\n",
    "    print(state)\n",
    "    \n",
    "    \n",
    "    \n",
    "def show_state(state):\n",
    "    \n",
    "    for i in range(9):\n",
    "        if state[i]==1:\n",
    "            print(\" X \",end=\"\")\n",
    "        elif state[i]==2: \n",
    "            print(\" O \",end=\"\")\n",
    "        else:\n",
    "            print(\" . \",end=\"\")\n",
    "            \n",
    "        if i==2 or i==5:\n",
    "            print()"
   ]
  },
  {
   "cell_type": "code",
   "execution_count": 6,
   "id": "f4aad795-4a20-48b3-a173-09a3ae9af9e0",
   "metadata": {},
   "outputs": [],
   "source": [
    "def random_move(state,player):    \n",
    "    moves=valid_moves(state,player)\n",
    "    return random.choice(moves)\n",
    " \n",
    "random_agent=Agent(random_move)    "
   ]
  },
  {
   "cell_type": "code",
   "execution_count": 7,
   "id": "ff32ab92-355e-4b1d-ae55-0a6849579a93",
   "metadata": {},
   "outputs": [],
   "source": [
    "def human_move(state,player):    \n",
    "    print(\"\"\"\n",
    "    0 1 2\n",
    "    3 4 5\n",
    "    6 7 8\n",
    "    \"\"\")\n",
    "    move=int(input(\"What location do you want to move?\"))\n",
    "    return move\n",
    " \n",
    "human_agent=Agent(human_move)    "
   ]
  },
  {
   "cell_type": "code",
   "execution_count": 8,
   "id": "e770ec11-48b4-4cca-83bc-eaef762edbd2",
   "metadata": {},
   "outputs": [],
   "source": [
    "from Game.minimax import *\n",
    "def minimax_move(state,player):\n",
    "    values,moves=minimax_values(state,player,maxdepth=20,display=True,cache=False)\n",
    "    return top_choice(moves,values)\n",
    "    \n",
    "def heuristic(state,player):\n",
    "    # returns between -1 and 1 (not inclusive)\n",
    "    # approximate value of a state\n",
    "    # positive = good for the player\n",
    "    # negative = bad for player\n",
    "    \n",
    "    return 0\n",
    "\n",
    "# material advantage\n",
    "def heuristic(state,player):\n",
    "    # returns between -1 and 1 (not inclusive)\n",
    "    # approximate value of a state\n",
    "    # positive = good for the player\n",
    "    # negative = bad for player\n",
    "    \n",
    "    # count up my pieces, count up their pieces\n",
    "    N_player=count_pieces(state,player)\n",
    "    N_other=count_pieces(state,other_player)\n",
    "    \n",
    "    return (N_player-N_other)/(N_player+N_other)\n",
    "    \n",
    "    \n",
    "    \n",
    "    return 0\n",
    "\n",
    "\n",
    "\n",
    "\n",
    "minimax_agent=Agent(minimax_move)"
   ]
  },
  {
   "cell_type": "code",
   "execution_count": 9,
   "id": "ff4531bf-8a83-486e-954a-45f184853a12",
   "metadata": {},
   "outputs": [
    {
     "name": "stdout",
     "output_type": "stream",
     "text": [
      "====\n",
      "Game  1\n",
      " .  .  . \n",
      " .  .  . \n",
      " .  .  .   Choice Time: 0.7022278308868408 seconds \n",
      "Player 1 moves 7\n",
      " .  .  . \n",
      " .  .  . \n",
      " .  X  . Player 2 moves 2\n",
      " .  .  O \n",
      " .  .  . \n",
      " .  X  .   Choice Time: 0.0697779655456543 seconds \n",
      "Player 1 moves 8\n",
      " .  .  O \n",
      " .  .  . \n",
      " .  X  X Player 2 moves 4\n",
      " .  .  O \n",
      " .  O  . \n",
      " .  X  X   Choice Time: 0.005179882049560547 seconds \n",
      "Player 1 moves 6\n",
      " .  .  O \n",
      " .  O  . \n",
      " X  X  X Player  1 won.\n"
     ]
    },
    {
     "data": {
      "text/plain": [
       "[1]"
      ]
     },
     "execution_count": 9,
     "metadata": {},
     "output_type": "execute_result"
    }
   ],
   "source": [
    "g=Game()\n",
    "g.run(minimax_agent,random_agent)"
   ]
  },
  {
   "cell_type": "markdown",
   "id": "4fcadb36-c4cf-46a7-bfe8-acd3ba7bd00d",
   "metadata": {},
   "source": [
    "The first time it sees the initial state it takes 0.7 seconds to solve.  the second time it sees it,"
   ]
  },
  {
   "cell_type": "code",
   "execution_count": 10,
   "id": "71d67ef0-6b6b-4445-bddd-5f1ba49cd1c3",
   "metadata": {},
   "outputs": [
    {
     "name": "stdout",
     "output_type": "stream",
     "text": [
      "====\n",
      "Game  1\n",
      " .  .  . \n",
      " .  .  . \n",
      " .  .  .   Choice Time: 0.0005521774291992188 seconds \n",
      "Player 1 moves 4\n",
      " .  .  . \n",
      " .  X  . \n",
      " .  .  . Player 2 moves 0\n",
      " O  .  . \n",
      " .  X  . \n",
      " .  .  .   Choice Time: 0.08649706840515137 seconds \n",
      "Player 1 moves 7\n",
      " O  .  . \n",
      " .  X  . \n",
      " .  X  . Player 2 moves 2\n",
      " O  .  O \n",
      " .  X  . \n",
      " .  X  .   Choice Time: 0.0031671524047851562 seconds \n",
      "Player 1 moves 1\n",
      " O  X  O \n",
      " .  X  . \n",
      " .  X  . Player  1 won.\n"
     ]
    },
    {
     "data": {
      "text/plain": [
       "[1]"
      ]
     },
     "execution_count": 10,
     "metadata": {},
     "output_type": "execute_result"
    }
   ],
   "source": [
    "g=Game()\n",
    "g.run(minimax_agent,random_agent)"
   ]
  },
  {
   "cell_type": "markdown",
   "id": "738b481c-c48f-4152-a8ff-c9e8bff825c8",
   "metadata": {},
   "source": [
    "it only takes 0.00055 seconds.  that's because of caching.  to really test minimax speed, we need to turn caching off in the minimax move (first introduced in version 0.2.37).  You need to restart the kernel and replace the minimax move with this version:"
   ]
  },
  {
   "cell_type": "code",
   "execution_count": 9,
   "id": "f1029bf9-a120-4a2a-8c51-72cf8238e8eb",
   "metadata": {},
   "outputs": [],
   "source": [
    "def minimax_move(state,player):\n",
    "    values,moves=minimax_values(state,player,maxdepth=20,display=True,cache=False)\n",
    "    return top_choice(moves,values)\n"
   ]
  },
  {
   "cell_type": "code",
   "execution_count": 11,
   "id": "1caa9345-e161-4247-9c7a-97861408c140",
   "metadata": {},
   "outputs": [
    {
     "name": "stdout",
     "output_type": "stream",
     "text": [
      "====\n",
      "Game  1\n",
      " .  .  . \n",
      " .  .  . \n",
      " .  .  .   Choice Time: 1.995600938796997 seconds \n",
      "Player 1 moves 6\n",
      " .  .  . \n",
      " .  .  . \n",
      " X  .  . Player 2 moves 2\n",
      " .  .  O \n",
      " .  .  . \n",
      " X  .  .   Choice Time: 0.11496806144714355 seconds \n",
      "Player 1 moves 0\n",
      " X  .  O \n",
      " .  .  . \n",
      " X  .  . Player 2 moves 7\n",
      " X  .  O \n",
      " .  .  . \n",
      " X  O  .   Choice Time: 0.0070111751556396484 seconds \n",
      "Player 1 moves 3\n",
      " X  .  O \n",
      " X  .  . \n",
      " X  O  . Player  1 won.\n"
     ]
    },
    {
     "data": {
      "text/plain": [
       "[1]"
      ]
     },
     "execution_count": 11,
     "metadata": {},
     "output_type": "execute_result"
    }
   ],
   "source": [
    "g=Game()\n",
    "g.run(minimax_agent,random_agent)"
   ]
  },
  {
   "cell_type": "code",
   "execution_count": 12,
   "id": "e4f5fa00-d550-4dd8-993b-d668729a7d7a",
   "metadata": {},
   "outputs": [
    {
     "name": "stdout",
     "output_type": "stream",
     "text": [
      "====\n",
      "Game  1\n",
      " .  .  . \n",
      " .  .  . \n",
      " .  .  .   Choice Time: 2.0271759033203125 seconds \n",
      "Player 1 moves 3\n",
      " .  .  . \n",
      " X  .  . \n",
      " .  .  . Player 2 moves 8\n",
      " .  .  . \n",
      " X  .  . \n",
      " .  .  O   Choice Time: 0.11545586585998535 seconds \n",
      "Player 1 moves 6\n",
      " .  .  . \n",
      " X  .  . \n",
      " X  .  O Player 2 moves 4\n",
      " .  .  . \n",
      " X  O  . \n",
      " X  .  O   Choice Time: 0.0028638839721679688 seconds \n",
      "Player 1 moves 0\n",
      " X  .  . \n",
      " X  O  . \n",
      " X  .  O Player  1 won.\n"
     ]
    },
    {
     "data": {
      "text/plain": [
       "[1]"
      ]
     },
     "execution_count": 12,
     "metadata": {},
     "output_type": "execute_result"
    }
   ],
   "source": [
    "g=Game()\n",
    "g.run(minimax_agent,random_agent)"
   ]
  },
  {
   "cell_type": "markdown",
   "id": "b105614f-7084-49ac-91ed-7ebdce384e0a",
   "metadata": {},
   "source": [
    "a bit more direct to test, make the state mid-game.  for TTT the depth is 6 and the breadth is around 9 to start, and gets smaller.  Seems like it takes 2 seconds for the first move.  let's test this by making an initial state."
   ]
  },
  {
   "cell_type": "code",
   "execution_count": 14,
   "id": "f57360a9-e465-42e5-8502-614880085e82",
   "metadata": {},
   "outputs": [
    {
     "name": "stdout",
     "output_type": "stream",
     "text": [
      " 0  0  0 \n",
      " 0  0  0 \n",
      " 0  0  0 \n",
      "\n",
      "  Choice Time: 2.09578013420105 seconds \n"
     ]
    }
   ],
   "source": [
    "state=initial_state()\n",
    "print(state)\n",
    "player=1\n",
    "values=minimax_values(state,player,display=True,cache=False)"
   ]
  },
  {
   "cell_type": "markdown",
   "id": "8a8ce794-9906-4cfe-9e01-baf25bbd3d49",
   "metadata": {},
   "source": [
    "2nd move takes how long?  (depth of 8, breadth starts at 8)"
   ]
  },
  {
   "cell_type": "code",
   "execution_count": 17,
   "id": "978ea04b-dcbd-44cc-815c-4e38191b2c7b",
   "metadata": {},
   "outputs": [
    {
     "name": "stdout",
     "output_type": "stream",
     "text": [
      " 1  0  0 \n",
      " 0  0  0 \n",
      " 0  0  0 \n",
      "\n",
      "  Choice Time: 0.3265209197998047 seconds \n"
     ]
    }
   ],
   "source": [
    "state=initial_state()\n",
    "state[0]=1\n",
    "print(state)\n",
    "player=2\n",
    "values=minimax_values(state,player,display=True,cache=False)"
   ]
  },
  {
   "cell_type": "markdown",
   "id": "fab0fe79-4d33-48b3-a9dc-42971c6f5b0f",
   "metadata": {},
   "source": [
    "3rd move how long?"
   ]
  },
  {
   "cell_type": "code",
   "execution_count": 16,
   "id": "f304da49-6fe2-44c5-b827-320e918fc666",
   "metadata": {},
   "outputs": [
    {
     "name": "stdout",
     "output_type": "stream",
     "text": [
      " 1  0  2 \n",
      " 0  0  0 \n",
      " 0  0  0 \n",
      "\n",
      "  Choice Time: 0.16885089874267578 seconds \n"
     ]
    }
   ],
   "source": [
    "state=initial_state()\n",
    "state[0]=1\n",
    "state[2]=2\n",
    "print(state)\n",
    "player=1\n",
    "values=minimax_values(state,player,display=True,cache=False)"
   ]
  },
  {
   "cell_type": "markdown",
   "id": "cb764a48-2b9a-4211-a5db-a851372112df",
   "metadata": {},
   "source": [
    "and on...."
   ]
  },
  {
   "cell_type": "code",
   "execution_count": 22,
   "id": "74acc415-17e6-473f-abf4-56c2806fab99",
   "metadata": {},
   "outputs": [
    {
     "name": "stdout",
     "output_type": "stream",
     "text": [
      " 0  0  0 \n",
      " 0  0  0 \n",
      " 0  0  0 \n",
      "\n",
      "  Choice Time: 2.070221185684204 seconds \n",
      " 1  0  0 \n",
      " 0  0  0 \n",
      " 0  0  0 \n",
      "\n",
      "  Choice Time: 0.2913541793823242 seconds \n",
      " 1  2  0 \n",
      " 0  0  0 \n",
      " 0  0  0 \n",
      "\n",
      "  Choice Time: 0.14878296852111816 seconds \n",
      " 1  2  1 \n",
      " 0  0  0 \n",
      " 0  0  0 \n",
      "\n",
      "  Choice Time: 0.04307413101196289 seconds \n",
      " 1  2  1 \n",
      " 2  0  0 \n",
      " 0  0  0 \n",
      "\n",
      "  Choice Time: 0.00895380973815918 seconds \n",
      " 1  2  1 \n",
      " 2  1  0 \n",
      " 0  0  0 \n",
      "\n",
      "  Choice Time: 0.0018799304962158203 seconds \n",
      " 1  2  1 \n",
      " 2  1  2 \n",
      " 0  0  0 \n",
      "\n",
      "  Choice Time: 0.00036787986755371094 seconds \n",
      " 1  2  1 \n",
      " 2  1  2 \n",
      " 1  0  0 \n",
      "\n",
      "  Choice Time: 0.00023603439331054688 seconds \n",
      " 1  2  1 \n",
      " 2  1  2 \n",
      " 1  2  0 \n",
      "\n",
      "  Choice Time: 7.605552673339844e-05 seconds \n",
      "  Choice Time: 1.1205673217773438e-05 seconds \n"
     ]
    }
   ],
   "source": [
    "player=1\n",
    "other_player=2\n",
    "state=initial_state()\n",
    "for i in range(9):\n",
    "    print(state)\n",
    "    values=minimax_values(state,player,display=True,cache=False)\n",
    "    state[i]=player\n",
    "    player,other_player=other_player,player\n",
    "    "
   ]
  },
  {
   "cell_type": "code",
   "execution_count": 26,
   "id": "712cc338-0cb0-4680-aa5b-57d8f657cc66",
   "metadata": {},
   "outputs": [],
   "source": [
    "x=range(9)\n",
    "y=[2.07,0.2913,0.1487,0.04204893112182617,0.008081197738647461,\n",
    "  0.0018281936645507812,0.0003509521484375,0.00021195411682128906,7.605e-05]"
   ]
  },
  {
   "cell_type": "code",
   "execution_count": 27,
   "id": "5dbae6f4-ee2e-4d29-bbe8-223628170323",
   "metadata": {},
   "outputs": [],
   "source": [
    "%matplotlib inline\n",
    "from pylab import *"
   ]
  },
  {
   "cell_type": "code",
   "execution_count": 28,
   "id": "e6f5d0c7-59ee-4d9c-82e6-4ff7bf4c76d2",
   "metadata": {},
   "outputs": [
    {
     "data": {
      "text/plain": [
       "[<matplotlib.lines.Line2D at 0x7fe63038d280>]"
      ]
     },
     "execution_count": 28,
     "metadata": {},
     "output_type": "execute_result"
    },
    {
     "data": {
      "image/png": "[encoded data removed]",
      "text/plain": [
       "<Figure size 432x288 with 1 Axes>"
      ]
     },
     "metadata": {
      "needs_background": "light"
     },
     "output_type": "display_data"
    }
   ],
   "source": [
    "plot(x,y,'-o')"
   ]
  },
  {
   "cell_type": "code",
   "execution_count": 1,
   "id": "1e5637b0-a6e5-4b9e-8e20-a52e273a3f00",
   "metadata": {},
   "outputs": [
    {
     "data": {
      "text/plain": [
       "3170979.198376459"
      ]
     },
     "execution_count": 1,
     "metadata": {},
     "output_type": "execute_result"
    }
   ],
   "source": [
    "10**14/60/60/24/365"
   ]
  },
  {
   "cell_type": "code",
   "execution_count": 30,
   "id": "f323426c-7c3c-4996-aec8-2ce1682f70b8",
   "metadata": {},
   "outputs": [
    {
     "data": {
      "text/plain": [
       "[<matplotlib.lines.Line2D at 0x7fe688d2e220>]"
      ]
     },
     "execution_count": 30,
     "metadata": {},
     "output_type": "execute_result"
    },
    {
     "data": {
      "image/png": "[encoded data removed]",
      "text/plain": [
       "<Figure size 432x288 with 1 Axes>"
      ]
     },
     "metadata": {
      "needs_background": "light"
     },
     "output_type": "display_data"
    }
   ],
   "source": [
    "semilogy(x,y,'-o')\n"
   ]
  },
  {
   "cell_type": "markdown",
   "id": "a2727890-8ed8-4b49-93ba-f8d85be4a729",
   "metadata": {},
   "source": [
    "linear on a log plot is exponential!"
   ]
  },
  {
   "cell_type": "code",
   "execution_count": null,
   "id": "713dfabb-aa0f-4656-9f17-15375d6dbba6",
   "metadata": {},
   "outputs": [],
   "source": []
  }
 ],
 "metadata": {
  "kernelspec": {
   "display_name": "Python 3 (ipykernel)",
   "language": "python",
   "name": "python3"
  },
  "language_info": {
   "codemirror_mode": {
    "name": "ipython",
    "version": 3
   },
   "file_extension": ".py",
   "mimetype": "text/x-python",
   "name": "python",
   "nbconvert_exporter": "python",
   "pygments_lexer": "ipython3",
   "version": "3.9.12"
  }
 },
 "nbformat": 4,
 "nbformat_minor": 5
}
